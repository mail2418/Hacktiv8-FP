{
 "cells": [
  {
   "cell_type": "markdown",
   "metadata": {},
   "source": [
    "# Introduction to Python for Data Science \n"
   ]
  },
  {
   "cell_type": "markdown",
   "metadata": {},
   "source": [
    "#### Instruktur\n",
    "\n",
    "* Nama : IKetut Gunawan \n",
    "* Pengalaman industri IT :  From 1999 (Y2K) \n",
    "* Perusahaan : Pasar Raya , Wom Finance , Primavista (WireCard) , Kartuku (Spot) , Gojek , Dimo (DimoPay Uangku Cashback) , OttoDigital Salim Group ( Ottopay , OttoCash , Ottopoint ) , Vida (Now). \n",
    "* Skill \n",
    "    * Programming : C , Java, Golang , Python , Solidity  \n",
    "    * Database : MySQL , Oracle, PostgreSQL , NoSQL\n",
    "    * Message Broker : Redis Cluster, Kafka Cluster , RabitMQ \n",
    "    * Network \n",
    "    * DevOps \n",
    "    \n",
    "https://www.linkedin.com/in/iketut-gunawan-1648a034/"
   ]
  },
  {
   "cell_type": "markdown",
   "metadata": {},
   "source": [
    "\n",
    "| title | Description | \n",
    "|:------|:------------|\n",
    "|Complexity Level | Beginner (Pemula)| \n",
    "|Prerequisite | Untuk mengambil program ini, pastikan kamu telah memahami kemampuan dasar komputer (web browsing, app installation, file navigating). Tidak diperlukan pengalaman pemrograman atau pengembangan aplikasi web apa pun sebelumnya. | \n",
    "| Program Description | Intro to Python for Data Science berisi semua hal dasar yang dibutuhkan untuk menjadi seorang Data Scientist. Program berbasis keterampilan ini ditujukan untuk learner, yang ingin belajar python dan ingin menerapkan statistik, machine learning, dan visualisasi informasi melalui toolkit python populer seperti pandas, matplotlib, scikit-learning, seaborn, dan banyak lagi untuk mendapatkan wawasan tentang data yang ada. Dan pada course yang terakhir learner akan belajar semua hal tentang Machine Learning yang akan mendukung kemampuan learner di bidang Data Science. Diharapkan setelah mengikuti Online Program ini learner akan menjadi seorang Data Scientist yang siap menghadapi dunia kerja di bidang Data Science. | \n",
    "| Program Objectives | ● Menggunakan fungsionalitas serta fitur dari Python yang digunakan untuk data science <br> ● Memahami Practical Statistics yang digunakan untuk data science <br> ● Query struktur DataFrame untuk cleaning and processing dataset <br> ● Membuat visualisasi basic hingga advance untuk representasi data <br> ● Membuat ML features yang memenuhi kebutuhan analisa data <br> ● Menggunakan scikit-learn untuk membuat dan evaluasi ML model <br> ● Mengimplementasikan Supervised dan Unsupervised Learning untuk memecahkan kasus nyata <br> ● Mampu melakukan deployment Model ML yang telah dibuat  |\n",
    "| Program Output and Portfolio type | Lulusan program ini diharapkan mampu melakukan EDA (Exploratory Data Analysis ) dengan Python dan mampu membuat Machine Learning Model untuk memecahkan kasus nyata. |\n",
    "\n",
    "\n",
    "link Markdown Cheatsheet <url>https://github.com/adam-p/markdown-here/wiki/Markdown-Cheatsheet#code </url>\n",
    "\n",
    "Minimum device requirements:  Processor Core i3 gen 6 / Ryzen gen 1 (recommended: Core i5 gen 6 / Ryzen gen 2), RAM minimum 4GB (recommended: 8GB) and at least 100GB storage available. Preferably using Unix or Linux as an Operating System, or Windows 10 with WSL2 Ubuntu 18.04/20.04 Kernel.\n",
    "\n",
    "\n",
    "Contents\n",
    "\n",
    "This section covers what you'll learn in this labs.\n",
    "\n",
    "1. Introduction: Basic Syntax, Data Type, and Variable\n",
    "    * Self Paced Learning: Memahami Jupyter Notebook\n",
    "2. Conditions, Control Flow & Looping\n",
    "3. Function, Basic Module, and Package\n",
    "4. Numpy\n",
    "5. Pandas Introduction\n",
    "6. Data Cleaning with Pandas\n",
    "7. Basic Visualization\n",
    "8. Advanced Visualization\n",
    "    * Assignment Python 1\n",
    "9. Descriptive Statistics\n",
    "10. Inferential Statistics\n",
    "    * Assignment Python 2\n",
    "12. Regression Models\n",
    "    * Self Paced Learning: Algoritma Machine Learning\n",
    "13. Classification 1\n",
    "14. Classification 2\n",
    "    * Assignment 3 Python\n",
    "15. Unsupervised\n",
    "16. Model Deployment\n",
    "    * Self Paced Learning: Mempelajari Machine Learning dengan Python\n",
    "17. Final Projects\n",
    "    * Final Project\n",
    "\n"
   ]
  },
  {
   "cell_type": "markdown",
   "metadata": {},
   "source": [
    "## Tools yang bisa kita gunakan : "
   ]
  },
  {
   "cell_type": "markdown",
   "metadata": {},
   "source": [
    "- Anaconda (Juypter Notebook)\n",
    "- Visual Studio Code \n",
    "- Google Colab \n",
    "- Pycharm \n",
    "- Git Scm\n",
    "- Register Github \n",
    "- Register Heroku "
   ]
  },
  {
   "cell_type": "markdown",
   "metadata": {},
   "source": [
    "### Install Anaconda \n",
    "\n",
    "https://docs.anaconda.com/anaconda/install/ "
   ]
  },
  {
   "cell_type": "code",
   "execution_count": 19,
   "metadata": {},
   "outputs": [
    {
     "data": {
      "text/html": [
       "<img src=\"https://i.ibb.co/4dR5SG7/anaconda-install.png\" width=\"300\"/>"
      ],
      "text/plain": [
       "<IPython.core.display.Image object>"
      ]
     },
     "execution_count": 19,
     "metadata": {},
     "output_type": "execute_result"
    }
   ],
   "source": [
    "from IPython.display import Image\n",
    "Image(url='https://i.ibb.co/4dR5SG7/anaconda-install.png', width=300)"
   ]
  },
  {
   "cell_type": "markdown",
   "metadata": {},
   "source": [
    "#### Install Anaconda (Windows) "
   ]
  },
  {
   "cell_type": "markdown",
   "metadata": {},
   "source": [
    "https://docs.anaconda.com/anaconda/install/windows/"
   ]
  },
  {
   "cell_type": "markdown",
   "metadata": {},
   "source": [
    "#### Install Anaconda (Macos)"
   ]
  },
  {
   "cell_type": "markdown",
   "metadata": {},
   "source": [
    "https://docs.anaconda.com/anaconda/install/mac-os/"
   ]
  },
  {
   "cell_type": "markdown",
   "metadata": {},
   "source": [
    "#### Install Anaconda (Linux) "
   ]
  },
  {
   "cell_type": "markdown",
   "metadata": {},
   "source": [
    "https://docs.anaconda.com/anaconda/install/linux/"
   ]
  },
  {
   "cell_type": "markdown",
   "metadata": {},
   "source": [
    "### Install Visual Studio"
   ]
  },
  {
   "cell_type": "markdown",
   "metadata": {},
   "source": [
    "https://code.visualstudio.com/"
   ]
  },
  {
   "cell_type": "markdown",
   "metadata": {},
   "source": [
    "Install Python (Mac) M1\n",
    "https://gist.github.com/iketutg/0ac8126ab153db5a84582a72f67c2bf6"
   ]
  },
  {
   "cell_type": "markdown",
   "metadata": {},
   "source": [
    "##  Introduction to Python"
   ]
  },
  {
   "cell_type": "markdown",
   "metadata": {},
   "source": [
    "Apa itu Python ? \n",
    "\n",
    "\"Python is **Powerfull**, easy to use , Object Oriented Programming language\" \n",
    "\n",
    "Powerfull : bisa berjalan di semua os dan sangat berguna.  \n",
    "\n",
    "Python sangat berguna : Scripts & Program (Automation, Tools) , Web Development ( django, flask , fastapi) , Data Science \n"
   ]
  },
  {
   "cell_type": "markdown",
   "metadata": {},
   "source": [
    "FastAPI : \n",
    "https://fastapi.tiangolo.com/ \n",
    "\n",
    "Flask : \n",
    "https://flask.palletsprojects.com/en/2.0.x/\n",
    "\n",
    "Django :\n",
    "https://www.djangoproject.com/  \n",
    "\n",
    "Streamlit\n",
    "https://streamlit.io/"
   ]
  },
  {
   "cell_type": "markdown",
   "metadata": {},
   "source": [
    "## Apa itu  Data Science "
   ]
  },
  {
   "cell_type": "markdown",
   "metadata": {},
   "source": [
    "\n",
    "“Data science adalah campuran dari banyak algoritma, alat, prinsip, dan bahasa untuk mengidentifikasi pola tersembunyi di dalam variabel dalam kumpulan data”\n",
    "\n",
    "\"Data science adalah proses penggalian pengetahuan dan wawasan dari data dengan menggunakan metode ilmiah\"\n",
    "\n",
    "Scienctific method : \n",
    "  Programming + Statistics + Busnies \n",
    "  \n"
   ]
  },
  {
   "cell_type": "markdown",
   "metadata": {},
   "source": [
    "## Alur Pemrogramman"
   ]
  },
  {
   "cell_type": "markdown",
   "metadata": {},
   "source": [
    "<img src=\"https://i.ibb.co/0MkZvWh/logika.png\" width=\"600\" align=\"center\">"
   ]
  },
  {
   "cell_type": "markdown",
   "metadata": {},
   "source": [
    "## Intrepeter or Compiler ? "
   ]
  },
  {
   "cell_type": "markdown",
   "metadata": {},
   "source": [
    "<img src=\"https://i.ibb.co/9VXZG2F/Python-Execution-Model.png\" width=\"600\" align=\"center\">\n"
   ]
  },
  {
   "cell_type": "markdown",
   "metadata": {},
   "source": [
    "<img src=\"https://i.ibb.co/PmKTKjX/python-compile.png\" width=\"600\" align=\"center\">\n"
   ]
  },
  {
   "cell_type": "markdown",
   "metadata": {},
   "source": [
    "Python bahasa pemrogramman intrepter . \n",
    "  \n",
    "  1. contoh buat file hello.py \n",
    "  \n",
    "  isi dari hello.py \n",
    "\n",
    "   print(\"Hello World\") \n",
    "\n",
    "\n",
    "  2. Runing file python hello.py \n",
    "\n",
    "  $> python hello.py  #     \n",
    "\n",
    "\n",
    "  3. Percobaan file python di compile : \n",
    "\n",
    "  $> python -m py_compile hello.py \n",
    "  \n",
    "  akan terbentuk folder __pychache__  didalam folder akan tebentuk suatu file object main.cpython-39.pyc  \n",
    "  dilihat dari file pyc  atau juga langsung terbentung file hello.pyc \n",
    "  \n",
    "  $> python hello.pyc \n",
    "  \n",
    "  "
   ]
  },
  {
   "cell_type": "markdown",
   "metadata": {},
   "source": [
    "## Menjalankan Jupyter Notebook : \n",
    "\n",
    "1. Anaconda Navigator \n",
    "   - Install Juypter Notebook \n",
    "   - Open Juypter Notebook \n",
    "\n",
    "2. Juypter Notebook command prompt  \n",
    "    - Masuk ke terminal / command prompt \n",
    "    - jalankan printah command \"jupyter notebook\" \n",
    "\n",
    "\n",
    "3. Melalui Visual Studio Code Editor \n",
    "    - buat file new dengan extension ipynb contoh : latihan.ipynb \n",
    "    - maka akan mendeteksi untuk menginstall extension jupyter \n",
    "    - atau bisa langsung cari di marketplace pada visual studio code \n",
    "\n",
    "\n",
    "4. Melalui Google Colabs \n",
    "    - https://colabs.google.com \n"
   ]
  },
  {
   "cell_type": "markdown",
   "metadata": {},
   "source": [
    "## playground Python \n",
    "\n",
    "- c:\\> iPython3  \n",
    "\n",
    "- python\n"
   ]
  },
  {
   "cell_type": "markdown",
   "metadata": {},
   "source": [
    "## Short Cut Jupyter  \n",
    "\n",
    "    While in command mode (press Esc to activate):\n",
    "\n",
    "Enter take you into edit mode\n",
    "* H show all shortcuts\n",
    "* Up select cell above\n",
    "* Down select cell below\n",
    "* Shift + Up extend selected cells above\n",
    "* Shift + Down extend selected cells below\n",
    "* A insert cell above\n",
    "* B insert cell below\n",
    "* X cut selected cells\n",
    "* C copy selected cells\n",
    "* V paste cells below\n",
    "* Shift + V paste cells above\n",
    "* D, D (press the key twice) delete selected cells\n",
    "* Z undo cell deletion\n",
    "* S Save and Checkpoint\n",
    "* Y change the cell type to Code\n",
    "* M change the cell type to Markdown\n",
    "* P open the command palette.\n",
    "* Shift + Space scroll notebook up\n",
    "* Space scroll notebook down"
   ]
  },
  {
   "cell_type": "markdown",
   "metadata": {},
   "source": [
    "## Halo"
   ]
  },
  {
   "cell_type": "markdown",
   "metadata": {},
   "source": [
    "## Short Cut Jupyter  \n",
    "\n",
    "While in edit mode (pressEnter to activate)\n",
    "Esc take you into command mode\n",
    "Tab code completion or indent\n",
    "* Shift + Tab tooltip\n",
    "* Ctrl + ] indent\n",
    "* Ctrl + [ dedent\n",
    "* Ctrl + A select all\n",
    "* Ctrl + Z undo\n",
    "* Ctrl + Shift + Z or Ctrl + Y redo\n",
    "* Ctrl + Home go to cell start\n",
    "* Ctrl + End go to cell end\n",
    "* Ctrl + Left go one word left\n",
    "* Ctrl + Right go one word right\n",
    "* Ctrl + Shift + P open the command palette\n",
    "* Down move cursor down"
   ]
  },
  {
   "cell_type": "markdown",
   "metadata": {},
   "source": [
    "## Introduction, Data Types, and Variables"
   ]
  },
  {
   "cell_type": "markdown",
   "metadata": {},
   "source": [
    "## Tipe Data Python \n",
    "- Integers \n",
    "- Floating \n",
    "- String \n",
    "- Boolean  "
   ]
  },
  {
   "cell_type": "markdown",
   "metadata": {},
   "source": [
    "# Integers"
   ]
  },
  {
   "cell_type": "code",
   "execution_count": 31,
   "metadata": {},
   "outputs": [
    {
     "name": "stdout",
     "output_type": "stream",
     "text": [
      "123123123123123123123123123123123123123123123124\n"
     ]
    }
   ],
   "source": [
    "print(123123123123123123123123123123123123123123123123 + 1) \n"
   ]
  },
  {
   "cell_type": "code",
   "execution_count": 33,
   "metadata": {},
   "outputs": [],
   "source": [
    "ival = 123123123123123123123123123123123123123123123123 + 1"
   ]
  },
  {
   "cell_type": "code",
   "execution_count": 34,
   "metadata": {},
   "outputs": [],
   "source": [
    "varabcde = 10 "
   ]
  },
  {
   "cell_type": "code",
   "execution_count": 35,
   "metadata": {},
   "outputs": [
    {
     "name": "stdout",
     "output_type": "stream",
     "text": [
      "10\n"
     ]
    }
   ],
   "source": [
    "print(varabcde)"
   ]
  },
  {
   "cell_type": "code",
   "execution_count": 36,
   "metadata": {},
   "outputs": [
    {
     "name": "stdout",
     "output_type": "stream",
     "text": [
      "123123123123123123123123123123123123123123123124\n"
     ]
    }
   ],
   "source": [
    "print(ival)"
   ]
  },
  {
   "cell_type": "code",
   "execution_count": 25,
   "metadata": {},
   "outputs": [
    {
     "data": {
      "text/plain": [
       "int"
      ]
     },
     "execution_count": 25,
     "metadata": {},
     "output_type": "execute_result"
    }
   ],
   "source": [
    "type(ival)"
   ]
  },
  {
   "cell_type": "markdown",
   "metadata": {},
   "source": [
    "# Floating-Point Numbers\n",
    "\n",
    "Tipe float di Python menunjukkan bilangan floating-point. \n",
    "\n",
    "Nilai float ditentukan dengan titik desimal. \n",
    "\n",
    "Secara opsional, karakter e atau E diikuti dengan bilangan bulat positif atau negatif dapat ditambahkan untuk menentukan notasi ilmiah:\n",
    "\n"
   ]
  },
  {
   "cell_type": "code",
   "execution_count": 37,
   "metadata": {},
   "outputs": [
    {
     "name": "stdout",
     "output_type": "stream",
     "text": [
      "4.2\n",
      "<class 'float'>\n",
      "4.0\n",
      "0.2\n",
      "4000000.0\n",
      "0.00042\n"
     ]
    }
   ],
   "source": [
    "print(4.2)\n",
    "\n",
    "print(type(4.2))\n",
    "\n",
    "print(4.)\n",
    "\n",
    "print(.2)\n",
    "\n",
    "print(.4e7)\n",
    "\n",
    "print(4.2e-4)"
   ]
  },
  {
   "cell_type": "markdown",
   "metadata": {},
   "source": [
    "# Strings\n",
    "\n",
    "String adalah urutan data karakter. Jenis string dalam Python disebut str.\n",
    "\n",
    "String literals dapat dipisahkan menggunakan tanda kutip tunggal atau ganda. Semua karakter antara pembatas pembuka dan pembatas penutup yang 'match' adalah bagian dari string:\n"
   ]
  },
  {
   "cell_type": "code",
   "execution_count": 38,
   "metadata": {},
   "outputs": [
    {
     "name": "stdout",
     "output_type": "stream",
     "text": [
      "Hacktiv8\n",
      "<class 'str'>\n"
     ]
    }
   ],
   "source": [
    "print(\"Hacktiv8\")\n",
    "print(type(\"Hacktiv8\"))"
   ]
  },
  {
   "cell_type": "code",
   "execution_count": 39,
   "metadata": {},
   "outputs": [
    {
     "name": "stdout",
     "output_type": "stream",
     "text": [
      "\n"
     ]
    }
   ],
   "source": [
    "print('') ## string bisa kosong \n"
   ]
  },
  {
   "cell_type": "code",
   "execution_count": 41,
   "metadata": {},
   "outputs": [
    {
     "name": "stdout",
     "output_type": "stream",
     "text": [
      "This string contains a single quote (') character.\n",
      "This string contains a double quote (\") character.\n",
      "This string contains a double quote (') character.\n",
      "This string contains a single quote (\") character.\n"
     ]
    }
   ],
   "source": [
    "print(\"This string contains a single quote (') character.\")\n",
    "\n",
    "print('This string contains a double quote (\") character.')\n",
    "\n",
    "print('This string contains a double quote (\\') character.')\n",
    "\n",
    "print(\"This string contains a single quote (\\\") character.\")\n"
   ]
  },
  {
   "cell_type": "markdown",
   "metadata": {},
   "source": [
    "# Boolean Type, Boolean Context, and “Truthiness”\n"
   ]
  },
  {
   "cell_type": "code",
   "execution_count": 12,
   "metadata": {},
   "outputs": [
    {
     "name": "stdout",
     "output_type": "stream",
     "text": [
      "<class 'bool'>\n",
      "<class 'bool'>\n"
     ]
    }
   ],
   "source": [
    "print(type(True))\n",
    "\n",
    "print(type(False))"
   ]
  },
  {
   "cell_type": "markdown",
   "metadata": {},
   "source": [
    "# Variable Assignment\n",
    " \n",
    "    Bayangkan variabel sebagai nama yang dilampirkan ke objek tertentu. \n",
    "    Di Python, variabel tidak perlu dideklarasikan atau didefinisikan sebelumnya, \n",
    "    seperti halnya di banyak bahasa pemrograman lainnya. \n",
    "    Untuk membuat variabel, kalian cukup menetapkan nilai.\n",
    "    Variable assignment dilakukan dengan satu tanda sama dengan (=):"
   ]
  },
  {
   "cell_type": "code",
   "execution_count": 42,
   "metadata": {},
   "outputs": [],
   "source": [
    "n = 100"
   ]
  },
  {
   "cell_type": "code",
   "execution_count": 43,
   "metadata": {},
   "outputs": [
    {
     "name": "stdout",
     "output_type": "stream",
     "text": [
      "100\n"
     ]
    }
   ],
   "source": [
    "print(n)"
   ]
  },
  {
   "cell_type": "code",
   "execution_count": 44,
   "metadata": {},
   "outputs": [
    {
     "data": {
      "text/plain": [
       "100"
      ]
     },
     "execution_count": 44,
     "metadata": {},
     "output_type": "execute_result"
    }
   ],
   "source": [
    "n"
   ]
  },
  {
   "cell_type": "code",
   "execution_count": 17,
   "metadata": {},
   "outputs": [],
   "source": [
    "n = 200"
   ]
  },
  {
   "cell_type": "code",
   "execution_count": 18,
   "metadata": {},
   "outputs": [
    {
     "name": "stdout",
     "output_type": "stream",
     "text": [
      "200\n"
     ]
    }
   ],
   "source": [
    "print(n)"
   ]
  },
  {
   "cell_type": "code",
   "execution_count": 45,
   "metadata": {},
   "outputs": [
    {
     "name": "stdout",
     "output_type": "stream",
     "text": [
      "1000 1000 1000\n"
     ]
    }
   ],
   "source": [
    "x = y = z = 1000 \n",
    "print(x,y,z)"
   ]
  },
  {
   "cell_type": "markdown",
   "metadata": {},
   "source": [
    "# Variable Types in Python\n",
    "\n",
    "    variabel diketik secara statis. (Deklarasikan c/ int a ; ) \n",
    "    selain python variable tersebut selama masa pakainya harus selalu memiliki tipe itu.\n",
    "\n",
    "    Di Python, variabel dapat diberi value dari satu jenis dan kemudian diberi value dari jenis yang berbeda:"
   ]
  },
  {
   "cell_type": "code",
   "execution_count": 20,
   "metadata": {},
   "outputs": [
    {
     "name": "stdout",
     "output_type": "stream",
     "text": [
      "25.5\n",
      "<class 'float'>\n"
     ]
    }
   ],
   "source": [
    "varx = 25.5 \n",
    "print(varx)\n",
    "print(type(varx)) "
   ]
  },
  {
   "cell_type": "code",
   "execution_count": 21,
   "metadata": {},
   "outputs": [
    {
     "name": "stdout",
     "output_type": "stream",
     "text": [
      "Halo Apa Kabar\n",
      "<class 'str'>\n"
     ]
    }
   ],
   "source": [
    "varx = \"Halo Apa Kabar\"\n",
    "print(varx) \n",
    "print(type(varx)) "
   ]
  },
  {
   "cell_type": "markdown",
   "metadata": {},
   "source": [
    "# Variable Names\n",
    "\n",
    "      Secara resmi, nama variabel di Python bisa berapa pun panjangnya dan bisa terdiri dari huruf besar dan huruf \n",
    "      kecil (A-Z, a-z), digit (0-9), dan karakter garis bawah (_). \n",
    "      Batasan tambahan adalah bahwa, meskipun nama  variabel dapat berisi angka, \n",
    "      karakter pertama dari nama variabel tidak boleh berupa digit."
   ]
  },
  {
   "cell_type": "code",
   "execution_count": 46,
   "metadata": {},
   "outputs": [
    {
     "name": "stdout",
     "output_type": "stream",
     "text": [
      "kosong\n"
     ]
    }
   ],
   "source": [
    "_ = \"kosong\" \n",
    "print(_)"
   ]
  },
  {
   "cell_type": "code",
   "execution_count": 47,
   "metadata": {},
   "outputs": [
    {
     "name": "stdout",
     "output_type": "stream",
     "text": [
      "satu\n"
     ]
    }
   ],
   "source": [
    "_1 = \"satu\" \n",
    "print(_1) "
   ]
  },
  {
   "cell_type": "code",
   "execution_count": 48,
   "metadata": {},
   "outputs": [
    {
     "name": "stdout",
     "output_type": "stream",
     "text": [
      "Hacktiv8 54 True\n"
     ]
    }
   ],
   "source": [
    "name = \"Hacktiv8\"\n",
    "Age = 54\n",
    "has_laptops = True\n",
    "print(name, Age, has_laptops)"
   ]
  },
  {
   "cell_type": "code",
   "execution_count": 25,
   "metadata": {},
   "outputs": [
    {
     "ename": "SyntaxError",
     "evalue": "invalid decimal literal (2331802403.py, line 1)",
     "output_type": "error",
     "traceback": [
      "\u001b[0;36m  File \u001b[0;32m\"/var/folders/gh/bm95p3ys6sd6jvzbfl061_3c0000gn/T/ipykernel_20746/2331802403.py\"\u001b[0;36m, line \u001b[0;32m1\u001b[0m\n\u001b[0;31m    9_kepala_naga = \"kepala\"\u001b[0m\n\u001b[0m     ^\u001b[0m\n\u001b[0;31mSyntaxError\u001b[0m\u001b[0;31m:\u001b[0m invalid decimal literal\n"
     ]
    }
   ],
   "source": [
    "9_kepala_naga = \"kepala\""
   ]
  },
  {
   "cell_type": "code",
   "execution_count": 49,
   "metadata": {},
   "outputs": [
    {
     "name": "stdout",
     "output_type": "stream",
     "text": [
      "1 2 3 4 5 6 7 8\n"
     ]
    }
   ],
   "source": [
    "age = 1\n",
    "Age = 2\n",
    "aGe = 3\n",
    "AGE = 4\n",
    "a_g_e = 5\n",
    "_age = 6\n",
    "age_ = 7\n",
    "_AGE_ = 8\n",
    "\n",
    "print(age, Age, aGe, AGE, a_g_e, _age, age_, _AGE_)"
   ]
  },
  {
   "cell_type": "markdown",
   "metadata": {},
   "source": [
    "* Camel Case: Kata kedua dan selanjutnya dikapitalisasi, untuk membuat batas kata lebih mudah dilihat. (Agaknya, seseorang pada titik tertentu menyadari bahwa huruf kapital yang berserakan di seluruh nama variabel samar-samar menyerupai punuk unta.)  \n",
    "  * * Example: numberOfCollegeGraduates\n",
    "<br>\n",
    "\n",
    "* Pascal Case: Identical to Camel Case, except the first word is also capitalized.\n",
    "    * Example: NumberOfCollegeGraduates\n",
    "    \n",
    "\n",
    "* Snake Case: Words are separated by underscores.\n",
    "    * Example: number_of_college_graduates\n",
    "    \n",
    "Mau gunakan yang mana asal konsisten "
   ]
  },
  {
   "cell_type": "code",
   "execution_count": 50,
   "metadata": {},
   "outputs": [
    {
     "name": "stdout",
     "output_type": "stream",
     "text": [
      "500000\n",
      "10000\n",
      "1000\n"
     ]
    }
   ],
   "source": [
    "amountSaldo = 500000 \n",
    "print(amountSaldo)\n",
    "\n",
    "AmountSaldo = 10000 \n",
    "print(AmountSaldo)\n",
    "\n",
    "amount_saldo = 1000\n",
    "print(amount_saldo)"
   ]
  },
  {
   "cell_type": "markdown",
   "metadata": {},
   "source": [
    "# Operators and Expressions in Python\n",
    "\n"
   ]
  },
  {
   "cell_type": "code",
   "execution_count": 51,
   "metadata": {},
   "outputs": [
    {
     "name": "stdout",
     "output_type": "stream",
     "text": [
      "30\n"
     ]
    }
   ],
   "source": [
    "a = 10\n",
    "b = 20\n",
    "a + b\n",
    "print(a+b)\n"
   ]
  },
  {
   "cell_type": "code",
   "execution_count": 52,
   "metadata": {},
   "outputs": [
    {
     "data": {
      "text/plain": [
       "25"
      ]
     },
     "execution_count": 52,
     "metadata": {},
     "output_type": "execute_result"
    }
   ],
   "source": [
    "a = 10\n",
    "b = 20\n",
    "a + b - 5"
   ]
  },
  {
   "cell_type": "markdown",
   "metadata": {},
   "source": [
    "# basic arithmetic operation\n",
    "\n",
    "| Operator | Description |\tSyntax |\n",
    "-----------|:-----------:|--------:|\n",
    "| +\t       |Addition: adds two operands |\tx + y |\n",
    "|–\t | Subtraction: subtracts two operands |\tx – y |\n",
    "|*\t| Multiplication: multiplies two operands |\tx * y | \n",
    "|/\t| Division (float): divides the first operand by the second |\tx / y |\n",
    "|//\t| Division (floor): divides the first operand by the second |\tx // y | \n",
    "|%\t| Modulus: returns the remainder when first operand is divided by the second | x % y |\n",
    "|**\t| Power : Returns first raised to power second |\tx ** y |"
   ]
  },
  {
   "cell_type": "code",
   "execution_count": 53,
   "metadata": {},
   "outputs": [
    {
     "data": {
      "text/plain": [
       "1"
      ]
     },
     "execution_count": 53,
     "metadata": {},
     "output_type": "execute_result"
    }
   ],
   "source": [
    "11 % 2 "
   ]
  },
  {
   "cell_type": "code",
   "execution_count": 54,
   "metadata": {},
   "outputs": [
    {
     "data": {
      "text/plain": [
       "5.0"
      ]
     },
     "execution_count": 54,
     "metadata": {},
     "output_type": "execute_result"
    }
   ],
   "source": [
    "10 / 2 "
   ]
  },
  {
   "cell_type": "code",
   "execution_count": 32,
   "metadata": {},
   "outputs": [
    {
     "data": {
      "text/plain": [
       "5"
      ]
     },
     "execution_count": 32,
     "metadata": {},
     "output_type": "execute_result"
    }
   ],
   "source": [
    "11 // 2 "
   ]
  },
  {
   "cell_type": "code",
   "execution_count": 58,
   "metadata": {},
   "outputs": [],
   "source": [
    "# Here are some examples of these operators in use:\n",
    "zz = 10\n",
    "y = 3"
   ]
  },
  {
   "cell_type": "code",
   "execution_count": 59,
   "metadata": {},
   "outputs": [
    {
     "name": "stdout",
     "output_type": "stream",
     "text": [
      "13\n"
     ]
    }
   ],
   "source": [
    "print(zz + y)"
   ]
  },
  {
   "cell_type": "code",
   "execution_count": 60,
   "metadata": {},
   "outputs": [
    {
     "name": "stdout",
     "output_type": "stream",
     "text": [
      "7\n"
     ]
    }
   ],
   "source": [
    "print(zz - y)"
   ]
  },
  {
   "cell_type": "code",
   "execution_count": 61,
   "metadata": {},
   "outputs": [
    {
     "name": "stdout",
     "output_type": "stream",
     "text": [
      "3000\n"
     ]
    }
   ],
   "source": [
    "print(x * y)\n"
   ]
  },
  {
   "cell_type": "code",
   "execution_count": 62,
   "metadata": {},
   "outputs": [
    {
     "name": "stdout",
     "output_type": "stream",
     "text": [
      "333.3333333333333\n"
     ]
    }
   ],
   "source": [
    "# The result of standard division (/) is always a float, \n",
    "# even if the dividend is evenly divisible by the divisor:\n",
    "print(x / y) "
   ]
  },
  {
   "cell_type": "code",
   "execution_count": 63,
   "metadata": {},
   "outputs": [
    {
     "name": "stdout",
     "output_type": "stream",
     "text": [
      "333\n"
     ]
    }
   ],
   "source": [
    "print(x // y) ##   "
   ]
  },
  {
   "cell_type": "code",
   "execution_count": 39,
   "metadata": {},
   "outputs": [
    {
     "name": "stdout",
     "output_type": "stream",
     "text": [
      "1\n"
     ]
    }
   ],
   "source": [
    "print(x % y)  ## sisa "
   ]
  },
  {
   "cell_type": "code",
   "execution_count": 64,
   "metadata": {},
   "outputs": [
    {
     "name": "stdout",
     "output_type": "stream",
     "text": [
      "1000000000\n"
     ]
    }
   ],
   "source": [
    "\n",
    "print(x ** y)"
   ]
  },
  {
   "cell_type": "markdown",
   "metadata": {},
   "source": [
    "# Operator Penugasan\n",
    "\n",
    "|Operator |\tSimbol |\n",
    "|:--------|:-------|\n",
    "| Pengisian |\t= |\n",
    "| Penjumlahan |\t+= |\n",
    "| Pengurangan |\t-= |\n",
    "| Perkalian |\t*= |\n",
    "| Pembagian |\t/= |\n",
    "| Sisa Bagi |\t%= |\n",
    "| Pemangkatan |\t**= |"
   ]
  },
  {
   "cell_type": "code",
   "execution_count": 65,
   "metadata": {},
   "outputs": [
    {
     "name": "stdout",
     "output_type": "stream",
     "text": [
      "30\n"
     ]
    }
   ],
   "source": [
    "x = 10 \n",
    "y = 20\n",
    "x += y # x = x+y \n",
    "print(x)\n"
   ]
  },
  {
   "cell_type": "code",
   "execution_count": 66,
   "metadata": {},
   "outputs": [
    {
     "name": "stdout",
     "output_type": "stream",
     "text": [
      "10\n"
     ]
    }
   ],
   "source": [
    "\n",
    "a= 20 \n",
    "b = 30 \n",
    "b -=a \n",
    "print(b)"
   ]
  },
  {
   "cell_type": "code",
   "execution_count": 67,
   "metadata": {},
   "outputs": [
    {
     "name": "stdout",
     "output_type": "stream",
     "text": [
      "100\n"
     ]
    }
   ],
   "source": [
    "c = 50 \n",
    "c *= 2 \n",
    "print(c)"
   ]
  },
  {
   "cell_type": "code",
   "execution_count": 68,
   "metadata": {},
   "outputs": [
    {
     "name": "stdout",
     "output_type": "stream",
     "text": [
      "20.0\n"
     ]
    }
   ],
   "source": [
    "d = 100 \n",
    "d /= 5 \n",
    "print(d)"
   ]
  },
  {
   "cell_type": "code",
   "execution_count": 69,
   "metadata": {},
   "outputs": [
    {
     "name": "stdout",
     "output_type": "stream",
     "text": [
      "4\n"
     ]
    }
   ],
   "source": [
    "e = 24 \n",
    "e %=5 \n",
    "print(e)"
   ]
  },
  {
   "cell_type": "code",
   "execution_count": 46,
   "metadata": {},
   "outputs": [
    {
     "name": "stdout",
     "output_type": "stream",
     "text": [
      "9\n"
     ]
    }
   ],
   "source": [
    "f = 3 \n",
    "f **= 2\n",
    "print(f)"
   ]
  },
  {
   "cell_type": "markdown",
   "metadata": {},
   "source": [
    "# Comparison Operators\n",
    "\n",
    "    Operator ini untuk membandingkan dua buah nilai. \n",
    "    Operator ini adalah operator relasi dan sering digunakan untuk membuat sebuah logika atau kondisi.\n",
    "\n",
    "|Operator |\tSimbol |\n",
    "|:--------|:-------|\n",
    "|Lebih Besar|\t> |\n",
    "| Lebih Kecil |\t< |\n",
    "| Sama Dengan\t| == | \n",
    "| Tidak Sama dengan |\t!= |\n",
    "| Lebih Besar Sama dengan |\t>= |\n",
    "| Lebih Kecil Sama dengan |\t<= |"
   ]
  },
  {
   "cell_type": "code",
   "execution_count": 47,
   "metadata": {},
   "outputs": [],
   "source": [
    "a = 10\n",
    "b = 20\n"
   ]
  },
  {
   "cell_type": "code",
   "execution_count": 70,
   "metadata": {},
   "outputs": [
    {
     "name": "stdout",
     "output_type": "stream",
     "text": [
      "False\n"
     ]
    }
   ],
   "source": [
    "print(a == b) # \n"
   ]
  },
  {
   "cell_type": "code",
   "execution_count": 71,
   "metadata": {},
   "outputs": [
    {
     "name": "stdout",
     "output_type": "stream",
     "text": [
      "True\n"
     ]
    }
   ],
   "source": [
    "print(a != b) # \n"
   ]
  },
  {
   "cell_type": "code",
   "execution_count": 72,
   "metadata": {},
   "outputs": [
    {
     "name": "stdout",
     "output_type": "stream",
     "text": [
      "False\n"
     ]
    }
   ],
   "source": [
    " \n",
    "print(a <= b) # \n"
   ]
  },
  {
   "cell_type": "code",
   "execution_count": null,
   "metadata": {},
   "outputs": [],
   "source": []
  },
  {
   "cell_type": "code",
   "execution_count": 51,
   "metadata": {},
   "outputs": [
    {
     "name": "stdout",
     "output_type": "stream",
     "text": [
      "False\n"
     ]
    }
   ],
   "source": [
    "\n",
    "print(a >= b) #"
   ]
  },
  {
   "cell_type": "code",
   "execution_count": 52,
   "metadata": {},
   "outputs": [
    {
     "name": "stdout",
     "output_type": "stream",
     "text": [
      "True\n"
     ]
    }
   ],
   "source": [
    "a = 30\n",
    "b = 30\n",
    "print(a == b) #\n"
   ]
  },
  {
   "cell_type": "code",
   "execution_count": 53,
   "metadata": {},
   "outputs": [
    {
     "name": "stdout",
     "output_type": "stream",
     "text": [
      "True\n"
     ]
    }
   ],
   "source": [
    "\n",
    "print(a <= b) # \n"
   ]
  },
  {
   "cell_type": "code",
   "execution_count": 54,
   "metadata": {},
   "outputs": [
    {
     "name": "stdout",
     "output_type": "stream",
     "text": [
      "True\n"
     ]
    }
   ],
   "source": [
    "\n",
    "print(a >= b) # "
   ]
  },
  {
   "cell_type": "markdown",
   "metadata": {},
   "source": [
    "# Operator Logika\n",
    "\n",
    "    Operasi logika, seperti logika AND, OR, NOT.\n",
    "\n",
    "|Nama |\tSimbol di Python |\n",
    "|:----|:----------|\n",
    "| Logika AND |\tand |\n",
    "| Logika OR\t| or |\n",
    "| Negasi/kebalikan |\tnot |\n",
    "\n",
    "\n",
    "Contoh : \"and\" \n",
    "\n",
    "|x   and  y | result | \n",
    "|----------:|-----:|\n",
    "|True and True | True |\n",
    "|True and False | False |\n",
    "|False and False | False   | \n",
    "\n",
    "Contoh : \"or\" \n",
    "\n",
    "|x   or  y | result | \n",
    "|----------:|-----:|\n",
    "|True and True | True |\n",
    "|True and False | True |\n",
    "|False and False | False   | \n",
    "\n"
   ]
  },
  {
   "cell_type": "code",
   "execution_count": 55,
   "metadata": {},
   "outputs": [
    {
     "name": "stdout",
     "output_type": "stream",
     "text": [
      "False\n",
      "True False False\n",
      "False\n",
      "True False True\n",
      "True False\n"
     ]
    }
   ],
   "source": [
    "a = True\n",
    "b = False\n",
    "\n",
    "# Logika AND\n",
    "c = a and b\n",
    "print(c)\n",
    "print(a,b,c)\n",
    "\n",
    "a = False \n",
    "c = a and b \n",
    "print(c)\n",
    "\n",
    "a = True \n",
    "# Logika OR\n",
    "c = a or b\n",
    "print (a,b,c)\n",
    "\n",
    "# Logika Not\n",
    "c = not a\n",
    "print(a,c)"
   ]
  },
  {
   "cell_type": "markdown",
   "metadata": {},
   "source": [
    "# Operator Ternary\n",
    "Operator ternary juga dikenal dengan operator kondisi, karena digunakan untuk membuat sebuah ekspresi kondisi seperti percabgan IF/ELSE.\n",
    "\n",
    "Operator ternary sebenarnya tidak ada dalam Python, tapi python punya cara lain untuk menggantikan operator ini.\n",
    "\n",
    "Pada bahasa pemrograman lain operator ternary menggunakan tanda tanya (?) dan titik dua (:).\n",
    "\n",
    "kondisi ? <nilai true> : <nilai false>\n",
    "    \n",
    "aku = (umur < 10) ? \"anak\" : \"dewasa\"\n",
    "\n",
    "Dalam Python bentuknya berbeda, yaitu menggunakann IF/ELSE dalam satu baris.                 "
   ]
  },
  {
   "cell_type": "code",
   "execution_count": 76,
   "metadata": {},
   "outputs": [
    {
     "name": "stdout",
     "output_type": "stream",
     "text": [
      "<class 'str'>\n",
      "dewasa\n"
     ]
    }
   ],
   "source": [
    "umur = input(\"berapa umur kamu? \")\n",
    "print(type(umur))\n",
    "aku = \"anak\" if int(umur) < 10 else \"dewasa\"\n",
    "print (aku)\n"
   ]
  },
  {
   "cell_type": "markdown",
   "metadata": {},
   "source": [
    "# String Manipulation\n",
    "\n"
   ]
  },
  {
   "cell_type": "code",
   "execution_count": 77,
   "metadata": {},
   "outputs": [
    {
     "name": "stdout",
     "output_type": "stream",
     "text": [
      "foobar\n",
      "foobarbaz\n",
      "Hacktiv8 PTP\n"
     ]
    }
   ],
   "source": [
    "# + Operators\n",
    "s = 'foo'\n",
    "t = 'bar'\n",
    "u = 'baz'\n",
    "\n",
    "print(s + t)\n",
    "\n",
    "print(s + t + u)\n",
    "\n",
    "\n",
    "print('Hacktiv8 ' + 'PTP')"
   ]
  },
  {
   "cell_type": "code",
   "execution_count": 78,
   "metadata": {},
   "outputs": [
    {
     "name": "stdout",
     "output_type": "stream",
     "text": [
      "foo.foo.foo.foo.\n",
      "==================================================\n"
     ]
    }
   ],
   "source": [
    "# * Operators\n",
    "\n",
    "s = 'foo.'\n",
    "\n",
    "print(s * 4)\n",
    "\n",
    "\n",
    "print(50*\"=\") \n"
   ]
  },
  {
   "cell_type": "code",
   "execution_count": 79,
   "metadata": {},
   "outputs": [
    {
     "name": "stdout",
     "output_type": "stream",
     "text": [
      "True\n",
      "False\n"
     ]
    }
   ],
   "source": [
    "# in Operators\n",
    "s = 'foo'\n",
    "\n",
    "print(s in 'That food for us')\n",
    "\n",
    "print(s in 'That good for us')"
   ]
  },
  {
   "cell_type": "code",
   "execution_count": 80,
   "metadata": {},
   "outputs": [
    {
     "name": "stdout",
     "output_type": "stream",
     "text": [
      "hacktiv8\n",
      "HACKTIV8\n",
      "hACKtiv8\n",
      "Hadapi dengan senyuman\n",
      "Badai Pasti Berlalu\n"
     ]
    }
   ],
   "source": [
    "# Case Conversion\n",
    "s = 'HackTIV8'\n",
    "\n",
    "# Lower\n",
    "print(s.lower())\n",
    "\n",
    "\n",
    "# Uppercase\n",
    "print(s.upper())\n",
    "\n",
    "\n",
    "# Swapcase\n",
    "print(s.swapcase())\n",
    "\n",
    "\n",
    "s = \"hadapi dengan senyuman\"\n",
    "# Capitalize\n",
    "print(s.capitalize())\n",
    "\n",
    "\n",
    "s = \"badai pasti berlalu\"\n",
    "# Title\n",
    "print(s.title())\n",
    "\n"
   ]
  },
  {
   "cell_type": "markdown",
   "metadata": {},
   "source": [
    "# Python Lists\n",
    "\n",
    "Singkatnya, list adalah kumpulan objek yang arbitrary, \n",
    "\n",
    "agak mirip dengan array dalam banyak bahasa pemrograman lain tetapi lebih fleksibel. \n",
    "\n",
    "List didefinisikan dalam Python dengan menyertakan sequence object \n",
    "\n",
    "yang dipisahkan koma dalam tanda kurung siku ([]), \n",
    "\n",
    "seperti yang ditunjukkan di bawah ini:\n",
    "\n"
   ]
  },
  {
   "cell_type": "code",
   "execution_count": 81,
   "metadata": {},
   "outputs": [
    {
     "name": "stdout",
     "output_type": "stream",
     "text": [
      "['foo', 'bar', 'baz', 'qux']\n",
      "<class 'list'>\n"
     ]
    }
   ],
   "source": [
    "a = ['foo', 'bar', 'baz', 'qux']\n",
    "\n",
    "print(a)\n",
    "print(type(a))"
   ]
  },
  {
   "cell_type": "markdown",
   "metadata": {},
   "source": [
    "Karakteristik penting dari List Python adalah sebagai berikut:\n",
    "\n",
    "\n",
    "* Lists di siapkan.\n",
    "* Lists dapat berisi objek sembarang.\n",
    "* Elemen Lists dapat diakses dengan indeks.\n",
    "* List dapat masukan ke kedalaman yang bebas.\n",
    "* List bisa berubah.\n",
    "* List bersifat dinamis."
   ]
  },
  {
   "cell_type": "markdown",
   "metadata": {},
   "source": [
    "### Lists are ordered.\n",
    "\n",
    "List bukan hanya kumpulan object.\n",
    "\n",
    "List adalah kumpulan dari object yang berurutan. \n",
    "\n",
    "Urutan elemen ketika kalian membuat list akan bertahan selama List tersebut ada.\n",
    "\n",
    "List yang memiliki elemen yang sama dalam urutan yang berbeda, tidak sama:\n"
   ]
  },
  {
   "cell_type": "code",
   "execution_count": 82,
   "metadata": {},
   "outputs": [
    {
     "name": "stdout",
     "output_type": "stream",
     "text": [
      "False\n",
      "True\n"
     ]
    }
   ],
   "source": [
    "a = ['foo', 'bar', 'baz', 'qux']\n",
    "b = ['baz', 'qux', 'bar', 'foo']\n",
    "c = ['foo', 'bar', 'baz', 'qux']\n",
    "\n",
    "print(a == b)\n",
    "\n",
    "print(a == c)"
   ]
  },
  {
   "cell_type": "markdown",
   "metadata": {},
   "source": [
    "### Lists can contain any arbitrary objects.\n",
    "\n",
    "Sebuah List dapat berisi bermacam-macam objek. Element dari List semuanya bisa berjenis sama:"
   ]
  },
  {
   "cell_type": "code",
   "execution_count": 83,
   "metadata": {},
   "outputs": [
    {
     "name": "stdout",
     "output_type": "stream",
     "text": [
      "[21.42, 'foobar', 3, 4, 'bark', False, 3.14159]\n"
     ]
    }
   ],
   "source": [
    "a=  [21.42, 'foobar', 3, 4, 'bark', False, 3.14159]\n",
    "\n",
    "print(a)"
   ]
  },
  {
   "cell_type": "markdown",
   "metadata": {},
   "source": [
    "### List Elements Can Be Accessed by Index\n",
    "\n",
    "Elemen individual dalam List dapat diakses menggunakan indeks dalam tanda kurung siku. \n",
    "\n",
    "Ini sama persis dengan mengakses karakter individu dalam sebuah string. \n",
    "\n",
    "Pengindeksan List berbasis nol seperti halnya dengan string.\n",
    "\n",
    "Perhatikan List berikut ini:"
   ]
  },
  {
   "cell_type": "code",
   "execution_count": 84,
   "metadata": {},
   "outputs": [
    {
     "name": "stdout",
     "output_type": "stream",
     "text": [
      "corge\n",
      "corge\n"
     ]
    }
   ],
   "source": [
    "lstA = ['foo', 'bar', 'baz', 'qux', 'quux', 'corge']\n",
    "\n",
    "print(lstA[5])\n",
    "print(lstA[-1])"
   ]
  },
  {
   "cell_type": "markdown",
   "metadata": {},
   "source": [
    "List Elements\n",
    "\n",
    "![alt text](https://i.ibb.co/2dwyz0n/list.png \"List Element\")\n"
   ]
  },
  {
   "cell_type": "code",
   "execution_count": 85,
   "metadata": {},
   "outputs": [
    {
     "name": "stdout",
     "output_type": "stream",
     "text": [
      "foo\n",
      "baz\n"
     ]
    },
    {
     "ename": "IndexError",
     "evalue": "list index out of range",
     "output_type": "error",
     "traceback": [
      "\u001b[0;31m---------------------------------------------------------------------------\u001b[0m",
      "\u001b[0;31mIndexError\u001b[0m                                Traceback (most recent call last)",
      "\u001b[0;32m/var/folders/gh/bm95p3ys6sd6jvzbfl061_3c0000gn/T/ipykernel_29024/2075461032.py\u001b[0m in \u001b[0;36m<module>\u001b[0;34m\u001b[0m\n\u001b[1;32m      2\u001b[0m \u001b[0mprint\u001b[0m\u001b[0;34m(\u001b[0m\u001b[0mlstA\u001b[0m\u001b[0;34m[\u001b[0m\u001b[0;36m2\u001b[0m\u001b[0;34m]\u001b[0m\u001b[0;34m)\u001b[0m\u001b[0;34m\u001b[0m\u001b[0;34m\u001b[0m\u001b[0m\n\u001b[1;32m      3\u001b[0m \u001b[0;34m\u001b[0m\u001b[0m\n\u001b[0;32m----> 4\u001b[0;31m \u001b[0mprint\u001b[0m\u001b[0;34m(\u001b[0m\u001b[0mlstA\u001b[0m\u001b[0;34m[\u001b[0m\u001b[0;36m6\u001b[0m\u001b[0;34m]\u001b[0m\u001b[0;34m)\u001b[0m\u001b[0;34m\u001b[0m\u001b[0;34m\u001b[0m\u001b[0m\n\u001b[0m",
      "\u001b[0;31mIndexError\u001b[0m: list index out of range"
     ]
    }
   ],
   "source": [
    "print(lstA[0])\n",
    "print(lstA[2])\n",
    "\n",
    "print(lstA[6])"
   ]
  },
  {
   "cell_type": "markdown",
   "metadata": {},
   "source": [
    "List Elements\n",
    "\n",
    "![alt text](https://i.ibb.co/HBpJ63P/list2.png \"List Element\")\n",
    "\n"
   ]
  },
  {
   "cell_type": "code",
   "execution_count": 86,
   "metadata": {},
   "outputs": [
    {
     "name": "stdout",
     "output_type": "stream",
     "text": [
      "corge\n",
      "foo\n"
     ]
    },
    {
     "ename": "IndexError",
     "evalue": "list index out of range",
     "output_type": "error",
     "traceback": [
      "\u001b[0;31m---------------------------------------------------------------------------\u001b[0m",
      "\u001b[0;31mIndexError\u001b[0m                                Traceback (most recent call last)",
      "\u001b[0;32m/var/folders/gh/bm95p3ys6sd6jvzbfl061_3c0000gn/T/ipykernel_29024/3560477651.py\u001b[0m in \u001b[0;36m<module>\u001b[0;34m\u001b[0m\n\u001b[1;32m      1\u001b[0m \u001b[0mprint\u001b[0m\u001b[0;34m(\u001b[0m\u001b[0mlstA\u001b[0m\u001b[0;34m[\u001b[0m\u001b[0;34m-\u001b[0m\u001b[0;36m1\u001b[0m\u001b[0;34m]\u001b[0m\u001b[0;34m)\u001b[0m\u001b[0;34m\u001b[0m\u001b[0;34m\u001b[0m\u001b[0m\n\u001b[1;32m      2\u001b[0m \u001b[0mprint\u001b[0m\u001b[0;34m(\u001b[0m\u001b[0mlstA\u001b[0m\u001b[0;34m[\u001b[0m\u001b[0;34m-\u001b[0m\u001b[0;36m6\u001b[0m\u001b[0;34m]\u001b[0m\u001b[0;34m)\u001b[0m\u001b[0;34m\u001b[0m\u001b[0;34m\u001b[0m\u001b[0m\n\u001b[0;32m----> 3\u001b[0;31m \u001b[0mprint\u001b[0m\u001b[0;34m(\u001b[0m\u001b[0mlstA\u001b[0m\u001b[0;34m[\u001b[0m\u001b[0;34m-\u001b[0m\u001b[0;36m7\u001b[0m\u001b[0;34m]\u001b[0m\u001b[0;34m)\u001b[0m\u001b[0;34m\u001b[0m\u001b[0;34m\u001b[0m\u001b[0m\n\u001b[0m",
      "\u001b[0;31mIndexError\u001b[0m: list index out of range"
     ]
    }
   ],
   "source": [
    "print(lstA[-1])\n",
    "print(lstA[-6])\n",
    "print(lstA[-7])"
   ]
  },
  {
   "cell_type": "markdown",
   "metadata": {},
   "source": [
    "Slicing juga bisa digunakan. Jika lstA adalah list, \n",
    "\n",
    "ekspresi lstA[m:n] mengembalikan porsi lstA dari indeks m ke n,\n",
    "\n",
    "tetapi tidak termasuk, indeks n:"
   ]
  },
  {
   "cell_type": "code",
   "execution_count": 87,
   "metadata": {},
   "outputs": [
    {
     "data": {
      "text/plain": [
       "['bar', 'baz', 'qux']"
      ]
     },
     "execution_count": 87,
     "metadata": {},
     "output_type": "execute_result"
    }
   ],
   "source": [
    "lstA = ['foo', 'bar', 'baz', 'qux', 'quux', 'corge']\n",
    "\n",
    "lstA[1:4]\n"
   ]
  },
  {
   "cell_type": "code",
   "execution_count": 71,
   "metadata": {},
   "outputs": [
    {
     "data": {
      "text/plain": [
       "['foo', 'bar']"
      ]
     },
     "execution_count": 71,
     "metadata": {},
     "output_type": "execute_result"
    }
   ],
   "source": [
    "lstA[0:2]"
   ]
  },
  {
   "cell_type": "code",
   "execution_count": 72,
   "metadata": {},
   "outputs": [
    {
     "data": {
      "text/plain": [
       "['foo', 'bar', 'baz']"
      ]
     },
     "execution_count": 72,
     "metadata": {},
     "output_type": "execute_result"
    }
   ],
   "source": [
    "lstA[:3]"
   ]
  },
  {
   "cell_type": "code",
   "execution_count": 190,
   "metadata": {},
   "outputs": [
    {
     "data": {
      "text/plain": [
       "['qux', 'quux', 'corge']"
      ]
     },
     "execution_count": 190,
     "metadata": {},
     "output_type": "execute_result"
    }
   ],
   "source": [
    "lstA[3:]"
   ]
  },
  {
   "cell_type": "code",
   "execution_count": 88,
   "metadata": {},
   "outputs": [
    {
     "name": "stdout",
     "output_type": "stream",
     "text": [
      "['foo', 'bar', 'baz', 'qux', 'quux', 'corge']\n"
     ]
    }
   ],
   "source": [
    "# The concatenation (+) and replication (*) operators:\n",
    "\n",
    "print(lstA)\n"
   ]
  },
  {
   "cell_type": "code",
   "execution_count": 89,
   "metadata": {},
   "outputs": [
    {
     "name": "stdout",
     "output_type": "stream",
     "text": [
      "['foo', 'bar', 'baz', 'qux', 'quux', 'corge', 'grault', 'garply']\n"
     ]
    }
   ],
   "source": [
    "\n",
    "print(lstA + ['grault', 'garply'])"
   ]
  },
  {
   "cell_type": "code",
   "execution_count": 90,
   "metadata": {},
   "outputs": [
    {
     "name": "stdout",
     "output_type": "stream",
     "text": [
      "['foo', 'bar', 'baz', 'qux', 'quux', 'corge', 'foo', 'bar', 'baz', 'qux', 'quux', 'corge']\n"
     ]
    }
   ],
   "source": [
    "print(lstA * 2)"
   ]
  },
  {
   "cell_type": "code",
   "execution_count": 93,
   "metadata": {},
   "outputs": [
    {
     "name": "stdout",
     "output_type": "stream",
     "text": [
      "['foo', 'bar', 'baz', 'qux', 'quux', 'corge', 'grault', 'garply', 'grault', 'garply', 'grault', 'garply']\n"
     ]
    }
   ],
   "source": [
    "lstA += ['grault', 'garply']\n",
    "print(lstA)"
   ]
  },
  {
   "cell_type": "code",
   "execution_count": 94,
   "metadata": {},
   "outputs": [
    {
     "name": "stdout",
     "output_type": "stream",
     "text": [
      "['foo', 'bar', 'baz', 'qux', 'quux', 'corge', 'grault', 'garply', 'grault', 'garply', 'grault', 'garply', 'foo', 'bar', 'baz', 'qux', 'quux', 'corge', 'grault', 'garply', 'grault', 'garply', 'grault', 'garply']\n"
     ]
    }
   ],
   "source": [
    "lstA *= 2 \n",
    "print(lstA)"
   ]
  },
  {
   "cell_type": "code",
   "execution_count": 95,
   "metadata": {},
   "outputs": [
    {
     "name": "stdout",
     "output_type": "stream",
     "text": [
      "['foo', 'bar', 'baz', 'qux', 'quux', 'corge']\n",
      "6\n",
      "bar\n",
      "qux\n"
     ]
    }
   ],
   "source": [
    "# len(), min(), max()\n",
    "\n",
    "lstB = ['foo', 'bar', 'baz', 'qux', 'quux', 'corge']\n",
    "\n",
    "print(lstB)\n",
    "print(len(lstB))\n",
    "print(min(lstB))\n",
    "print(max(lstB))"
   ]
  },
  {
   "cell_type": "markdown",
   "metadata": {},
   "source": [
    "\n",
    "Fungsi Python max() digunakan untuk menemukan nilai terbesar dalam daftar nilai. \n",
    "\n",
    "Fungsi Python min() digunakan untuk menemukan nilai terendah dalam daftar. \n",
    "\n",
    "Daftar nilai dapat berisi string atau angka.\n"
   ]
  },
  {
   "cell_type": "code",
   "execution_count": 96,
   "metadata": {},
   "outputs": [
    {
     "name": "stdout",
     "output_type": "stream",
     "text": [
      "5\n",
      "40\n",
      "1\n"
     ]
    }
   ],
   "source": [
    "\n",
    "\n",
    "lstNilai = [10,12,20,5,40,15]\n",
    "\n",
    "print(min(lstNilai))\n",
    "print(max(lstNilai))\n",
    "print(min(10,20,1))"
   ]
  },
  {
   "cell_type": "markdown",
   "metadata": {},
   "source": [
    "### Modifying a Single List Value\n",
    "\n",
    "Satu nilai dalam list dapat diganti dengan pengindeksan dan assignment sederhana:\n",
    "\n"
   ]
  },
  {
   "cell_type": "code",
   "execution_count": 97,
   "metadata": {},
   "outputs": [
    {
     "name": "stdout",
     "output_type": "stream",
     "text": [
      "['foo', 'bar', 'baz', 'qux', 'quux', 'corge']\n"
     ]
    }
   ],
   "source": [
    "lstX = ['foo', 'bar', 'baz', 'qux', 'quux', 'corge']\n",
    "print(lstX) "
   ]
  },
  {
   "cell_type": "code",
   "execution_count": 98,
   "metadata": {},
   "outputs": [
    {
     "name": "stdout",
     "output_type": "stream",
     "text": [
      "['foo', 'bar', 100, 'qux', 'quux', 'corge']\n"
     ]
    }
   ],
   "source": [
    "lstX[2] = 100 \n",
    "print(lstX)"
   ]
  },
  {
   "cell_type": "code",
   "execution_count": 99,
   "metadata": {},
   "outputs": [
    {
     "name": "stdout",
     "output_type": "stream",
     "text": [
      "['foo', 'bar', 'baz', 'qux', 'quux', 10]\n"
     ]
    }
   ],
   "source": [
    "lstX = ['foo', 'bar', 'baz', 'qux', 'quux', 'corge']\n",
    "lstX[-1] = 10 \n",
    "print(lstX)\n"
   ]
  },
  {
   "cell_type": "code",
   "execution_count": 100,
   "metadata": {},
   "outputs": [
    {
     "name": "stdout",
     "output_type": "stream",
     "text": [
      "['foo', 'bar', 'baz', 'quux', 10]\n"
     ]
    }
   ],
   "source": [
    "# A list item can be deleted with the del command:\n",
    "\n",
    "del lstX[3] \n",
    "\n",
    "print(lstX)"
   ]
  },
  {
   "cell_type": "markdown",
   "metadata": {},
   "source": [
    "### Modifying Multiple List Values\n",
    "\n",
    "Bagaimana jika kalian ingin mengubah beberapa elemen yang bersebelahan dalam list sekaligus?\n",
    "\n",
    "Python memungkinkan hal ini dengan slice, yang memiliki sintaks berikut:"
   ]
  },
  {
   "cell_type": "code",
   "execution_count": 101,
   "metadata": {},
   "outputs": [
    {
     "name": "stdout",
     "output_type": "stream",
     "text": [
      "['bar', 'baz']\n"
     ]
    }
   ],
   "source": [
    "a = ['foo', 'bar', 'baz', 'qux', 'quux', 'corge']\n",
    "\n",
    "print(a[1:3])\n"
   ]
  },
  {
   "cell_type": "code",
   "execution_count": 102,
   "metadata": {},
   "outputs": [
    {
     "name": "stdout",
     "output_type": "stream",
     "text": [
      "['foo', 1.1, 2.2, 3.3, 4.4, 5.5, 'qux', 'quux', 'corge']\n"
     ]
    }
   ],
   "source": [
    "\n",
    "a[1:3] = [1.1, 2.2, 3.3, 4.4, 5.5]\n",
    "\n",
    "print(a)"
   ]
  },
  {
   "cell_type": "markdown",
   "metadata": {},
   "source": [
    "## List "
   ]
  },
  {
   "cell_type": "code",
   "execution_count": 103,
   "metadata": {},
   "outputs": [
    {
     "name": "stdout",
     "output_type": "stream",
     "text": [
      "True\n"
     ]
    }
   ],
   "source": [
    "### Operator in \n",
    "\n",
    "buah = ['apel','jeruk','durian','mangga','rambutan'] \n",
    "\n",
    "print('jeruk' in buah)"
   ]
  },
  {
   "cell_type": "code",
   "execution_count": 104,
   "metadata": {},
   "outputs": [
    {
     "name": "stdout",
     "output_type": "stream",
     "text": [
      "False\n"
     ]
    }
   ],
   "source": [
    "print('nangka' in buah )"
   ]
  },
  {
   "cell_type": "code",
   "execution_count": 105,
   "metadata": {},
   "outputs": [
    {
     "data": {
      "text/plain": [
       "3"
      ]
     },
     "execution_count": 105,
     "metadata": {},
     "output_type": "execute_result"
    }
   ],
   "source": [
    "### Mencari Index \n",
    "\n",
    "buah.index('mangga')"
   ]
  },
  {
   "cell_type": "code",
   "execution_count": 106,
   "metadata": {},
   "outputs": [
    {
     "ename": "ValueError",
     "evalue": "'anggur' is not in list",
     "output_type": "error",
     "traceback": [
      "\u001b[0;31m---------------------------------------------------------------------------\u001b[0m",
      "\u001b[0;31mValueError\u001b[0m                                Traceback (most recent call last)",
      "\u001b[0;32m/var/folders/gh/bm95p3ys6sd6jvzbfl061_3c0000gn/T/ipykernel_29024/3621014123.py\u001b[0m in \u001b[0;36m<module>\u001b[0;34m\u001b[0m\n\u001b[0;32m----> 1\u001b[0;31m \u001b[0mbuah\u001b[0m\u001b[0;34m.\u001b[0m\u001b[0mindex\u001b[0m\u001b[0;34m(\u001b[0m\u001b[0;34m'anggur'\u001b[0m\u001b[0;34m)\u001b[0m\u001b[0;34m\u001b[0m\u001b[0;34m\u001b[0m\u001b[0m\n\u001b[0m",
      "\u001b[0;31mValueError\u001b[0m: 'anggur' is not in list"
     ]
    }
   ],
   "source": [
    "buah.index('anggur')"
   ]
  },
  {
   "cell_type": "code",
   "execution_count": 107,
   "metadata": {},
   "outputs": [
    {
     "name": "stdout",
     "output_type": "stream",
     "text": [
      "['apel', 'jeruk', 'durian', 'mangga', 'rambutan', 'jeruk']\n"
     ]
    }
   ],
   "source": [
    "# menambahkan \n",
    "buah.append('jeruk')\n",
    "print(buah)"
   ]
  },
  {
   "cell_type": "code",
   "execution_count": 108,
   "metadata": {},
   "outputs": [
    {
     "data": {
      "text/plain": [
       "1"
      ]
     },
     "execution_count": 108,
     "metadata": {},
     "output_type": "execute_result"
    }
   ],
   "source": [
    "# ditemukan nama yg sama maka yg di ambil yg pertama \n",
    "buah.index('jeruk') "
   ]
  },
  {
   "cell_type": "code",
   "execution_count": 109,
   "metadata": {},
   "outputs": [
    {
     "name": "stdout",
     "output_type": "stream",
     "text": [
      "['apel', 'durian', 'mangga', 'rambutan', 'jeruk']\n"
     ]
    }
   ],
   "source": [
    "# menghapus menggunakan index\n",
    "del buah[1] \n",
    "print(buah)"
   ]
  },
  {
   "cell_type": "code",
   "execution_count": 110,
   "metadata": {},
   "outputs": [
    {
     "name": "stdout",
     "output_type": "stream",
     "text": [
      "['apel', 'durian', 'rambutan', 'jeruk']\n"
     ]
    }
   ],
   "source": [
    "# menghapus menggunakan value \n",
    "buah.remove('mangga')\n",
    "print(buah)"
   ]
  },
  {
   "cell_type": "code",
   "execution_count": 111,
   "metadata": {},
   "outputs": [
    {
     "name": "stdout",
     "output_type": "stream",
     "text": [
      "['apel', 'durian', 'jeruk', 'rambutan']\n"
     ]
    }
   ],
   "source": [
    "## Sorting list \n",
    "buah.sort()\n",
    "print(buah)"
   ]
  },
  {
   "cell_type": "code",
   "execution_count": 112,
   "metadata": {},
   "outputs": [
    {
     "name": "stdout",
     "output_type": "stream",
     "text": [
      "['c', 'd', 'a']\n"
     ]
    }
   ],
   "source": [
    "## Menyalin list \n",
    "\n",
    "listx = ['c','d','a'] #\n",
    "listy = listx # list\n",
    "print(listy)"
   ]
  },
  {
   "cell_type": "code",
   "execution_count": 113,
   "metadata": {},
   "outputs": [
    {
     "name": "stdout",
     "output_type": "stream",
     "text": [
      "['a', 'd', 'a']\n"
     ]
    }
   ],
   "source": [
    "\n",
    "listy[0]='a'\n",
    "print(listy) \n"
   ]
  },
  {
   "cell_type": "code",
   "execution_count": 114,
   "metadata": {},
   "outputs": [
    {
     "name": "stdout",
     "output_type": "stream",
     "text": [
      "['a', 'd', 'a']\n"
     ]
    }
   ],
   "source": [
    "print(listx) ## akan mengikuti variabel dari y "
   ]
  },
  {
   "cell_type": "code",
   "execution_count": 116,
   "metadata": {},
   "outputs": [
    {
     "name": "stdout",
     "output_type": "stream",
     "text": [
      "['a', 'd', 'a']\n",
      "['a', 'd', 'a']\n",
      "['x', 'd', 'a']\n"
     ]
    }
   ],
   "source": [
    "\n",
    "import copy \n",
    "list1 = copy.copy(listx) #\n",
    "print(list1) #\n",
    "list1[0] = 'x' # list\n",
    "print(listx) # list\n",
    "print(list1)"
   ]
  },
  {
   "cell_type": "markdown",
   "metadata": {},
   "source": [
    "## Python Tuples\n",
    "\n",
    "Python menyediakan tipe lain dari kumpulan objek yang berurutan, disebut tuple.\n",
    "\n",
    "\n",
    "### Defining and Using Tuples\n",
    "\n",
    "Tuples identik dengan list dalam segala hal, kecuali untuk properti berikut:\n",
    "\n",
    "Tuples didefinisikan dengan mengapit elemen dalam tanda kurung (()) \n",
    "\n",
    "daripada tanda kurung siku ([]).\n",
    "\n",
    "Tuples tidak bisa diubah. \n",
    "\n",
    "Berikut adalah contoh singkat yang menunjukkan pendeklarasian tuple, \n",
    "\n",
    "pengindeksan, dan slicing:"
   ]
  },
  {
   "cell_type": "code",
   "execution_count": 117,
   "metadata": {},
   "outputs": [
    {
     "name": "stdout",
     "output_type": "stream",
     "text": [
      "('foo', 'bar', 'baz', 'qux', 'quux', 'corge')\n"
     ]
    }
   ],
   "source": [
    "t = ('foo', 'bar', 'baz', 'qux', 'quux', 'corge')\n",
    "\n",
    "print(t)\n"
   ]
  },
  {
   "cell_type": "code",
   "execution_count": 219,
   "metadata": {},
   "outputs": [
    {
     "name": "stdout",
     "output_type": "stream",
     "text": [
      "foo\n"
     ]
    }
   ],
   "source": [
    "print(t[0])"
   ]
  },
  {
   "cell_type": "code",
   "execution_count": 118,
   "metadata": {},
   "outputs": [
    {
     "name": "stdout",
     "output_type": "stream",
     "text": [
      "corge\n"
     ]
    }
   ],
   "source": [
    "print(t[-1])"
   ]
  },
  {
   "cell_type": "code",
   "execution_count": 119,
   "metadata": {},
   "outputs": [
    {
     "ename": "TypeError",
     "evalue": "'tuple' object does not support item assignment",
     "output_type": "error",
     "traceback": [
      "\u001b[0;31m---------------------------------------------------------------------------\u001b[0m",
      "\u001b[0;31mTypeError\u001b[0m                                 Traceback (most recent call last)",
      "\u001b[0;32m/var/folders/gh/bm95p3ys6sd6jvzbfl061_3c0000gn/T/ipykernel_29024/1477764409.py\u001b[0m in \u001b[0;36m<module>\u001b[0;34m\u001b[0m\n\u001b[0;32m----> 1\u001b[0;31m \u001b[0mt\u001b[0m\u001b[0;34m[\u001b[0m\u001b[0;36m0\u001b[0m\u001b[0;34m]\u001b[0m \u001b[0;34m=\u001b[0m \u001b[0;34m\"fee\"\u001b[0m\u001b[0;34m\u001b[0m\u001b[0;34m\u001b[0m\u001b[0m\n\u001b[0m\u001b[1;32m      2\u001b[0m \u001b[0mprint\u001b[0m\u001b[0;34m(\u001b[0m\u001b[0mt\u001b[0m\u001b[0;34m)\u001b[0m\u001b[0;34m\u001b[0m\u001b[0;34m\u001b[0m\u001b[0m\n",
      "\u001b[0;31mTypeError\u001b[0m: 'tuple' object does not support item assignment"
     ]
    }
   ],
   "source": [
    "t[0] = \"fee\" \n",
    "print(t)\n"
   ]
  },
  {
   "cell_type": "code",
   "execution_count": 121,
   "metadata": {},
   "outputs": [
    {
     "name": "stdout",
     "output_type": "stream",
     "text": [
      "qux\n"
     ]
    }
   ],
   "source": [
    "# packing and unpacking\n",
    "\n",
    "(s0,s1,s2,s3,s4,s5) = ('foo', 'bar', 'baz', 'qux', 'quux', 'corge')\n",
    "print(s3)\n",
    "\n"
   ]
  },
  {
   "cell_type": "code",
   "execution_count": 122,
   "metadata": {},
   "outputs": [
    {
     "ename": "ValueError",
     "evalue": "too many values to unpack (expected 5)",
     "output_type": "error",
     "traceback": [
      "\u001b[0;31m---------------------------------------------------------------------------\u001b[0m",
      "\u001b[0;31mValueError\u001b[0m                                Traceback (most recent call last)",
      "\u001b[0;32m/var/folders/gh/bm95p3ys6sd6jvzbfl061_3c0000gn/T/ipykernel_29024/2356857031.py\u001b[0m in \u001b[0;36m<module>\u001b[0;34m\u001b[0m\n\u001b[0;32m----> 1\u001b[0;31m \u001b[0;34m(\u001b[0m\u001b[0ms0\u001b[0m\u001b[0;34m,\u001b[0m\u001b[0ms1\u001b[0m\u001b[0;34m,\u001b[0m\u001b[0ms2\u001b[0m\u001b[0;34m,\u001b[0m\u001b[0ms3\u001b[0m\u001b[0;34m,\u001b[0m\u001b[0ms4\u001b[0m\u001b[0;34m)\u001b[0m \u001b[0;34m=\u001b[0m \u001b[0;34m(\u001b[0m\u001b[0;34m'foo'\u001b[0m\u001b[0;34m,\u001b[0m \u001b[0;34m'bar'\u001b[0m\u001b[0;34m,\u001b[0m \u001b[0;34m'baz'\u001b[0m\u001b[0;34m,\u001b[0m \u001b[0;34m'qux'\u001b[0m\u001b[0;34m,\u001b[0m \u001b[0;34m'quux'\u001b[0m\u001b[0;34m,\u001b[0m \u001b[0;34m'corge'\u001b[0m\u001b[0;34m)\u001b[0m\u001b[0;34m\u001b[0m\u001b[0;34m\u001b[0m\u001b[0m\n\u001b[0m",
      "\u001b[0;31mValueError\u001b[0m: too many values to unpack (expected 5)"
     ]
    }
   ],
   "source": [
    "(s0,s1,s2,s3,s4) = ('foo', 'bar', 'baz', 'qux', 'quux', 'corge')\n"
   ]
  },
  {
   "cell_type": "markdown",
   "metadata": {},
   "source": [
    "## Python Dictionary\n",
    "\n",
    "Dictionaries and lists share the following characteristics:\n",
    "\n",
    "* Keduanya bisa berubah.\n",
    "* Keduanya dinamis. bisa ditambahkan dan dikurangi sesuai kebutuhan.\n",
    "* Keduanya dapat bersarang. Sebuah list dapat berisi list lain. Dictonarie dapat berisi Dictonary lain. \n",
    "Dictonary juga dapat berisi List, dan sebaliknya.\n",
    "\n",
    "Dictonary berbeda dari daftar terutama dalam cara elemen diakses:\n",
    "\n",
    "* Elemen list diakses berdasarkan posisinya dalam list, melalui pengindeksan.\n",
    "* Elemen Dictonary diakses melalui key.\n",
    "\n",
    "Defining a Dictionary\n",
    "Dictionaries adalah implementasi Python dari struktur data yang lebih dikenal sebagai associative array. Dictionaries terdiri dari key-value pairs. \n",
    "Setiap key-value pairs memetakan key ke value yang terkait.\n",
    "\n",
    "Kalian bisa mendefinisikan Dictionaries dengan mengapit daftar key-value pairs yang dipisahkan koma dalam tanda kurung kurawal ({}). Titik dua (:) memisahkan setiap kunci dari nilai yang terkait."
   ]
  },
  {
   "cell_type": "markdown",
   "metadata": {},
   "source": [
    "<img src=\"https://i.ibb.co/zRsctx8/mlb.png\" width=\"400\" align=\"center\">"
   ]
  },
  {
   "cell_type": "code",
   "execution_count": 123,
   "metadata": {},
   "outputs": [],
   "source": [
    "# from IPython.display import Image\n",
    "# Image(url='https://i.ibb.co/zRsctx8/mlb.png', width=200)"
   ]
  },
  {
   "cell_type": "markdown",
   "metadata": {},
   "source": [
    "Accessing Dictionary Values\n",
    "\n",
    "Sebuah nilai diambil dari dictionary dengan menentukan kunci yang sesuai dalam tanda kurung siku ([]):"
   ]
  },
  {
   "cell_type": "code",
   "execution_count": 124,
   "metadata": {},
   "outputs": [],
   "source": [
    "MLB_team = {\n",
    "    'Colorado': 'Rockies',\n",
    "    'Boston': 'Red Sox',\n",
    "    'Minnesota': 'Twins',\n",
    "    'Milwaukee': 'Brewers',\n",
    "    'Seattle': 'Mariners'\n",
    "}\n",
    "\n"
   ]
  },
  {
   "cell_type": "code",
   "execution_count": 125,
   "metadata": {},
   "outputs": [
    {
     "name": "stdout",
     "output_type": "stream",
     "text": [
      "{'Colorado': 'Rockies', 'Boston': 'Red Sox', 'Minnesota': 'Twins', 'Milwaukee': 'Brewers', 'Seattle': 'Mariners'}\n",
      "Red Sox\n",
      "Mariners\n"
     ]
    },
    {
     "ename": "KeyError",
     "evalue": "'Milwaukee '",
     "output_type": "error",
     "traceback": [
      "\u001b[0;31m---------------------------------------------------------------------------\u001b[0m",
      "\u001b[0;31mKeyError\u001b[0m                                  Traceback (most recent call last)",
      "\u001b[0;32m/var/folders/gh/bm95p3ys6sd6jvzbfl061_3c0000gn/T/ipykernel_29024/764235231.py\u001b[0m in \u001b[0;36m<module>\u001b[0;34m\u001b[0m\n\u001b[1;32m      3\u001b[0m \u001b[0mprint\u001b[0m\u001b[0;34m(\u001b[0m\u001b[0mMLB_team\u001b[0m\u001b[0;34m[\u001b[0m\u001b[0;34m\"Seattle\"\u001b[0m\u001b[0;34m]\u001b[0m\u001b[0;34m)\u001b[0m\u001b[0;34m\u001b[0m\u001b[0;34m\u001b[0m\u001b[0m\n\u001b[1;32m      4\u001b[0m \u001b[0;34m\u001b[0m\u001b[0m\n\u001b[0;32m----> 5\u001b[0;31m \u001b[0mprint\u001b[0m\u001b[0;34m(\u001b[0m\u001b[0mMLB_team\u001b[0m\u001b[0;34m[\u001b[0m\u001b[0;34m\"Milwaukee \"\u001b[0m\u001b[0;34m]\u001b[0m\u001b[0;34m)\u001b[0m\u001b[0;34m\u001b[0m\u001b[0;34m\u001b[0m\u001b[0m\n\u001b[0m",
      "\u001b[0;31mKeyError\u001b[0m: 'Milwaukee '"
     ]
    }
   ],
   "source": [
    "print(MLB_team)\n",
    "print(MLB_team[\"Boston\"])\n",
    "print(MLB_team[\"Seattle\"])\n",
    "\n",
    "print(MLB_team[\"Milwaukee \"])\n"
   ]
  },
  {
   "cell_type": "code",
   "execution_count": 126,
   "metadata": {},
   "outputs": [
    {
     "data": {
      "text/plain": [
       "{'Colorado': 'Rockies',\n",
       " 'Boston': 'Red Sox',\n",
       " 'Minnesota': 'Twins',\n",
       " 'Milwaukee': 'Brewers',\n",
       " 'Seattle': 'Mariners',\n",
       " 'Kansas City': 'Royals'}"
      ]
     },
     "execution_count": 126,
     "metadata": {},
     "output_type": "execute_result"
    }
   ],
   "source": [
    "#Adding an entry to an existing dictionary is simply a matter of assigning a new key and value:\n",
    "\n",
    "MLB_team['Kansas City'] = 'Royals'\n",
    "MLB_team"
   ]
  },
  {
   "cell_type": "code",
   "execution_count": 127,
   "metadata": {},
   "outputs": [
    {
     "data": {
      "text/plain": [
       "{'Colorado': 'Rockies',\n",
       " 'Boston': 'Red Sox',\n",
       " 'Minnesota': 'Twins',\n",
       " 'Milwaukee': 'Brewers',\n",
       " 'Seattle': 'Seahawks',\n",
       " 'Kansas City': 'Royals'}"
      ]
     },
     "execution_count": 127,
     "metadata": {},
     "output_type": "execute_result"
    }
   ],
   "source": [
    "# If you want to update an entry, you can just assign a new value to an existing key:\n",
    "\n",
    "MLB_team['Seattle'] = 'Seahawks'\n",
    "MLB_team"
   ]
  },
  {
   "cell_type": "code",
   "execution_count": 128,
   "metadata": {},
   "outputs": [
    {
     "data": {
      "text/plain": [
       "'Royals'"
      ]
     },
     "execution_count": 128,
     "metadata": {},
     "output_type": "execute_result"
    }
   ],
   "source": [
    "MLB_team['Kansas City']"
   ]
  },
  {
   "cell_type": "code",
   "execution_count": 129,
   "metadata": {},
   "outputs": [],
   "source": [
    "# To delete an entry, use the del statement, specifying the key to delete:\n",
    "\n",
    "del(MLB_team['Seattle'])"
   ]
  },
  {
   "cell_type": "code",
   "execution_count": 130,
   "metadata": {},
   "outputs": [
    {
     "data": {
      "text/plain": [
       "{'Colorado': 'Rockies',\n",
       " 'Boston': 'Red Sox',\n",
       " 'Minnesota': 'Twins',\n",
       " 'Milwaukee': 'Brewers',\n",
       " 'Kansas City': 'Royals'}"
      ]
     },
     "execution_count": 130,
     "metadata": {},
     "output_type": "execute_result"
    }
   ],
   "source": [
    "MLB_team"
   ]
  },
  {
   "cell_type": "code",
   "execution_count": 131,
   "metadata": {},
   "outputs": [
    {
     "data": {
      "text/plain": [
       "{'Colorado': 'Rockies',\n",
       " 'Minnesota': 'Twins',\n",
       " 'Milwaukee': 'Brewers',\n",
       " 'Kansas City': 'Royals'}"
      ]
     },
     "execution_count": 131,
     "metadata": {},
     "output_type": "execute_result"
    }
   ],
   "source": [
    "del(MLB_team[\"Boston\"])\n",
    "MLB_team"
   ]
  },
  {
   "cell_type": "code",
   "execution_count": 132,
   "metadata": {},
   "outputs": [
    {
     "ename": "KeyError",
     "evalue": "'Seattle'",
     "output_type": "error",
     "traceback": [
      "\u001b[0;31m---------------------------------------------------------------------------\u001b[0m",
      "\u001b[0;31mKeyError\u001b[0m                                  Traceback (most recent call last)",
      "\u001b[0;32m/var/folders/gh/bm95p3ys6sd6jvzbfl061_3c0000gn/T/ipykernel_29024/2522132206.py\u001b[0m in \u001b[0;36m<module>\u001b[0;34m\u001b[0m\n\u001b[0;32m----> 1\u001b[0;31m \u001b[0;32mdel\u001b[0m\u001b[0;34m(\u001b[0m\u001b[0mMLB_team\u001b[0m\u001b[0;34m[\u001b[0m\u001b[0;34m'Seattle'\u001b[0m\u001b[0;34m]\u001b[0m\u001b[0;34m)\u001b[0m\u001b[0;34m\u001b[0m\u001b[0;34m\u001b[0m\u001b[0m\n\u001b[0m\u001b[1;32m      2\u001b[0m \u001b[0mMLB_team\u001b[0m\u001b[0;34m\u001b[0m\u001b[0;34m\u001b[0m\u001b[0m\n",
      "\u001b[0;31mKeyError\u001b[0m: 'Seattle'"
     ]
    }
   ],
   "source": [
    "del(MLB_team['Seattle'])\n",
    "MLB_team"
   ]
  },
  {
   "cell_type": "markdown",
   "metadata": {},
   "source": [
    "### Building a Dictionary Incrementally\n",
    "\n",
    "Mendefinisikan dictionary menggunakan tanda kurung kurawal dan key-value pairs, seperti yang ditunjukkan di atas, tidak masalah jika kalian mengetahui semua kunci dan nilai sebelumnya. Tetapi bagaimana jika kalian ingin membuat dictionary sambil jalan?\n",
    "\n",
    "Kalian bisa mulai dengan membuat dictionary kosong, yang ditentukan dengan tanda kurung kurawal kosong. Kemudian kalian dapat menambahkan kunci dan nilai baru satu per satu:"
   ]
  },
  {
   "cell_type": "code",
   "execution_count": 133,
   "metadata": {},
   "outputs": [
    {
     "data": {
      "text/plain": [
       "dict"
      ]
     },
     "execution_count": 133,
     "metadata": {},
     "output_type": "execute_result"
    }
   ],
   "source": [
    "person = {} \n",
    "type(person)"
   ]
  },
  {
   "cell_type": "code",
   "execution_count": 134,
   "metadata": {},
   "outputs": [],
   "source": [
    "person['fname'] = \"IKetut\"\n",
    "person[\"lname\"] = 'Gunawan' \n",
    "person['age']=45 \n",
    "person[\"children\"] =['Yusuf','Sulaiman','Ibrahim','Fatimah']\n",
    "person['pets'] = [{'keysArr': ['ath', 'atl', 'circulatingSupply'],'Dog':'Jumba'}]\n",
    "person[\"skill\"] = {\"programming\":['Java','Golang','Python','Solidity'],\n",
    "                   \"database\":{\"nosql\":['MonggoDb','Neo4J'],\"rdbms\":['Mysql','PostgreSQL','Oracle']}}"
   ]
  },
  {
   "cell_type": "code",
   "execution_count": 135,
   "metadata": {},
   "outputs": [
    {
     "name": "stdout",
     "output_type": "stream",
     "text": [
      "{'fname': 'IKetut', 'lname': 'Gunawan', 'age': 45, 'children': ['Yusuf', 'Sulaiman', 'Ibrahim', 'Fatimah'], 'pets': [{'keysArr': ['ath', 'atl', 'circulatingSupply'], 'Dog': 'Jumba'}], 'skill': {'programming': ['Java', 'Golang', 'Python', 'Solidity'], 'database': {'nosql': ['MonggoDb', 'Neo4J'], 'rdbms': ['Mysql', 'PostgreSQL', 'Oracle']}}}\n"
     ]
    }
   ],
   "source": [
    "print(person)"
   ]
  },
  {
   "cell_type": "code",
   "execution_count": 136,
   "metadata": {
    "scrolled": true
   },
   "outputs": [
    {
     "name": "stdout",
     "output_type": "stream",
     "text": [
      "False\n",
      "1\n",
      "1\n",
      "1\n",
      "{'1': 1, 1: 1}\n"
     ]
    }
   ],
   "source": [
    "coins = {}\n",
    "print(person['pets'][0]['keysArr']==['ath'])\n",
    "thislist = person['pets'][0]['keysArr']\n",
    "for i in range(len(thislist)):\n",
    "    print(thislist.index('atl'))\n",
    "    key = thislist.index('atl')\n",
    "    value = thislist.index('atl')\n",
    "    coins[str(thislist.index('atl'))] = thislist.index('atl')\n",
    "    coins.update({key: value})\n",
    "     \n",
    "print(coins)"
   ]
  },
  {
   "cell_type": "code",
   "execution_count": 28,
   "metadata": {},
   "outputs": [
    {
     "name": "stdout",
     "output_type": "stream",
     "text": [
      "apple\n",
      "banana\n",
      "cherry\n"
     ]
    }
   ],
   "source": [
    "thislist = [\"apple\", \"banana\", \"cherry\"]\n",
    "for i in range(len(thislist)):\n",
    "  print(thislist[i])\n"
   ]
  },
  {
   "cell_type": "code",
   "execution_count": 137,
   "metadata": {},
   "outputs": [
    {
     "name": "stdout",
     "output_type": "stream",
     "text": [
      "{'age': 45,\n",
      " 'children': ['Yusuf', 'Sulaiman', 'Ibrahim', 'Fatimah'],\n",
      " 'fname': 'IKetut',\n",
      " 'lname': 'Gunawan',\n",
      " 'pets': [{'Dog': 'Jumba', 'keysArr': ['ath', 'atl', 'circulatingSupply']}],\n",
      " 'skill': {'database': {'nosql': ['MonggoDb', 'Neo4J'],\n",
      "                        'rdbms': ['Mysql', 'PostgreSQL', 'Oracle']},\n",
      "           'programming': ['Java', 'Golang', 'Python', 'Solidity']}}\n"
     ]
    }
   ],
   "source": [
    "import pprint \n",
    "pprint.pprint(person)"
   ]
  },
  {
   "cell_type": "code",
   "execution_count": 138,
   "metadata": {},
   "outputs": [],
   "source": [
    "person[\"status_menikah\"] = True"
   ]
  },
  {
   "cell_type": "code",
   "execution_count": 139,
   "metadata": {},
   "outputs": [
    {
     "name": "stdout",
     "output_type": "stream",
     "text": [
      "{\n",
      "    \"fname\": \"IKetut\",\n",
      "    \"lname\": \"Gunawan\",\n",
      "    \"age\": 45,\n",
      "    \"children\": [\n",
      "        \"Yusuf\",\n",
      "        \"Sulaiman\",\n",
      "        \"Ibrahim\",\n",
      "        \"Fatimah\"\n",
      "    ],\n",
      "    \"pets\": [\n",
      "        {\n",
      "            \"keysArr\": [\n",
      "                \"ath\",\n",
      "                \"atl\",\n",
      "                \"circulatingSupply\"\n",
      "            ],\n",
      "            \"Dog\": \"Jumba\"\n",
      "        }\n",
      "    ],\n",
      "    \"skill\": {\n",
      "        \"programming\": [\n",
      "            \"Java\",\n",
      "            \"Golang\",\n",
      "            \"Python\",\n",
      "            \"Solidity\"\n",
      "        ],\n",
      "        \"database\": {\n",
      "            \"nosql\": [\n",
      "                \"MonggoDb\",\n",
      "                \"Neo4J\"\n",
      "            ],\n",
      "            \"rdbms\": [\n",
      "                \"Mysql\",\n",
      "                \"PostgreSQL\",\n",
      "                \"Oracle\"\n",
      "            ]\n",
      "        }\n",
      "    },\n",
      "    \"status_menikah\": true\n",
      "}\n"
     ]
    }
   ],
   "source": [
    "import json\n",
    "print(json.dumps(person, sort_keys=False, indent=4))\n"
   ]
  },
  {
   "cell_type": "code",
   "execution_count": 140,
   "metadata": {},
   "outputs": [
    {
     "name": "stdout",
     "output_type": "stream",
     "text": [
      "IKetut\n",
      "Gunawan\n"
     ]
    }
   ],
   "source": [
    "print(person['fname'])\n",
    "print(person['lname'])"
   ]
  },
  {
   "cell_type": "code",
   "execution_count": 142,
   "metadata": {},
   "outputs": [
    {
     "name": "stdout",
     "output_type": "stream",
     "text": [
      "['Yusuf', 'Sulaiman', 'Ibrahim', 'Fatimah']\n",
      "Ibrahim\n"
     ]
    }
   ],
   "source": [
    "print(person['children'])\n",
    "print(person['children'][2])"
   ]
  },
  {
   "cell_type": "code",
   "execution_count": 143,
   "metadata": {},
   "outputs": [
    {
     "name": "stdout",
     "output_type": "stream",
     "text": [
      "{'nosql': ['MonggoDb', 'Neo4J'], 'rdbms': ['Mysql', 'PostgreSQL', 'Oracle']}\n"
     ]
    }
   ],
   "source": [
    "print(person['skill']['database'])"
   ]
  },
  {
   "cell_type": "code",
   "execution_count": 144,
   "metadata": {
    "scrolled": true
   },
   "outputs": [
    {
     "name": "stdout",
     "output_type": "stream",
     "text": [
      "['Mysql', 'PostgreSQL', 'Oracle']\n"
     ]
    }
   ],
   "source": [
    "print(person['skill']['database']['rdbms'])"
   ]
  },
  {
   "cell_type": "code",
   "execution_count": 145,
   "metadata": {},
   "outputs": [
    {
     "name": "stdout",
     "output_type": "stream",
     "text": [
      "PostgreSQL\n"
     ]
    }
   ],
   "source": [
    "print(person['skill']['database']['rdbms'][1])"
   ]
  },
  {
   "cell_type": "code",
   "execution_count": 147,
   "metadata": {},
   "outputs": [
    {
     "name": "stdout",
     "output_type": "stream",
     "text": [
      "{'a': 10, 'b': 20, 'c': 30}\n"
     ]
    }
   ],
   "source": [
    "# Built-in Methods\n",
    "d = {'a': 10, 'b': 20, 'c': 30}\n",
    "print(d)"
   ]
  },
  {
   "cell_type": "code",
   "execution_count": 148,
   "metadata": {},
   "outputs": [
    {
     "name": "stdout",
     "output_type": "stream",
     "text": [
      "dict_items([('a', 10), ('b', 20), ('c', 30)])\n"
     ]
    }
   ],
   "source": [
    "\n",
    "# items\n",
    "print(d.items())\n"
   ]
  },
  {
   "cell_type": "code",
   "execution_count": 149,
   "metadata": {},
   "outputs": [
    {
     "name": "stdout",
     "output_type": "stream",
     "text": [
      "dict_keys(['a', 'b', 'c'])\n"
     ]
    }
   ],
   "source": [
    "\n",
    "# keys\n",
    "print(d.keys())"
   ]
  },
  {
   "cell_type": "code",
   "execution_count": 150,
   "metadata": {},
   "outputs": [
    {
     "name": "stdout",
     "output_type": "stream",
     "text": [
      "dict_values([10, 20, 30])\n"
     ]
    }
   ],
   "source": [
    "\n",
    "# values\n",
    "print(d.values())"
   ]
  },
  {
   "cell_type": "markdown",
   "metadata": {},
   "source": [
    "### Line Continuation\n",
    "\n",
    "Misalkan satu pernyataan dalam kode Python kalian sangat panjang. \n",
    "Misalnya, kalian mungkin memiliki assignment statement dengan banyak terms:"
   ]
  },
  {
   "cell_type": "code",
   "execution_count": 152,
   "metadata": {},
   "outputs": [
    {
     "data": {
      "text/plain": [
       "True"
      ]
     },
     "execution_count": 152,
     "metadata": {},
     "output_type": "execute_result"
    }
   ],
   "source": [
    "person1_age = 42\n",
    "person2_age = 16\n",
    "person3_age = 71\n",
    "\n",
    "\n",
    "someone_is_of_working_age = (person1_age >= 18 and person1_age <= 65) or (person2_age >= 18 and person2_age <= 65) or (person3_age >= 18 and person3_age <= 65)\n",
    "\n",
    "someone_is_of_working_age\n"
   ]
  },
  {
   "cell_type": "code",
   "execution_count": 153,
   "metadata": {},
   "outputs": [
    {
     "data": {
      "text/plain": [
       "True"
      ]
     },
     "execution_count": 153,
     "metadata": {},
     "output_type": "execute_result"
    }
   ],
   "source": [
    "someone_is_of_working_age = ( (person1_age >= 18 and person1_age <= 65) or \n",
    "                             (person2_age >= 18 and person2_age <= 65) or \n",
    "                             (person3_age >= 18 and person3_age <= 65)\n",
    "                            )\n",
    "someone_is_of_working_age"
   ]
  },
  {
   "cell_type": "markdown",
   "metadata": {},
   "source": []
  },
  {
   "cell_type": "markdown",
   "metadata": {},
   "source": [
    "### Casting \n",
    "    Merubah dari satu tipe ke tipe lain \n",
    "    tipe data  (\"int\",\"float\",\"str\",\"bool\") \n"
   ]
  },
  {
   "cell_type": "code",
   "execution_count": 155,
   "metadata": {},
   "outputs": [
    {
     "name": "stdout",
     "output_type": "stream",
     "text": [
      "data : 10.2  Tipe :  <class 'float'>\n"
     ]
    }
   ],
   "source": [
    "# float \n",
    "\n",
    "data_float = 10.2\n",
    "print (\"data :\",data_float,\" Tipe : \",type(data_float))"
   ]
  },
  {
   "cell_type": "code",
   "execution_count": 156,
   "metadata": {},
   "outputs": [
    {
     "name": "stdout",
     "output_type": "stream",
     "text": [
      "data : 10  Tipe :  <class 'int'>\n",
      "data : 10.2  Tipe :  <class 'str'>\n",
      "data : True  Tipe :  <class 'bool'>\n"
     ]
    }
   ],
   "source": [
    "#casting float \n",
    "data_int = int(data_float) # lakukan uji coba diganti data_float adakah pembulatan ? tidak ada \n",
    "data_str = str(data_float) \n",
    "data_bool = bool(data_float) # lakukan uji coba diganti data_float\n",
    "\n",
    "print (\"data :\",data_int,\" Tipe : \",type(data_int))\n",
    "print (\"data :\",data_str,\" Tipe : \",type(data_str))\n",
    "print (\"data :\",data_bool,\" Tipe : \",type(data_bool))"
   ]
  },
  {
   "cell_type": "code",
   "execution_count": 157,
   "metadata": {},
   "outputs": [
    {
     "name": "stdout",
     "output_type": "stream",
     "text": [
      "data : 0  Tipe :  <class 'int'>\n"
     ]
    }
   ],
   "source": [
    "# int \n",
    "\n",
    "data_int = 0 \n",
    "print (\"data :\",data_int,\" Tipe : \",type(data_int))"
   ]
  },
  {
   "cell_type": "code",
   "execution_count": 158,
   "metadata": {},
   "outputs": [
    {
     "name": "stdout",
     "output_type": "stream",
     "text": [
      "data : 0  Tipe :  <class 'float'>\n",
      "data : 0  Tipe :  <class 'str'>\n",
      "data : False  Tipe :  <class 'bool'>\n"
     ]
    }
   ],
   "source": [
    "#casting int \n",
    "# perhatikan tipe data bool cating \n",
    "\n",
    "data_float = float(data_int) \n",
    "data_str = str(data_int) \n",
    "data_bool = bool(data_int)  # kapan false jika nilai 0  , selain 0 adalah true \n",
    "\n",
    "print (\"data :\",data_int,\" Tipe : \",type(data_float))\n",
    "print (\"data :\",data_str,\" Tipe : \",type(data_str))\n",
    "print (\"data :\",data_bool,\" Tipe : \",type(data_bool))"
   ]
  },
  {
   "cell_type": "code",
   "execution_count": 159,
   "metadata": {},
   "outputs": [
    {
     "name": "stdout",
     "output_type": "stream",
     "text": [
      "data : False  Tipe :  <class 'bool'>\n"
     ]
    }
   ],
   "source": [
    "# bool \n",
    "\n",
    "data_bool = False   # change to True\n",
    "print (\"data :\",data_bool,\" Tipe : \",type(data_bool))"
   ]
  },
  {
   "cell_type": "code",
   "execution_count": 152,
   "metadata": {},
   "outputs": [
    {
     "name": "stdout",
     "output_type": "stream",
     "text": [
      "data : 0  Tipe :  <class 'int'>\n",
      "data : False  Tipe :  <class 'str'>\n",
      "data : 0.0  Tipe :  <class 'float'>\n"
     ]
    }
   ],
   "source": [
    "#casting bool \n",
    "data_int = int(data_bool) \n",
    "data_str = str(data_bool) \n",
    "data_float = float(data_bool) \n",
    "\n",
    "print (\"data :\",data_int,\" Tipe : \",type(data_int))\n",
    "print (\"data :\",data_str,\" Tipe : \",type(data_str))\n",
    "print (\"data :\",data_float,\" Tipe : \",type(data_float))"
   ]
  },
  {
   "cell_type": "code",
   "execution_count": 156,
   "metadata": {},
   "outputs": [
    {
     "name": "stdout",
     "output_type": "stream",
     "text": [
      "data : 10.5  Tipe :  <class 'str'>\n"
     ]
    }
   ],
   "source": [
    "# str \n",
    "\n",
    "data_str = \"10.5\"   #   coba char , numeric , \" \", \"\"\n",
    "print (\"data :\",data_str,\" Tipe : \",type(data_str))"
   ]
  },
  {
   "cell_type": "code",
   "execution_count": 160,
   "metadata": {},
   "outputs": [
    {
     "name": "stdout",
     "output_type": "stream",
     "text": [
      "data : True  Tipe :  <class 'bool'>\n",
      "data : 0  Tipe :  <class 'str'>\n",
      "data : 0  Tipe :  <class 'str'>\n"
     ]
    }
   ],
   "source": [
    "#casting str \n",
    "data_bool  = bool(data_str)  # harus .... untuk menjadi False \n",
    "data_int   = int(float(data_str))   # harus ....\n",
    "data_float = float(data_str) # harus .... \n",
    "\n",
    "print (\"data :\",data_bool,\" Tipe : \",type(data_bool))\n",
    "print (\"data :\",data_int,\" Tipe : \",type(data_str))\n",
    "print (\"data :\",data_str,\" Tipe : \",type(data_str))\n"
   ]
  },
  {
   "cell_type": "code",
   "execution_count": 159,
   "metadata": {},
   "outputs": [
    {
     "name": "stdout",
     "output_type": "stream",
     "text": [
      "['B', 'e', 'l', 'a', 'j', 'a', 'r', ' ', 'P', 'y', 't', 'h', 'o', 'n', ' ', 'd', 'i', ' ', 'H', 'a', 'c', 't', 'i', 'v', '8', '.']\n",
      "('B', 'e', 'l', 'a', 'j', 'a', 'r', ' ', 'P', 'y', 't', 'h', 'o', 'n', ' ', 'd', 'i', ' ', 'H', 'a', 'c', 't', 'i', 'v', '8', '.')\n",
      "{'y', 'h', 'o', 't', 'a', 'e', ' ', 'P', 'r', 'd', 'v', 'n', 'B', 'j', 'l', '8', 'H', 'c', 'i', '.'}\n"
     ]
    }
   ],
   "source": [
    "text = \"Belajar Python di Hactiv8.\"\n",
    "\n",
    "print(list(text))\n",
    "print(tuple(text))\n",
    "print(set(text))"
   ]
  },
  {
   "cell_type": "markdown",
   "metadata": {},
   "source": [
    "### Git Today \n",
    "\n",
    "#### Install Git \n",
    "https://git-scm.com/download/win\n",
    "\n",
    "#### Register Github \n",
    "\n",
    "#### Push Code to Repository "
   ]
  },
  {
   "cell_type": "markdown",
   "metadata": {},
   "source": [
    "### TipsPY \n",
    "\n",
    "Tahukan kalian ada beberapa tools lain yang populer untuk membuat Notebook selain di Jupyter Notebook?\n",
    "\n",
    "1. Google Colab\n",
    "\n",
    "    Kalian dapat membuat Notebook di cloud dengan komputasi yang sangat baik dengan menggunakan Google Colab yang bisa diakses di alamat https://colab.research.google.com/ . File notebook yang kalian buat akan langsung masuk ke Google Drive kalian dan bisa pula langsung dikoneksikan dengan github!\n",
    "\n",
    "2. Visual Studio Code\n",
    "\n",
    "    Dengan VSCode, kalian dapat membuat dan bekerja dengan file notebook langsung di dalam kode editor ini. Tapi tetap pastikan kalau Jupyter server sudah terinstall di environment kalian ya.\n",
    "\n",
    "3. Amazon Sagemaker\n",
    "\n",
    "    Dengan AWS Sagemaker kita dapat membuat dan mengelola notebook Jupyter yang selanjutnya dapat digunakan untuk memproses data dan melatih dan menerapkan model ML lebih lanjut. Untuk pelatihan dan penerapan model, Sagemaker menyediakan API. Amazon SageMaker menyediakan konsol yang memungkinkan kita menggunakan konsol UI untuk memulai pelatihan model atau menerapkan model. Sagemaker memungkinkan integrasi model ML dengan mudah dalam aplikasi dan dapat diakses di https://aws.amazon.com/sagemaker/\n",
    "\n",
    "4. Azure Notebooks\n",
    "\n",
    "    Microsoft Azure sangat mirip dengan Colab dalam hal fungsionalitas. Kedua platform ini memiliki fungsionalitas berbagi cloud yang tersedia secara gratis. Azure Notebooks unggul dalam hal kecepatan dan jauh lebih baik daripada Colab dan dapat diakses di https://azure.microsoft.com/"
   ]
  },
  {
   "cell_type": "markdown",
   "metadata": {},
   "source": [
    "## Self Paced Learning: Memahami Jupyter Notebook \n",
    "\n",
    "### Memahami Jupyter Notebook\n",
    "\n",
    "\n",
    "Silahkan pelajari secara mandiri pembelajaran ini:\n",
    "\n",
    "https://www.kode.id/courses/memahami-jupyter-notebook\n",
    "\n",
    "Kemudian buat SUMMARY dari video pembelajaran tersebut max 2 lembar A4 dengan mencantumkan identitas berupa NAMA dan PROGRAM pada bagian POJOK KIRI ATAS review materi.\n",
    "\n",
    "Instruksi Pengumpulan:\n",
    "1. File dikumpulkan dalam format .pdf\n",
    "2. Format Judul File menggunakan [Nama Lengkap] - [Judul Pembelajaran].pdf (Contoh: Lutfi Dwimulya - Penerapan Materialize CSS)\n",
    "\n",
    "3. Review diupload ke Google Classroom"
   ]
  },
  {
   "cell_type": "markdown",
   "metadata": {},
   "source": [
    "### ....\n"
   ]
  },
  {
   "cell_type": "markdown",
   "metadata": {},
   "source": [
    "### Melakukan Comment Pada Python\n",
    "print(\"Ini adalah sebuah baris kode\") #ini adalah contoh comment dan tidak akan tercetak"
   ]
  },
  {
   "cell_type": "code",
   "execution_count": null,
   "metadata": {},
   "outputs": [],
   "source": [
    "print(\"Ini adalah sebuah baris kode\") #ini adalah contoh comment dan tidak akan tercetak"
   ]
  },
  {
   "cell_type": "markdown",
   "metadata": {},
   "source": [
    "#### tipe data squence "
   ]
  },
  {
   "cell_type": "code",
   "execution_count": 11,
   "metadata": {},
   "outputs": [
    {
     "data": {
      "text/plain": [
       "\"['Hello', 25]\""
      ]
     },
     "execution_count": 11,
     "metadata": {},
     "output_type": "execute_result"
    }
   ],
   "source": [
    "str(['Hello',25]) # ? "
   ]
  },
  {
   "cell_type": "code",
   "execution_count": 13,
   "metadata": {},
   "outputs": [
    {
     "data": {
      "text/plain": [
       "['P', 'y', 't', 'h', 'o', 'n']"
      ]
     },
     "execution_count": 13,
     "metadata": {},
     "output_type": "execute_result"
    }
   ],
   "source": [
    "# function list \n",
    "# Urutan bilangan dan teks yang diapit oleh kurung siku \n",
    "# dan masing-masing elemennya dipisahkan dengan koma.\n",
    "list(\"Python\") # "
   ]
  },
  {
   "cell_type": "code",
   "execution_count": 14,
   "metadata": {},
   "outputs": [
    {
     "data": {
      "text/plain": [
       "[3, 2, 3]"
      ]
     },
     "execution_count": 14,
     "metadata": {},
     "output_type": "execute_result"
    }
   ],
   "source": [
    "list((3, 2, 3)) "
   ]
  },
  {
   "cell_type": "code",
   "execution_count": 15,
   "metadata": {},
   "outputs": [
    {
     "data": {
      "text/plain": [
       "[0, 1, 2, 6]"
      ]
     },
     "execution_count": 15,
     "metadata": {},
     "output_type": "execute_result"
    }
   ],
   "source": [
    "list({1, 2, 0, 6}) "
   ]
  },
  {
   "cell_type": "code",
   "execution_count": 16,
   "metadata": {},
   "outputs": [
    {
     "data": {
      "text/plain": [
       "('h', 'a', 'c', 't', 'i', 'v', '8')"
      ]
     },
     "execution_count": 16,
     "metadata": {},
     "output_type": "execute_result"
    }
   ],
   "source": [
    "# tuple \n",
    "tuple(\"hactiv8\")"
   ]
  },
  {
   "cell_type": "code",
   "execution_count": 17,
   "metadata": {},
   "outputs": [
    {
     "data": {
      "text/plain": [
       "(3, 2, 1)"
      ]
     },
     "execution_count": 17,
     "metadata": {},
     "output_type": "execute_result"
    }
   ],
   "source": [
    "tuple((3, 2, 1)) "
   ]
  },
  {
   "cell_type": "code",
   "execution_count": 18,
   "metadata": {},
   "outputs": [
    {
     "data": {
      "text/plain": [
       "(1, 3, 6)"
      ]
     },
     "execution_count": 18,
     "metadata": {},
     "output_type": "execute_result"
    }
   ],
   "source": [
    "tuple({1, 3, 6, 3})"
   ]
  },
  {
   "cell_type": "code",
   "execution_count": 7,
   "metadata": {},
   "outputs": [
    {
     "name": "stdout",
     "output_type": "stream",
     "text": [
      "{'o', 'i', 'a', 'x', 'l', 'H'}\n"
     ]
    },
    {
     "data": {
      "text/plain": [
       "set"
      ]
     },
     "execution_count": 7,
     "metadata": {},
     "output_type": "execute_result"
    }
   ],
   "source": [
    "# set \n",
    "# Setiap elemennya bernilai unik\n",
    "a = set(\"xHHaalllooi\") \n",
    "print(a) \n",
    "type(a)"
   ]
  },
  {
   "cell_type": "code",
   "execution_count": null,
   "metadata": {},
   "outputs": [],
   "source": [
    "set((0,4,3,1, 2, 1))"
   ]
  },
  {
   "cell_type": "code",
   "execution_count": 94,
   "metadata": {},
   "outputs": [
    {
     "data": {
      "text/plain": [
       "{1, 3, 6}"
      ]
     },
     "execution_count": 94,
     "metadata": {},
     "output_type": "execute_result"
    }
   ],
   "source": [
    "set([1, 3, 6, 3]) "
   ]
  }
 ],
 "metadata": {
  "kernelspec": {
   "display_name": "Python 3.10.7 64-bit (microsoft store)",
   "language": "python",
   "name": "python3"
  },
  "language_info": {
   "codemirror_mode": {
    "name": "ipython",
    "version": 3
   },
   "file_extension": ".py",
   "mimetype": "text/x-python",
   "name": "python",
   "nbconvert_exporter": "python",
   "pygments_lexer": "ipython3",
   "version": "3.10.8"
  },
  "vscode": {
   "interpreter": {
    "hash": "3b7e9cb8e453d6cda0fe8c8dd13f891a1f09162f0e7c66ffeae7751a7aecf00d"
   }
  }
 },
 "nbformat": 4,
 "nbformat_minor": 4
}
