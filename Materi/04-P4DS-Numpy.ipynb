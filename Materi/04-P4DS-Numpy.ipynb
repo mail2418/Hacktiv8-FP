{
 "cells": [
  {
   "cell_type": "markdown",
   "id": "b8943e60",
   "metadata": {},
   "source": [
    "# Hacktiv8-PTP Python For Data Science // S.4 // Numpy"
   ]
  },
  {
   "cell_type": "markdown",
   "id": "39071c8d",
   "metadata": {},
   "source": [
    "\n",
    "    Numpy Intro \n",
    "    How to import NumPy\n",
    "    Why use NumPy?\n",
    "    Terminology\n",
    "    What is an array?\n",
    "    What are the attributes of an array?\n",
    "    What’s the difference between a Python list and a NumPy array?\n",
    "    \n",
    "         1. NumPy Initialization \n",
    "         2. Creating Ndarrays in NumPy\n",
    "         3. Add, Remove, and Sort\n",
    "         4. Multi-Dimensional Arrays\n",
    "         5. ndim , shape and size\n",
    "         6. Sorting Array\n",
    "         7. Reshape\n",
    "         8. Convert 1D to 2D\n",
    "         9. Indexing and Slicing\n",
    "         10. Creating Array from Existing Data  \n",
    "         11. Copying\n",
    "         12. Basic array Operation\n",
    "         13. Broadcasting \n",
    "         14. More Array Operations\n",
    "         15. Save Array into file\n",
    "         16. Latihan Studi Kasus\n",
    "         17. Matrices \n",
    "               Create Matrices \n",
    "               Matrix Aritmetic \n",
    "               Dot Product \n",
    "               Matrix Indexing \n",
    "               Matrix Aggregation \n",
    "               Transposing and Reshaping \n",
    "               N-Dimensional Array \n",
    "               Flatten N-Dimensional Array \n",
    "         Working with math Formulas \n",
    "         \n",
    " \n",
    " Absen : \n",
    "       \n",
    "       \n",
    "       "
   ]
  },
  {
   "cell_type": "code",
   "execution_count": null,
   "id": "25a14f1d",
   "metadata": {},
   "outputs": [],
   "source": []
  },
  {
   "cell_type": "markdown",
   "id": "5075fc62",
   "metadata": {},
   "source": [
    "## Numpy Introduction\n",
    "\n",
    "    NumPy (Python Numerik) adalah ekstensi open source dari Python Numerical komputasi. \n",
    "    Alat ini dapat digunakan untuk menyimpan dan memproses matriks besar. \n",
    "    Numpy jauh lebih efisien daripada struktur nested list Python sendiri. \n",
    "    Ini mendukung operasi array dan matriks beberapa dimensi. \n",
    "    Selain itu juga menyediakan sejumlah besar perpustakaan matematika untuk operasi array \n",
    "    Dan digunakan di hampir setiap bidang sains dan teknik. \n",
    "    \n",
    "    NumPy dari tahun 2005 dan membentuk semacam kode sumber terbuka dan dipelihara \n",
    "    dan dikembangkan oleh banyak kolaborator bersama-sama.\n",
    "\n",
    "    NumPy API digunakan secara luas di Pandas, SciPy, Matplotlib, scikit-learn, scikit-image \n",
    "    dan sebagian besar paket ilmu data dan Python ilmiah lainnya.\n",
    "\n",
    "    Pustaka NumPy berisi array multidimensi dan struktur data matriks (Anda akan menemukan informasi lebih \n",
    "    lanjut tentang ini di bagian selanjutnya). Ini menyediakan ndarray, objek array n-dimensi homogen, \n",
    "    dengan metode untuk beroperasi secara efisien di atasnya. NumPy dapat digunakan untuk melakukan \n",
    "    berbagai macam operasi matematika pada array. Itu menambahkan struktur data yang kuat ke Python \n",
    "    yang menjamin perhitungan yang efisien dengan array dan matriks dan itu memasok perpustakaan \n",
    "    besar fungsi matematika tingkat tinggi yang beroperasi pada array dan matriks ini."
   ]
  },
  {
   "cell_type": "markdown",
   "id": "06af2ccb",
   "metadata": {},
   "source": [
    "\n",
    "<img src=\"https://i.ibb.co/HK3pbdm/numpy-base.webp\" align=\"center\">\n",
    "\n",
    "<br>\n",
    "\n",
    "sumber : Harris, C.R., Millman, K.J., van der Walt, S.J. et al. Array programming with NumPy. Nature 585, 357–362 (2020). https://doi.org/10.1038/s41586-020-2649-2 \n"
   ]
  },
  {
   "cell_type": "markdown",
   "id": "57c195bd",
   "metadata": {},
   "source": []
  },
  {
   "cell_type": "markdown",
   "id": "610279fd",
   "metadata": {},
   "source": [
    "#### Installing NumPy\n",
    "\n",
    "If you already have Python, you can install NumPy with:\n",
    "\n",
    "conda install numpy\n",
    "\n",
    "or\n",
    "\n",
    "pip install numpy\n",
    "\n",
    "\n",
    "!pip install numpy "
   ]
  },
  {
   "cell_type": "code",
   "execution_count": 140,
   "id": "7ff98c66",
   "metadata": {},
   "outputs": [
    {
     "name": "stdout",
     "output_type": "stream",
     "text": [
      "Requirement already satisfied: numpy in ./env_pytn071/lib/python3.9/site-packages (1.22.0)\n",
      "\u001b[33mWARNING: You are using pip version 21.3.1; however, version 22.2.2 is available.\n",
      "You should consider upgrading via the '/Users/iketutg/MyKetut/workspace_python/__H8-PYTN071/env_pytn071/bin/python -m pip install --upgrade pip' command.\u001b[0m\n",
      "Note: you may need to restart the kernel to use updated packages.\n"
     ]
    }
   ],
   "source": [
    "pip install numpy "
   ]
  },
  {
   "cell_type": "code",
   "execution_count": 60,
   "id": "9fc679aa",
   "metadata": {},
   "outputs": [
    {
     "data": {
      "text/plain": [
       "'1.22.0'"
      ]
     },
     "execution_count": 60,
     "metadata": {},
     "output_type": "execute_result"
    }
   ],
   "source": [
    "import numpy as np \n",
    "np.__version__"
   ]
  },
  {
   "cell_type": "markdown",
   "id": "be9a240a",
   "metadata": {},
   "source": [
    "#### How to import NumPy\n",
    "\n",
    "Setiap kali Anda ingin menggunakan paket atau pustaka dalam kode Anda, Anda harus membuatnya dapat diakses terlebih dahulu.\n",
    "\n",
    "Untuk mulai menggunakan NumPy dan semua fungsi yang tersedia di NumPy, Anda harus mengimpornya. Ini dapat dengan mudah dilakukan dengan pernyataan impor ini:\n",
    "\n",
    "import numpy as np\n",
    "\n",
    "(Kami mempersingkat \"numpy\" menjadi \"np\" untuk menghemat waktu dan juga untuk menjaga standarisasi kode sehingga siapa pun yang bekerja dengan kode Anda dapat dengan mudah memahami dan menjalankannya.)"
   ]
  },
  {
   "cell_type": "markdown",
   "id": "6c68d7ea",
   "metadata": {},
   "source": [
    "#### Why use NumPy?\n",
    "\n",
    "    Array NumPy lebih cepat dan lebih ringkas daripada list Python. Sebuah array mengkonsumsi lebih \n",
    "    sedikit memori dan jauh lebih nyaman untuk digunakan. NumPy menggunakan lebih sedikit memori \n",
    "    untuk menyimpan data dan menyediakan mekanisme untuk menentukan tipe data, \n",
    "    yang memungkinkan kode untuk dioptimalkan lebih jauh.\n",
    "    \n",
    "    Numpy adalah library aljabar linear untuk python "
   ]
  },
  {
   "cell_type": "code",
   "execution_count": 61,
   "id": "ab7ef90a",
   "metadata": {},
   "outputs": [
    {
     "data": {
      "text/plain": [
       "[0, 1, 2, 3, 4, 5, 6, 7, 8, 9]"
      ]
     },
     "execution_count": 61,
     "metadata": {},
     "output_type": "execute_result"
    }
   ],
   "source": [
    "b = list(range(10)) ##\n",
    "b\n"
   ]
  },
  {
   "cell_type": "code",
   "execution_count": 141,
   "id": "d6f4fff5",
   "metadata": {},
   "outputs": [],
   "source": [
    "## Adding Vector menggunakan pure python without numpy \n",
    "def pythonsum(n):\n",
    "    a = b = list(range(n)) ## range returns a lazy sequence object - it does not return a list\n",
    "    c = [] # out put \n",
    "    for i in range(len(a)):\n",
    "        x = a[i] ** 2 \n",
    "        y = b[i] ** 3 \n",
    "        c.append(x + y )\n",
    "    return c \n",
    "\n",
    "c = pythonsum(10)    \n",
    "print(c)"
   ]
  },
  {
   "cell_type": "code",
   "execution_count": 143,
   "id": "8fea52b8",
   "metadata": {},
   "outputs": [],
   "source": [
    "## Adding Vector menggunakan pure python with numpy \n",
    "def numpysum(n):\n",
    "    a = np.arange(n) ** 2 \n",
    "    b = np.arange(n) ** 3 \n",
    "    c=a+ b \n",
    "    return c\n"
   ]
  },
  {
   "cell_type": "code",
   "execution_count": 144,
   "id": "a63c6f0c",
   "metadata": {},
   "outputs": [
    {
     "name": "stdout",
     "output_type": "stream",
     "text": [
      "[  0   2  12  36  80 150 252 392 576 810]\n"
     ]
    }
   ],
   "source": [
    "x = numpysum(10) \n",
    "print(x)\n"
   ]
  },
  {
   "cell_type": "code",
   "execution_count": 148,
   "id": "1b0ba180",
   "metadata": {},
   "outputs": [
    {
     "name": "stdout",
     "output_type": "stream",
     "text": [
      "The last 2 elements of the sum [950796, 980100]\n",
      "PythonSum elapsed time in microseconds 441\n"
     ]
    }
   ],
   "source": [
    "## membandingkan kecepatan antara numpy dg List core python \n",
    "from datetime import datetime\n",
    "size = 100\n",
    "start = datetime.now()\n",
    "c = pythonsum(size)\n",
    "delta = datetime.now() - start\n",
    "print(\"The last 2 elements of the sum\", c[-2:])\n",
    "print(\"PythonSum elapsed time in microseconds\", delta.microseconds)"
   ]
  },
  {
   "cell_type": "code",
   "execution_count": 147,
   "id": "61d46051",
   "metadata": {},
   "outputs": [
    {
     "name": "stdout",
     "output_type": "stream",
     "text": [
      "The last 2 elements of the sum [950796 980100]\n",
      "NumPySum elapsed time in microseconds 122\n"
     ]
    }
   ],
   "source": [
    "start = datetime.now()\n",
    "c = numpysum(size)\n",
    "delta = datetime.now() - start\n",
    "print(\"The last 2 elements of the sum\", c[-2:])\n",
    "print(\"NumPySum elapsed time in microseconds\", delta.microseconds)"
   ]
  },
  {
   "cell_type": "markdown",
   "id": "17a0ac78",
   "metadata": {},
   "source": [
    "#### Terminology\n",
    "   ##### What is an array?\n",
    "    \n",
    "       Array adalah struktur data pusat dari library NumPy. Ini adalah kisi nilai dan berisi informasi tentang data mentah, cara menemukan elemen, dan cara menafsirkan elemen. Ini memiliki kisi elemen yang dapat diindeks \n",
    "       dengan berbagai cara. Semua elemen memiliki tipe yang sama, disebut sebagai tipe array d (tipe data).\n",
    "    \n",
    "    Array dapat diindeks oleh tupel bilangan bulat non-negatif, dengan boolean, oleh array lain, atau dengan bilangan bulat. Rank dari array adalah jumlah dimensi. Bentuk array adalah tupel bilangan bulat yang memberikan ukuran array sepanjang setiap dimensi.\n",
    "\n",
    "    Salah satu cara kita dapat menginisialisasi array NumPy adalah dari daftar Python bersarang.\n",
    "\n",
    "    a = np.array([[1 , 2, 3, 4], [5, 6, 7, 8], [9, 10, 11, 12]])\n",
    "\n",
    "    Kita dapat mengakses elemen dalam array menggunakan tanda kurung siku. Saat Anda mengakses elemen, ingatlah bahwa pengindeksan di NumPy dimulai dari 0. Artinya, jika Anda ingin mengakses elemen pertama dalam array, Anda akan mengakses elemen “0”.\n",
    "\n",
    "        print(a[0])\n",
    "\n",
    "    Keluaran:\n",
    "\n",
    "        [1 2 3 4]\n",
    "\n",
    "    Informasi lebih lanjut tentang array\n",
    "\n",
    "    array 1D, array 2D, ndarray, vektor, matriks\n",
    "\n",
    "    Anda mungkin kadang-kadang mendengar array yang disebut sebagai \"ndarray,\" yang merupakan singkatan dari \n",
    "    \"array N-dimensi.\" Array N-dimensi hanyalah sebuah array dengan sejumlah dimensi. Anda mungkin juga \n",
    "    mendengar 1-D, atau array satu dimensi, 2-D, atau larik dua dimensi, dan seterusnya. \n",
    "    \n",
    "    \n",
    "    * Kelas NumPy ndarray digunakan untuk mewakili matriks dan vektor. \n",
    "    * Vektor adalah array dengan satu kolom. \n",
    "    * sedangkan matriks  mengacu pada array dengan banyak kolom."
   ]
  },
  {
   "cell_type": "markdown",
   "id": "61a2c7c4",
   "metadata": {},
   "source": [
    "#### What are the attributes of an array?\n",
    "\n",
    "     Array biasanya merupakan wadah berukuran tetap dari item dengan jenis \n",
    "     dan ukuran yang sama. Jumlah dimensi dan item dalam array ditentukan oleh bentuknya. \n",
    "     Bentuk array adalah tupel bilangan bulat non-negatif yang menentukan \n",
    "     ukuran setiap dimensi.\n",
    "\n",
    "    Di NumPy, dimensi disebut sumbu. Ini berarti jika Anda memiliki array 2D yang terlihat seperti ini:\n",
    "\n",
    "[[0., 0., 0.],\n",
    "  [1., 1., 1.]]\n",
    "\n",
    "    Array Anda memiliki 2 sumbu. Sumbu pertama memiliki panjang 2 dan sumbu kedua memiliki panjang 3.\n",
    "\n",
    "    Sama seperti objek kontainer Python lainnya, isi array dapat diakses dan dimodifikasi dengan mengindeks atau mengiris array. Array yang berbeda dapat berbagi data yang sama, sehingga perubahan yang dibuat pada satu array mungkin terlihat di array lain.\n",
    "\n",
    "    Atribut array mencerminkan informasi intrinsik ke array itu sendiri. Jika Anda perlu mendapatkan, atau bahkan mengatur, properti array tanpa membuat array baru, Anda sering dapat mengakses array melalui atributnya.\n",
    "\n"
   ]
  },
  {
   "cell_type": "markdown",
   "id": "d2096f98",
   "metadata": {},
   "source": [
    "##### What’s the difference between a Python list and a NumPy array?\n",
    "\n",
    "       NumPy memberi Anda sejumlah besar opsi terkait numerik yang cepat dan efisien. \n",
    "       Meskipun list Python dapat berisi tipe data yang berbeda dalam satu list, \n",
    "       semua elemen dalam array NumPy harus tipe data yang sama (Jika int harus integer , \n",
    "       jika string maka harus string semua data). \n",
    "       Operasi matematika yang dimaksudkan untuk dilakukan pada array \n",
    "       tidak akan mungkin jika array tidak homogen."
   ]
  },
  {
   "cell_type": "markdown",
   "id": "42812cca",
   "metadata": {},
   "source": [
    "### NumPy Basic"
   ]
  },
  {
   "cell_type": "markdown",
   "id": "fdbd5f56",
   "metadata": {},
   "source": [
    "#### NumPy Initialization "
   ]
  },
  {
   "cell_type": "code",
   "execution_count": 149,
   "id": "6a6c7f77",
   "metadata": {},
   "outputs": [],
   "source": [
    "import numpy "
   ]
  },
  {
   "cell_type": "code",
   "execution_count": 150,
   "id": "704ffb66",
   "metadata": {},
   "outputs": [
    {
     "data": {
      "text/plain": [
       "array([1, 2, 3])"
      ]
     },
     "execution_count": 150,
     "metadata": {},
     "output_type": "execute_result"
    }
   ],
   "source": [
    "numpy.array([1,2,3])"
   ]
  },
  {
   "cell_type": "code",
   "execution_count": 70,
   "id": "acdc035e",
   "metadata": {},
   "outputs": [],
   "source": [
    "# contoh import menggunakan asterik all \n",
    "from numpy import * "
   ]
  },
  {
   "cell_type": "code",
   "execution_count": 71,
   "id": "8b354834",
   "metadata": {},
   "outputs": [
    {
     "data": {
      "text/plain": [
       "array([1, 2, 3])"
      ]
     },
     "execution_count": 71,
     "metadata": {},
     "output_type": "execute_result"
    }
   ],
   "source": [
    "array([1,2,3])"
   ]
  },
  {
   "cell_type": "code",
   "execution_count": 151,
   "id": "bebb6c59",
   "metadata": {},
   "outputs": [
    {
     "data": {
      "text/plain": [
       "array([1, 2, 3])"
      ]
     },
     "execution_count": 151,
     "metadata": {},
     "output_type": "execute_result"
    }
   ],
   "source": [
    "# contoh menyingkan librany numpy sebagai np \n",
    "import numpy as np \n",
    "np.array([1,2,3])"
   ]
  },
  {
   "cell_type": "code",
   "execution_count": 73,
   "id": "2f0b16ec",
   "metadata": {},
   "outputs": [
    {
     "data": {
      "text/plain": [
       "'1.22.0'"
      ]
     },
     "execution_count": 73,
     "metadata": {},
     "output_type": "execute_result"
    }
   ],
   "source": [
    "np.__version__  ## pengecekan version dari numpy "
   ]
  },
  {
   "cell_type": "code",
   "execution_count": 74,
   "id": "83ada950",
   "metadata": {},
   "outputs": [
    {
     "name": "stdout",
     "output_type": "stream",
     "text": [
      "\n",
      "NumPy\n",
      "=====\n",
      "\n",
      "Provides\n",
      "  1. An array object of arbitrary homogeneous items\n",
      "  2. Fast mathematical operations over arrays\n",
      "  3. Linear Algebra, Fourier Transforms, Random Number Generation\n",
      "\n",
      "How to use the documentation\n",
      "----------------------------\n",
      "Documentation is available in two forms: docstrings provided\n",
      "with the code, and a loose standing reference guide, available from\n",
      "`the NumPy homepage <https://www.scipy.org>`_.\n",
      "\n",
      "We recommend exploring the docstrings using\n",
      "`IPython <https://ipython.org>`_, an advanced Python shell with\n",
      "TAB-completion and introspection capabilities.  See below for further\n",
      "instructions.\n",
      "\n",
      "The docstring examples assume that `numpy` has been imported as `np`::\n",
      "\n",
      "  >>> import numpy as np\n",
      "\n",
      "Code snippets are indicated by three greater-than signs::\n",
      "\n",
      "  >>> x = 42\n",
      "  >>> x = x + 1\n",
      "\n",
      "Use the built-in ``help`` function to view a function's docstring::\n",
      "\n",
      "  >>> help(np.sort)\n",
      "  ... # doctest: +SKIP\n",
      "\n",
      "For some objects, ``np.info(obj)`` may provide additional help.  This is\n",
      "particularly true if you see the line \"Help on ufunc object:\" at the top\n",
      "of the help() page.  Ufuncs are implemented in C, not Python, for speed.\n",
      "The native Python help() does not know how to view their help, but our\n",
      "np.info() function does.\n",
      "\n",
      "To search for documents containing a keyword, do::\n",
      "\n",
      "  >>> np.lookfor('keyword')\n",
      "  ... # doctest: +SKIP\n",
      "\n",
      "General-purpose documents like a glossary and help on the basic concepts\n",
      "of numpy are available under the ``doc`` sub-module::\n",
      "\n",
      "  >>> from numpy import doc\n",
      "  >>> help(doc)\n",
      "  ... # doctest: +SKIP\n",
      "\n",
      "Available subpackages\n",
      "---------------------\n",
      "doc\n",
      "    Topical documentation on broadcasting, indexing, etc.\n",
      "lib\n",
      "    Basic functions used by several sub-packages.\n",
      "random\n",
      "    Core Random Tools\n",
      "linalg\n",
      "    Core Linear Algebra Tools\n",
      "fft\n",
      "    Core FFT routines\n",
      "polynomial\n",
      "    Polynomial tools\n",
      "testing\n",
      "    NumPy testing tools\n",
      "f2py\n",
      "    Fortran to Python Interface Generator.\n",
      "distutils\n",
      "    Enhancements to distutils with support for\n",
      "    Fortran compilers support and more.\n",
      "\n",
      "Utilities\n",
      "---------\n",
      "test\n",
      "    Run numpy unittests\n",
      "show_config\n",
      "    Show numpy build configuration\n",
      "dual\n",
      "    Overwrite certain functions with high-performance SciPy tools.\n",
      "    Note: `numpy.dual` is deprecated.  Use the functions from NumPy or Scipy\n",
      "    directly instead of importing them from `numpy.dual`.\n",
      "matlib\n",
      "    Make everything matrices.\n",
      "__version__\n",
      "    NumPy version string\n",
      "\n",
      "Viewing documentation using IPython\n",
      "-----------------------------------\n",
      "Start IPython with the NumPy profile (``ipython -p numpy``), which will\n",
      "import `numpy` under the alias `np`.  Then, use the ``cpaste`` command to\n",
      "paste examples into the shell.  To see which functions are available in\n",
      "`numpy`, type ``np.<TAB>`` (where ``<TAB>`` refers to the TAB key), or use\n",
      "``np.*cos*?<ENTER>`` (where ``<ENTER>`` refers to the ENTER key) to narrow\n",
      "down the list.  To view the docstring for a function, use\n",
      "``np.cos?<ENTER>`` (to view the docstring) and ``np.cos??<ENTER>`` (to view\n",
      "the source code).\n",
      "\n",
      "Copies vs. in-place operation\n",
      "-----------------------------\n",
      "Most of the functions in `numpy` return a copy of the array argument\n",
      "(e.g., `np.sort`).  In-place versions of these functions are often\n",
      "available as array methods, i.e. ``x = np.array([1,2,3]); x.sort()``.\n",
      "Exceptions to this rule are documented.\n",
      "\n",
      "\n"
     ]
    }
   ],
   "source": [
    "print(np.__doc__)  ## melihat dari doc string modul / libray numpy "
   ]
  },
  {
   "cell_type": "code",
   "execution_count": 158,
   "id": "f37c5b55",
   "metadata": {},
   "outputs": [],
   "source": [
    "array1 = np.arange(100)"
   ]
  },
  {
   "cell_type": "code",
   "execution_count": 160,
   "id": "bcfbd52e",
   "metadata": {},
   "outputs": [],
   "source": [
    "np.set_printoptions(threshold=500) #sys.maxsize\n"
   ]
  },
  {
   "cell_type": "code",
   "execution_count": 153,
   "id": "a11664bc",
   "metadata": {},
   "outputs": [],
   "source": [
    "array2 = list(range(100)) "
   ]
  },
  {
   "cell_type": "code",
   "execution_count": 159,
   "id": "317faf4a",
   "metadata": {},
   "outputs": [
    {
     "name": "stdout",
     "output_type": "stream",
     "text": [
      "[ 0  1  2 ... 97 98 99]\n"
     ]
    }
   ],
   "source": [
    "print(array1)"
   ]
  },
  {
   "cell_type": "code",
   "execution_count": 155,
   "id": "ea6a2b1f",
   "metadata": {},
   "outputs": [
    {
     "name": "stdout",
     "output_type": "stream",
     "text": [
      "[0, 1, 2, 3, 4, 5, 6, 7, 8, 9, 10, 11, 12, 13, 14, 15, 16, 17, 18, 19, 20, 21, 22, 23, 24, 25, 26, 27, 28, 29, 30, 31, 32, 33, 34, 35, 36, 37, 38, 39, 40, 41, 42, 43, 44, 45, 46, 47, 48, 49, 50, 51, 52, 53, 54, 55, 56, 57, 58, 59, 60, 61, 62, 63, 64, 65, 66, 67, 68, 69, 70, 71, 72, 73, 74, 75, 76, 77, 78, 79, 80, 81, 82, 83, 84, 85, 86, 87, 88, 89, 90, 91, 92, 93, 94, 95, 96, 97, 98, 99]\n"
     ]
    }
   ],
   "source": [
    "print(array2)"
   ]
  },
  {
   "cell_type": "code",
   "execution_count": 79,
   "id": "fb1cdff4",
   "metadata": {},
   "outputs": [],
   "source": []
  },
  {
   "cell_type": "markdown",
   "id": "8d6894c6",
   "metadata": {},
   "source": [
    "____"
   ]
  },
  {
   "cell_type": "markdown",
   "id": "720998de",
   "metadata": {},
   "source": [
    "#### Create An Ndarrays"
   ]
  },
  {
   "cell_type": "code",
   "execution_count": 161,
   "id": "ffbb86bb",
   "metadata": {},
   "outputs": [],
   "source": [
    "import numpy as np"
   ]
  },
  {
   "cell_type": "code",
   "execution_count": 162,
   "id": "3abfff00",
   "metadata": {},
   "outputs": [
    {
     "name": "stdout",
     "output_type": "stream",
     "text": [
      "<class 'list'>\n"
     ]
    }
   ],
   "source": [
    "# membuat list \n",
    "my_list = list(range(5))\n",
    "my_list\n",
    "print(type(my_list))\n"
   ]
  },
  {
   "cell_type": "code",
   "execution_count": 163,
   "id": "8467e28b",
   "metadata": {},
   "outputs": [
    {
     "name": "stdout",
     "output_type": "stream",
     "text": [
      "<class 'numpy.ndarray'>\n"
     ]
    },
    {
     "data": {
      "text/plain": [
       "array([0, 1, 2, 3, 4])"
      ]
     },
     "execution_count": 163,
     "metadata": {},
     "output_type": "execute_result"
    }
   ],
   "source": [
    "array_1 = np.array(my_list)\n",
    "print(type(array_1))\n",
    "array_1\n"
   ]
  },
  {
   "cell_type": "code",
   "execution_count": 83,
   "id": "0996f6b8",
   "metadata": {},
   "outputs": [
    {
     "name": "stdout",
     "output_type": "stream",
     "text": [
      "array1 :\n",
      " [0 1 2 3 4]\n"
     ]
    }
   ],
   "source": [
    "print(\"array1 :\\n\",array_1)"
   ]
  },
  {
   "cell_type": "markdown",
   "id": "bd80d3cc",
   "metadata": {},
   "source": [
    "---------"
   ]
  },
  {
   "cell_type": "code",
   "execution_count": 164,
   "id": "fdf5da68",
   "metadata": {},
   "outputs": [
    {
     "name": "stdout",
     "output_type": "stream",
     "text": [
      "[0 1 2 3]\n",
      "[1 2 3 4 5 6 7 8 9]\n",
      "[2 4 6 8]\n"
     ]
    }
   ],
   "source": [
    "# You can create an array with a range of elements\n",
    "print(np.arange(4)) # start default = 0 , stop=4 , step default =1  \n",
    "print(np.arange(1,10)) # start, stop , step default = 1 \n",
    "print(np.arange(2,10,2)) # start 0 , Stop = 10 , step =2 "
   ]
  },
  {
   "cell_type": "markdown",
   "id": "10b08000",
   "metadata": {},
   "source": [
    "Apa yang dilakukan **arange([start],stop,[step])** adalah mengatur angka dari awal hingga berhenti, dalam langkah langkah. Inilah artinya untuk np.arange(0,10,2):\n",
    "\n",
    "kembalikan daftar np mulai dari 0 hingga 10 tetapi jangan sertakan 10 dan tambahkan angka 2 setiap kali.\n",
    "\n",
    "hal penting yang perlu diingat di sini adalah bahwa nomor pemberhentian tidak akan dimasukkan dalam daftar. contoh lain:\n",
    "\n",
    "np.arange(2,29,5)\n",
    "\n",
    " array([ 2,  7, 12, 17, 22, 27])"
   ]
  },
  {
   "cell_type": "code",
   "execution_count": 165,
   "id": "06de6a74",
   "metadata": {},
   "outputs": [
    {
     "name": "stdout",
     "output_type": "stream",
     "text": [
      "[ 2  7 12 17 22 27]\n"
     ]
    }
   ],
   "source": [
    "print(np.arange(2,29,5))"
   ]
  },
  {
   "cell_type": "markdown",
   "id": "f32ce428",
   "metadata": {},
   "source": [
    "_____"
   ]
  },
  {
   "cell_type": "markdown",
   "id": "3de372cf",
   "metadata": {},
   "source": [
    "#### Add, Remove, and Sort\n",
    "   \n",
    "* np.append()\n",
    "* np.delete()\n",
    "* np.sort()\n",
    "\n",
    "Contoh ; \n",
    "\n",
    "arr = np.array([1, 2, 3, 4, 5, 6, 7, 8])\n",
    "\n",
    "Anda dapat menambahkan elemen ke array Anda kapan saja dengan np.append(). Pastikan untuk menentukan array dan elemen yang ingin Anda sertakan."
   ]
  },
  {
   "cell_type": "code",
   "execution_count": 166,
   "id": "c073338e",
   "metadata": {},
   "outputs": [
    {
     "name": "stdout",
     "output_type": "stream",
     "text": [
      "[1 2 3 4 5 6 7 8]\n"
     ]
    }
   ],
   "source": [
    "arr = np.array([1, 2, 3, 4, 5, 6, 7, 8])\n",
    "print(arr)"
   ]
  },
  {
   "cell_type": "code",
   "execution_count": 167,
   "id": "1c4f3fb8",
   "metadata": {},
   "outputs": [
    {
     "name": "stdout",
     "output_type": "stream",
     "text": [
      "[ 1  2  3  4  5  6  7  8  9 10]\n"
     ]
    }
   ],
   "source": [
    "arr = np.append(arr, [9,10])\n",
    "print(arr)"
   ]
  },
  {
   "cell_type": "code",
   "execution_count": 168,
   "id": "dbffcd5c",
   "metadata": {},
   "outputs": [
    {
     "data": {
      "text/plain": [
       "array([ 1,  3,  4,  5,  6,  7,  8,  9, 10])"
      ]
     },
     "execution_count": 168,
     "metadata": {},
     "output_type": "execute_result"
    }
   ],
   "source": [
    "# menghapus index 1 \n",
    "np.delete(arr, 1)"
   ]
  },
  {
   "cell_type": "markdown",
   "id": "9739794f",
   "metadata": {},
   "source": [
    "     Mengurutkan elemen sederhana dengan np.sort(). Anda dapat menentukan axis, jenis, dan urutan saat Anda memanggil fungsi.\n",
    "     \n",
    "     np.sort(a, axis=-1, kind=None, order=None)\n",
    "\n",
    "kita mulai dengan sederhana dengan memangil np.sort()"
   ]
  },
  {
   "cell_type": "code",
   "execution_count": 169,
   "id": "2cb2b373",
   "metadata": {},
   "outputs": [],
   "source": [
    "arrsort = np.array([2, 1, 5, 3, 7, 4, 6, 8]) "
   ]
  },
  {
   "cell_type": "code",
   "execution_count": 170,
   "id": "20104645",
   "metadata": {},
   "outputs": [
    {
     "name": "stdout",
     "output_type": "stream",
     "text": [
      "[1 2 3 4 5 6 7 8]\n"
     ]
    }
   ],
   "source": [
    "data = np.sort(arrsort)\n",
    "print(data)"
   ]
  },
  {
   "cell_type": "code",
   "execution_count": 91,
   "id": "58928a3d",
   "metadata": {},
   "outputs": [
    {
     "name": "stdout",
     "output_type": "stream",
     "text": [
      "[2 1 5 3 7 4 6 8]\n"
     ]
    }
   ],
   "source": [
    "print(arrsort)"
   ]
  },
  {
   "cell_type": "markdown",
   "id": "042e382b",
   "metadata": {},
   "source": [
    "-------"
   ]
  },
  {
   "cell_type": "markdown",
   "id": "96b83a12",
   "metadata": {},
   "source": [
    "### Multi-Dimensional Arrays\n",
    "    NumPy array memudahkan kita untuk membuat array multi-dimensi."
   ]
  },
  {
   "cell_type": "markdown",
   "id": "6611c7d4",
   "metadata": {},
   "source": [
    "<img src=\"https://i.ibb.co/dDQnK4S/2DArray.png\" align=\"center\">\n"
   ]
  },
  {
   "cell_type": "code",
   "execution_count": 171,
   "id": "588f291d",
   "metadata": {},
   "outputs": [
    {
     "name": "stdout",
     "output_type": "stream",
     "text": [
      "<class 'list'>\n"
     ]
    },
    {
     "data": {
      "text/plain": [
       "[[0, 1, 2, 3], [10, 11, 12, 13]]"
      ]
     },
     "execution_count": 171,
     "metadata": {},
     "output_type": "execute_result"
    }
   ],
   "source": [
    "import numpy as np \n",
    "multi_list = [[0, 1, 2, 3], [10, 11, 12,13]]\n",
    "print(type(multi_list))\n",
    "multi_list"
   ]
  },
  {
   "cell_type": "code",
   "execution_count": 172,
   "id": "8b66d8ad",
   "metadata": {},
   "outputs": [
    {
     "name": "stdout",
     "output_type": "stream",
     "text": [
      "<class 'numpy.ndarray'>\n",
      "2\n"
     ]
    },
    {
     "data": {
      "text/plain": [
       "(2, 4)"
      ]
     },
     "execution_count": 172,
     "metadata": {},
     "output_type": "execute_result"
    }
   ],
   "source": [
    "a = np.array(multi_list)\n",
    "print(type(a))\n",
    "print(a.ndim)\n",
    "a.shape"
   ]
  },
  {
   "cell_type": "markdown",
   "id": "fe46221e",
   "metadata": {},
   "source": [
    "#### ndim , shape and size"
   ]
  },
  {
   "cell_type": "code",
   "execution_count": 94,
   "id": "f2f8950e",
   "metadata": {},
   "outputs": [],
   "source": [
    "### sebelum 2 dimensi kita lakukan 1 dimensi"
   ]
  },
  {
   "cell_type": "code",
   "execution_count": 173,
   "id": "59955e9b",
   "metadata": {},
   "outputs": [
    {
     "name": "stdout",
     "output_type": "stream",
     "text": [
      "[2 1 5 3 7 4 6 8]\n"
     ]
    }
   ],
   "source": [
    "arr_1 = np.array([2, 1, 5, 3, 7, 4, 6, 8])  # 1 dimensi\n",
    "print(arr_1)"
   ]
  },
  {
   "cell_type": "code",
   "execution_count": 174,
   "id": "9c7a252e",
   "metadata": {},
   "outputs": [
    {
     "data": {
      "text/plain": [
       "1"
      ]
     },
     "execution_count": 174,
     "metadata": {},
     "output_type": "execute_result"
    }
   ],
   "source": [
    "arr_1.ndim # Untuk mengetahui jumlah dimensi pada data menggunakan fungsi ndim."
   ]
  },
  {
   "cell_type": "code",
   "execution_count": 175,
   "id": "83d0e50c",
   "metadata": {},
   "outputs": [
    {
     "data": {
      "text/plain": [
       "(8,)"
      ]
     },
     "execution_count": 175,
     "metadata": {},
     "output_type": "execute_result"
    }
   ],
   "source": [
    "arr_1.shape # Array a memiliki shape ...5, yaitu panjang array pada 1-dimensi array."
   ]
  },
  {
   "cell_type": "code",
   "execution_count": 176,
   "id": "14bbafaf",
   "metadata": {},
   "outputs": [
    {
     "data": {
      "text/plain": [
       "8"
      ]
     },
     "execution_count": 176,
     "metadata": {},
     "output_type": "execute_result"
    }
   ],
   "source": [
    "arr_1.size"
   ]
  },
  {
   "cell_type": "markdown",
   "id": "da8eb284",
   "metadata": {},
   "source": [
    "  ndarray.ndim akan memberi tahu Anda jumlah sumbu, atau dimensi, dari array.\n",
    "\n",
    "  ndarray.size akan memberi tahu Anda jumlah total elemen array. Ini adalah produk dari elemen bentuk array.\n",
    "\n",
    "  ndarray.shape akan menampilkan tupel bilangan bulat yang menunjukkan jumlah elemen yang disimpan di sepanjang setiap dimensi array. Jika, misalnya, Anda memiliki array 2D dengan 2 baris dan 3 kolom, bentuk array Anda adalah (2,3)."
   ]
  },
  {
   "cell_type": "markdown",
   "id": "0605bd8b",
   "metadata": {},
   "source": [
    " *Fungsi shape pada array multi-dimensi menghasilkan tuple berisikan \n",
    "     **(jumlah baris, jumlah kolom)** .* "
   ]
  },
  {
   "cell_type": "markdown",
   "id": "e1266a7b",
   "metadata": {},
   "source": [
    "<img src=\"https://i.ibb.co/LRLN7ZP/shape.png\" align=\"center\">"
   ]
  },
  {
   "cell_type": "code",
   "execution_count": 177,
   "id": "3dd406f3",
   "metadata": {},
   "outputs": [
    {
     "name": "stdout",
     "output_type": "stream",
     "text": [
      "[[ 0  1  2  3]\n",
      " [10 11 12 13]]\n"
     ]
    }
   ],
   "source": [
    "print(a)"
   ]
  },
  {
   "cell_type": "code",
   "execution_count": 178,
   "id": "4fdf95e2",
   "metadata": {},
   "outputs": [
    {
     "data": {
      "text/plain": [
       "(2, 4)"
      ]
     },
     "execution_count": 178,
     "metadata": {},
     "output_type": "execute_result"
    }
   ],
   "source": [
    "# Pada fungsi shape menghasilkan sebuah tuple yang berisikan panjang sebuah array pada tiap dimensi.\n",
    "a.shape "
   ]
  },
  {
   "cell_type": "markdown",
   "id": "311111fb",
   "metadata": {},
   "source": [
    "  Untuk mengetahui jumlah elemen pada array multi-dimensi menggunakan fungsi size."
   ]
  },
  {
   "cell_type": "markdown",
   "id": "55db9a93",
   "metadata": {},
   "source": [
    "<img src=\"https://i.ibb.co/KN199JW/size.png\" align=\"center\"> "
   ]
  },
  {
   "cell_type": "code",
   "execution_count": 101,
   "id": "288e8af3",
   "metadata": {},
   "outputs": [
    {
     "data": {
      "text/plain": [
       "8"
      ]
     },
     "execution_count": 101,
     "metadata": {},
     "output_type": "execute_result"
    }
   ],
   "source": [
    "a.size"
   ]
  },
  {
   "cell_type": "markdown",
   "id": "2548f68f",
   "metadata": {},
   "source": [
    "    Untuk mengetahui jumlah dimensi dari array multi-dimensi menggunakan fungsi ndim. Jumlah dimensi pada array a adalah 2, karena merupakan array 2-dimensi."
   ]
  },
  {
   "cell_type": "code",
   "execution_count": 102,
   "id": "c12039fa",
   "metadata": {},
   "outputs": [
    {
     "data": {
      "text/plain": [
       "2"
      ]
     },
     "execution_count": 102,
     "metadata": {},
     "output_type": "execute_result"
    }
   ],
   "source": [
    "a.ndim"
   ]
  },
  {
   "cell_type": "code",
   "execution_count": 179,
   "id": "14283cee",
   "metadata": {},
   "outputs": [
    {
     "name": "stdout",
     "output_type": "stream",
     "text": [
      "[[[0 1 2 3]\n",
      "  [4 5 6 7]]\n",
      "\n",
      " [[0 1 2 3]\n",
      "  [4 5 6 7]]\n",
      "\n",
      " [[0 1 2 3]\n",
      "  [4 5 6 7]]]\n"
     ]
    }
   ],
   "source": [
    "# 3 dimensi \n",
    "array_example = np.array([[[0, 1, 2, 3],\n",
    "                           [4, 5, 6, 7]],\n",
    "\n",
    "                          [[0, 1, 2, 3],\n",
    "                           [4, 5, 6, 7]],\n",
    "\n",
    "                          [[0, 1, 2, 3],\n",
    "                           [4, 5, 6, 7]]])\n",
    "\n",
    "print(array_example)"
   ]
  },
  {
   "cell_type": "code",
   "execution_count": 180,
   "id": "6c3fc84b",
   "metadata": {},
   "outputs": [
    {
     "data": {
      "text/plain": [
       "3"
      ]
     },
     "execution_count": 180,
     "metadata": {},
     "output_type": "execute_result"
    }
   ],
   "source": [
    "array_example.ndim"
   ]
  },
  {
   "cell_type": "code",
   "execution_count": 181,
   "id": "303f7272",
   "metadata": {},
   "outputs": [
    {
     "data": {
      "text/plain": [
       "(3, 2, 4)"
      ]
     },
     "execution_count": 181,
     "metadata": {},
     "output_type": "execute_result"
    }
   ],
   "source": [
    "array_example.shape "
   ]
  },
  {
   "cell_type": "code",
   "execution_count": 182,
   "id": "4fe15a4f",
   "metadata": {},
   "outputs": [
    {
     "data": {
      "text/plain": [
       "24"
      ]
     },
     "execution_count": 182,
     "metadata": {},
     "output_type": "execute_result"
    }
   ],
   "source": [
    "array_example.size "
   ]
  },
  {
   "cell_type": "markdown",
   "id": "4bfd7746",
   "metadata": {},
   "source": [
    "-----------"
   ]
  },
  {
   "cell_type": "markdown",
   "id": "9970e490",
   "metadata": {},
   "source": [
    "    Pada array multi-dimensi kita dapat mengakses nilai elemen berdasarkan indeks dengan pemisah tanda koma [,]. \n",
    "    Misalkan kita ingin mendapatkan data pada baris ke-1 dan kolom ke-3 dari array a,\n",
    "    maka dilakukan perintah a[1, 3]."
   ]
  },
  {
   "cell_type": "markdown",
   "id": "e1d3d865",
   "metadata": {},
   "source": [
    "    Misalkan, kita akan mengganti data pada baris ke-1 dan kolom ke-3 pada array a dengan nilai -1, \n",
    "    kita dapat langsung assign nilai baru tersebut pada indeks."
   ]
  },
  {
   "cell_type": "markdown",
   "id": "ba67d533",
   "metadata": {},
   "source": [
    "<img src=\"https://i.ibb.co/LPDSf6N/2dimx.png\" align=\"center\"> "
   ]
  },
  {
   "cell_type": "code",
   "execution_count": 183,
   "id": "49116d11",
   "metadata": {},
   "outputs": [
    {
     "name": "stdout",
     "output_type": "stream",
     "text": [
      "[[ 0  1  2  3]\n",
      " [10 11 12 13]]\n"
     ]
    }
   ],
   "source": [
    "print(a)"
   ]
  },
  {
   "cell_type": "code",
   "execution_count": 184,
   "id": "7e3d92a0",
   "metadata": {},
   "outputs": [
    {
     "data": {
      "text/plain": [
       "13"
      ]
     },
     "execution_count": 184,
     "metadata": {},
     "output_type": "execute_result"
    }
   ],
   "source": [
    "a[1,3]"
   ]
  },
  {
   "cell_type": "code",
   "execution_count": 185,
   "id": "216515b4",
   "metadata": {},
   "outputs": [
    {
     "data": {
      "text/plain": [
       "array([[ 0,  1,  2,  3],\n",
       "       [10, 11, 12, -1]])"
      ]
     },
     "execution_count": 185,
     "metadata": {},
     "output_type": "execute_result"
    }
   ],
   "source": [
    "a[1,3] = -1 \n",
    "a"
   ]
  },
  {
   "cell_type": "markdown",
   "id": "a77a59ed",
   "metadata": {},
   "source": [
    " #### Sorting Array\n",
    " \n",
    " np.sort?  ## Signature: np.sort(a, axis=-1, kind=None, order=None)\n",
    "\n",
    " ----------------------------------\n",
    "|   kind    |  speed  |    stable |\n",
    "|:--------|:-------|:--------| \n",
    "|'quicksort' |   1    |          no |\n",
    "|'heapsort'  |   3   |          no |\n",
    "|'mergesort' |   2   |       yes |\n",
    "|'timsort'   |   2  |          yes |\n"
   ]
  },
  {
   "cell_type": "code",
   "execution_count": 186,
   "id": "f5868028",
   "metadata": {},
   "outputs": [
    {
     "data": {
      "text/plain": [
       "array([[4, 1, 0, 5],\n",
       "       [1, 5, 3, 4]])"
      ]
     },
     "execution_count": 186,
     "metadata": {},
     "output_type": "execute_result"
    }
   ],
   "source": [
    "data = np.array([[4, 1, 0, 5],[1, 5, 3, 4]])\n",
    "data"
   ]
  },
  {
   "cell_type": "markdown",
   "id": "5bcce123",
   "metadata": {},
   "source": [
    " a = np.array([[1,4],[3,1]])\n",
    ">>> np.sort(a)                # sort along the last axis\n",
    "array([[1, 4],\n",
    "       [1, 3]])\n",
    ">>> np.sort(a, axis=None)     # sort the flattened array\n",
    "array([1, 1, 3, 4])\n",
    ">>> np.sort(a, axis=0)        # sort along the first axis\n",
    "array([[1, 1],\n",
    "       [3, 4]])"
   ]
  },
  {
   "cell_type": "code",
   "execution_count": 187,
   "id": "1fb84e95",
   "metadata": {},
   "outputs": [
    {
     "name": "stdout",
     "output_type": "stream",
     "text": [
      "[[0 1 4 5]\n",
      " [1 3 4 5]]\n"
     ]
    }
   ],
   "source": [
    "# menambahkan parameter axis =1 \n",
    "data.sort(axis=1)\n",
    "print(data)"
   ]
  },
  {
   "cell_type": "code",
   "execution_count": 112,
   "id": "81d942db",
   "metadata": {},
   "outputs": [],
   "source": [
    "## dengan kita menambahkan parameter \"axis=0\" kita menghasilkan \n",
    "## array baru yang merupakan hasil sorting berdasarkan per kolom "
   ]
  },
  {
   "cell_type": "code",
   "execution_count": 188,
   "id": "dc320c5e",
   "metadata": {},
   "outputs": [
    {
     "name": "stdout",
     "output_type": "stream",
     "text": [
      "[[4 1 0 5]\n",
      " [1 5 3 4]]\n",
      "sebelum di sort axis=0\n",
      "==================================================\n",
      "[[1 1 0 4]\n",
      " [4 5 3 5]]\n"
     ]
    }
   ],
   "source": [
    "data = np.array([[4, 1, 0, 5],[1, 5, 3, 4]])\n",
    "# menambahkan parameter axis =0 \n",
    "print(data)\n",
    "print(\"sebelum di sort axis=0\")\n",
    "print(10*\"=====\")\n",
    "data.sort(axis=0)\n",
    "print(data)"
   ]
  },
  {
   "cell_type": "code",
   "execution_count": 114,
   "id": "3d88628d",
   "metadata": {},
   "outputs": [],
   "source": [
    "## dengan kita menambahkan parameter \"axis=0\" kita menghasilkan \n",
    "## array baru yang merupakan hasil sorting berdasarkan per kolom "
   ]
  },
  {
   "cell_type": "code",
   "execution_count": 189,
   "id": "1780283b",
   "metadata": {},
   "outputs": [
    {
     "name": "stdout",
     "output_type": "stream",
     "text": [
      "[[0 1 1 4]\n",
      " [3 4 5 5]]\n"
     ]
    }
   ],
   "source": [
    "# menambahkan parameter axis =1 \n",
    "data.sort(axis=1)   ## data ini adalah hasil perubahan dari sebelumnya \n",
    "print(data)"
   ]
  },
  {
   "cell_type": "markdown",
   "id": "1a85eca0",
   "metadata": {},
   "source": [
    "______"
   ]
  },
  {
   "cell_type": "code",
   "execution_count": 190,
   "id": "44adf9ed",
   "metadata": {},
   "outputs": [
    {
     "data": {
      "text/plain": [
       "[('name', 'S10'), ('height', float), ('age', int)]"
      ]
     },
     "execution_count": 190,
     "metadata": {},
     "output_type": "execute_result"
    }
   ],
   "source": [
    "#### sorting dengan membuat structure array\n",
    "dtype = [('name', 'S10'), ('height', float), ('age', int)]  ##  name type string , heigh type float , age type int\n",
    "dtype "
   ]
  },
  {
   "cell_type": "code",
   "execution_count": 191,
   "id": "93eed5e7",
   "metadata": {},
   "outputs": [
    {
     "data": {
      "text/plain": [
       "[('Arthur', 1.8, 41), ('Lancelot', 1.9, 38), ('Galahad', 1.7, 38)]"
      ]
     },
     "execution_count": 191,
     "metadata": {},
     "output_type": "execute_result"
    }
   ],
   "source": [
    "values = [('Arthur', 1.8, 41), \n",
    "          ('Lancelot', 1.9, 38),\n",
    "          ('Galahad', 1.7, 38)]\n",
    "values "
   ]
  },
  {
   "cell_type": "code",
   "execution_count": 192,
   "id": "6669fbf7",
   "metadata": {},
   "outputs": [
    {
     "name": "stdout",
     "output_type": "stream",
     "text": [
      "[(b'Arthur', 1.8, 41) (b'Lancelot', 1.9, 38) (b'Galahad', 1.7, 38)]\n"
     ]
    }
   ],
   "source": [
    "a = np.array(values, dtype=dtype) # create a structured array\n",
    "print(a)"
   ]
  },
  {
   "cell_type": "code",
   "execution_count": 193,
   "id": "2fb0955f",
   "metadata": {},
   "outputs": [
    {
     "name": "stdout",
     "output_type": "stream",
     "text": [
      "[(b'Arthur', 1.8, 41) (b'Galahad', 1.7, 38) (b'Lancelot', 1.9, 38)]\n"
     ]
    }
   ],
   "source": [
    "x = np.sort(a, order='name')  \n",
    "print(x)"
   ]
  },
  {
   "cell_type": "code",
   "execution_count": 194,
   "id": "5598eca4",
   "metadata": {},
   "outputs": [
    {
     "data": {
      "text/plain": [
       "array([(b'Galahad', 1.7, 38), (b'Lancelot', 1.9, 38),\n",
       "       (b'Arthur', 1.8, 41)],\n",
       "      dtype=[('name', 'S10'), ('height', '<f8'), ('age', '<i8')])"
      ]
     },
     "execution_count": 194,
     "metadata": {},
     "output_type": "execute_result"
    }
   ],
   "source": [
    "np.sort(a, order=['age', 'height'])     "
   ]
  },
  {
   "cell_type": "code",
   "execution_count": 121,
   "id": "5b9c883c",
   "metadata": {},
   "outputs": [
    {
     "data": {
      "text/plain": [
       "('Lancelot', 1.9, 38)"
      ]
     },
     "execution_count": 121,
     "metadata": {},
     "output_type": "execute_result"
    }
   ],
   "source": [
    "values[1] # menghasilkan tuple \n"
   ]
  },
  {
   "cell_type": "code",
   "execution_count": 122,
   "id": "e26e523f",
   "metadata": {},
   "outputs": [
    {
     "data": {
      "text/plain": [
       "'Arthur'"
      ]
     },
     "execution_count": 122,
     "metadata": {},
     "output_type": "execute_result"
    }
   ],
   "source": [
    "values[0][0] ## arthur , "
   ]
  },
  {
   "cell_type": "markdown",
   "id": "45c7e0c8",
   "metadata": {},
   "source": [
    "#### zeroes \n",
    "\n",
    "  Sering ada kasus ketika kita ingin NumPy menginisialisasi nilai array untuk kita. NumPy menyediakan metode seperti one(), zeros(), dan lain-lain untuk kasus ini. Kami hanya memberikan mereka jumlah elemen yang kami ingin hasilkan: "
   ]
  },
  {
   "cell_type": "code",
   "execution_count": 123,
   "id": "6a480b0b",
   "metadata": {},
   "outputs": [
    {
     "data": {
      "text/plain": [
       "array([0., 0., 0., 0., 0., 0., 0., 0., 0., 0.])"
      ]
     },
     "execution_count": 123,
     "metadata": {},
     "output_type": "execute_result"
    }
   ],
   "source": [
    "np.zeros(10)"
   ]
  },
  {
   "cell_type": "code",
   "execution_count": 124,
   "id": "7974dccb",
   "metadata": {},
   "outputs": [
    {
     "data": {
      "text/plain": [
       "array([1., 1.])"
      ]
     },
     "execution_count": 124,
     "metadata": {},
     "output_type": "execute_result"
    }
   ],
   "source": [
    "# Or an array filled with 1s:\n",
    "\n",
    "np.ones(2)"
   ]
  },
  {
   "cell_type": "code",
   "execution_count": 195,
   "id": "9ec28bac",
   "metadata": {},
   "outputs": [
    {
     "data": {
      "text/plain": [
       "array([1.7, 1.9, 1.8])"
      ]
     },
     "execution_count": 195,
     "metadata": {},
     "output_type": "execute_result"
    }
   ],
   "source": [
    "# Atau bahkan array kosong!\n",
    "# Fungsi kosong membuat larik yang konten awalnya acak dan bergantung pada status memori.\n",
    "np.empty(3) # lakukan perubahan parameter"
   ]
  },
  {
   "cell_type": "code",
   "execution_count": 196,
   "id": "671bd91d",
   "metadata": {},
   "outputs": [
    {
     "name": "stdout",
     "output_type": "stream",
     "text": [
      "[[[0. 0.]\n",
      "  [0. 0.]]\n",
      "\n",
      " [[0. 0.]\n",
      "  [0. 0.]]]\n"
     ]
    }
   ],
   "source": [
    "dzero = np.zeros((2,2,2))\n",
    "print(dzero)"
   ]
  },
  {
   "cell_type": "code",
   "execution_count": 127,
   "id": "0ca502cc",
   "metadata": {},
   "outputs": [
    {
     "data": {
      "text/plain": [
       "(2, 2, 2)"
      ]
     },
     "execution_count": 127,
     "metadata": {},
     "output_type": "execute_result"
    }
   ],
   "source": [
    "dzero.shape"
   ]
  },
  {
   "cell_type": "code",
   "execution_count": 128,
   "id": "e1523880",
   "metadata": {},
   "outputs": [
    {
     "data": {
      "text/plain": [
       "3"
      ]
     },
     "execution_count": 128,
     "metadata": {},
     "output_type": "execute_result"
    }
   ],
   "source": [
    "dzero.ndim"
   ]
  },
  {
   "cell_type": "code",
   "execution_count": 129,
   "id": "8f6efdb1",
   "metadata": {},
   "outputs": [
    {
     "data": {
      "text/plain": [
       "array([[0., 0., 0., 0., 0., 0.],\n",
       "       [0., 0., 0., 0., 0., 0.],\n",
       "       [0., 0., 0., 0., 0., 0.]])"
      ]
     },
     "execution_count": 129,
     "metadata": {},
     "output_type": "execute_result"
    }
   ],
   "source": [
    "zeros_ndarray = np.zeros((3, 6))\n",
    "zeros_ndarray"
   ]
  },
  {
   "cell_type": "code",
   "execution_count": 130,
   "id": "235883e8",
   "metadata": {},
   "outputs": [
    {
     "data": {
      "text/plain": [
       "(3, 6)"
      ]
     },
     "execution_count": 130,
     "metadata": {},
     "output_type": "execute_result"
    }
   ],
   "source": [
    "zeros_ndarray.shape"
   ]
  },
  {
   "cell_type": "code",
   "execution_count": 131,
   "id": "b58abe46",
   "metadata": {},
   "outputs": [
    {
     "data": {
      "text/plain": [
       "2"
      ]
     },
     "execution_count": 131,
     "metadata": {},
     "output_type": "execute_result"
    }
   ],
   "source": [
    "zeros_ndarray.ndim"
   ]
  },
  {
   "cell_type": "code",
   "execution_count": 132,
   "id": "b8fabc8c",
   "metadata": {},
   "outputs": [
    {
     "data": {
      "text/plain": [
       "array([1., 1., 1., 1., 1., 1., 1., 1., 1., 1.])"
      ]
     },
     "execution_count": 132,
     "metadata": {},
     "output_type": "execute_result"
    }
   ],
   "source": [
    "ones_array = np.ones(10)\n",
    "ones_array"
   ]
  },
  {
   "cell_type": "code",
   "execution_count": 133,
   "id": "667fd29c",
   "metadata": {},
   "outputs": [
    {
     "data": {
      "text/plain": [
       "array([[[0.00000000e+000, 2.68677908e+154],\n",
       "        [8.39911598e-323, 0.00000000e+000],\n",
       "        [2.12199579e-314, 5.02034658e+175]],\n",
       "\n",
       "       [[1.32324163e-071, 5.44207827e-062],\n",
       "        [6.56196567e+169, 9.59405921e-071],\n",
       "        [1.09287130e-042, 7.11767117e-144]],\n",
       "\n",
       "       [[3.59751658e+252, 1.46901661e+179],\n",
       "        [3.75505006e+199, 2.59027921e-144],\n",
       "        [3.80985069e+180, 4.90746474e+252]],\n",
       "\n",
       "       [[3.96041428e+246, 1.16318408e-028],\n",
       "        [9.16448945e-072, 4.08468727e+179],\n",
       "        [1.90253394e+185, 1.27888305e+161]]])"
      ]
     },
     "execution_count": 133,
     "metadata": {},
     "output_type": "execute_result"
    }
   ],
   "source": [
    "empty_array = np.empty((4, 3, 2))\n",
    "empty_array"
   ]
  },
  {
   "cell_type": "code",
   "execution_count": 134,
   "id": "1fd8b6f4",
   "metadata": {},
   "outputs": [
    {
     "data": {
      "text/plain": [
       "3"
      ]
     },
     "execution_count": 134,
     "metadata": {},
     "output_type": "execute_result"
    }
   ],
   "source": [
    "empty_array.ndim"
   ]
  },
  {
   "cell_type": "code",
   "execution_count": 135,
   "id": "7b1c6613",
   "metadata": {},
   "outputs": [
    {
     "data": {
      "text/plain": [
       "(4, 3, 2)"
      ]
     },
     "execution_count": 135,
     "metadata": {},
     "output_type": "execute_result"
    }
   ],
   "source": [
    "empty_array.shape"
   ]
  },
  {
   "cell_type": "markdown",
   "id": "9800bc7f",
   "metadata": {},
   "source": [
    "________"
   ]
  },
  {
   "cell_type": "markdown",
   "id": "c0812d6d",
   "metadata": {},
   "source": [
    "### Reshape"
   ]
  },
  {
   "cell_type": "markdown",
   "id": "18b2a0f3",
   "metadata": {},
   "source": [
    "    Menggunakan np.reshape() akan memberikan bentuk baru ke array tanpa mengubah data. \n",
    "    Ingatlah bahwa ketika Anda menggunakan metode reshape.  \n",
    "    -  output dari array memiliki jumlah elemen yang sama dengan array aslinya. \n",
    "     12 element :  4x3 , 3x4 , 12 x 1 \n",
    "    \n",
    "    Dengan np.reshape, Anda dapat menentukan beberapa parameter opsional:\n",
    "\n",
    "numpy.reshape(a, newshape, order)\n",
    "\n",
    "    a adalah array yang akan dibentuk kembali.\n",
    "    newshape : int atau tuple dari ints\n",
    "    newshape : bentuk baru yang Anda inginkan. \n",
    "               Anda dapat menentukan bilangan bulat atau tupel bilangan bulat. \n",
    "               Jika Anda menentukan bilangan bulat, hasilnya akan berupa array dengan panjang tersebut. \n",
    "               Bentuknya harus sesuai dengan bentuk aslinya.\n",
    "    order    : 'C' berarti membaca/menulis elemen menggunakan urutan indeks seperti C,\n",
    "               'F' berarti membaca/menulis elemen menggunakan urutan indeks seperti Fortran, \n",
    "               'A' berarti membaca/menulis elemen dalam seperti Fortran urutan indeks \n",
    "                jika a adalah Fortran bersebelahan dalam memori, urutan seperti C sebaliknya. \n",
    "                (Ini adalah parameter opsional dan tidak perlu ditentukan.)\n",
    "                Default = C \n",
    "\n"
   ]
  },
  {
   "cell_type": "code",
   "execution_count": 197,
   "id": "9ea7bf6a",
   "metadata": {},
   "outputs": [
    {
     "name": "stdout",
     "output_type": "stream",
     "text": [
      "[0 1 2 3 4 5]\n"
     ]
    }
   ],
   "source": [
    "a = np.arange(6)\n",
    "\n",
    "print(a)"
   ]
  },
  {
   "cell_type": "markdown",
   "id": "5f2f09e5",
   "metadata": {},
   "source": [
    "Anda dapat menggunakan reshape() untuk membentuk kembali array Anda. Misalnya, \n",
    "Anda dapat membentuk ulang array ini menjadi array dengan tiga baris dan dua kolom:"
   ]
  },
  {
   "cell_type": "code",
   "execution_count": 198,
   "id": "20d05705",
   "metadata": {},
   "outputs": [
    {
     "name": "stdout",
     "output_type": "stream",
     "text": [
      "[[0 1 2]\n",
      " [3 4 5]]\n"
     ]
    }
   ],
   "source": [
    "b = a.reshape(2,3)\n",
    "print(b)\n"
   ]
  },
  {
   "cell_type": "code",
   "execution_count": 199,
   "id": "dfd0d38e",
   "metadata": {},
   "outputs": [
    {
     "name": "stdout",
     "output_type": "stream",
     "text": [
      "[[0 1]\n",
      " [2 3]\n",
      " [4 5]]\n"
     ]
    }
   ],
   "source": [
    "##For example, ``a.reshape(10, 11)`` is equivalent to ``a.reshape((10, 11))``\n",
    "c = a.reshape((3,2))\n",
    "print(c)"
   ]
  },
  {
   "cell_type": "code",
   "execution_count": 201,
   "id": "a3158029",
   "metadata": {},
   "outputs": [
    {
     "name": "stdout",
     "output_type": "stream",
     "text": [
      "[0 1 2 3 4]\n"
     ]
    },
    {
     "ename": "ValueError",
     "evalue": "cannot reshape array of size 5 into shape (2,2)",
     "output_type": "error",
     "traceback": [
      "\u001b[0;31m---------------------------------------------------------------------------\u001b[0m",
      "\u001b[0;31mValueError\u001b[0m                                Traceback (most recent call last)",
      "\u001b[0;32m/var/folders/gh/bm95p3ys6sd6jvzbfl061_3c0000gn/T/ipykernel_87837/631124069.py\u001b[0m in \u001b[0;36m<module>\u001b[0;34m\u001b[0m\n\u001b[1;32m      1\u001b[0m \u001b[0mx\u001b[0m \u001b[0;34m=\u001b[0m \u001b[0mnp\u001b[0m\u001b[0;34m.\u001b[0m\u001b[0marange\u001b[0m\u001b[0;34m(\u001b[0m\u001b[0;36m5\u001b[0m\u001b[0;34m)\u001b[0m\u001b[0;34m\u001b[0m\u001b[0;34m\u001b[0m\u001b[0m\n\u001b[1;32m      2\u001b[0m \u001b[0mprint\u001b[0m\u001b[0;34m(\u001b[0m\u001b[0mx\u001b[0m\u001b[0;34m)\u001b[0m\u001b[0;34m\u001b[0m\u001b[0;34m\u001b[0m\u001b[0m\n\u001b[0;32m----> 3\u001b[0;31m \u001b[0mx1\u001b[0m \u001b[0;34m=\u001b[0m \u001b[0mx\u001b[0m\u001b[0;34m.\u001b[0m\u001b[0mreshape\u001b[0m\u001b[0;34m(\u001b[0m\u001b[0;36m2\u001b[0m\u001b[0;34m,\u001b[0m\u001b[0;36m2\u001b[0m\u001b[0;34m)\u001b[0m\u001b[0;34m\u001b[0m\u001b[0;34m\u001b[0m\u001b[0m\n\u001b[0m\u001b[1;32m      4\u001b[0m \u001b[0mprint\u001b[0m\u001b[0;34m(\u001b[0m\u001b[0mx\u001b[0m\u001b[0;34m)\u001b[0m\u001b[0;34m\u001b[0m\u001b[0;34m\u001b[0m\u001b[0m\n",
      "\u001b[0;31mValueError\u001b[0m: cannot reshape array of size 5 into shape (2,2)"
     ]
    }
   ],
   "source": [
    "x = np.arange(5)\n",
    "print(x)\n",
    "x1 = x.reshape(2,2)\n",
    "print(x)"
   ]
  },
  {
   "cell_type": "code",
   "execution_count": 202,
   "id": "cd525bde",
   "metadata": {},
   "outputs": [
    {
     "data": {
      "text/plain": [
       "array([[0, 1],\n",
       "       [2, 3],\n",
       "       [4, 5]])"
      ]
     },
     "execution_count": 202,
     "metadata": {},
     "output_type": "execute_result"
    }
   ],
   "source": [
    "a = np.arange(6).reshape((3, 2))\n",
    "a"
   ]
  },
  {
   "cell_type": "code",
   "execution_count": 203,
   "id": "545ede3e",
   "metadata": {},
   "outputs": [
    {
     "data": {
      "text/plain": [
       "array([[0, 1, 2],\n",
       "       [3, 4, 5]])"
      ]
     },
     "execution_count": 203,
     "metadata": {},
     "output_type": "execute_result"
    }
   ],
   "source": [
    "np.reshape(a, (2, 3))"
   ]
  },
  {
   "cell_type": "code",
   "execution_count": 204,
   "id": "e9f17ec9",
   "metadata": {},
   "outputs": [
    {
     "data": {
      "text/plain": [
       "array([[1, 2, 3],\n",
       "       [4, 5, 6]])"
      ]
     },
     "execution_count": 204,
     "metadata": {},
     "output_type": "execute_result"
    }
   ],
   "source": [
    "a = np.array([[1,2,3], [4,5,6]])\n",
    "a"
   ]
  },
  {
   "cell_type": "code",
   "execution_count": 205,
   "id": "ce5eacfa",
   "metadata": {},
   "outputs": [
    {
     "data": {
      "text/plain": [
       "array([1, 2, 3, 4, 5, 6])"
      ]
     },
     "execution_count": 205,
     "metadata": {},
     "output_type": "execute_result"
    }
   ],
   "source": [
    "np.reshape(a, 6)"
   ]
  },
  {
   "cell_type": "markdown",
   "id": "6effb529",
   "metadata": {},
   "source": [
    "--------------"
   ]
  },
  {
   "cell_type": "markdown",
   "id": "7ea63724",
   "metadata": {},
   "source": [
    "#### Convert 1D to 2D\n",
    "    np.newaxis\n",
    "    np.expand_dims\n",
    "    \n",
    "    Anda dapat menggunakan np.newaxis dan np.expand_dims untuk meningkatkan dimensi array yang ada.\n",
    "\n",
    "     Menggunakan np.newaxis akan meningkatkan dimensi array Anda satu dimensi saat digunakan sekali. \n",
    "     Artinya array 1D akan menjadi array 2D, \n",
    "     Array 2D akan menjadi Array 3D, dan seterusnya.\n",
    "\n",
    "     Misalnya, jika Anda mulai dengan array ini:"
   ]
  },
  {
   "cell_type": "code",
   "execution_count": 206,
   "id": "4129c41b",
   "metadata": {},
   "outputs": [
    {
     "data": {
      "text/plain": [
       "(6,)"
      ]
     },
     "execution_count": 206,
     "metadata": {},
     "output_type": "execute_result"
    }
   ],
   "source": [
    "variabelA = np.array([1, 2, 3, 4, 5, 6])\n",
    "variabelA.shape\n"
   ]
  },
  {
   "cell_type": "code",
   "execution_count": 209,
   "id": "4025ed15",
   "metadata": {},
   "outputs": [
    {
     "name": "stdout",
     "output_type": "stream",
     "text": [
      "(1, 6)\n",
      "[[1 2 3 4 5 6]]\n"
     ]
    },
    {
     "data": {
      "text/plain": [
       "2"
      ]
     },
     "execution_count": 209,
     "metadata": {},
     "output_type": "execute_result"
    }
   ],
   "source": [
    "# You can use np.newaxis to add a new axis:\n",
    "# menambahkan menggunakan np.newaxis \n",
    "a2 = variabelA[np.newaxis]\n",
    "print(a2.shape)\n",
    "print(a2)\n",
    "a2.ndim "
   ]
  },
  {
   "cell_type": "code",
   "execution_count": 210,
   "id": "5d89b378",
   "metadata": {},
   "outputs": [
    {
     "name": "stdout",
     "output_type": "stream",
     "text": [
      "(1, 6)\n",
      "[[1 2 3 4 5 6]]\n"
     ]
    }
   ],
   "source": [
    "# meng convert 1 D array ke row vector dengan insert ke axis ,1 dimensi\n",
    "row_vector = variabelA[np.newaxis, :]\n",
    "print(row_vector.shape)\n",
    "print(row_vector)"
   ]
  },
  {
   "cell_type": "code",
   "execution_count": 212,
   "id": "763a2107",
   "metadata": {},
   "outputs": [
    {
     "name": "stdout",
     "output_type": "stream",
     "text": [
      "(2, 1, 3)\n",
      "[[[1 2 3]]\n",
      "\n",
      " [[4 5 6]]]\n"
     ]
    }
   ],
   "source": [
    "# untuk vektor kolom, Anda dapat menyisipkan axis di sepanjang dimensi kedua\n",
    "\n",
    "col_vector = a[:, np.newaxis]\n",
    "print(col_vector.shape)\n",
    "print(col_vector)"
   ]
  },
  {
   "cell_type": "markdown",
   "id": "6b24f22d",
   "metadata": {},
   "source": [
    "kita juga dapat memperluas array dengan menyisipkan axis baru pada posisi tertentu dengan np.expand_dims.\n",
    "\n",
    "Misalnya, jika Anda mulai dengan array ini:"
   ]
  },
  {
   "cell_type": "code",
   "execution_count": null,
   "id": "df44fb0a",
   "metadata": {},
   "outputs": [
    {
     "data": {
      "text/plain": [
       "(6,)"
      ]
     },
     "execution_count": 42,
     "metadata": {},
     "output_type": "execute_result"
    }
   ],
   "source": [
    "a = np.array([1, 2, 3, 4, 5, 6])\n",
    "a.shape\n"
   ]
  },
  {
   "cell_type": "code",
   "execution_count": 213,
   "id": "79f35e68",
   "metadata": {},
   "outputs": [
    {
     "name": "stdout",
     "output_type": "stream",
     "text": [
      "(2, 1, 3)\n",
      "[[[1 2 3]]\n",
      "\n",
      " [[4 5 6]]]\n"
     ]
    }
   ],
   "source": [
    "# You can use np.expand_dims to add an axis at index position 1 with:\n",
    "\n",
    "b = np.expand_dims(a, axis=1)\n",
    "b.shape\n",
    "print(b.shape)\n",
    "print(b)"
   ]
  },
  {
   "cell_type": "code",
   "execution_count": 214,
   "id": "13375536",
   "metadata": {},
   "outputs": [
    {
     "name": "stdout",
     "output_type": "stream",
     "text": [
      "(1, 2, 3)\n",
      "[[[1 2 3]\n",
      "  [4 5 6]]]\n"
     ]
    }
   ],
   "source": [
    "# You can add an axis at index position 0 with:\n",
    "\n",
    "c = np.expand_dims(a, axis=0)\n",
    "print(c.shape)\n",
    "print(c)"
   ]
  },
  {
   "cell_type": "markdown",
   "id": "d50777c4",
   "metadata": {},
   "source": [
    "#### Indexing and Slicing\n",
    "Kalian dapat mengindeks dan slice array NumPy dengan cara yang sama seperti kalian slice lists Python.\n",
    "\n",
    "Array NumPy juga mendukung slice, seperti kalian slice lists Python, dengan menggunakan operator titik dua (yaitu arr[:]) untuk mengiris. Kita juga dapat menggunakan pengindeksan negatif untuk mengiris ke arah belakang.\n",
    "\n",
    "Kode di bawah ini menunjukkan potongan contoh array NumPy 1-D."
   ]
  },
  {
   "cell_type": "code",
   "execution_count": 215,
   "id": "7aa86761",
   "metadata": {},
   "outputs": [
    {
     "name": "stdout",
     "output_type": "stream",
     "text": [
      "[1 2 3]\n"
     ]
    }
   ],
   "source": [
    "data = np.array([1,2,3])\n",
    "print(data)"
   ]
  },
  {
   "cell_type": "code",
   "execution_count": 216,
   "id": "2d929fea",
   "metadata": {},
   "outputs": [
    {
     "name": "stdout",
     "output_type": "stream",
     "text": [
      "1\n",
      "2\n"
     ]
    }
   ],
   "source": [
    "\n",
    "print(data[0])\n",
    "print(data[1])"
   ]
  },
  {
   "cell_type": "code",
   "execution_count": null,
   "id": "15d61a07",
   "metadata": {},
   "outputs": [
    {
     "name": "stdout",
     "output_type": "stream",
     "text": [
      "[1 2]\n"
     ]
    }
   ],
   "source": [
    "\n",
    "print(data[0:2])\n"
   ]
  },
  {
   "cell_type": "code",
   "execution_count": 217,
   "id": "ac0f85b2",
   "metadata": {},
   "outputs": [
    {
     "name": "stdout",
     "output_type": "stream",
     "text": [
      "[2 3]\n"
     ]
    }
   ],
   "source": [
    "print(data[1:])"
   ]
  },
  {
   "cell_type": "code",
   "execution_count": 218,
   "id": "237ae004",
   "metadata": {},
   "outputs": [
    {
     "name": "stdout",
     "output_type": "stream",
     "text": [
      "[2 3]\n"
     ]
    }
   ],
   "source": [
    "print(data[-2:]) ##  -2:   = posisi -2 sampai akhir "
   ]
  },
  {
   "cell_type": "code",
   "execution_count": 220,
   "id": "ce1a262d",
   "metadata": {},
   "outputs": [
    {
     "name": "stdout",
     "output_type": "stream",
     "text": [
      "[1 2 3 4 5]\n"
     ]
    }
   ],
   "source": [
    "arr = np.array([1, 2, 3, 4, 5])\n",
    "print(arr[:])"
   ]
  },
  {
   "cell_type": "code",
   "execution_count": 221,
   "id": "3ab9e90b",
   "metadata": {},
   "outputs": [
    {
     "name": "stdout",
     "output_type": "stream",
     "text": [
      "[2 3 4 5]\n"
     ]
    }
   ],
   "source": [
    "print((arr[1:]))\n"
   ]
  },
  {
   "cell_type": "code",
   "execution_count": 222,
   "id": "d9497fe6",
   "metadata": {},
   "outputs": [
    {
     "name": "stdout",
     "output_type": "stream",
     "text": [
      "[3 4]\n"
     ]
    }
   ],
   "source": [
    "print((arr[2:4]))\n"
   ]
  },
  {
   "cell_type": "code",
   "execution_count": null,
   "id": "c227670a",
   "metadata": {},
   "outputs": [
    {
     "name": "stdout",
     "output_type": "stream",
     "text": [
      "array([1, 2, 3, 4])\n"
     ]
    }
   ],
   "source": [
    "print(repr(arr[:-1])) # array([1, 2, 3, 4])\n"
   ]
  },
  {
   "cell_type": "code",
   "execution_count": null,
   "id": "07232fa3",
   "metadata": {},
   "outputs": [
    {
     "name": "stdout",
     "output_type": "stream",
     "text": [
      "array([4, 5])\n"
     ]
    }
   ],
   "source": [
    "print(repr(arr[-2:])) # array([4, 5])"
   ]
  },
  {
   "cell_type": "markdown",
   "id": "a2a3a78f",
   "metadata": {},
   "source": [
    "--------"
   ]
  },
  {
   "cell_type": "markdown",
   "id": "9b00119e",
   "metadata": {},
   "source": [
    "\n",
    "\n",
    "    Kita mungkin ingin mengambil bagian dari array atau elemen array tertentu \n",
    "    untuk digunakan dalam analisis lebih lanjut atau operasi tambahan. \n",
    "    Untuk melakukannya, Anda harus membuat subset, mengiris, dan/atau mengindeks array Anda.\n",
    "\n",
    "    Jika Anda ingin memilih nilai dari array Anda yang memenuhi kondisi tertentu, \n",
    "    langsung saja dengan NumPy.\n",
    "\n",
    "    Misalnya, jika Anda mulai dengan array ini:"
   ]
  },
  {
   "cell_type": "code",
   "execution_count": 223,
   "id": "8879e138",
   "metadata": {},
   "outputs": [
    {
     "name": "stdout",
     "output_type": "stream",
     "text": [
      "[[ 1  2  3  4]\n",
      " [ 5  6  7  8]\n",
      " [ 9 10 11 12]]\n"
     ]
    }
   ],
   "source": [
    "a = np.array([[1 , 2, 3, 4], [5, 6, 7, 8], [9, 10, 11, 12]])\n",
    "print(a)"
   ]
  },
  {
   "cell_type": "code",
   "execution_count": 224,
   "id": "b07b97aa",
   "metadata": {},
   "outputs": [
    {
     "name": "stdout",
     "output_type": "stream",
     "text": [
      "[1 2 3 4]\n"
     ]
    }
   ],
   "source": [
    "# mencetak semua nilai dalam array yang kurang dari 5\n",
    "\n",
    "print(a[a<5]) "
   ]
  },
  {
   "cell_type": "code",
   "execution_count": 225,
   "id": "a22b92cd",
   "metadata": {},
   "outputs": [
    {
     "name": "stdout",
     "output_type": "stream",
     "text": [
      "[ 5  6  7  8  9 10 11 12]\n"
     ]
    }
   ],
   "source": [
    "## misalnya, angka yang sama dengan atau lebih besar dari 5, dan menggunakan kondisi tersebut untuk mengindeks array.\n",
    "five_up = (a >= 5)\n",
    "\n",
    "print(a[five_up])"
   ]
  },
  {
   "cell_type": "code",
   "execution_count": 226,
   "id": "bd57bf3c",
   "metadata": {},
   "outputs": [
    {
     "name": "stdout",
     "output_type": "stream",
     "text": [
      "[ 2  4  6  8 10 12]\n"
     ]
    }
   ],
   "source": [
    "# memilih elemen yang habis dibagi 2\n",
    "divisible_by_2 = a[a%2==0]\n",
    "\n",
    "print(divisible_by_2)"
   ]
  },
  {
   "cell_type": "code",
   "execution_count": 227,
   "id": "702fe3f4",
   "metadata": {},
   "outputs": [
    {
     "name": "stdout",
     "output_type": "stream",
     "text": [
      "[ 3  4  5  6  7  8  9 10]\n"
     ]
    }
   ],
   "source": [
    "# memilih elemen yang memenuhi dua kondisi menggunakan & dan | operator\n",
    "\n",
    "c = a[(a > 2) & (a < 11)]\n",
    "\n",
    "print(c)"
   ]
  },
  {
   "cell_type": "markdown",
   "id": "40113dbb",
   "metadata": {},
   "source": [
    "-----------"
   ]
  },
  {
   "cell_type": "markdown",
   "id": "887155e8",
   "metadata": {},
   "source": [
    "### Creating Array from Existing Data\n",
    "    slicing indexing\n",
    "    np.vstack()\n",
    "    np.hstack()\n",
    "    np.hsplit()\n",
    "    .view()\n",
    "    .copy()"
   ]
  },
  {
   "cell_type": "markdown",
   "id": "b1a544f0",
   "metadata": {},
   "source": [
    "Anda dapat dengan mudah menggunakan buat array baru dari bagian array yang ada. Katakanlah Anda memiliki array ini:\n",
    "\n",
    "array([ 1, 2, 3, 4, 5, 6, 7, 8, 9, 10])\n",
    "\n",
    "Anda dapat membuat array baru dari bagian array Anda kapan saja dengan menentukan di mana Anda ingin mengiris array Anda."
   ]
  },
  {
   "cell_type": "code",
   "execution_count": 228,
   "id": "7a49f68f",
   "metadata": {},
   "outputs": [
    {
     "data": {
      "text/plain": [
       "array([4, 5, 6, 7, 8])"
      ]
     },
     "execution_count": 228,
     "metadata": {},
     "output_type": "execute_result"
    }
   ],
   "source": [
    "arr = np.array([ 1,  2,  3,  4,  5,  6,  7,  8,  9, 10])\n",
    "arr1 = arr[3:8]\n",
    "arr1"
   ]
  },
  {
   "cell_type": "markdown",
   "id": "b1310d17",
   "metadata": {},
   "source": [
    "Anda juga dapat menumpuk dua array yang ada, baik secara vertikal maupun horizontal. Katakanlah Anda memiliki dua array:\n",
    "\n",
    "    a_1:\n",
    "\n",
    "         array([[1, 1],\n",
    "                 [2, 2]])\n",
    "\n",
    "    a_2:\n",
    "\n",
    "          array([[3, 3],\n",
    "                 [4, 4]])\n",
    "     \n",
    "anda dapat menumpuknya secara vertikal dengan vstack"
   ]
  },
  {
   "cell_type": "code",
   "execution_count": 229,
   "id": "9457fa46",
   "metadata": {},
   "outputs": [],
   "source": [
    "a_1 = np.array([[1, 1],\n",
    "                [2, 2]])"
   ]
  },
  {
   "cell_type": "code",
   "execution_count": 230,
   "id": "c9f65857",
   "metadata": {},
   "outputs": [],
   "source": [
    "a_2 = np.array([[3, 3],\n",
    "                [4, 4]])"
   ]
  },
  {
   "cell_type": "code",
   "execution_count": 231,
   "id": "6565e1e2",
   "metadata": {},
   "outputs": [
    {
     "data": {
      "text/plain": [
       "array([[1, 1],\n",
       "       [2, 2],\n",
       "       [3, 3],\n",
       "       [4, 4]])"
      ]
     },
     "execution_count": 231,
     "metadata": {},
     "output_type": "execute_result"
    }
   ],
   "source": [
    "np.vstack((a_1, a_2))\n"
   ]
  },
  {
   "cell_type": "code",
   "execution_count": null,
   "id": "72c2853f",
   "metadata": {},
   "outputs": [],
   "source": [
    "##  np.vstack(tup)"
   ]
  },
  {
   "cell_type": "code",
   "execution_count": 232,
   "id": "6cc05378",
   "metadata": {},
   "outputs": [
    {
     "data": {
      "text/plain": [
       "array([[1, 2, 3],\n",
       "       [2, 3, 4]])"
      ]
     },
     "execution_count": 232,
     "metadata": {},
     "output_type": "execute_result"
    }
   ],
   "source": [
    "a = np.array([1,2, 3])\n",
    "b = np.array([2, 3, 4])\n",
    "\n",
    "np.vstack((a,b))"
   ]
  },
  {
   "cell_type": "code",
   "execution_count": 233,
   "id": "149d2d7f",
   "metadata": {},
   "outputs": [
    {
     "name": "stdout",
     "output_type": "stream",
     "text": [
      "[[1]\n",
      " [2]\n",
      " [3]]\n",
      "==========\n",
      "[[2]\n",
      " [3]\n",
      " [4]]\n"
     ]
    },
    {
     "data": {
      "text/plain": [
       "array([[1],\n",
       "       [2],\n",
       "       [3],\n",
       "       [2],\n",
       "       [3],\n",
       "       [4]])"
      ]
     },
     "execution_count": 233,
     "metadata": {},
     "output_type": "execute_result"
    }
   ],
   "source": [
    "a = np.array([[1], [2], [3]])\n",
    "b = np.array([[2], [3], [4]])\n",
    "print(a)\n",
    "print(5*\"==\")\n",
    "print(b)\n",
    "np.vstack((a,b))\n"
   ]
  },
  {
   "cell_type": "code",
   "execution_count": 234,
   "id": "3c114c61",
   "metadata": {},
   "outputs": [],
   "source": [
    "a_2 = np.array([[3, 3],\n",
    "                [4, 4]])"
   ]
  },
  {
   "cell_type": "code",
   "execution_count": 235,
   "id": "fbb93f6c",
   "metadata": {},
   "outputs": [],
   "source": [
    "a_1 = np.array([[1, 1],\n",
    "                [2, 2]])"
   ]
  },
  {
   "cell_type": "code",
   "execution_count": 236,
   "id": "5946facf",
   "metadata": {},
   "outputs": [
    {
     "data": {
      "text/plain": [
       "array([[1, 1, 3, 3],\n",
       "       [2, 2, 4, 4]])"
      ]
     },
     "execution_count": 236,
     "metadata": {},
     "output_type": "execute_result"
    }
   ],
   "source": [
    "# Or stack them horizontally with hstack\n",
    "\n",
    "np.hstack((a_1, a_2))"
   ]
  },
  {
   "cell_type": "markdown",
   "id": "c880a509",
   "metadata": {},
   "source": [
    "    Anda dapat membagi sebuah array menjadi beberapa array yang lebih kecil \n",
    "    menggunakan hsplit. \n",
    "    Anda dapat menentukan jumlah array berbentuk sama untuk dikembalikan atau kolom setelah pembagian harus dilakukan.\n",
    "\n",
    "    Katakanlah Anda memiliki array ini:\n",
    "\n",
    "array([[ 1,  2,  3,  4,  5,  6,  7,  8,  9, 10, 11, 12],\n",
    "     [13, 14, 15, 16, 17, 18, 19, 20, 21, 22, 23, 24]])"
   ]
  },
  {
   "cell_type": "code",
   "execution_count": 237,
   "id": "9d17dad6",
   "metadata": {},
   "outputs": [
    {
     "name": "stdout",
     "output_type": "stream",
     "text": [
      "[[ 1  2  3  4  5  6  7  8  9 10 11 12]\n",
      " [13 14 15 16 17 18 19 20 21 22 23 24]]\n"
     ]
    }
   ],
   "source": [
    "arrsplit = np.array([[1,  2,  3,  4,  5,  6,  7,  8,  9, 10, 11, 12],\n",
    "                     [13, 14, 15, 16, 17, 18, 19, 20, 21, 22, 23,24]])\n",
    "print(arrsplit)"
   ]
  },
  {
   "cell_type": "markdown",
   "id": "3b8aa3a1",
   "metadata": {},
   "source": [
    "    Jika panjang tidak sesuai \n",
    "```\n",
    "<ipython-input-54-f668532b9a75>:1: VisibleDeprecationWarning: Creating an ndarray from ragged nested sequences (which is a list-or-tuple of lists-or-tuples-or ndarrays with different lengths or shapes) is deprecated. If you meant to do this, you must specify 'dtype=object' when creating the ndarray\n",
    "  arrsplit = np.array([[1,  2,  3,  4,  5,  6,  7,  8,  9, 10, 11, 12],\n",
    "  ```"
   ]
  },
  {
   "cell_type": "code",
   "execution_count": 238,
   "id": "69bb04fc",
   "metadata": {},
   "outputs": [
    {
     "data": {
      "text/plain": [
       "[array([[ 1,  2,  3,  4],\n",
       "        [13, 14, 15, 16]]),\n",
       " array([[ 5,  6,  7,  8],\n",
       "        [17, 18, 19, 20]]),\n",
       " array([[ 9, 10, 11, 12],\n",
       "        [21, 22, 23, 24]])]"
      ]
     },
     "execution_count": 238,
     "metadata": {},
     "output_type": "execute_result"
    }
   ],
   "source": [
    "# membagi array ini menjadi tiga array yang sama bentuknya\n",
    "np.hsplit(arrsplit,3)"
   ]
  },
  {
   "cell_type": "markdown",
   "id": "e6944989",
   "metadata": {},
   "source": [
    "Anda dapat menggunakan metode tampilan untuk membuat objek array baru yang melihat data yang sama dengan array asli"
   ]
  },
  {
   "cell_type": "code",
   "execution_count": 239,
   "id": "890d54cb",
   "metadata": {},
   "outputs": [],
   "source": [
    "a = np.array([[1 , 2, 3, 4], [5, 6, 7, 8], [9, 10, 11, 12]])\n"
   ]
  },
  {
   "cell_type": "code",
   "execution_count": 240,
   "id": "4fe22540",
   "metadata": {},
   "outputs": [],
   "source": [
    "# membuat objek array baru yang melihat data yang sama\n",
    "\n",
    "b = a.view()"
   ]
  },
  {
   "cell_type": "code",
   "execution_count": 241,
   "id": "f327ceb4",
   "metadata": {},
   "outputs": [
    {
     "name": "stdout",
     "output_type": "stream",
     "text": [
      "[[ 1  2  3  4]\n",
      " [ 5  6  7  8]\n",
      " [ 9 10 11 12]]\n"
     ]
    }
   ],
   "source": [
    "print(b)"
   ]
  },
  {
   "cell_type": "code",
   "execution_count": 242,
   "id": "f032ab58",
   "metadata": {},
   "outputs": [],
   "source": [
    "# membuat salinan\n",
    "c = a.copy()"
   ]
  },
  {
   "cell_type": "code",
   "execution_count": 243,
   "id": "5ef5846c",
   "metadata": {},
   "outputs": [
    {
     "name": "stdout",
     "output_type": "stream",
     "text": [
      "[[ 1  2  3  4]\n",
      " [ 5  6  7  8]\n",
      " [ 9 10 11 12]]\n"
     ]
    }
   ],
   "source": [
    "print(c)"
   ]
  },
  {
   "cell_type": "markdown",
   "id": "34c8077e",
   "metadata": {},
   "source": [
    "--------"
   ]
  },
  {
   "cell_type": "markdown",
   "id": "969a60a2",
   "metadata": {},
   "source": [
    "### Copying \n",
    "\n",
    "    Serupa dengan List Python, pada saat membuat referensi ke array NumPy, itu tidak membuat array yang berbeda.\n",
    "    Oleh karena itu, jika kita mengubah nilai menggunakan variabel referensi, itu juga mengubah array asli. \n",
    "    Jika tidak ingin merubah nilai asli menggunakan fungsi copy() \n",
    "    Fungsi tidak memiliki argumen yang diperlukan, dan mengembalikan array yang disalin.\n",
    "\n",
    "    Dalam contoh kode di bawah ini, c adalah referensi ke while d adalah salinannya. Oleh karena itu, perubahan c menyebabkan perubahan yang sama pada a, sedangkan perubahan d tidak mengubah nilai b."
   ]
  },
  {
   "cell_type": "code",
   "execution_count": 244,
   "id": "478f7cbd",
   "metadata": {},
   "outputs": [
    {
     "name": "stdout",
     "output_type": "stream",
     "text": [
      "[0, 1]\n",
      "[5, 1]\n"
     ]
    }
   ],
   "source": [
    "x = [0,1]\n",
    "y = [9,8]\n",
    "z = x\n",
    "\n",
    "print(x)\n",
    "z[0] = 5 \n",
    "print(x)\n",
    "\n"
   ]
  },
  {
   "cell_type": "code",
   "execution_count": null,
   "id": "0501d82a",
   "metadata": {},
   "outputs": [],
   "source": [
    "\n",
    "p = y.copy()\n",
    "p[0] = 6 \n",
    "print(y)  ### tidak berubah \n",
    "print(p)"
   ]
  },
  {
   "cell_type": "code",
   "execution_count": null,
   "id": "f3452e7a",
   "metadata": {},
   "outputs": [],
   "source": [
    "a = np.array([0, 1])\n",
    "b = np.array([9, 8])\n",
    "c = a\n",
    "print('Array a: {}'.format(repr(a)))\n",
    "c[0] = 5\n",
    "print('Array a: {}'.format(repr(a)))\n",
    "\n",
    "d = b.copy()\n",
    "d[0] = 6\n",
    "print('Array b: {}'.format(repr(b)))\n",
    "print('Array b: {}'.format(repr(d)))\n"
   ]
  },
  {
   "cell_type": "markdown",
   "id": "3ea25c67",
   "metadata": {},
   "source": [
    "--------"
   ]
  },
  {
   "cell_type": "markdown",
   "id": "968f3267",
   "metadata": {},
   "source": [
    "#### Basic array operations\n",
    "Addition, subtraction, multiplication, division, and more\n",
    "\n",
    "    Setelah Anda membuat array, Anda dapat mulai bekerja dengannya. Katakanlah, misalnya, Anda telah membuat dua array, satu disebut \"data\" dan satu lagi disebut \"ones\".\n",
    "\n",
    "    Anda dapat menambahkan array bersama dengan tanda plus.\n",
    "\n",
    "    data + ones\n",
    "\n",
    "    Anda tentu saja dapat melakukan lebih dari sekadar penambahan.\n",
    "\n",
    "    data - data yang * data data / data Operasi dasar sederhana dengan NumPy. Jika Anda ingin menemukan jumlah elemen dalam array, Anda akan menggunakan sum(). Ini berfungsi untuk larik 1D, larik 2D, dan larik dalam dimensi yang lebih tinggi.\n",
    "\n",
    "    data - ones\n",
    "    data * data\n",
    "    data / data\n",
    "\n",
    "    Operasi dasar sederhana dengan NumPy. Jika Anda ingin menemukan jumlah elemen dalam array, Anda akan menggunakan sum(). Ini berfungsi untuk larik 1D, larik 2D, dan larik dalam dimensi yang lebih tinggi."
   ]
  },
  {
   "cell_type": "code",
   "execution_count": 245,
   "id": "de2e4e29",
   "metadata": {},
   "outputs": [
    {
     "data": {
      "text/plain": [
       "10"
      ]
     },
     "execution_count": 245,
     "metadata": {},
     "output_type": "execute_result"
    }
   ],
   "source": [
    "a = np.array([1, 2, 3, 4])\n",
    "\n",
    "# menambahkan semua elemen dalam array\n",
    "a.sum()"
   ]
  },
  {
   "cell_type": "markdown",
   "id": "c0122da8",
   "metadata": {},
   "source": [
    "Untuk menambahkan baris atau kolom dalam array 2D, kita harus menentukan axis \n",
    "\n",
    "Contoh dibawah ini : "
   ]
  },
  {
   "cell_type": "code",
   "execution_count": 246,
   "id": "f6fff3dc",
   "metadata": {},
   "outputs": [
    {
     "name": "stdout",
     "output_type": "stream",
     "text": [
      "[[1 1]\n",
      " [2 2]]\n"
     ]
    }
   ],
   "source": [
    "b = np.array([[1, 1], [2, 2]])\n",
    "print(b)"
   ]
  },
  {
   "cell_type": "code",
   "execution_count": 247,
   "id": "548b3e8a",
   "metadata": {},
   "outputs": [
    {
     "data": {
      "text/plain": [
       "array([3, 3])"
      ]
     },
     "execution_count": 247,
     "metadata": {},
     "output_type": "execute_result"
    }
   ],
   "source": [
    "# Anda dapat menjumlahkan baris\n",
    "b.sum(axis=0)"
   ]
  },
  {
   "cell_type": "code",
   "execution_count": 248,
   "id": "00e8c394",
   "metadata": {},
   "outputs": [
    {
     "data": {
      "text/plain": [
       "array([2, 4])"
      ]
     },
     "execution_count": 248,
     "metadata": {},
     "output_type": "execute_result"
    }
   ],
   "source": [
    "\n",
    "# Anda dapat menjumlahkan kolom\n",
    "b.sum(axis=1)"
   ]
  },
  {
   "cell_type": "code",
   "execution_count": 250,
   "id": "e4f08f71",
   "metadata": {},
   "outputs": [
    {
     "data": {
      "text/plain": [
       "array([1, 2])"
      ]
     },
     "execution_count": 250,
     "metadata": {},
     "output_type": "execute_result"
    }
   ],
   "source": [
    "data = np.array([1,2])\n",
    "data"
   ]
  },
  {
   "cell_type": "code",
   "execution_count": 249,
   "id": "0123c365",
   "metadata": {},
   "outputs": [
    {
     "name": "stdout",
     "output_type": "stream",
     "text": [
      "[1. 1.]\n"
     ]
    }
   ],
   "source": [
    "ones = np.ones(2)\n",
    "print(ones)"
   ]
  },
  {
   "cell_type": "code",
   "execution_count": 252,
   "id": "a88e864d",
   "metadata": {},
   "outputs": [
    {
     "data": {
      "text/plain": [
       "array([2., 3.])"
      ]
     },
     "execution_count": 252,
     "metadata": {},
     "output_type": "execute_result"
    }
   ],
   "source": [
    "data + ones"
   ]
  },
  {
   "cell_type": "code",
   "execution_count": 251,
   "id": "dc607600",
   "metadata": {},
   "outputs": [
    {
     "data": {
      "text/plain": [
       "array([1, 4])"
      ]
     },
     "execution_count": 251,
     "metadata": {},
     "output_type": "execute_result"
    }
   ],
   "source": [
    "data * data "
   ]
  },
  {
   "cell_type": "code",
   "execution_count": 253,
   "id": "f7ba978d",
   "metadata": {},
   "outputs": [
    {
     "data": {
      "text/plain": [
       "array([2., 2.])"
      ]
     },
     "execution_count": 253,
     "metadata": {},
     "output_type": "execute_result"
    }
   ],
   "source": [
    "newdata = data / data \n",
    "\n",
    "newdata+ones"
   ]
  },
  {
   "cell_type": "markdown",
   "id": "3e601dde",
   "metadata": {},
   "source": [
    "------"
   ]
  },
  {
   "cell_type": "markdown",
   "id": "81f4457e",
   "metadata": {},
   "source": [
    "### Broadcasting\n",
    "\n",
    "\n",
    "    Ada kalanya Anda mungkin ingin melakukan operasi antara array dan satu angka (juga disebut operasi \n",
    "    antara vektor dan skalar) atau antara array dengan dua ukuran berbeda.\n",
    "\n",
    "    Misalnya, array Anda (kami akan menyebutnya \"data\") mungkin berisi informasi tentang jarak dalam mil \n",
    "    tetapi Anda ingin mengubah informasi tersebut menjadi kilometer. Anda dapat melakukan operasi ini dengan:\n",
    "    \n",
    "    data * 1.6\n",
    "\n",
    "<img src=\"https://i.ibb.co/t3Y0GvK/broadcast.png\" align=\"left\"> "
   ]
  },
  {
   "cell_type": "markdown",
   "id": "02773682",
   "metadata": {},
   "source": [
    "\n",
    "    NumPy memahami bahwa perkalian harus terjadi dengan setiap sel. Konsep itu disebut broadcasting.\n",
    "\n",
    "    Broadcasting adalah mekanisme yang memungkinkan NumPy untuk melakukan operasi pada array dari berbagai bentuk. \n",
    "    Dimensi array Anda harus kompatibel, misalnya, ketika dimensi kedua array sama \n",
    "    atau ketika salah satunya adalah 1. Jika dimensi tidak kompatibel, Anda akan mendapatkan kesalahan nilai.\n",
    "\n",
    "   \n",
    "   "
   ]
  },
  {
   "cell_type": "code",
   "execution_count": 255,
   "id": "444ee17e",
   "metadata": {},
   "outputs": [
    {
     "name": "stdout",
     "output_type": "stream",
     "text": [
      "[1 2]\n",
      "[2 4]\n"
     ]
    }
   ],
   "source": [
    "print(data)\n",
    "print(data * 2) "
   ]
  },
  {
   "cell_type": "markdown",
   "id": "d9d26279",
   "metadata": {},
   "source": [
    "## Function\n",
    "Beberapa fungsi utilitas dasar dari modul np.random adalah np.random.seed dan np.random.shuffle. Kami menggunakan fungsi np.random.seed untuk mengatur random seed, yang memungkinkan kami untuk mengontrol output dari fungsi pseudo-random. Fungsi mengambil satu bilangan bulat sebagai argumen, yang mewakili random seed.\n",
    "\n",
    "Kode di bawah ini menggunakan np.random.seed dengan seed random yang sama. Perhatikan bagaimana output dari \n",
    "fungsi random di setiap proses berikutnya adalah identik ketika ditetapkan random seed yang sama.\n",
    "Beberapa fungsi utilitas dasar dari modul np.random adalah np.random.seed dan np.random.shuffle. \n",
    "\n",
    "Dalam menggunakan fungsi np.random.seed untuk mengatur random seed, yang memungkinkan dilakukan \n",
    "untuk mengontrol output dari fungsi pseudo-acak. Fungsi mengambil satu bilangan bulat sebagai argumen, \n",
    "yang mewakili random seed.\n",
    "\n",
    "Kode di bawah ini menggunakan np.random.seed dengan seed acak yang sama. \n",
    "Perhatikan bagaimana output dari fungsi random di setiap proses berikutnya adalah identik ketika \n",
    "kita menetapkan random seed yang sama."
   ]
  },
  {
   "cell_type": "markdown",
   "id": "7f91b6de",
   "metadata": {},
   "source": [
    "### zeros "
   ]
  },
  {
   "cell_type": "code",
   "execution_count": null,
   "id": "db747e0a",
   "metadata": {},
   "outputs": [],
   "source": [
    "a = np.zeros((2,2))   # Create an array of all zeros\n",
    "print(a)              # Prints \"[[ 0.  0.]\n",
    "                      #          [ 0.  0.]]\""
   ]
  },
  {
   "cell_type": "markdown",
   "id": "701db9dc",
   "metadata": {},
   "source": [
    "### ones"
   ]
  },
  {
   "cell_type": "code",
   "execution_count": null,
   "id": "7763488c",
   "metadata": {},
   "outputs": [],
   "source": [
    "b = np.ones((1,2))    # Create an array of all ones\n",
    "print(b)              # Prints \"[[ 1.  1.]]\""
   ]
  },
  {
   "cell_type": "markdown",
   "id": "53f7c691",
   "metadata": {},
   "source": [
    "### full "
   ]
  },
  {
   "cell_type": "code",
   "execution_count": null,
   "id": "187c16c7",
   "metadata": {},
   "outputs": [],
   "source": [
    "c = np.full((2,2), 7)  # Create a constant array\n",
    "print(c)               # Prints \"[[ 7.  7.]\n",
    "                       #          [ 7.  7.]]\""
   ]
  },
  {
   "cell_type": "markdown",
   "id": "62b9e5d2",
   "metadata": {},
   "source": [
    "### eye "
   ]
  },
  {
   "cell_type": "code",
   "execution_count": null,
   "id": "ff5649c2",
   "metadata": {},
   "outputs": [],
   "source": [
    "d = np.eye(2)         # Create a 2x2 identity matrix\n",
    "print(d)              # Prints \"[[ 1.  0.]\n",
    "                      #          [ 0.  1.]]\""
   ]
  },
  {
   "cell_type": "markdown",
   "id": "29527ea5",
   "metadata": {},
   "source": [
    "### Random"
   ]
  },
  {
   "cell_type": "code",
   "execution_count": 264,
   "id": "8db3d571",
   "metadata": {},
   "outputs": [
    {
     "name": "stdout",
     "output_type": "stream",
     "text": [
      "3\n"
     ]
    }
   ],
   "source": [
    "print(np.random.randint(30))"
   ]
  },
  {
   "cell_type": "code",
   "execution_count": 260,
   "id": "6e701cee",
   "metadata": {},
   "outputs": [
    {
     "name": "stdout",
     "output_type": "stream",
     "text": [
      "5\n"
     ]
    }
   ],
   "source": [
    "np.random.seed(0)\n",
    "print(np.random.randint(10))"
   ]
  },
  {
   "cell_type": "code",
   "execution_count": 269,
   "id": "ffe94469",
   "metadata": {},
   "outputs": [
    {
     "name": "stdout",
     "output_type": "stream",
     "text": [
      "[89 57 74 92 98 59]\n"
     ]
    }
   ],
   "source": [
    "random_arr = np.random.randint(10,100,6) # dari 10 ke 100 sebanyak 6 \n",
    "print(random_arr)"
   ]
  },
  {
   "cell_type": "code",
   "execution_count": 271,
   "id": "dab7c5da",
   "metadata": {},
   "outputs": [
    {
     "name": "stdout",
     "output_type": "stream",
     "text": [
      "array([[47, 50],\n",
      "       [67, 70]])\n"
     ]
    }
   ],
   "source": [
    "np.random.seed(0)\n",
    "random_arr = np.random.randint(3, high=100,\n",
    "                               size=(2, 2)) ## randint(low, high=None, size=None, dtype=int)\n",
    "\n",
    "print(repr(random_arr))\n",
    "\n"
   ]
  },
  {
   "cell_type": "code",
   "execution_count": 272,
   "id": "de242ea2",
   "metadata": {},
   "outputs": [
    {
     "name": "stdout",
     "output_type": "stream",
     "text": [
      "array([[43, 18],\n",
      "       [75, 25]])\n"
     ]
    }
   ],
   "source": [
    "\n",
    "# New seed\n",
    "np.random.seed(2)\n",
    "\n",
    "random_arr = np.random.randint(3, high=100,\n",
    "                               size=(2, 2))\n",
    "print(repr(random_arr))\n"
   ]
  },
  {
   "cell_type": "code",
   "execution_count": 273,
   "id": "c6eaddac",
   "metadata": {},
   "outputs": [
    {
     "name": "stdout",
     "output_type": "stream",
     "text": [
      "array([[47, 50],\n",
      "       [67, 70]])\n"
     ]
    }
   ],
   "source": [
    "\n",
    "# Original seed\n",
    "np.random.seed(0)\n",
    "random_arr = np.random.randint(3, high=100,\n",
    "                               size=(2, 2))\n",
    "print(repr(random_arr))"
   ]
  },
  {
   "cell_type": "markdown",
   "id": "55ceb0f6",
   "metadata": {},
   "source": [
    "### More Array Operations \n",
    "        Maximum, minimum, sum, mean, product, standard deviation, and more\n",
    "\n",
    "    NumPy juga melakukan fungsi agregasi. Selain min, max, dan sum, \n",
    "    Anda dapat dengan mudah menjalankan mean untuk mendapatkan rata-rata, \n",
    "    prod untuk mendapatkan hasil perkalian elemen, std untuk mendapatkan standar deviasi, dan banyak lagi.\n",
    "    \n",
    "    data.max()\n",
    "    data.min()\n",
    "    data.sum()"
   ]
  },
  {
   "cell_type": "code",
   "execution_count": 274,
   "id": "b558e822",
   "metadata": {},
   "outputs": [
    {
     "name": "stdout",
     "output_type": "stream",
     "text": [
      "[[0.45053314 0.17296777 0.34376245 0.5510652 ]\n",
      " [0.54627315 0.05093587 0.40067661 0.55645993]\n",
      " [0.12697628 0.82485143 0.26590556 0.56917101]]\n"
     ]
    }
   ],
   "source": [
    "A = np.array([[0.45053314, 0.17296777, 0.34376245, 0.5510652],\n",
    "              [0.54627315, 0.05093587, 0.40067661, 0.55645993],\n",
    "              [0.12697628, 0.82485143, 0.26590556, 0.56917101]])\n",
    "\n",
    "print(A)"
   ]
  },
  {
   "cell_type": "markdown",
   "id": "3afe631c",
   "metadata": {},
   "source": [
    "    Sangat umum untuk ingin menggabungkan sepanjang baris atau kolom. Secara default, setiap fungsi agregasi NumPy akan mengembalikan agregat dari seluruh array."
   ]
  },
  {
   "cell_type": "code",
   "execution_count": 275,
   "id": "f426f682",
   "metadata": {},
   "outputs": [
    {
     "data": {
      "text/plain": [
       "4.8595784"
      ]
     },
     "execution_count": 275,
     "metadata": {},
     "output_type": "execute_result"
    }
   ],
   "source": [
    "A.sum()\n"
   ]
  },
  {
   "cell_type": "code",
   "execution_count": 276,
   "id": "b0220d26",
   "metadata": {},
   "outputs": [
    {
     "data": {
      "text/plain": [
       "0.05093587"
      ]
     },
     "execution_count": 276,
     "metadata": {},
     "output_type": "execute_result"
    }
   ],
   "source": [
    "A.min()\n"
   ]
  },
  {
   "cell_type": "code",
   "execution_count": 277,
   "id": "5d21acdb",
   "metadata": {},
   "outputs": [
    {
     "data": {
      "text/plain": [
       "array([0.12697628, 0.05093587, 0.26590556, 0.5510652 ])"
      ]
     },
     "execution_count": 277,
     "metadata": {},
     "output_type": "execute_result"
    }
   ],
   "source": [
    "A.min(axis=0)\n"
   ]
  },
  {
   "cell_type": "markdown",
   "id": "0293df06",
   "metadata": {},
   "source": [
    " Empat nilai yang tercantum di atas sesuai dengan jumlah kolom dalam array Anda. Dengan array empat kolom, Anda akan mendapatkan empat nilai sebagai hasilnya."
   ]
  },
  {
   "cell_type": "code",
   "execution_count": 278,
   "id": "28b0009a",
   "metadata": {},
   "outputs": [
    {
     "data": {
      "text/plain": [
       "array([0.17296777, 0.05093587, 0.12697628])"
      ]
     },
     "execution_count": 278,
     "metadata": {},
     "output_type": "execute_result"
    }
   ],
   "source": [
    "A.min(axis=1)"
   ]
  },
  {
   "cell_type": "code",
   "execution_count": 279,
   "id": "d20e3b2e",
   "metadata": {},
   "outputs": [
    {
     "data": {
      "text/plain": [
       "0.21392120766089617"
      ]
     },
     "execution_count": 279,
     "metadata": {},
     "output_type": "execute_result"
    }
   ],
   "source": [
    "A.std()"
   ]
  },
  {
   "cell_type": "code",
   "execution_count": 280,
   "id": "07938dc9",
   "metadata": {},
   "outputs": [
    {
     "name": "stdout",
     "output_type": "stream",
     "text": [
      "[0.17296777 0.05093587 0.12697628]\n"
     ]
    }
   ],
   "source": [
    "dataA = A.min(axis=1)\n",
    "print(dataA)"
   ]
  },
  {
   "cell_type": "code",
   "execution_count": 281,
   "id": "3ba056d2",
   "metadata": {},
   "outputs": [
    {
     "name": "stdout",
     "output_type": "stream",
     "text": [
      "[0.17296777 0.05093587 0.12697628]\n",
      "1\n"
     ]
    }
   ],
   "source": [
    "print(dataA)\n",
    "print(dataA.argmin()) ## posisi index "
   ]
  },
  {
   "cell_type": "code",
   "execution_count": 282,
   "id": "5a8cb902",
   "metadata": {},
   "outputs": [
    {
     "name": "stdout",
     "output_type": "stream",
     "text": [
      "0\n"
     ]
    }
   ],
   "source": [
    "print(dataA.argmax()) ## posisi index "
   ]
  },
  {
   "cell_type": "markdown",
   "id": "f5ceeb3a",
   "metadata": {},
   "source": [
    "### save array into file "
   ]
  },
  {
   "cell_type": "code",
   "execution_count": 283,
   "id": "8dcb2378",
   "metadata": {},
   "outputs": [
    {
     "name": "stdout",
     "output_type": "stream",
     "text": [
      "[[0.45053314 0.17296777 0.34376245 0.5510652 ]\n",
      " [0.54627315 0.05093587 0.40067661 0.55645993]\n",
      " [0.12697628 0.82485143 0.26590556 0.56917101]]\n"
     ]
    }
   ],
   "source": [
    "A = np.array([[0.45053314, 0.17296777, 0.34376245, 0.5510652],\n",
    "              [0.54627315, 0.05093587, 0.40067661, 0.55645993],\n",
    "              [0.12697628, 0.82485143, 0.26590556, 0.56917101]])\n",
    "\n",
    "print(A)\n"
   ]
  },
  {
   "cell_type": "code",
   "execution_count": 284,
   "id": "fb0eef2c",
   "metadata": {},
   "outputs": [],
   "source": [
    "np.save(\"myarraytest2022.npy\",A)"
   ]
  },
  {
   "cell_type": "code",
   "execution_count": 285,
   "id": "4aaf4176",
   "metadata": {},
   "outputs": [
    {
     "name": "stdout",
     "output_type": "stream",
     "text": [
      "[[0.45053314 0.17296777 0.34376245 0.5510652 ]\n",
      " [0.54627315 0.05093587 0.40067661 0.55645993]\n",
      " [0.12697628 0.82485143 0.26590556 0.56917101]]\n"
     ]
    }
   ],
   "source": [
    "responseFile = np.load('myarraytest2022.npy')\n",
    "print(responseFile)"
   ]
  },
  {
   "cell_type": "code",
   "execution_count": null,
   "id": "5c4fec13",
   "metadata": {},
   "outputs": [],
   "source": []
  },
  {
   "cell_type": "markdown",
   "id": "a5cb24d7",
   "metadata": {},
   "source": [
    "## Latihan \n",
    "\n",
    "* Buat lah Array \n",
    "```\n",
    "[[  0  72   3]\n",
    " [  1   3 -60]\n",
    " [ -3  -2   4]]\n",
    "``` \n",
    "\n",
    "Simpan file Array tersebut \n",
    "Kemudian lakukan load file Array \n",
    "\n",
    "lakukan pencarian data dibawah ini \n",
    "\n",
    "Temukan Nilai minum dan maksimum pada file tersebut \n",
    "\n",
    "Temukan Nilai minum di setiap kolom \n",
    "Temukan Nilai Maksimum di setiap Kolom \n",
    "Menemukan Nilai Minimum di setiap baris \n",
    "Menemukan Nilai Maksimum di setiap baris "
   ]
  },
  {
   "cell_type": "code",
   "execution_count": null,
   "id": "c5e28da4",
   "metadata": {},
   "outputs": [],
   "source": [
    "arr = np.array([[0, 72, 3],\n",
    "                [1, 3, -60],\n",
    "                [-3, -2, 4]])\n",
    "print(arr)"
   ]
  },
  {
   "cell_type": "code",
   "execution_count": null,
   "id": "a592bd23",
   "metadata": {},
   "outputs": [],
   "source": [
    "np.save(\"myarray3.npy\",arr)\n"
   ]
  },
  {
   "cell_type": "code",
   "execution_count": null,
   "id": "89358490",
   "metadata": {},
   "outputs": [],
   "source": [
    "resfile = np.load('myarray3.npy')\n",
    "print(resfile)"
   ]
  },
  {
   "cell_type": "code",
   "execution_count": null,
   "id": "b587160b",
   "metadata": {},
   "outputs": [],
   "source": [
    "print(resfile.min())\n",
    "print(resfile.max())\n",
    "\n",
    "print(repr(resfile.min(axis=0)))\n",
    "print(repr(resfile.max(axis=0)))\n",
    "\n",
    "print(repr(resfile.max(axis=-1)))\n",
    "print(repr(resfile.min(axis=-1)))\n",
    "\n"
   ]
  },
  {
   "cell_type": "markdown",
   "id": "cc7192cb",
   "metadata": {},
   "source": [
    "----------"
   ]
  },
  {
   "cell_type": "markdown",
   "id": "c3edcfda",
   "metadata": {},
   "source": [
    "# Latihan Studi Kasus \n",
    "\n",
    "10 buah botol minum akan dibuat untuk menyimpan air dengan jari2 dan tinggi yang berbeda - beda . \n",
    "Besaran jari2 dan tinggi botol adalah bilang bulat kisaran 7 sampai dengan 20 cm . \n",
    "\n",
    "Temukan : \n",
    "\n",
    "1. Volume air yang dapat disimpan di setiap botol \n",
    "2. Total volume air yang tersimpan dalam semua botol \n",
    "3. Botol mana yang volume air terkecil dan temukan volumenya \n",
    "4. Botol mana yang menampung volume air terbesar dan temukan volume airnya . \n",
    "5. Rata-rata volume yang dapat di tampung di tiap botol \n"
   ]
  },
  {
   "cell_type": "markdown",
   "id": "cb1d7aed",
   "metadata": {},
   "source": [
    "--------"
   ]
  },
  {
   "cell_type": "markdown",
   "id": "282480b8",
   "metadata": {},
   "source": [
    "Solusi : \n",
    "1. Lakukan generate tinggi botol dan jari2 \n",
    "2. Punya batasan 7 sampai 20 , kemudian sebanyak 10 \n",
    "   Dengan kata lain harus mengenerate sebanyak 20 \n",
    "3. Membentuk botol sebanyak 10 buah (tinggi dan jari2) \n",
    "4. Setelah terbentuk botol mencari volume air masing botol \n",
    "   Volume air = (Pi x r^2 x t ) untuk numpy pi = np.pi \n",
    "5. Mencari Total volume air dalam semua botol sum \n",
    "6. Mencari botol yang terkcil dan temukan volume nya \n",
    "7. Mencari botol yang terbesar dan temukan volume nya \n",
    "8. Mencari rata2 dengan mean "
   ]
  },
  {
   "cell_type": "code",
   "execution_count": 286,
   "id": "8871bfca",
   "metadata": {},
   "outputs": [
    {
     "name": "stdout",
     "output_type": "stream",
     "text": [
      "[19 12  7 10 18 10 14 16 10 12  9 11 14 13 15 15 19 17  8 13]\n"
     ]
    }
   ],
   "source": [
    "import numpy as np \n",
    "np.random.seed(0)\n",
    "dataBotol = np.random.randint(7,20,20)\n",
    "print(dataBotol)"
   ]
  },
  {
   "cell_type": "code",
   "execution_count": null,
   "id": "ac557118",
   "metadata": {},
   "outputs": [],
   "source": [
    "dataBotol.resize(10,2)\n",
    "print(dataBotol)"
   ]
  },
  {
   "cell_type": "code",
   "execution_count": null,
   "id": "a5d13dcc",
   "metadata": {},
   "outputs": [],
   "source": [
    "## tinngi kolom = 0\n",
    "## jari kolom =1 \n",
    "volume = np.pi * dataBotol[:,1]**2 * dataBotol[:,0]\n",
    "print(volume)"
   ]
  },
  {
   "cell_type": "code",
   "execution_count": null,
   "id": "53c6dd86",
   "metadata": {},
   "outputs": [],
   "source": [
    "totalVolume = volume.sum()\n",
    "print(f\"Total volume  : {totalVolume} \")\n"
   ]
  },
  {
   "cell_type": "code",
   "execution_count": null,
   "id": "5c41218b",
   "metadata": {},
   "outputs": [],
   "source": [
    "volume.argmin() # \n",
    "volume[volume.argmin()]"
   ]
  },
  {
   "cell_type": "code",
   "execution_count": null,
   "id": "813aea0b",
   "metadata": {},
   "outputs": [],
   "source": [
    "volume.argmax()\n",
    "volume[volume.argmax()]"
   ]
  },
  {
   "cell_type": "code",
   "execution_count": null,
   "id": "9e53b8b4",
   "metadata": {},
   "outputs": [],
   "source": [
    "idxBotolKecil = volume.argmin()\n",
    "volumeBotolKecil = volume[idxBotolKecil]\n",
    "print(f\"Botol Terkecil Pada Botol index : {idxBotolKecil} volume {volumeBotolKecil}\")\n",
    "idxBotolBesar = volume.argmax()\n",
    "volumeBotolBesar = volume[idxBotolBesar]\n",
    "print(f\"Botol Terkecil Pada Botol index : {idxBotolBesar} volume {volumeBotolBesar}\")\n"
   ]
  },
  {
   "cell_type": "markdown",
   "id": "d1e46ca9",
   "metadata": {},
   "source": [
    "----------"
   ]
  },
  {
   "cell_type": "markdown",
   "id": "46abf131",
   "metadata": {},
   "source": [
    "### Matrices\n",
    "\n",
    "Anda dapat meneruskan list of list Python untuk membuat matriks untuk mewakilinya di NumPy.\n",
    "\n",
    "Membuat Matriks\n",
    "np.array([[1,2],[3,4]])\n",
    "\n",
    "Kami juga dapat menggunakan metode yang sama yang kami sebutkan di atas (ones(), zeros(), dan random.random()) selama kami memberi mereka tupel yang menjelaskan dimensi matriks yang kami buat\n",
    "\n",
    "np.ones((3,2))\n",
    "np.nol((3,2))\n",
    "np.random.random((3,2))\n"
   ]
  },
  {
   "cell_type": "code",
   "execution_count": 287,
   "id": "557a5a0c",
   "metadata": {},
   "outputs": [
    {
     "name": "stdout",
     "output_type": "stream",
     "text": [
      "[[1. 1.]\n",
      " [1. 1.]\n",
      " [1. 1.]]\n",
      "[[0. 0.]\n",
      " [0. 0.]\n",
      " [0. 0.]]\n",
      "[[0.81216873 0.47997717]\n",
      " [0.3927848  0.83607876]\n",
      " [0.33739616 0.64817187]]\n"
     ]
    }
   ],
   "source": [
    "print(np.ones((3,2)))\n",
    "print(np.zeros((3,2)))\n",
    "print(np.random.random((3,2)))"
   ]
  },
  {
   "cell_type": "markdown",
   "id": "0c330e7e",
   "metadata": {},
   "source": [
    "### Matrix Arithmetic\n",
    "    Kita dapat menjumlahkan dan mengalikan matriks menggunakan operator aritmatika (+ - * / ) \n",
    "    Jika kedua matriks tersebut berukuran sama. \n",
    "    Numpy menangani sebagai position-wise operations. \n",
    "    "
   ]
  },
  {
   "cell_type": "code",
   "execution_count": 290,
   "id": "47a55602",
   "metadata": {},
   "outputs": [
    {
     "name": "stdout",
     "output_type": "stream",
     "text": [
      "[[1 2]\n",
      " [3 4]]\n"
     ]
    }
   ],
   "source": [
    "data = np.array([[1,2],[3,4]])\n",
    "print(data)"
   ]
  },
  {
   "cell_type": "code",
   "execution_count": 291,
   "id": "8620fdbd",
   "metadata": {},
   "outputs": [
    {
     "name": "stdout",
     "output_type": "stream",
     "text": [
      "[[1. 1.]\n",
      " [1. 1.]]\n"
     ]
    }
   ],
   "source": [
    "ones = np.ones([2,2]) \n",
    "print(ones)"
   ]
  },
  {
   "cell_type": "code",
   "execution_count": 292,
   "id": "7f7e05ca",
   "metadata": {},
   "outputs": [
    {
     "name": "stdout",
     "output_type": "stream",
     "text": [
      "[[2. 3.]\n",
      " [4. 5.]]\n"
     ]
    }
   ],
   "source": [
    "print(data+ones)"
   ]
  },
  {
   "cell_type": "code",
   "execution_count": 293,
   "id": "5fd6953c",
   "metadata": {},
   "outputs": [
    {
     "name": "stdout",
     "output_type": "stream",
     "text": [
      "[[1. 1.]]\n"
     ]
    }
   ],
   "source": [
    "ones_row = np.ones([1,2])\n",
    "print(ones_row)\n"
   ]
  },
  {
   "cell_type": "code",
   "execution_count": null,
   "id": "e6b482cb",
   "metadata": {},
   "outputs": [],
   "source": [
    "print(data + ones_row)"
   ]
  },
  {
   "cell_type": "code",
   "execution_count": null,
   "id": "38d30942",
   "metadata": {},
   "outputs": [],
   "source": [
    "data1 = np.array([[1,2],[3,4],[5,6]])\n",
    "print(data1)"
   ]
  },
  {
   "cell_type": "code",
   "execution_count": null,
   "id": "0d63e129",
   "metadata": {},
   "outputs": [],
   "source": [
    "print(data1 + ones_row)"
   ]
  },
  {
   "cell_type": "code",
   "execution_count": null,
   "id": "012695ea",
   "metadata": {},
   "outputs": [],
   "source": [
    "data2 = np.array([[1,2,3],[4,5,6]])\n",
    "print(data2)"
   ]
  },
  {
   "cell_type": "code",
   "execution_count": null,
   "id": "14cf9b06",
   "metadata": {},
   "outputs": [],
   "source": [
    "print(data2 + ones_row)"
   ]
  },
  {
   "cell_type": "code",
   "execution_count": null,
   "id": "40f08267",
   "metadata": {},
   "outputs": [],
   "source": [
    "ones_row.shape?"
   ]
  },
  {
   "cell_type": "code",
   "execution_count": null,
   "id": "489943d6",
   "metadata": {},
   "outputs": [],
   "source": [
    "data2.shape"
   ]
  },
  {
   "cell_type": "code",
   "execution_count": null,
   "id": "bd732f99",
   "metadata": {},
   "outputs": [],
   "source": [
    "data.shape"
   ]
  },
  {
   "cell_type": "markdown",
   "id": "2081319f",
   "metadata": {},
   "source": [
    "----------"
   ]
  },
  {
   "cell_type": "markdown",
   "id": "5f862de6",
   "metadata": {},
   "source": [
    "### Dot Product \n",
    "    \n",
    "    Perbedaan utama yang harus dibuat dengan aritmatika adalah kasus perkalian matriks menggunakan produk titik. NumPy memberikan setiap matriks metode dot() yang dapat kita gunakan untuk melakukan operasi produk dot dengan matriks lain"
   ]
  },
  {
   "cell_type": "code",
   "execution_count": null,
   "id": "bf795441",
   "metadata": {},
   "outputs": [],
   "source": [
    "np.dot?"
   ]
  },
  {
   "cell_type": "code",
   "execution_count": 294,
   "id": "31f11ed4",
   "metadata": {},
   "outputs": [
    {
     "data": {
      "text/plain": [
       "12"
      ]
     },
     "execution_count": 294,
     "metadata": {},
     "output_type": "execute_result"
    }
   ],
   "source": [
    "np.dot(3, 4)"
   ]
  },
  {
   "cell_type": "code",
   "execution_count": 295,
   "id": "2477ead9",
   "metadata": {},
   "outputs": [
    {
     "name": "stdout",
     "output_type": "stream",
     "text": [
      "[[[[  0   1   2   3   4   5]\n",
      "   [  6   7   8   9  10  11]\n",
      "   [ 12  13  14  15  16  17]\n",
      "   [ 18  19  20  21  22  23]\n",
      "   [ 24  25  26  27  28  29]]\n",
      "\n",
      "  [[ 30  31  32  33  34  35]\n",
      "   [ 36  37  38  39  40  41]\n",
      "   [ 42  43  44  45  46  47]\n",
      "   [ 48  49  50  51  52  53]\n",
      "   [ 54  55  56  57  58  59]]\n",
      "\n",
      "  [[ 60  61  62  63  64  65]\n",
      "   [ 66  67  68  69  70  71]\n",
      "   [ 72  73  74  75  76  77]\n",
      "   [ 78  79  80  81  82  83]\n",
      "   [ 84  85  86  87  88  89]]\n",
      "\n",
      "  [[ 90  91  92  93  94  95]\n",
      "   [ 96  97  98  99 100 101]\n",
      "   [102 103 104 105 106 107]\n",
      "   [108 109 110 111 112 113]\n",
      "   [114 115 116 117 118 119]]]\n",
      "\n",
      "\n",
      " [[[120 121 122 123 124 125]\n",
      "   [126 127 128 129 130 131]\n",
      "   [132 133 134 135 136 137]\n",
      "   [138 139 140 141 142 143]\n",
      "   [144 145 146 147 148 149]]\n",
      "\n",
      "  [[150 151 152 153 154 155]\n",
      "   [156 157 158 159 160 161]\n",
      "   [162 163 164 165 166 167]\n",
      "   [168 169 170 171 172 173]\n",
      "   [174 175 176 177 178 179]]\n",
      "\n",
      "  [[180 181 182 183 184 185]\n",
      "   [186 187 188 189 190 191]\n",
      "   [192 193 194 195 196 197]\n",
      "   [198 199 200 201 202 203]\n",
      "   [204 205 206 207 208 209]]\n",
      "\n",
      "  [[210 211 212 213 214 215]\n",
      "   [216 217 218 219 220 221]\n",
      "   [222 223 224 225 226 227]\n",
      "   [228 229 230 231 232 233]\n",
      "   [234 235 236 237 238 239]]]\n",
      "\n",
      "\n",
      " [[[240 241 242 243 244 245]\n",
      "   [246 247 248 249 250 251]\n",
      "   [252 253 254 255 256 257]\n",
      "   [258 259 260 261 262 263]\n",
      "   [264 265 266 267 268 269]]\n",
      "\n",
      "  [[270 271 272 273 274 275]\n",
      "   [276 277 278 279 280 281]\n",
      "   [282 283 284 285 286 287]\n",
      "   [288 289 290 291 292 293]\n",
      "   [294 295 296 297 298 299]]\n",
      "\n",
      "  [[300 301 302 303 304 305]\n",
      "   [306 307 308 309 310 311]\n",
      "   [312 313 314 315 316 317]\n",
      "   [318 319 320 321 322 323]\n",
      "   [324 325 326 327 328 329]]\n",
      "\n",
      "  [[330 331 332 333 334 335]\n",
      "   [336 337 338 339 340 341]\n",
      "   [342 343 344 345 346 347]\n",
      "   [348 349 350 351 352 353]\n",
      "   [354 355 356 357 358 359]]]]\n"
     ]
    }
   ],
   "source": [
    "a = np.arange(3*4*5*6).reshape((3,4,5,6)) \n",
    "print(a)\n",
    "\n"
   ]
  },
  {
   "cell_type": "code",
   "execution_count": null,
   "id": "3a286aac",
   "metadata": {},
   "outputs": [],
   "source": [
    "b = np.arange(3*4*5*6)[::-1].reshape((5,4,6,3))\n",
    "print(b)"
   ]
  },
  {
   "cell_type": "code",
   "execution_count": null,
   "id": "af313a51",
   "metadata": {},
   "outputs": [],
   "source": [
    "np.dot(a, b)[2,3,2,1,2,2]"
   ]
  },
  {
   "cell_type": "code",
   "execution_count": null,
   "id": "082c71f1",
   "metadata": {},
   "outputs": [],
   "source": [
    "sum(a[2,3,2,:] * b[1,2,:,2])"
   ]
  },
  {
   "cell_type": "markdown",
   "id": "76c569c4",
   "metadata": {},
   "source": [
    "### Matrix Indexing\n",
    "    Operasi pengindeksan dan pemotongan menjadi lebih berguna saat kita memanipulasi matriks\n",
    "    \n",
    "    \n",
    "   ```np.array([[1, 2], [3, 4], [5, 6]])```\n",
    "\n",
    "    \n",
    "<img src=\"https://i.ibb.co/4sS8HGD/Screen-Shot-2021-09-02-at-8-26-34-AM.png\" align=\"left\"> \n"
   ]
  },
  {
   "cell_type": "code",
   "execution_count": 296,
   "id": "c632e23a",
   "metadata": {},
   "outputs": [
    {
     "name": "stdout",
     "output_type": "stream",
     "text": [
      "[[1 2]\n",
      " [3 4]\n",
      " [5 6]]\n"
     ]
    }
   ],
   "source": [
    "data = np.array([[1, 2], [3, 4], [5, 6]])\n",
    "\n",
    "print(data)"
   ]
  },
  {
   "cell_type": "code",
   "execution_count": 297,
   "id": "0f9a8399",
   "metadata": {},
   "outputs": [
    {
     "name": "stdout",
     "output_type": "stream",
     "text": [
      "2\n"
     ]
    }
   ],
   "source": [
    "print(data[0,1])"
   ]
  },
  {
   "cell_type": "code",
   "execution_count": 300,
   "id": "be33b729",
   "metadata": {},
   "outputs": [
    {
     "name": "stdout",
     "output_type": "stream",
     "text": [
      "[[3 4]\n",
      " [5 6]]\n"
     ]
    }
   ],
   "source": [
    "print(data[1:3])"
   ]
  },
  {
   "cell_type": "code",
   "execution_count": 301,
   "id": "fc0b7bb7",
   "metadata": {},
   "outputs": [
    {
     "name": "stdout",
     "output_type": "stream",
     "text": [
      "[1 3]\n"
     ]
    }
   ],
   "source": [
    "print(data[0:2,0])"
   ]
  },
  {
   "cell_type": "code",
   "execution_count": null,
   "id": "ff8b2114",
   "metadata": {},
   "outputs": [],
   "source": [
    "print((data[:]))\n"
   ]
  },
  {
   "cell_type": "code",
   "execution_count": 302,
   "id": "a003c3eb",
   "metadata": {},
   "outputs": [
    {
     "name": "stdout",
     "output_type": "stream",
     "text": [
      "[2 4 6]\n"
     ]
    },
    {
     "data": {
      "text/plain": [
       "1"
      ]
     },
     "execution_count": 302,
     "metadata": {},
     "output_type": "execute_result"
    }
   ],
   "source": [
    "print(data[:, -1]) # -1 kanan\n",
    "xdata = data[:, -1]\n",
    "xdata.ndim  # 1 dimensi\n",
    "##xdata.shape"
   ]
  },
  {
   "cell_type": "code",
   "execution_count": 303,
   "id": "0bfd78e0",
   "metadata": {},
   "outputs": [
    {
     "name": "stdout",
     "output_type": "stream",
     "text": [
      "[[2]\n",
      " [4]\n",
      " [6]]\n"
     ]
    },
    {
     "data": {
      "text/plain": [
       "2"
      ]
     },
     "execution_count": 303,
     "metadata": {},
     "output_type": "execute_result"
    }
   ],
   "source": [
    "print(data[:, 1:]) # -1 kanan\n",
    "xdata = data[:, 1:]\n",
    "xdata.ndim  # 2 dimensi\n",
    "#xdata.shape"
   ]
  },
  {
   "cell_type": "code",
   "execution_count": 304,
   "id": "de4ea5a8",
   "metadata": {},
   "outputs": [
    {
     "name": "stdout",
     "output_type": "stream",
     "text": [
      "[[1 2]\n",
      " [3 4]\n",
      " [5 6]]\n"
     ]
    }
   ],
   "source": [
    "print(data[:, :]) "
   ]
  },
  {
   "cell_type": "code",
   "execution_count": 305,
   "id": "313beb6a",
   "metadata": {},
   "outputs": [
    {
     "name": "stdout",
     "output_type": "stream",
     "text": [
      "[[1]\n",
      " [3]\n",
      " [5]]\n"
     ]
    }
   ],
   "source": [
    "print(data[:, 0:1]) \n"
   ]
  },
  {
   "cell_type": "code",
   "execution_count": null,
   "id": "d2ba3410",
   "metadata": {},
   "outputs": [],
   "source": [
    "print(data[:, 1:2]) "
   ]
  },
  {
   "cell_type": "code",
   "execution_count": null,
   "id": "287d2bbc",
   "metadata": {},
   "outputs": [],
   "source": [
    "print(data[:, 1:]) \n"
   ]
  },
  {
   "cell_type": "code",
   "execution_count": null,
   "id": "bd5ce8d8",
   "metadata": {},
   "outputs": [],
   "source": [
    "print((data[0:2,:]))"
   ]
  },
  {
   "cell_type": "markdown",
   "id": "6937d938",
   "metadata": {},
   "source": [
    "<img src=\"https://i.ibb.co/4sS8HGD/Screen-Shot-2021-09-02-at-8-26-34-AM.png\" align=\"left\"> "
   ]
  },
  {
   "cell_type": "code",
   "execution_count": null,
   "id": "8a07084e",
   "metadata": {},
   "outputs": [],
   "source": [
    "print(repr(data[0:1, 1:]))"
   ]
  },
  {
   "cell_type": "code",
   "execution_count": null,
   "id": "f0c7131f",
   "metadata": {},
   "outputs": [],
   "source": [
    "print(repr(data[0:2,:]))"
   ]
  },
  {
   "cell_type": "code",
   "execution_count": null,
   "id": "076b9e4e",
   "metadata": {},
   "outputs": [],
   "source": [
    "print(repr(data[0:2, 1:]))"
   ]
  },
  {
   "cell_type": "code",
   "execution_count": null,
   "id": "823548d1",
   "metadata": {},
   "outputs": [],
   "source": [
    "print(repr(data[1, 1:]))"
   ]
  },
  {
   "cell_type": "markdown",
   "id": "8f2d72be",
   "metadata": {},
   "source": [
    "<img src=\"https://i.ibb.co/rQN75GL/numpy-indexing-arrays-width-1200.jpg\" align=\"left\"> \n"
   ]
  },
  {
   "cell_type": "code",
   "execution_count": null,
   "id": "8d4b2e07",
   "metadata": {},
   "outputs": [],
   "source": [
    "np_m = np.arange(1,17)\n",
    "np_m \n"
   ]
  },
  {
   "cell_type": "code",
   "execution_count": null,
   "id": "b49562a8",
   "metadata": {},
   "outputs": [],
   "source": [
    "np4x4 = np_m.reshape(4,4)\n",
    "np4x4 "
   ]
  },
  {
   "cell_type": "markdown",
   "id": "cac2f5b6",
   "metadata": {},
   "source": [
    "<img src=\"https://i.ibb.co/rQN75GL/numpy-indexing-arrays-width-1200.jpg\" align=\"left\"> \n"
   ]
  },
  {
   "cell_type": "code",
   "execution_count": null,
   "id": "6821ab39",
   "metadata": {},
   "outputs": [],
   "source": [
    "# baris 1 dan kolom 2:4 \n",
    "npa = np4x4[1,2:4]\n",
    "print(npa)\n",
    "print(repr(npa))\n",
    "print(5*\"------------------------\")\n",
    "# semua baris , hanya kolom 1 \n",
    "npb = np4x4[:,1] \n",
    "print(npb)\n",
    "print(repr(npb))\n"
   ]
  },
  {
   "cell_type": "code",
   "execution_count": null,
   "id": "5aa74e42",
   "metadata": {},
   "outputs": [],
   "source": [
    "# baris 2 sampai akhir dan kolom 2 sampai akhir \n",
    "npc = np4x4[2: , 2:] \n",
    "print(npc) \n",
    "print(5*\"-\")\n",
    "# baris 1  , sampai akhir , step 2  dan  kolom dari 0 sampai kolom akhir ,  step 2 \n",
    "npd = np4x4[1::2, ::2] \n",
    "print(npd )"
   ]
  },
  {
   "cell_type": "markdown",
   "id": "863c474b",
   "metadata": {},
   "source": [
    "## latihan index "
   ]
  },
  {
   "cell_type": "code",
   "execution_count": null,
   "id": "a8fa8415",
   "metadata": {},
   "outputs": [],
   "source": [
    "# membuat 2 array dengan shape (3, 4)\n",
    "# [[ 1  2  3  4]\n",
    "#  [ 5  6  7  8]\n",
    "#  [ 9 10 11 12]]\n",
    "a = np.array([[1,2,3,4], [5,6,7,8], [9,10,11,12]])\n",
    "print(a)\n",
    "# menggunakan slicing untuk mendaptkan subarray yang terdiri dari 2 baris pertama\n",
    "# dan kolom 1 dan 2; b adalah array bentuk berikut (2, 2):\n",
    "# [[2 3]\n",
    "#  [6 7]]\n",
    "b = a[:2, 1:3]\n",
    "print(b)\n",
    "\n",
    "print(a[0, 1])   # Prints \"2\"\n",
    "b[0, 0] = 77     # b[0, 0] is the same piece of data as a[0, 1]\n",
    "print(b)\n",
    "print(a[0, 1])   # Prints \"77\""
   ]
  },
  {
   "cell_type": "code",
   "execution_count": null,
   "id": "e72566c1",
   "metadata": {},
   "outputs": [],
   "source": [
    "arr = np.array([[1, 2, 3],\n",
    "                [4, 5, 6],\n",
    "                [7, 8, 9]])\n",
    "print((arr[:]))"
   ]
  },
  {
   "cell_type": "code",
   "execution_count": null,
   "id": "9288b120",
   "metadata": {},
   "outputs": [],
   "source": [
    "print((arr[1:]))"
   ]
  },
  {
   "cell_type": "code",
   "execution_count": null,
   "id": "d381a5bd",
   "metadata": {},
   "outputs": [],
   "source": [
    "print(repr(arr[:, -1]))"
   ]
  },
  {
   "cell_type": "code",
   "execution_count": null,
   "id": "234ee033",
   "metadata": {},
   "outputs": [],
   "source": [
    "print(repr(arr[:, 1:]))\n"
   ]
  },
  {
   "cell_type": "code",
   "execution_count": null,
   "id": "1d2f0e65",
   "metadata": {},
   "outputs": [],
   "source": [
    "print(repr(arr[0:1,:]))"
   ]
  },
  {
   "cell_type": "code",
   "execution_count": null,
   "id": "5c1eabdb",
   "metadata": {},
   "outputs": [],
   "source": [
    "print(repr(arr[0:1, 1:]))"
   ]
  },
  {
   "cell_type": "code",
   "execution_count": null,
   "id": "75facab0",
   "metadata": {},
   "outputs": [],
   "source": [
    "print(repr(arr[0:2,:]))"
   ]
  },
  {
   "cell_type": "code",
   "execution_count": null,
   "id": "ee11e098",
   "metadata": {},
   "outputs": [],
   "source": [
    "print(repr(arr[0:2, 1:]))\n"
   ]
  },
  {
   "cell_type": "code",
   "execution_count": null,
   "id": "812fdb30",
   "metadata": {},
   "outputs": [],
   "source": [
    "print(repr(arr[0, 1:]))"
   ]
  },
  {
   "cell_type": "markdown",
   "id": "a875b742",
   "metadata": {},
   "source": [
    "### Matrix Aggregation\n",
    "    Kita dapat menjumlahkan matriks dengan cara yang sama seperti kita menjumlahkan vector"
   ]
  },
  {
   "cell_type": "code",
   "execution_count": null,
   "id": "239dc621",
   "metadata": {},
   "outputs": [],
   "source": [
    "data = np.array([[1, 2], [3, 4], [5, 6]])\n",
    "\n",
    "print(data)"
   ]
  },
  {
   "cell_type": "code",
   "execution_count": null,
   "id": "c1b91e54",
   "metadata": {},
   "outputs": [],
   "source": [
    "print(data.max())\n",
    "print(data.min())\n",
    "print(data.sum())"
   ]
  },
  {
   "cell_type": "code",
   "execution_count": null,
   "id": "c87756ca",
   "metadata": {},
   "outputs": [],
   "source": [
    "print(data.max(axis=0))\n",
    "print(data.max(axis=1))"
   ]
  },
  {
   "cell_type": "markdown",
   "id": "e8c0cd16",
   "metadata": {},
   "source": [
    "### Transposing and Reshaping¶\n",
    "\n",
    "Kebutuhan umum ketika berhadapan dengan matriks adalah kebutuhan untuk memutarnya. Ini sering terjadi ketika kita perlu mengambil produk titik dari dua matriks dan perlu menyelaraskan dimensi yang mereka bagi. Array NumPy memiliki properti nyaman yang disebut T untuk mendapatkan transpos matriks.\n",
    "\n",
    "\n",
    "mentraspose suatu array adalah proses mengubah posisi **element2 vektor baris menjadi vektor kolom demikian pula sebaliknya.* \n",
    "\n",
    "Menggunakan numpy , melakukan traspose suatu array dapat dilakukan : \n",
    " dengan cara memangil function **transpose()** atau memanggil properti **T** dari suatu array  "
   ]
  },
  {
   "cell_type": "code",
   "execution_count": 306,
   "id": "e9f5c6f2",
   "metadata": {},
   "outputs": [
    {
     "name": "stdout",
     "output_type": "stream",
     "text": [
      "[[1 2]\n",
      " [3 4]\n",
      " [5 6]]\n"
     ]
    }
   ],
   "source": [
    "data = np.array([[1, 2], [3, 4], [5, 6]])\n",
    "print(data)"
   ]
  },
  {
   "cell_type": "code",
   "execution_count": 307,
   "id": "57bdcf6e",
   "metadata": {},
   "outputs": [
    {
     "name": "stdout",
     "output_type": "stream",
     "text": [
      "[[1 3 5]\n",
      " [2 4 6]]\n"
     ]
    }
   ],
   "source": [
    "print(data.transpose())"
   ]
  },
  {
   "cell_type": "code",
   "execution_count": null,
   "id": "dfedece8",
   "metadata": {},
   "outputs": [],
   "source": [
    "print(data.T)"
   ]
  },
  {
   "cell_type": "code",
   "execution_count": null,
   "id": "5b964446",
   "metadata": {},
   "outputs": [],
   "source": [
    "data = np.array([[1, 2], [3, 4], [5, 6]])\n",
    "print(data)\n",
    "data = data.transpose()\n",
    "print(data)"
   ]
  },
  {
   "cell_type": "code",
   "execution_count": null,
   "id": "3cca4b15",
   "metadata": {},
   "outputs": [],
   "source": []
  },
  {
   "cell_type": "markdown",
   "id": "3ec28d7d",
   "metadata": {},
   "source": [
    "    Dalam kasus penggunaan yang lebih lanjut, Anda mungkin perlu mengganti dimensi matriks tertentu. \n",
    "    Ini sering terjadi dalam aplikasi pembelajaran mesin di mana model tertentu mengharapkan bentuk tertentu untuk input yang berbeda dari kumpulan data Anda.\n",
    "\n",
    "    Metode reshape() NumPy berguna dalam kasus ini. \n",
    "    Anda hanya memberikan dimensi baru yang Anda inginkan untuk matriks. \n",
    "    Anda dapat meneruskan -1 untuk suatu dimensi dan NumPy dapat menyimpulkan dimensi yang benar berdasarkan matriks Anda"
   ]
  },
  {
   "cell_type": "code",
   "execution_count": null,
   "id": "c1ca91da",
   "metadata": {},
   "outputs": [],
   "source": [
    "data_col = np.array([[1, 2, 3, 4, 5, 6]]).T\n",
    "print(data_col)"
   ]
  },
  {
   "cell_type": "code",
   "execution_count": null,
   "id": "6c16f2e3",
   "metadata": {},
   "outputs": [],
   "source": [
    "data_col.reshape(2, 3)"
   ]
  },
  {
   "cell_type": "code",
   "execution_count": null,
   "id": "168e0232",
   "metadata": {},
   "outputs": [],
   "source": [
    "data_col.reshape(3, 2)"
   ]
  },
  {
   "cell_type": "markdown",
   "id": "b83924ca",
   "metadata": {},
   "source": [
    "Anda juga dapat menggunakan np.transpose untuk membalikkan atau mengubah sumbu array sesuai dengan nilai yang Anda tentukan. Jika Anda mulai dengan array ini"
   ]
  },
  {
   "cell_type": "code",
   "execution_count": null,
   "id": "a94ca18c",
   "metadata": {},
   "outputs": [],
   "source": [
    "arr = np.arange(6).reshape((2, 3))\n",
    "print(arr)"
   ]
  },
  {
   "cell_type": "markdown",
   "id": "ad126a4e",
   "metadata": {},
   "source": [
    "Dalam banyak hal, berurusan dengan dimensi baru hanyalah menambahkan koma ke parameter fungsi NumPy "
   ]
  },
  {
   "cell_type": "code",
   "execution_count": null,
   "id": "9a576293",
   "metadata": {},
   "outputs": [],
   "source": [
    "print(np.ones((4,3,2)))"
   ]
  },
  {
   "cell_type": "markdown",
   "id": "737ef6a3",
   "metadata": {},
   "source": [
    "--------"
   ]
  },
  {
   "cell_type": "markdown",
   "id": "e0a39fed",
   "metadata": {},
   "source": [
    "### N-Dimensional Array \n",
    "    NumPy dapat melakukan semua yang telah kita sebutkan dalam sejumlah dimensi. Struktur data pusatnya disebut ndarray (N-Dimensional Array) karena suatu alasan."
   ]
  },
  {
   "cell_type": "code",
   "execution_count": null,
   "id": "bde36fd3",
   "metadata": {},
   "outputs": [],
   "source": [
    "import numpy as np "
   ]
  },
  {
   "cell_type": "code",
   "execution_count": null,
   "id": "77f04a97",
   "metadata": {},
   "outputs": [],
   "source": [
    "\n",
    "ndarr = np.array([ [[1,2],[3,4]],\n",
    "                  [[5,6],[7,8]] ])\n",
    "\n",
    "print(ndarr)"
   ]
  },
  {
   "cell_type": "code",
   "execution_count": null,
   "id": "d0176583",
   "metadata": {},
   "outputs": [],
   "source": [
    "print(np.ones((4,3,2)))"
   ]
  },
  {
   "cell_type": "code",
   "execution_count": null,
   "id": "a428339e",
   "metadata": {},
   "outputs": [],
   "source": [
    "print(np.zeros((4,3,2)))"
   ]
  },
  {
   "cell_type": "code",
   "execution_count": null,
   "id": "64613937",
   "metadata": {},
   "outputs": [],
   "source": [
    "print(np.random.random((4,3,2)))\n"
   ]
  },
  {
   "cell_type": "markdown",
   "id": "04dfd815",
   "metadata": {},
   "source": [
    "### Flatten N-Dimensional Array\n",
    "\n",
    "Ada dua cara populer untuk meratakan array: .flatten() dan .ravel(). Perbedaan utama antara keduanya adalah bahwa array baru yang dibuat menggunakan ravel() sebenarnya adalah referensi ke array induk. Ini berarti bahwa setiap perubahan pada array baru akan mempengaruhi array induk juga. Karena ravel tidak membuat salinan, ini hemat memori."
   ]
  },
  {
   "cell_type": "code",
   "execution_count": null,
   "id": "1bd98a85",
   "metadata": {},
   "outputs": [],
   "source": [
    "arrflat = np.array([[1, 2, 3, 4], [5, 6, 7, 8], [9, 10, 11, 12]])\n",
    "\n",
    "print(arrflat)"
   ]
  },
  {
   "cell_type": "code",
   "execution_count": null,
   "id": "ed8f6c95",
   "metadata": {},
   "outputs": [],
   "source": [
    "# You can use flatten to flatten your array into a 1D array.\n",
    "arrflat.flatten()"
   ]
  },
  {
   "cell_type": "markdown",
   "id": "0111cbe3",
   "metadata": {},
   "source": [
    "### Working with Math Formulas \n",
    "\n",
    "    Menerapkan rumus matematika yang bekerja pada array adalah salah satu hal yang membuat NumPy sangat dihormati di komunitas Python ilmiah.\n",
    "\n",
    "    Misalnya, ini adalah rumus mean square error (rumus utama yang digunakan dalam model pembelajaran mesin terawasi yang menangani regresi):\n",
    "\n",
    "\n",
    "Misalnya, ini adalah rumus mean square error (rumus utama yang digunakan dalam supervised machine learning model yang menangani regresi):\n",
    "\n",
    "<br>\n",
    "\n",
    "<img src=\"https://i.ibb.co/7tTftxS/Screen-Shot-2021-09-02-at-12-18-44-PM.png\" align=\"left\"> \n",
    "   \n"
   ]
  },
  {
   "cell_type": "markdown",
   "id": "fd20ac19",
   "metadata": {},
   "source": [
    "     Menerapkan rumus ini sederhana dan mudah di Numpy \n",
    "\n",
    "    error (1/n) * np.sum(np.square(observed - prediction)) "
   ]
  },
  {
   "cell_type": "code",
   "execution_count": null,
   "id": "4ddfa3f9",
   "metadata": {},
   "outputs": [],
   "source": [
    "error (1/n) * np.sum(np.square(observed - prediction)) \n"
   ]
  },
  {
   "cell_type": "markdown",
   "id": "377714c7",
   "metadata": {},
   "source": [
    "------------"
   ]
  },
  {
   "cell_type": "markdown",
   "id": "a038a4f5",
   "metadata": {},
   "source": [
    "# Materi Tambahan"
   ]
  },
  {
   "cell_type": "markdown",
   "id": "98a49729",
   "metadata": {},
   "source": [
    "<img src=\"https://i.ibb.co/WK6XHvh/a-numpy-structure.png\" align=\"left\"> \n"
   ]
  },
  {
   "cell_type": "code",
   "execution_count": 309,
   "id": "9139dcd9",
   "metadata": {},
   "outputs": [
    {
     "data": {
      "text/plain": [
       "array([ 0,  1,  2,  3,  4,  5,  6,  7,  8,  9, 10, 11])"
      ]
     },
     "execution_count": 309,
     "metadata": {},
     "output_type": "execute_result"
    }
   ],
   "source": [
    "import numpy as np\n",
    "np_a = np.arange(12) \n",
    "np_a "
   ]
  },
  {
   "cell_type": "code",
   "execution_count": null,
   "id": "2c5d8029",
   "metadata": {},
   "outputs": [],
   "source": [
    "np_a.dtype"
   ]
  },
  {
   "cell_type": "code",
   "execution_count": null,
   "id": "faa7a369",
   "metadata": {},
   "outputs": [],
   "source": [
    "np_a.shape"
   ]
  },
  {
   "cell_type": "code",
   "execution_count": null,
   "id": "287762e9",
   "metadata": {},
   "outputs": [],
   "source": [
    "np_a.strides"
   ]
  },
  {
   "cell_type": "code",
   "execution_count": 311,
   "id": "33352d27",
   "metadata": {},
   "outputs": [
    {
     "data": {
      "text/plain": [
       "array([[ 0,  1,  2],\n",
       "       [ 3,  4,  5],\n",
       "       [ 6,  7,  8],\n",
       "       [ 9, 10, 11]])"
      ]
     },
     "execution_count": 311,
     "metadata": {},
     "output_type": "execute_result"
    }
   ],
   "source": [
    "# merubah menjadi 2D   4 baris , 3 kolom \n",
    "\n",
    "np_2d = np_a.reshape(4,3)\n",
    "np_2d "
   ]
  },
  {
   "cell_type": "code",
   "execution_count": null,
   "id": "324c09b8",
   "metadata": {},
   "outputs": [],
   "source": [
    "np_2d.shape"
   ]
  },
  {
   "cell_type": "code",
   "execution_count": null,
   "id": "f68cd3b1",
   "metadata": {},
   "outputs": [],
   "source": [
    "np_2d.ndim"
   ]
  },
  {
   "cell_type": "code",
   "execution_count": null,
   "id": "1fad3de5",
   "metadata": {},
   "outputs": [],
   "source": [
    "np_2d.dtype "
   ]
  },
  {
   "cell_type": "code",
   "execution_count": null,
   "id": "966ffb84",
   "metadata": {},
   "outputs": [],
   "source": [
    "np_2d.strides"
   ]
  },
  {
   "cell_type": "code",
   "execution_count": null,
   "id": "bb92801b",
   "metadata": {},
   "outputs": [],
   "source": [
    "# np_2d  int64 dengan locatannya 24 bytes \n",
    "\n",
    "np_2d = np_2d.astype('int16')\n",
    "np_2d "
   ]
  },
  {
   "cell_type": "code",
   "execution_count": null,
   "id": "144478c9",
   "metadata": {},
   "outputs": [],
   "source": [
    "np_2d.strides  "
   ]
  },
  {
   "cell_type": "markdown",
   "id": "bac66960",
   "metadata": {},
   "source": [
    "<img src=\"https://i.ibb.co/MS7b4kK/b-numpy-view.png\" align=\"left\"> \n"
   ]
  },
  {
   "cell_type": "code",
   "execution_count": 312,
   "id": "ee7d72ff",
   "metadata": {},
   "outputs": [
    {
     "data": {
      "text/plain": [
       "array([[ 1,  2],\n",
       "       [ 4,  5],\n",
       "       [ 7,  8],\n",
       "       [10, 11]])"
      ]
     },
     "execution_count": 312,
     "metadata": {},
     "output_type": "execute_result"
    }
   ],
   "source": [
    "np_2d[:,1:] # semua baris , kolom 1 dst (indeks mulai dari 0 )   [:,1::]  , [:,1::1] default step 1 "
   ]
  },
  {
   "cell_type": "code",
   "execution_count": 313,
   "id": "119dc1ef",
   "metadata": {},
   "outputs": [
    {
     "data": {
      "text/plain": [
       "array([[ 0,  2],\n",
       "       [ 3,  5],\n",
       "       [ 6,  8],\n",
       "       [ 9, 11]])"
      ]
     },
     "execution_count": 313,
     "metadata": {},
     "output_type": "execute_result"
    }
   ],
   "source": [
    "np_2d[:, ::2]  # semua baris , kolom 0 , sampai kolom terakhir , dengan step 2  sesuai gambar diatas "
   ]
  },
  {
   "cell_type": "markdown",
   "id": "7363dcf2",
   "metadata": {},
   "source": [
    "<img src=\"https://i.ibb.co/YN5XSDY/c-numpy-indexing-copy.png\" align=\"left\"> \n"
   ]
  },
  {
   "cell_type": "code",
   "execution_count": null,
   "id": "b37ba4f3",
   "metadata": {},
   "outputs": [],
   "source": [
    "np_2d[1,2]  # indek skalar ; baris 1 kolom 2 \n"
   ]
  },
  {
   "cell_type": "code",
   "execution_count": null,
   "id": "057dec2b",
   "metadata": {},
   "outputs": [],
   "source": [
    "np_2d"
   ]
  },
  {
   "cell_type": "code",
   "execution_count": null,
   "id": "5dc91916",
   "metadata": {},
   "outputs": [],
   "source": [
    "np_2d[np_2d > 8] # pengindeksan dengan condition "
   ]
  },
  {
   "cell_type": "code",
   "execution_count": null,
   "id": "e7ebf027",
   "metadata": {},
   "outputs": [],
   "source": [
    "np_2d[np_2d < 5] "
   ]
  },
  {
   "cell_type": "code",
   "execution_count": null,
   "id": "8a9157fe",
   "metadata": {},
   "outputs": [],
   "source": [
    "np_2d[[0,1] , [1,2]] # pengindek dengan array "
   ]
  },
  {
   "cell_type": "code",
   "execution_count": null,
   "id": "4d5d3309",
   "metadata": {},
   "outputs": [],
   "source": [
    "np_2d[ [[1],[2]]  , [1,0]  ]   # kolom 1 dan 2    , baris 1 dan 0 dibalik "
   ]
  },
  {
   "cell_type": "markdown",
   "id": "7b18ed22",
   "metadata": {},
   "source": [
    "<img src=\"https://i.ibb.co/Ybz0vBR/d-numpy-vectorization.png\" align=\"left\"> \n"
   ]
  },
  {
   "cell_type": "code",
   "execution_count": null,
   "id": "f8a818fb",
   "metadata": {},
   "outputs": [],
   "source": [
    "vectora = np.array([[0,1],[3,4],[6,7],[9,10]]) \n",
    "print(\"vectora\")\n",
    "\n",
    "print(vectora)\n",
    "\n",
    "vectorb = np.array([[1,1],[1,1],[1,1],[1,1]]) \n",
    "print(\"vectorb\")\n",
    "\n",
    "print(vectorb)\n",
    "\n",
    "vectorc = vectora + vectorb \n",
    "print(\"vectorc\")\n",
    "\n",
    "print(vectorc)\n",
    "\n",
    "vectord = vectora + 1 \n",
    "print(\"Vectord\")\n",
    "print(vectord)"
   ]
  },
  {
   "cell_type": "markdown",
   "id": "221ffda2",
   "metadata": {},
   "source": [
    "<img src=\"https://i.ibb.co/M2s1TqC/e-numpy-broadcasting.png\" align=\"left\"> \n"
   ]
  },
  {
   "cell_type": "code",
   "execution_count": null,
   "id": "71811f0c",
   "metadata": {},
   "outputs": [],
   "source": [
    "ebrodcast = np.array([[0], [3], [6], [9]])                                     \n",
    "ebrodcast * np.array(*[[1, 2]])"
   ]
  },
  {
   "cell_type": "markdown",
   "id": "d43dd38f",
   "metadata": {},
   "source": [
    "<img src=\"https://i.ibb.co/FVbnhdc/f-numpy-reduction.png\" align=\"left\"> "
   ]
  },
  {
   "cell_type": "code",
   "execution_count": null,
   "id": "e66cc2e8",
   "metadata": {},
   "outputs": [],
   "source": [
    "reduc = np.arange(12) \n",
    "print(reduc) \n",
    "reduc4x3  = reduc.reshape(4,3) \n",
    "print(reduc4x3) "
   ]
  },
  {
   "cell_type": "markdown",
   "id": "cb5642b6",
   "metadata": {},
   "source": [
    "<img src=\"https://i.ibb.co/QbjwCCD/numpy-reduction2.png\" align=\"left\"> \n"
   ]
  },
  {
   "cell_type": "code",
   "execution_count": null,
   "id": "e44d0135",
   "metadata": {},
   "outputs": [],
   "source": [
    "one_d1 = reduc4x3.sum(axis=0)\n",
    "print(one_d1)\n",
    "\n",
    "one_d2 = reduc4x3.sum(axis=1)\n",
    "print(one_d2)\n",
    "\n",
    "skalar0d = reduc4x3.sum()\n",
    "print(skalar0d)\n"
   ]
  },
  {
   "cell_type": "markdown",
   "id": "3ae919e1",
   "metadata": {},
   "source": [
    "Example Reshape & Means "
   ]
  },
  {
   "cell_type": "code",
   "execution_count": null,
   "id": "a4624760",
   "metadata": {},
   "outputs": [],
   "source": [
    "x = np.arange(12)"
   ]
  },
  {
   "cell_type": "code",
   "execution_count": null,
   "id": "fbaaf0ef",
   "metadata": {},
   "outputs": [],
   "source": [
    "x"
   ]
  },
  {
   "cell_type": "code",
   "execution_count": null,
   "id": "16179e1d",
   "metadata": {},
   "outputs": [],
   "source": [
    "x = x.reshape(4,3)"
   ]
  },
  {
   "cell_type": "code",
   "execution_count": null,
   "id": "88c35d73",
   "metadata": {},
   "outputs": [],
   "source": [
    "x"
   ]
  },
  {
   "cell_type": "code",
   "execution_count": null,
   "id": "4cf7c903",
   "metadata": {},
   "outputs": [],
   "source": [
    "np.mean(x,axis=0)"
   ]
  },
  {
   "cell_type": "code",
   "execution_count": null,
   "id": "7a5f0a9b",
   "metadata": {},
   "outputs": [],
   "source": [
    "np.mean(x,axis=1)"
   ]
  },
  {
   "cell_type": "markdown",
   "id": "42cea421",
   "metadata": {},
   "source": [
    "-----------"
   ]
  },
  {
   "cell_type": "markdown",
   "id": "1a498924",
   "metadata": {},
   "source": [
    "## Np read csv "
   ]
  },
  {
   "cell_type": "code",
   "execution_count": 314,
   "id": "a856c6e6",
   "metadata": {},
   "outputs": [],
   "source": [
    "import csv\n",
    "\n",
    "data = []\n",
    "\n",
    "with open('data/MER_T07_02A.csv', 'r') as csvfile:\n",
    "    file_reader = csv.reader(csvfile, delimiter=',')\n",
    "    for row in file_reader:\n",
    "        data.append(row)\n",
    "        \n",
    "data = np.array(data) #convert the list of lists to a NumPy array"
   ]
  },
  {
   "cell_type": "code",
   "execution_count": 315,
   "id": "7018ba7b",
   "metadata": {},
   "outputs": [
    {
     "data": {
      "text/plain": [
       "(8542, 6)"
      ]
     },
     "execution_count": 315,
     "metadata": {},
     "output_type": "execute_result"
    }
   ],
   "source": [
    "data.shape"
   ]
  },
  {
   "cell_type": "code",
   "execution_count": 316,
   "id": "548c0e7e",
   "metadata": {},
   "outputs": [
    {
     "data": {
      "text/plain": [
       "array(['CLETPUS', '195313', '218846.325', '1',\n",
       "       'Electricity Net Generation From Coal, All Sectors',\n",
       "       'Million Kilowatthours'], dtype='<U80')"
      ]
     },
     "execution_count": 316,
     "metadata": {},
     "output_type": "execute_result"
    }
   ],
   "source": [
    "data[5]"
   ]
  },
  {
   "cell_type": "code",
   "execution_count": null,
   "id": "421c8476",
   "metadata": {},
   "outputs": [],
   "source": [
    "data.dtype.type\n"
   ]
  },
  {
   "cell_type": "code",
   "execution_count": 317,
   "id": "a937fc8a",
   "metadata": {},
   "outputs": [],
   "source": [
    "np.save(open('data.npy', 'wb'), data)      # Saves data to a binary file with the .npy extension\n"
   ]
  },
  {
   "cell_type": "markdown",
   "id": "1d44f644",
   "metadata": {},
   "source": []
  },
  {
   "cell_type": "code",
   "execution_count": 318,
   "id": "ad65082c",
   "metadata": {},
   "outputs": [],
   "source": [
    "newdata = np.load('data.npy')"
   ]
  },
  {
   "cell_type": "code",
   "execution_count": 319,
   "id": "a19f9371",
   "metadata": {},
   "outputs": [
    {
     "data": {
      "text/plain": [
       "(8542, 6)"
      ]
     },
     "execution_count": 319,
     "metadata": {},
     "output_type": "execute_result"
    }
   ],
   "source": [
    "newdata.shape"
   ]
  }
 ],
 "metadata": {
  "kernelspec": {
   "display_name": "Python 3.10.7 64-bit (microsoft store)",
   "language": "python",
   "name": "python3"
  },
  "language_info": {
   "codemirror_mode": {
    "name": "ipython",
    "version": 3
   },
   "file_extension": ".py",
   "mimetype": "text/x-python",
   "name": "python",
   "nbconvert_exporter": "python",
   "pygments_lexer": "ipython3",
   "version": "3.10.7"
  },
  "vscode": {
   "interpreter": {
    "hash": "3b7e9cb8e453d6cda0fe8c8dd13f891a1f09162f0e7c66ffeae7751a7aecf00d"
   }
  }
 },
 "nbformat": 4,
 "nbformat_minor": 5
}
