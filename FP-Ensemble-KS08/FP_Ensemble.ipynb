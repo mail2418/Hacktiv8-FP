{
  "cells": [
    {
      "cell_type": "markdown",
      "source": [
        "Kelompok 5 PYTN-KS08\n",
        "\n",
        "**Muhammad Ismail** - **PYTN-KS08-011**\n",
        "\n",
        "**Syahrani Nabilla Kharisma H** - **PYTN-KS08-013**\n",
        "\n",
        "**Shendy Krisyohanda** - **PYTN-KS08-021**"
      ],
      "metadata": {
        "id": "Pxn0bP44UAWD"
      }
    },
    {
      "cell_type": "markdown",
      "metadata": {
        "id": "xfRCgy60rkCE"
      },
      "source": [
        "# Pengenalan\n",
        "\n",
        "Penyakit kardiovaskular (CVDs) adalah penyebab kematian nomor 1 secara global, mengambil sekitar 17,9 juta jiwa setiap tahun, yang menyumbang 31% dari semua kematian di seluruh dunia.\n",
        "Gagal jantung adalah kejadian umum yang disebabkan oleh CVD dan kumpulan data ini berisi 12 fitur yang dapat digunakan untuk memprediksi kematian akibat gagal jantung.\n",
        "\n",
        "Sebagian besar penyakit kardiovaskular dapat dicegah dengan mengatasi faktor risiko perilaku seperti penggunaan tembakau, diet tidak sehat dan obesitas, kurangnya aktivitas fisik, dan penggunaan alkohol yang berbahaya menggunakan strategi di seluruh populasi.\n",
        "\n",
        "Orang dengan penyakit kardiovaskular atau yang berada pada risiko kardiovaskular tinggi (karena adanya satu atau lebih faktor risiko seperti hipertensi, diabetes, hiperlipidemia atau penyakit yang sudah ada) memerlukan deteksi dan manajemen dini di mana model pembelajaran mesin dapat sangat membantu.\n",
        "\n",
        "\n",
        "**Attribute Information:**\n",
        "1. age - umur pasien\n",
        "2. anaemia - apakah ada pengurangan haemoglobin\n",
        "3. creatinine_phosphokinase - level enzim CPK dalam mcg/L\n",
        "4. diabetes - apakah pasien punya riwayat diabetes\n",
        "5. ejection_fraction - persentase darah yang meninggalkan jantung dalam persentasi\n",
        "di setiap kontraksi jantung\n",
        "6. high_blood_pressure - apakah pasien punya darah tinggi\n",
        "7. platelets - jumlah platelet di darah dalam kiloplatelets/mL\n",
        "8. serum_creatinine - level serum creatinine di darah dalam mg/dL\n",
        "9. serum_sodium - level serum sodium di darah dalam mEq/L\n",
        "10. sex - apakah pasien pria atau wanita\n",
        "11. smoking - apakah pasien merokok\n",
        "12. time - waktu dalam hari untuk follow-up\n",
        "13. DEATH_EVENT - apakah pasien sudah meninggal saat waktu follow-up\n",
        "\n",
        "\n",
        "TARGET : DEATH_EVENT\n"
      ]
    },
    {
      "cell_type": "markdown",
      "metadata": {
        "id": "YNeWs4jCrnjZ"
      },
      "source": [
        "# Import Library"
      ]
    },
    {
      "cell_type": "code",
      "execution_count": 1,
      "metadata": {
        "id": "GIIKn78as085"
      },
      "outputs": [],
      "source": [
        "import numpy as np \n",
        "import pandas as pd\n",
        "import matplotlib.pyplot as plt\n",
        "%matplotlib inline\n",
        "import warnings\n",
        "warnings.filterwarnings(\"ignore\")\n",
        "import seaborn as sns\n",
        "from sklearn.preprocessing import StandardScaler\n",
        "from sklearn.model_selection import train_test_split\n",
        "from sklearn.ensemble import RandomForestClassifier\n",
        "from sklearn.ensemble import VotingClassifier\n",
        "from sklearn.ensemble import AdaBoostClassifier\n",
        "from sklearn.ensemble import BaggingClassifier\n",
        "from sklearn.ensemble import ExtraTreesClassifier\n",
        "from sklearn.ensemble import GradientBoostingClassifier\n",
        "from sklearn.tree import DecisionTreeClassifier\n",
        "from xgboost import XGBClassifier\n",
        "import graphviz \n",
        "from sklearn.linear_model import LogisticRegression\n",
        "from sklearn.svm import SVC\n",
        "from sklearn.tree import export_graphviz\n",
        "from google.colab import files\n",
        "from sklearn.metrics import precision_score, recall_score, f1_score, accuracy_score\n",
        "from sklearn.metrics import confusion_matrix,classification_report\n",
        "import pickle\n",
        "from imblearn.over_sampling import SMOTE"
      ]
    },
    {
      "cell_type": "markdown",
      "metadata": {
        "id": "ZJhDCkIvrpUJ"
      },
      "source": [
        "#Data Loading"
      ]
    },
    {
      "cell_type": "code",
      "execution_count": 2,
      "metadata": {
        "colab": {
          "base_uri": "https://localhost:8080/",
          "height": 299
        },
        "id": "_bTeVM3TtqAC",
        "outputId": "68f0c02c-1077-4f44-ee17-a0991c7a7b74"
      },
      "outputs": [
        {
          "output_type": "stream",
          "name": "stdout",
          "text": [
            "Looking in indexes: https://pypi.org/simple, https://us-python.pkg.dev/colab-wheels/public/simple/\n",
            "Requirement already satisfied: kaggle in /usr/local/lib/python3.8/dist-packages (1.5.12)\n",
            "Requirement already satisfied: tqdm in /usr/local/lib/python3.8/dist-packages (from kaggle) (4.64.1)\n",
            "Requirement already satisfied: urllib3 in /usr/local/lib/python3.8/dist-packages (from kaggle) (1.24.3)\n",
            "Requirement already satisfied: python-slugify in /usr/local/lib/python3.8/dist-packages (from kaggle) (7.0.0)\n",
            "Requirement already satisfied: python-dateutil in /usr/local/lib/python3.8/dist-packages (from kaggle) (2.8.2)\n",
            "Requirement already satisfied: six>=1.10 in /usr/local/lib/python3.8/dist-packages (from kaggle) (1.15.0)\n",
            "Requirement already satisfied: certifi in /usr/local/lib/python3.8/dist-packages (from kaggle) (2022.9.24)\n",
            "Requirement already satisfied: requests in /usr/local/lib/python3.8/dist-packages (from kaggle) (2.23.0)\n",
            "Requirement already satisfied: text-unidecode>=1.3 in /usr/local/lib/python3.8/dist-packages (from python-slugify->kaggle) (1.3)\n",
            "Requirement already satisfied: chardet<4,>=3.0.2 in /usr/local/lib/python3.8/dist-packages (from requests->kaggle) (3.0.4)\n",
            "Requirement already satisfied: idna<3,>=2.5 in /usr/local/lib/python3.8/dist-packages (from requests->kaggle) (2.10)\n"
          ]
        },
        {
          "output_type": "display_data",
          "data": {
            "text/plain": [
              "<IPython.core.display.HTML object>"
            ],
            "text/html": [
              "\n",
              "     <input type=\"file\" id=\"files-3d8716d0-5f60-4bb7-bebc-7e37410ce121\" name=\"files[]\" multiple disabled\n",
              "        style=\"border:none\" />\n",
              "     <output id=\"result-3d8716d0-5f60-4bb7-bebc-7e37410ce121\">\n",
              "      Upload widget is only available when the cell has been executed in the\n",
              "      current browser session. Please rerun this cell to enable.\n",
              "      </output>\n",
              "      <script>// Copyright 2017 Google LLC\n",
              "//\n",
              "// Licensed under the Apache License, Version 2.0 (the \"License\");\n",
              "// you may not use this file except in compliance with the License.\n",
              "// You may obtain a copy of the License at\n",
              "//\n",
              "//      http://www.apache.org/licenses/LICENSE-2.0\n",
              "//\n",
              "// Unless required by applicable law or agreed to in writing, software\n",
              "// distributed under the License is distributed on an \"AS IS\" BASIS,\n",
              "// WITHOUT WARRANTIES OR CONDITIONS OF ANY KIND, either express or implied.\n",
              "// See the License for the specific language governing permissions and\n",
              "// limitations under the License.\n",
              "\n",
              "/**\n",
              " * @fileoverview Helpers for google.colab Python module.\n",
              " */\n",
              "(function(scope) {\n",
              "function span(text, styleAttributes = {}) {\n",
              "  const element = document.createElement('span');\n",
              "  element.textContent = text;\n",
              "  for (const key of Object.keys(styleAttributes)) {\n",
              "    element.style[key] = styleAttributes[key];\n",
              "  }\n",
              "  return element;\n",
              "}\n",
              "\n",
              "// Max number of bytes which will be uploaded at a time.\n",
              "const MAX_PAYLOAD_SIZE = 100 * 1024;\n",
              "\n",
              "function _uploadFiles(inputId, outputId) {\n",
              "  const steps = uploadFilesStep(inputId, outputId);\n",
              "  const outputElement = document.getElementById(outputId);\n",
              "  // Cache steps on the outputElement to make it available for the next call\n",
              "  // to uploadFilesContinue from Python.\n",
              "  outputElement.steps = steps;\n",
              "\n",
              "  return _uploadFilesContinue(outputId);\n",
              "}\n",
              "\n",
              "// This is roughly an async generator (not supported in the browser yet),\n",
              "// where there are multiple asynchronous steps and the Python side is going\n",
              "// to poll for completion of each step.\n",
              "// This uses a Promise to block the python side on completion of each step,\n",
              "// then passes the result of the previous step as the input to the next step.\n",
              "function _uploadFilesContinue(outputId) {\n",
              "  const outputElement = document.getElementById(outputId);\n",
              "  const steps = outputElement.steps;\n",
              "\n",
              "  const next = steps.next(outputElement.lastPromiseValue);\n",
              "  return Promise.resolve(next.value.promise).then((value) => {\n",
              "    // Cache the last promise value to make it available to the next\n",
              "    // step of the generator.\n",
              "    outputElement.lastPromiseValue = value;\n",
              "    return next.value.response;\n",
              "  });\n",
              "}\n",
              "\n",
              "/**\n",
              " * Generator function which is called between each async step of the upload\n",
              " * process.\n",
              " * @param {string} inputId Element ID of the input file picker element.\n",
              " * @param {string} outputId Element ID of the output display.\n",
              " * @return {!Iterable<!Object>} Iterable of next steps.\n",
              " */\n",
              "function* uploadFilesStep(inputId, outputId) {\n",
              "  const inputElement = document.getElementById(inputId);\n",
              "  inputElement.disabled = false;\n",
              "\n",
              "  const outputElement = document.getElementById(outputId);\n",
              "  outputElement.innerHTML = '';\n",
              "\n",
              "  const pickedPromise = new Promise((resolve) => {\n",
              "    inputElement.addEventListener('change', (e) => {\n",
              "      resolve(e.target.files);\n",
              "    });\n",
              "  });\n",
              "\n",
              "  const cancel = document.createElement('button');\n",
              "  inputElement.parentElement.appendChild(cancel);\n",
              "  cancel.textContent = 'Cancel upload';\n",
              "  const cancelPromise = new Promise((resolve) => {\n",
              "    cancel.onclick = () => {\n",
              "      resolve(null);\n",
              "    };\n",
              "  });\n",
              "\n",
              "  // Wait for the user to pick the files.\n",
              "  const files = yield {\n",
              "    promise: Promise.race([pickedPromise, cancelPromise]),\n",
              "    response: {\n",
              "      action: 'starting',\n",
              "    }\n",
              "  };\n",
              "\n",
              "  cancel.remove();\n",
              "\n",
              "  // Disable the input element since further picks are not allowed.\n",
              "  inputElement.disabled = true;\n",
              "\n",
              "  if (!files) {\n",
              "    return {\n",
              "      response: {\n",
              "        action: 'complete',\n",
              "      }\n",
              "    };\n",
              "  }\n",
              "\n",
              "  for (const file of files) {\n",
              "    const li = document.createElement('li');\n",
              "    li.append(span(file.name, {fontWeight: 'bold'}));\n",
              "    li.append(span(\n",
              "        `(${file.type || 'n/a'}) - ${file.size} bytes, ` +\n",
              "        `last modified: ${\n",
              "            file.lastModifiedDate ? file.lastModifiedDate.toLocaleDateString() :\n",
              "                                    'n/a'} - `));\n",
              "    const percent = span('0% done');\n",
              "    li.appendChild(percent);\n",
              "\n",
              "    outputElement.appendChild(li);\n",
              "\n",
              "    const fileDataPromise = new Promise((resolve) => {\n",
              "      const reader = new FileReader();\n",
              "      reader.onload = (e) => {\n",
              "        resolve(e.target.result);\n",
              "      };\n",
              "      reader.readAsArrayBuffer(file);\n",
              "    });\n",
              "    // Wait for the data to be ready.\n",
              "    let fileData = yield {\n",
              "      promise: fileDataPromise,\n",
              "      response: {\n",
              "        action: 'continue',\n",
              "      }\n",
              "    };\n",
              "\n",
              "    // Use a chunked sending to avoid message size limits. See b/62115660.\n",
              "    let position = 0;\n",
              "    do {\n",
              "      const length = Math.min(fileData.byteLength - position, MAX_PAYLOAD_SIZE);\n",
              "      const chunk = new Uint8Array(fileData, position, length);\n",
              "      position += length;\n",
              "\n",
              "      const base64 = btoa(String.fromCharCode.apply(null, chunk));\n",
              "      yield {\n",
              "        response: {\n",
              "          action: 'append',\n",
              "          file: file.name,\n",
              "          data: base64,\n",
              "        },\n",
              "      };\n",
              "\n",
              "      let percentDone = fileData.byteLength === 0 ?\n",
              "          100 :\n",
              "          Math.round((position / fileData.byteLength) * 100);\n",
              "      percent.textContent = `${percentDone}% done`;\n",
              "\n",
              "    } while (position < fileData.byteLength);\n",
              "  }\n",
              "\n",
              "  // All done.\n",
              "  yield {\n",
              "    response: {\n",
              "      action: 'complete',\n",
              "    }\n",
              "  };\n",
              "}\n",
              "\n",
              "scope.google = scope.google || {};\n",
              "scope.google.colab = scope.google.colab || {};\n",
              "scope.google.colab._files = {\n",
              "  _uploadFiles,\n",
              "  _uploadFilesContinue,\n",
              "};\n",
              "})(self);\n",
              "</script> "
            ]
          },
          "metadata": {}
        },
        {
          "output_type": "stream",
          "name": "stdout",
          "text": [
            "Saving kaggle.json to kaggle.json\n"
          ]
        },
        {
          "output_type": "execute_result",
          "data": {
            "text/plain": [
              "{'kaggle.json': b'{\"username\":\"mail2418\",\"key\":\"784e529f058f35edd5174910c6d63425\"}'}"
            ]
          },
          "metadata": {},
          "execution_count": 2
        }
      ],
      "source": [
        "!pip install kaggle\n",
        "files.upload()"
      ]
    },
    {
      "cell_type": "code",
      "execution_count": 3,
      "metadata": {
        "colab": {
          "base_uri": "https://localhost:8080/"
        },
        "id": "MzzBsva5th7C",
        "outputId": "fc786fbe-4fee-47dc-b31b-3554ffa46298"
      },
      "outputs": [
        {
          "output_type": "stream",
          "name": "stdout",
          "text": [
            "kaggle.json\n"
          ]
        }
      ],
      "source": [
        "# membuat directory dari kaggle.json\n",
        "!mkdir -p ~/.kaggle\n",
        "!cp kaggle.json ~/.kaggle/\n",
        "!chmod 600 ~/.kaggle/kaggle.json\n",
        "!ls ~/.kaggle"
      ]
    },
    {
      "cell_type": "code",
      "execution_count": 4,
      "metadata": {
        "colab": {
          "base_uri": "https://localhost:8080/"
        },
        "id": "NTA9gFEIt7Oy",
        "outputId": "d02cb453-c66a-4528-9243-a5530d56a831"
      },
      "outputs": [
        {
          "output_type": "stream",
          "name": "stdout",
          "text": [
            "401 - Unauthorized\n"
          ]
        }
      ],
      "source": [
        "!kaggle datasets download -d andrewmvd/heart-failure-clinical-data"
      ]
    },
    {
      "cell_type": "code",
      "execution_count": 7,
      "metadata": {
        "colab": {
          "base_uri": "https://localhost:8080/"
        },
        "id": "zYak4U0MuAYA",
        "outputId": "8feea60b-1c1d-4691-d6d0-25a870376071"
      },
      "outputs": [
        {
          "output_type": "stream",
          "name": "stdout",
          "text": [
            "mkdir: cannot create directory ‘heart-failure-clinical-data’: File exists\n",
            "Archive:  heart-failure-clinical-data.zip\n",
            "  inflating: heart-failure-clinical-data/heart_failure_clinical_records_dataset.csv  \n"
          ]
        }
      ],
      "source": [
        "# unzip dan lihat list dataset\n",
        "!mkdir heart-failure-clinical-data\n",
        "!unzip heart-failure-clinical-data.zip -d heart-failure-clinical-data"
      ]
    },
    {
      "cell_type": "code",
      "execution_count": 8,
      "metadata": {
        "colab": {
          "base_uri": "https://localhost:8080/",
          "height": 270
        },
        "id": "S_-w4_FzuOF5",
        "outputId": "5caa9c10-7619-496a-cfce-2adf4b97837b"
      },
      "outputs": [
        {
          "output_type": "execute_result",
          "data": {
            "text/plain": [
              "    age  anaemia  creatinine_phosphokinase  diabetes  ejection_fraction  \\\n",
              "0  75.0        0                       582         0                 20   \n",
              "1  55.0        0                      7861         0                 38   \n",
              "2  65.0        0                       146         0                 20   \n",
              "3  50.0        1                       111         0                 20   \n",
              "4  65.0        1                       160         1                 20   \n",
              "\n",
              "   high_blood_pressure  platelets  serum_creatinine  serum_sodium  sex  \\\n",
              "0                    1  265000.00               1.9           130    1   \n",
              "1                    0  263358.03               1.1           136    1   \n",
              "2                    0  162000.00               1.3           129    1   \n",
              "3                    0  210000.00               1.9           137    1   \n",
              "4                    0  327000.00               2.7           116    0   \n",
              "\n",
              "   smoking  time  DEATH_EVENT  \n",
              "0        0     4            1  \n",
              "1        0     6            1  \n",
              "2        1     7            1  \n",
              "3        0     7            1  \n",
              "4        0     8            1  "
            ],
            "text/html": [
              "\n",
              "  <div id=\"df-2c31c820-02c5-4bc8-8dc0-7b791052a1e4\">\n",
              "    <div class=\"colab-df-container\">\n",
              "      <div>\n",
              "<style scoped>\n",
              "    .dataframe tbody tr th:only-of-type {\n",
              "        vertical-align: middle;\n",
              "    }\n",
              "\n",
              "    .dataframe tbody tr th {\n",
              "        vertical-align: top;\n",
              "    }\n",
              "\n",
              "    .dataframe thead th {\n",
              "        text-align: right;\n",
              "    }\n",
              "</style>\n",
              "<table border=\"1\" class=\"dataframe\">\n",
              "  <thead>\n",
              "    <tr style=\"text-align: right;\">\n",
              "      <th></th>\n",
              "      <th>age</th>\n",
              "      <th>anaemia</th>\n",
              "      <th>creatinine_phosphokinase</th>\n",
              "      <th>diabetes</th>\n",
              "      <th>ejection_fraction</th>\n",
              "      <th>high_blood_pressure</th>\n",
              "      <th>platelets</th>\n",
              "      <th>serum_creatinine</th>\n",
              "      <th>serum_sodium</th>\n",
              "      <th>sex</th>\n",
              "      <th>smoking</th>\n",
              "      <th>time</th>\n",
              "      <th>DEATH_EVENT</th>\n",
              "    </tr>\n",
              "  </thead>\n",
              "  <tbody>\n",
              "    <tr>\n",
              "      <th>0</th>\n",
              "      <td>75.0</td>\n",
              "      <td>0</td>\n",
              "      <td>582</td>\n",
              "      <td>0</td>\n",
              "      <td>20</td>\n",
              "      <td>1</td>\n",
              "      <td>265000.00</td>\n",
              "      <td>1.9</td>\n",
              "      <td>130</td>\n",
              "      <td>1</td>\n",
              "      <td>0</td>\n",
              "      <td>4</td>\n",
              "      <td>1</td>\n",
              "    </tr>\n",
              "    <tr>\n",
              "      <th>1</th>\n",
              "      <td>55.0</td>\n",
              "      <td>0</td>\n",
              "      <td>7861</td>\n",
              "      <td>0</td>\n",
              "      <td>38</td>\n",
              "      <td>0</td>\n",
              "      <td>263358.03</td>\n",
              "      <td>1.1</td>\n",
              "      <td>136</td>\n",
              "      <td>1</td>\n",
              "      <td>0</td>\n",
              "      <td>6</td>\n",
              "      <td>1</td>\n",
              "    </tr>\n",
              "    <tr>\n",
              "      <th>2</th>\n",
              "      <td>65.0</td>\n",
              "      <td>0</td>\n",
              "      <td>146</td>\n",
              "      <td>0</td>\n",
              "      <td>20</td>\n",
              "      <td>0</td>\n",
              "      <td>162000.00</td>\n",
              "      <td>1.3</td>\n",
              "      <td>129</td>\n",
              "      <td>1</td>\n",
              "      <td>1</td>\n",
              "      <td>7</td>\n",
              "      <td>1</td>\n",
              "    </tr>\n",
              "    <tr>\n",
              "      <th>3</th>\n",
              "      <td>50.0</td>\n",
              "      <td>1</td>\n",
              "      <td>111</td>\n",
              "      <td>0</td>\n",
              "      <td>20</td>\n",
              "      <td>0</td>\n",
              "      <td>210000.00</td>\n",
              "      <td>1.9</td>\n",
              "      <td>137</td>\n",
              "      <td>1</td>\n",
              "      <td>0</td>\n",
              "      <td>7</td>\n",
              "      <td>1</td>\n",
              "    </tr>\n",
              "    <tr>\n",
              "      <th>4</th>\n",
              "      <td>65.0</td>\n",
              "      <td>1</td>\n",
              "      <td>160</td>\n",
              "      <td>1</td>\n",
              "      <td>20</td>\n",
              "      <td>0</td>\n",
              "      <td>327000.00</td>\n",
              "      <td>2.7</td>\n",
              "      <td>116</td>\n",
              "      <td>0</td>\n",
              "      <td>0</td>\n",
              "      <td>8</td>\n",
              "      <td>1</td>\n",
              "    </tr>\n",
              "  </tbody>\n",
              "</table>\n",
              "</div>\n",
              "      <button class=\"colab-df-convert\" onclick=\"convertToInteractive('df-2c31c820-02c5-4bc8-8dc0-7b791052a1e4')\"\n",
              "              title=\"Convert this dataframe to an interactive table.\"\n",
              "              style=\"display:none;\">\n",
              "        \n",
              "  <svg xmlns=\"http://www.w3.org/2000/svg\" height=\"24px\"viewBox=\"0 0 24 24\"\n",
              "       width=\"24px\">\n",
              "    <path d=\"M0 0h24v24H0V0z\" fill=\"none\"/>\n",
              "    <path d=\"M18.56 5.44l.94 2.06.94-2.06 2.06-.94-2.06-.94-.94-2.06-.94 2.06-2.06.94zm-11 1L8.5 8.5l.94-2.06 2.06-.94-2.06-.94L8.5 2.5l-.94 2.06-2.06.94zm10 10l.94 2.06.94-2.06 2.06-.94-2.06-.94-.94-2.06-.94 2.06-2.06.94z\"/><path d=\"M17.41 7.96l-1.37-1.37c-.4-.4-.92-.59-1.43-.59-.52 0-1.04.2-1.43.59L10.3 9.45l-7.72 7.72c-.78.78-.78 2.05 0 2.83L4 21.41c.39.39.9.59 1.41.59.51 0 1.02-.2 1.41-.59l7.78-7.78 2.81-2.81c.8-.78.8-2.07 0-2.86zM5.41 20L4 18.59l7.72-7.72 1.47 1.35L5.41 20z\"/>\n",
              "  </svg>\n",
              "      </button>\n",
              "      \n",
              "  <style>\n",
              "    .colab-df-container {\n",
              "      display:flex;\n",
              "      flex-wrap:wrap;\n",
              "      gap: 12px;\n",
              "    }\n",
              "\n",
              "    .colab-df-convert {\n",
              "      background-color: #E8F0FE;\n",
              "      border: none;\n",
              "      border-radius: 50%;\n",
              "      cursor: pointer;\n",
              "      display: none;\n",
              "      fill: #1967D2;\n",
              "      height: 32px;\n",
              "      padding: 0 0 0 0;\n",
              "      width: 32px;\n",
              "    }\n",
              "\n",
              "    .colab-df-convert:hover {\n",
              "      background-color: #E2EBFA;\n",
              "      box-shadow: 0px 1px 2px rgba(60, 64, 67, 0.3), 0px 1px 3px 1px rgba(60, 64, 67, 0.15);\n",
              "      fill: #174EA6;\n",
              "    }\n",
              "\n",
              "    [theme=dark] .colab-df-convert {\n",
              "      background-color: #3B4455;\n",
              "      fill: #D2E3FC;\n",
              "    }\n",
              "\n",
              "    [theme=dark] .colab-df-convert:hover {\n",
              "      background-color: #434B5C;\n",
              "      box-shadow: 0px 1px 3px 1px rgba(0, 0, 0, 0.15);\n",
              "      filter: drop-shadow(0px 1px 2px rgba(0, 0, 0, 0.3));\n",
              "      fill: #FFFFFF;\n",
              "    }\n",
              "  </style>\n",
              "\n",
              "      <script>\n",
              "        const buttonEl =\n",
              "          document.querySelector('#df-2c31c820-02c5-4bc8-8dc0-7b791052a1e4 button.colab-df-convert');\n",
              "        buttonEl.style.display =\n",
              "          google.colab.kernel.accessAllowed ? 'block' : 'none';\n",
              "\n",
              "        async function convertToInteractive(key) {\n",
              "          const element = document.querySelector('#df-2c31c820-02c5-4bc8-8dc0-7b791052a1e4');\n",
              "          const dataTable =\n",
              "            await google.colab.kernel.invokeFunction('convertToInteractive',\n",
              "                                                     [key], {});\n",
              "          if (!dataTable) return;\n",
              "\n",
              "          const docLinkHtml = 'Like what you see? Visit the ' +\n",
              "            '<a target=\"_blank\" href=https://colab.research.google.com/notebooks/data_table.ipynb>data table notebook</a>'\n",
              "            + ' to learn more about interactive tables.';\n",
              "          element.innerHTML = '';\n",
              "          dataTable['output_type'] = 'display_data';\n",
              "          await google.colab.output.renderOutput(dataTable, element);\n",
              "          const docLink = document.createElement('div');\n",
              "          docLink.innerHTML = docLinkHtml;\n",
              "          element.appendChild(docLink);\n",
              "        }\n",
              "      </script>\n",
              "    </div>\n",
              "  </div>\n",
              "  "
            ]
          },
          "metadata": {},
          "execution_count": 8
        }
      ],
      "source": [
        "df = pd.read_csv('/content/heart-failure-clinical-data/heart_failure_clinical_records_dataset.csv')\n",
        "df.head()"
      ]
    },
    {
      "cell_type": "code",
      "execution_count": 9,
      "metadata": {
        "colab": {
          "base_uri": "https://localhost:8080/"
        },
        "id": "bnTEtCjZuUyq",
        "outputId": "0581df82-cfc0-476f-e4d2-1a2ff9a4a2fc"
      },
      "outputs": [
        {
          "output_type": "stream",
          "name": "stdout",
          "text": [
            "<class 'pandas.core.frame.DataFrame'>\n",
            "RangeIndex: 299 entries, 0 to 298\n",
            "Data columns (total 13 columns):\n",
            " #   Column                    Non-Null Count  Dtype  \n",
            "---  ------                    --------------  -----  \n",
            " 0   age                       299 non-null    float64\n",
            " 1   anaemia                   299 non-null    int64  \n",
            " 2   creatinine_phosphokinase  299 non-null    int64  \n",
            " 3   diabetes                  299 non-null    int64  \n",
            " 4   ejection_fraction         299 non-null    int64  \n",
            " 5   high_blood_pressure       299 non-null    int64  \n",
            " 6   platelets                 299 non-null    float64\n",
            " 7   serum_creatinine          299 non-null    float64\n",
            " 8   serum_sodium              299 non-null    int64  \n",
            " 9   sex                       299 non-null    int64  \n",
            " 10  smoking                   299 non-null    int64  \n",
            " 11  time                      299 non-null    int64  \n",
            " 12  DEATH_EVENT               299 non-null    int64  \n",
            "dtypes: float64(3), int64(10)\n",
            "memory usage: 30.5 KB\n"
          ]
        }
      ],
      "source": [
        "df.info()"
      ]
    },
    {
      "cell_type": "markdown",
      "source": [
        "## Melihat deskripsi dataset"
      ],
      "metadata": {
        "id": "knMvMq5glg-g"
      }
    },
    {
      "cell_type": "code",
      "execution_count": 10,
      "metadata": {
        "colab": {
          "base_uri": "https://localhost:8080/",
          "height": 364
        },
        "id": "7EBlXv57uV4x",
        "outputId": "2b479bd8-7802-4a31-fd65-facd920f45f2"
      },
      "outputs": [
        {
          "output_type": "execute_result",
          "data": {
            "text/plain": [
              "              age     anaemia  creatinine_phosphokinase    diabetes  \\\n",
              "count  299.000000  299.000000                299.000000  299.000000   \n",
              "mean    60.833893    0.431438                581.839465    0.418060   \n",
              "std     11.894809    0.496107                970.287881    0.494067   \n",
              "min     40.000000    0.000000                 23.000000    0.000000   \n",
              "25%     51.000000    0.000000                116.500000    0.000000   \n",
              "50%     60.000000    0.000000                250.000000    0.000000   \n",
              "75%     70.000000    1.000000                582.000000    1.000000   \n",
              "max     95.000000    1.000000               7861.000000    1.000000   \n",
              "\n",
              "       ejection_fraction  high_blood_pressure      platelets  \\\n",
              "count         299.000000           299.000000     299.000000   \n",
              "mean           38.083612             0.351171  263358.029264   \n",
              "std            11.834841             0.478136   97804.236869   \n",
              "min            14.000000             0.000000   25100.000000   \n",
              "25%            30.000000             0.000000  212500.000000   \n",
              "50%            38.000000             0.000000  262000.000000   \n",
              "75%            45.000000             1.000000  303500.000000   \n",
              "max            80.000000             1.000000  850000.000000   \n",
              "\n",
              "       serum_creatinine  serum_sodium         sex    smoking        time  \\\n",
              "count         299.00000    299.000000  299.000000  299.00000  299.000000   \n",
              "mean            1.39388    136.625418    0.648829    0.32107  130.260870   \n",
              "std             1.03451      4.412477    0.478136    0.46767   77.614208   \n",
              "min             0.50000    113.000000    0.000000    0.00000    4.000000   \n",
              "25%             0.90000    134.000000    0.000000    0.00000   73.000000   \n",
              "50%             1.10000    137.000000    1.000000    0.00000  115.000000   \n",
              "75%             1.40000    140.000000    1.000000    1.00000  203.000000   \n",
              "max             9.40000    148.000000    1.000000    1.00000  285.000000   \n",
              "\n",
              "       DEATH_EVENT  \n",
              "count    299.00000  \n",
              "mean       0.32107  \n",
              "std        0.46767  \n",
              "min        0.00000  \n",
              "25%        0.00000  \n",
              "50%        0.00000  \n",
              "75%        1.00000  \n",
              "max        1.00000  "
            ],
            "text/html": [
              "\n",
              "  <div id=\"df-8aa6709e-cd44-47b1-82b1-dae01c0ee638\">\n",
              "    <div class=\"colab-df-container\">\n",
              "      <div>\n",
              "<style scoped>\n",
              "    .dataframe tbody tr th:only-of-type {\n",
              "        vertical-align: middle;\n",
              "    }\n",
              "\n",
              "    .dataframe tbody tr th {\n",
              "        vertical-align: top;\n",
              "    }\n",
              "\n",
              "    .dataframe thead th {\n",
              "        text-align: right;\n",
              "    }\n",
              "</style>\n",
              "<table border=\"1\" class=\"dataframe\">\n",
              "  <thead>\n",
              "    <tr style=\"text-align: right;\">\n",
              "      <th></th>\n",
              "      <th>age</th>\n",
              "      <th>anaemia</th>\n",
              "      <th>creatinine_phosphokinase</th>\n",
              "      <th>diabetes</th>\n",
              "      <th>ejection_fraction</th>\n",
              "      <th>high_blood_pressure</th>\n",
              "      <th>platelets</th>\n",
              "      <th>serum_creatinine</th>\n",
              "      <th>serum_sodium</th>\n",
              "      <th>sex</th>\n",
              "      <th>smoking</th>\n",
              "      <th>time</th>\n",
              "      <th>DEATH_EVENT</th>\n",
              "    </tr>\n",
              "  </thead>\n",
              "  <tbody>\n",
              "    <tr>\n",
              "      <th>count</th>\n",
              "      <td>299.000000</td>\n",
              "      <td>299.000000</td>\n",
              "      <td>299.000000</td>\n",
              "      <td>299.000000</td>\n",
              "      <td>299.000000</td>\n",
              "      <td>299.000000</td>\n",
              "      <td>299.000000</td>\n",
              "      <td>299.00000</td>\n",
              "      <td>299.000000</td>\n",
              "      <td>299.000000</td>\n",
              "      <td>299.00000</td>\n",
              "      <td>299.000000</td>\n",
              "      <td>299.00000</td>\n",
              "    </tr>\n",
              "    <tr>\n",
              "      <th>mean</th>\n",
              "      <td>60.833893</td>\n",
              "      <td>0.431438</td>\n",
              "      <td>581.839465</td>\n",
              "      <td>0.418060</td>\n",
              "      <td>38.083612</td>\n",
              "      <td>0.351171</td>\n",
              "      <td>263358.029264</td>\n",
              "      <td>1.39388</td>\n",
              "      <td>136.625418</td>\n",
              "      <td>0.648829</td>\n",
              "      <td>0.32107</td>\n",
              "      <td>130.260870</td>\n",
              "      <td>0.32107</td>\n",
              "    </tr>\n",
              "    <tr>\n",
              "      <th>std</th>\n",
              "      <td>11.894809</td>\n",
              "      <td>0.496107</td>\n",
              "      <td>970.287881</td>\n",
              "      <td>0.494067</td>\n",
              "      <td>11.834841</td>\n",
              "      <td>0.478136</td>\n",
              "      <td>97804.236869</td>\n",
              "      <td>1.03451</td>\n",
              "      <td>4.412477</td>\n",
              "      <td>0.478136</td>\n",
              "      <td>0.46767</td>\n",
              "      <td>77.614208</td>\n",
              "      <td>0.46767</td>\n",
              "    </tr>\n",
              "    <tr>\n",
              "      <th>min</th>\n",
              "      <td>40.000000</td>\n",
              "      <td>0.000000</td>\n",
              "      <td>23.000000</td>\n",
              "      <td>0.000000</td>\n",
              "      <td>14.000000</td>\n",
              "      <td>0.000000</td>\n",
              "      <td>25100.000000</td>\n",
              "      <td>0.50000</td>\n",
              "      <td>113.000000</td>\n",
              "      <td>0.000000</td>\n",
              "      <td>0.00000</td>\n",
              "      <td>4.000000</td>\n",
              "      <td>0.00000</td>\n",
              "    </tr>\n",
              "    <tr>\n",
              "      <th>25%</th>\n",
              "      <td>51.000000</td>\n",
              "      <td>0.000000</td>\n",
              "      <td>116.500000</td>\n",
              "      <td>0.000000</td>\n",
              "      <td>30.000000</td>\n",
              "      <td>0.000000</td>\n",
              "      <td>212500.000000</td>\n",
              "      <td>0.90000</td>\n",
              "      <td>134.000000</td>\n",
              "      <td>0.000000</td>\n",
              "      <td>0.00000</td>\n",
              "      <td>73.000000</td>\n",
              "      <td>0.00000</td>\n",
              "    </tr>\n",
              "    <tr>\n",
              "      <th>50%</th>\n",
              "      <td>60.000000</td>\n",
              "      <td>0.000000</td>\n",
              "      <td>250.000000</td>\n",
              "      <td>0.000000</td>\n",
              "      <td>38.000000</td>\n",
              "      <td>0.000000</td>\n",
              "      <td>262000.000000</td>\n",
              "      <td>1.10000</td>\n",
              "      <td>137.000000</td>\n",
              "      <td>1.000000</td>\n",
              "      <td>0.00000</td>\n",
              "      <td>115.000000</td>\n",
              "      <td>0.00000</td>\n",
              "    </tr>\n",
              "    <tr>\n",
              "      <th>75%</th>\n",
              "      <td>70.000000</td>\n",
              "      <td>1.000000</td>\n",
              "      <td>582.000000</td>\n",
              "      <td>1.000000</td>\n",
              "      <td>45.000000</td>\n",
              "      <td>1.000000</td>\n",
              "      <td>303500.000000</td>\n",
              "      <td>1.40000</td>\n",
              "      <td>140.000000</td>\n",
              "      <td>1.000000</td>\n",
              "      <td>1.00000</td>\n",
              "      <td>203.000000</td>\n",
              "      <td>1.00000</td>\n",
              "    </tr>\n",
              "    <tr>\n",
              "      <th>max</th>\n",
              "      <td>95.000000</td>\n",
              "      <td>1.000000</td>\n",
              "      <td>7861.000000</td>\n",
              "      <td>1.000000</td>\n",
              "      <td>80.000000</td>\n",
              "      <td>1.000000</td>\n",
              "      <td>850000.000000</td>\n",
              "      <td>9.40000</td>\n",
              "      <td>148.000000</td>\n",
              "      <td>1.000000</td>\n",
              "      <td>1.00000</td>\n",
              "      <td>285.000000</td>\n",
              "      <td>1.00000</td>\n",
              "    </tr>\n",
              "  </tbody>\n",
              "</table>\n",
              "</div>\n",
              "      <button class=\"colab-df-convert\" onclick=\"convertToInteractive('df-8aa6709e-cd44-47b1-82b1-dae01c0ee638')\"\n",
              "              title=\"Convert this dataframe to an interactive table.\"\n",
              "              style=\"display:none;\">\n",
              "        \n",
              "  <svg xmlns=\"http://www.w3.org/2000/svg\" height=\"24px\"viewBox=\"0 0 24 24\"\n",
              "       width=\"24px\">\n",
              "    <path d=\"M0 0h24v24H0V0z\" fill=\"none\"/>\n",
              "    <path d=\"M18.56 5.44l.94 2.06.94-2.06 2.06-.94-2.06-.94-.94-2.06-.94 2.06-2.06.94zm-11 1L8.5 8.5l.94-2.06 2.06-.94-2.06-.94L8.5 2.5l-.94 2.06-2.06.94zm10 10l.94 2.06.94-2.06 2.06-.94-2.06-.94-.94-2.06-.94 2.06-2.06.94z\"/><path d=\"M17.41 7.96l-1.37-1.37c-.4-.4-.92-.59-1.43-.59-.52 0-1.04.2-1.43.59L10.3 9.45l-7.72 7.72c-.78.78-.78 2.05 0 2.83L4 21.41c.39.39.9.59 1.41.59.51 0 1.02-.2 1.41-.59l7.78-7.78 2.81-2.81c.8-.78.8-2.07 0-2.86zM5.41 20L4 18.59l7.72-7.72 1.47 1.35L5.41 20z\"/>\n",
              "  </svg>\n",
              "      </button>\n",
              "      \n",
              "  <style>\n",
              "    .colab-df-container {\n",
              "      display:flex;\n",
              "      flex-wrap:wrap;\n",
              "      gap: 12px;\n",
              "    }\n",
              "\n",
              "    .colab-df-convert {\n",
              "      background-color: #E8F0FE;\n",
              "      border: none;\n",
              "      border-radius: 50%;\n",
              "      cursor: pointer;\n",
              "      display: none;\n",
              "      fill: #1967D2;\n",
              "      height: 32px;\n",
              "      padding: 0 0 0 0;\n",
              "      width: 32px;\n",
              "    }\n",
              "\n",
              "    .colab-df-convert:hover {\n",
              "      background-color: #E2EBFA;\n",
              "      box-shadow: 0px 1px 2px rgba(60, 64, 67, 0.3), 0px 1px 3px 1px rgba(60, 64, 67, 0.15);\n",
              "      fill: #174EA6;\n",
              "    }\n",
              "\n",
              "    [theme=dark] .colab-df-convert {\n",
              "      background-color: #3B4455;\n",
              "      fill: #D2E3FC;\n",
              "    }\n",
              "\n",
              "    [theme=dark] .colab-df-convert:hover {\n",
              "      background-color: #434B5C;\n",
              "      box-shadow: 0px 1px 3px 1px rgba(0, 0, 0, 0.15);\n",
              "      filter: drop-shadow(0px 1px 2px rgba(0, 0, 0, 0.3));\n",
              "      fill: #FFFFFF;\n",
              "    }\n",
              "  </style>\n",
              "\n",
              "      <script>\n",
              "        const buttonEl =\n",
              "          document.querySelector('#df-8aa6709e-cd44-47b1-82b1-dae01c0ee638 button.colab-df-convert');\n",
              "        buttonEl.style.display =\n",
              "          google.colab.kernel.accessAllowed ? 'block' : 'none';\n",
              "\n",
              "        async function convertToInteractive(key) {\n",
              "          const element = document.querySelector('#df-8aa6709e-cd44-47b1-82b1-dae01c0ee638');\n",
              "          const dataTable =\n",
              "            await google.colab.kernel.invokeFunction('convertToInteractive',\n",
              "                                                     [key], {});\n",
              "          if (!dataTable) return;\n",
              "\n",
              "          const docLinkHtml = 'Like what you see? Visit the ' +\n",
              "            '<a target=\"_blank\" href=https://colab.research.google.com/notebooks/data_table.ipynb>data table notebook</a>'\n",
              "            + ' to learn more about interactive tables.';\n",
              "          element.innerHTML = '';\n",
              "          dataTable['output_type'] = 'display_data';\n",
              "          await google.colab.output.renderOutput(dataTable, element);\n",
              "          const docLink = document.createElement('div');\n",
              "          docLink.innerHTML = docLinkHtml;\n",
              "          element.appendChild(docLink);\n",
              "        }\n",
              "      </script>\n",
              "    </div>\n",
              "  </div>\n",
              "  "
            ]
          },
          "metadata": {},
          "execution_count": 10
        }
      ],
      "source": [
        "df.describe()"
      ]
    },
    {
      "cell_type": "markdown",
      "source": [
        "**Age**\n",
        "\n",
        "*   Rata-rata Usia pada Pasien Penyakit Jantung berkisar 60 Tahun\n",
        "*   Usia terendah pada Pasien Penyakit Jantung berada pada umur 40 Tahun\n",
        "*   Usia tertinggi pada Pasien Penyakit Jantung berada pada umur 95 Tahun\n",
        "\n",
        "**Anemia**\n",
        "\n",
        "* Rata-rata nilai Anemia pada Pasien Penyakit Jantung berada di 0.431438 \n",
        "\n",
        "* Anemia terendah pada Pasien Penyakit Jantung berada di 0 (**tidak mengalami anemia**)\n",
        "* Anemia tertinggi pada Pasien Penyakit Jantung berada di 1.0 (**mengalami anemia**)\n",
        "\n",
        "**Creatinin Fosfokinase**\n",
        "* Rata-rata Creatinin Fosfokinase pada Pasien Penyakit Jantung berada di 581.839465\n",
        "* Creatinin Fosfokinase terendah pada Pasien Penyakit Jantung berada di 23.00\n",
        "* Creatinin Fosfokinase tertinggi pada Pasien Penyakit Jantung berada di 7861.00\n",
        "\n",
        "**Diabetes**\n",
        "* Rata-rata nilai Diabetes pada Pasien Penyakit Jantung berada di 0.418060 \n",
        "\n",
        "* Diabetes terendah pada Pasien Penyakit Jantung berada di 0 (**tidak mengalami diabetes**)\n",
        "\n",
        "* Diabetes tertinggi pada Pasien Penyakit Jantung berada di 1.0 (**mengalami diabetes**)"
      ],
      "metadata": {
        "id": "f380vnCxpbR8"
      }
    },
    {
      "cell_type": "markdown",
      "source": [
        "## Mengecek dataset apakah terdapat null"
      ],
      "metadata": {
        "id": "r83O7xU_lUD4"
      }
    },
    {
      "cell_type": "code",
      "execution_count": 11,
      "metadata": {
        "colab": {
          "base_uri": "https://localhost:8080/"
        },
        "id": "bsJrGtuRuXRa",
        "outputId": "0557dbdf-7f9f-46fe-c98d-d8dddeeb928e"
      },
      "outputs": [
        {
          "output_type": "execute_result",
          "data": {
            "text/plain": [
              "age                         0\n",
              "anaemia                     0\n",
              "creatinine_phosphokinase    0\n",
              "diabetes                    0\n",
              "ejection_fraction           0\n",
              "high_blood_pressure         0\n",
              "platelets                   0\n",
              "serum_creatinine            0\n",
              "serum_sodium                0\n",
              "sex                         0\n",
              "smoking                     0\n",
              "time                        0\n",
              "DEATH_EVENT                 0\n",
              "dtype: int64"
            ]
          },
          "metadata": {},
          "execution_count": 11
        }
      ],
      "source": [
        "df.isnull().sum()"
      ]
    },
    {
      "cell_type": "markdown",
      "source": [
        "## Meliat dimensi dataset"
      ],
      "metadata": {
        "id": "H0tVi9hUlaC-"
      }
    },
    {
      "cell_type": "code",
      "execution_count": 12,
      "metadata": {
        "colab": {
          "base_uri": "https://localhost:8080/"
        },
        "id": "D-wwaSJFua7R",
        "outputId": "30670812-fd3e-4e71-b436-19b64812bfaa"
      },
      "outputs": [
        {
          "output_type": "execute_result",
          "data": {
            "text/plain": [
              "(299, 13)"
            ]
          },
          "metadata": {},
          "execution_count": 12
        }
      ],
      "source": [
        "df.shape"
      ]
    },
    {
      "cell_type": "markdown",
      "metadata": {
        "id": "fem0TXhmrrZ6"
      },
      "source": [
        "#Data Cleaning"
      ]
    },
    {
      "cell_type": "code",
      "execution_count": 13,
      "metadata": {
        "colab": {
          "base_uri": "https://localhost:8080/",
          "height": 716
        },
        "id": "FR4_JwT78SX5",
        "outputId": "b1a48f38-380b-4c3c-ba44-0e98c6c6b43b"
      },
      "outputs": [
        {
          "output_type": "display_data",
          "data": {
            "text/plain": [
              "<Figure size 1152x720 with 2 Axes>"
            ],
            "image/png": "[encoded data removed]"
          },
          "metadata": {
            "needs_background": "light"
          }
        }
      ],
      "source": [
        "plt.figure(figsize=(16,10))\n",
        "sns.heatmap(df.corr(), vmin=-1, vmax=1, annot=True)\n",
        "plt.savefig(\"korelasi_fitur.png\",\n",
        "            bbox_inches =\"tight\",\n",
        "            pad_inches = 1,\n",
        "            transparent = True,\n",
        "            orientation ='landscape')"
      ]
    },
    {
      "cell_type": "markdown",
      "metadata": {
        "id": "H1jlE15t_Xbe"
      },
      "source": [
        "drop fitur yang tidak relevan dengan DEATH_EVENT"
      ]
    },
    {
      "cell_type": "code",
      "execution_count": 14,
      "metadata": {
        "id": "qg0FqXX9-TmE"
      },
      "outputs": [],
      "source": [
        "new_df = df.copy()\n",
        "new_df.drop(columns=['time','serum_sodium','ejection_fraction'], inplace=True)"
      ]
    },
    {
      "cell_type": "code",
      "execution_count": 15,
      "metadata": {
        "colab": {
          "base_uri": "https://localhost:8080/",
          "height": 206
        },
        "id": "XWmbvAd_BI_1",
        "outputId": "8a48a4b9-6b07-41f6-9271-8ae2de76b4fc"
      },
      "outputs": [
        {
          "output_type": "execute_result",
          "data": {
            "text/plain": [
              "    age  anaemia  creatinine_phosphokinase  diabetes  high_blood_pressure  \\\n",
              "0  75.0        0                       582         0                    1   \n",
              "1  55.0        0                      7861         0                    0   \n",
              "2  65.0        0                       146         0                    0   \n",
              "3  50.0        1                       111         0                    0   \n",
              "4  65.0        1                       160         1                    0   \n",
              "\n",
              "   platelets  serum_creatinine  sex  smoking  DEATH_EVENT  \n",
              "0  265000.00               1.9    1        0            1  \n",
              "1  263358.03               1.1    1        0            1  \n",
              "2  162000.00               1.3    1        1            1  \n",
              "3  210000.00               1.9    1        0            1  \n",
              "4  327000.00               2.7    0        0            1  "
            ],
            "text/html": [
              "\n",
              "  <div id=\"df-70603ee6-abde-4b77-b8cf-20ea1e0ac23a\">\n",
              "    <div class=\"colab-df-container\">\n",
              "      <div>\n",
              "<style scoped>\n",
              "    .dataframe tbody tr th:only-of-type {\n",
              "        vertical-align: middle;\n",
              "    }\n",
              "\n",
              "    .dataframe tbody tr th {\n",
              "        vertical-align: top;\n",
              "    }\n",
              "\n",
              "    .dataframe thead th {\n",
              "        text-align: right;\n",
              "    }\n",
              "</style>\n",
              "<table border=\"1\" class=\"dataframe\">\n",
              "  <thead>\n",
              "    <tr style=\"text-align: right;\">\n",
              "      <th></th>\n",
              "      <th>age</th>\n",
              "      <th>anaemia</th>\n",
              "      <th>creatinine_phosphokinase</th>\n",
              "      <th>diabetes</th>\n",
              "      <th>high_blood_pressure</th>\n",
              "      <th>platelets</th>\n",
              "      <th>serum_creatinine</th>\n",
              "      <th>sex</th>\n",
              "      <th>smoking</th>\n",
              "      <th>DEATH_EVENT</th>\n",
              "    </tr>\n",
              "  </thead>\n",
              "  <tbody>\n",
              "    <tr>\n",
              "      <th>0</th>\n",
              "      <td>75.0</td>\n",
              "      <td>0</td>\n",
              "      <td>582</td>\n",
              "      <td>0</td>\n",
              "      <td>1</td>\n",
              "      <td>265000.00</td>\n",
              "      <td>1.9</td>\n",
              "      <td>1</td>\n",
              "      <td>0</td>\n",
              "      <td>1</td>\n",
              "    </tr>\n",
              "    <tr>\n",
              "      <th>1</th>\n",
              "      <td>55.0</td>\n",
              "      <td>0</td>\n",
              "      <td>7861</td>\n",
              "      <td>0</td>\n",
              "      <td>0</td>\n",
              "      <td>263358.03</td>\n",
              "      <td>1.1</td>\n",
              "      <td>1</td>\n",
              "      <td>0</td>\n",
              "      <td>1</td>\n",
              "    </tr>\n",
              "    <tr>\n",
              "      <th>2</th>\n",
              "      <td>65.0</td>\n",
              "      <td>0</td>\n",
              "      <td>146</td>\n",
              "      <td>0</td>\n",
              "      <td>0</td>\n",
              "      <td>162000.00</td>\n",
              "      <td>1.3</td>\n",
              "      <td>1</td>\n",
              "      <td>1</td>\n",
              "      <td>1</td>\n",
              "    </tr>\n",
              "    <tr>\n",
              "      <th>3</th>\n",
              "      <td>50.0</td>\n",
              "      <td>1</td>\n",
              "      <td>111</td>\n",
              "      <td>0</td>\n",
              "      <td>0</td>\n",
              "      <td>210000.00</td>\n",
              "      <td>1.9</td>\n",
              "      <td>1</td>\n",
              "      <td>0</td>\n",
              "      <td>1</td>\n",
              "    </tr>\n",
              "    <tr>\n",
              "      <th>4</th>\n",
              "      <td>65.0</td>\n",
              "      <td>1</td>\n",
              "      <td>160</td>\n",
              "      <td>1</td>\n",
              "      <td>0</td>\n",
              "      <td>327000.00</td>\n",
              "      <td>2.7</td>\n",
              "      <td>0</td>\n",
              "      <td>0</td>\n",
              "      <td>1</td>\n",
              "    </tr>\n",
              "  </tbody>\n",
              "</table>\n",
              "</div>\n",
              "      <button class=\"colab-df-convert\" onclick=\"convertToInteractive('df-70603ee6-abde-4b77-b8cf-20ea1e0ac23a')\"\n",
              "              title=\"Convert this dataframe to an interactive table.\"\n",
              "              style=\"display:none;\">\n",
              "        \n",
              "  <svg xmlns=\"http://www.w3.org/2000/svg\" height=\"24px\"viewBox=\"0 0 24 24\"\n",
              "       width=\"24px\">\n",
              "    <path d=\"M0 0h24v24H0V0z\" fill=\"none\"/>\n",
              "    <path d=\"M18.56 5.44l.94 2.06.94-2.06 2.06-.94-2.06-.94-.94-2.06-.94 2.06-2.06.94zm-11 1L8.5 8.5l.94-2.06 2.06-.94-2.06-.94L8.5 2.5l-.94 2.06-2.06.94zm10 10l.94 2.06.94-2.06 2.06-.94-2.06-.94-.94-2.06-.94 2.06-2.06.94z\"/><path d=\"M17.41 7.96l-1.37-1.37c-.4-.4-.92-.59-1.43-.59-.52 0-1.04.2-1.43.59L10.3 9.45l-7.72 7.72c-.78.78-.78 2.05 0 2.83L4 21.41c.39.39.9.59 1.41.59.51 0 1.02-.2 1.41-.59l7.78-7.78 2.81-2.81c.8-.78.8-2.07 0-2.86zM5.41 20L4 18.59l7.72-7.72 1.47 1.35L5.41 20z\"/>\n",
              "  </svg>\n",
              "      </button>\n",
              "      \n",
              "  <style>\n",
              "    .colab-df-container {\n",
              "      display:flex;\n",
              "      flex-wrap:wrap;\n",
              "      gap: 12px;\n",
              "    }\n",
              "\n",
              "    .colab-df-convert {\n",
              "      background-color: #E8F0FE;\n",
              "      border: none;\n",
              "      border-radius: 50%;\n",
              "      cursor: pointer;\n",
              "      display: none;\n",
              "      fill: #1967D2;\n",
              "      height: 32px;\n",
              "      padding: 0 0 0 0;\n",
              "      width: 32px;\n",
              "    }\n",
              "\n",
              "    .colab-df-convert:hover {\n",
              "      background-color: #E2EBFA;\n",
              "      box-shadow: 0px 1px 2px rgba(60, 64, 67, 0.3), 0px 1px 3px 1px rgba(60, 64, 67, 0.15);\n",
              "      fill: #174EA6;\n",
              "    }\n",
              "\n",
              "    [theme=dark] .colab-df-convert {\n",
              "      background-color: #3B4455;\n",
              "      fill: #D2E3FC;\n",
              "    }\n",
              "\n",
              "    [theme=dark] .colab-df-convert:hover {\n",
              "      background-color: #434B5C;\n",
              "      box-shadow: 0px 1px 3px 1px rgba(0, 0, 0, 0.15);\n",
              "      filter: drop-shadow(0px 1px 2px rgba(0, 0, 0, 0.3));\n",
              "      fill: #FFFFFF;\n",
              "    }\n",
              "  </style>\n",
              "\n",
              "      <script>\n",
              "        const buttonEl =\n",
              "          document.querySelector('#df-70603ee6-abde-4b77-b8cf-20ea1e0ac23a button.colab-df-convert');\n",
              "        buttonEl.style.display =\n",
              "          google.colab.kernel.accessAllowed ? 'block' : 'none';\n",
              "\n",
              "        async function convertToInteractive(key) {\n",
              "          const element = document.querySelector('#df-70603ee6-abde-4b77-b8cf-20ea1e0ac23a');\n",
              "          const dataTable =\n",
              "            await google.colab.kernel.invokeFunction('convertToInteractive',\n",
              "                                                     [key], {});\n",
              "          if (!dataTable) return;\n",
              "\n",
              "          const docLinkHtml = 'Like what you see? Visit the ' +\n",
              "            '<a target=\"_blank\" href=https://colab.research.google.com/notebooks/data_table.ipynb>data table notebook</a>'\n",
              "            + ' to learn more about interactive tables.';\n",
              "          element.innerHTML = '';\n",
              "          dataTable['output_type'] = 'display_data';\n",
              "          await google.colab.output.renderOutput(dataTable, element);\n",
              "          const docLink = document.createElement('div');\n",
              "          docLink.innerHTML = docLinkHtml;\n",
              "          element.appendChild(docLink);\n",
              "        }\n",
              "      </script>\n",
              "    </div>\n",
              "  </div>\n",
              "  "
            ]
          },
          "metadata": {},
          "execution_count": 15
        }
      ],
      "source": [
        "new_df.head()"
      ]
    },
    {
      "cell_type": "markdown",
      "metadata": {
        "id": "HI0SjOf3rsxR"
      },
      "source": [
        "# EDA"
      ]
    },
    {
      "cell_type": "code",
      "execution_count": 16,
      "metadata": {
        "colab": {
          "base_uri": "https://localhost:8080/",
          "height": 488
        },
        "id": "DDOfl9WJlshF",
        "outputId": "1d557e17-68e3-494e-aeea-dced0f287ac0"
      },
      "outputs": [
        {
          "output_type": "execute_result",
          "data": {
            "text/plain": [
              "      age  anaemia  creatinine_phosphokinase  diabetes  ejection_fraction  \\\n",
              "0    75.0        0                       582         0                 20   \n",
              "1    55.0        0                      7861         0                 38   \n",
              "2    65.0        0                       146         0                 20   \n",
              "3    50.0        1                       111         0                 20   \n",
              "4    65.0        1                       160         1                 20   \n",
              "..    ...      ...                       ...       ...                ...   \n",
              "294  62.0        0                        61         1                 38   \n",
              "295  55.0        0                      1820         0                 38   \n",
              "296  45.0        0                      2060         1                 60   \n",
              "297  45.0        0                      2413         0                 38   \n",
              "298  50.0        0                       196         0                 45   \n",
              "\n",
              "     high_blood_pressure  platelets  serum_creatinine  serum_sodium  sex  \\\n",
              "0                      1  265000.00               1.9           130    1   \n",
              "1                      0  263358.03               1.1           136    1   \n",
              "2                      0  162000.00               1.3           129    1   \n",
              "3                      0  210000.00               1.9           137    1   \n",
              "4                      0  327000.00               2.7           116    0   \n",
              "..                   ...        ...               ...           ...  ...   \n",
              "294                    1  155000.00               1.1           143    1   \n",
              "295                    0  270000.00               1.2           139    0   \n",
              "296                    0  742000.00               0.8           138    0   \n",
              "297                    0  140000.00               1.4           140    1   \n",
              "298                    0  395000.00               1.6           136    1   \n",
              "\n",
              "     smoking  time  DEATH_EVENT  young_person  \n",
              "0          0     4            1             0  \n",
              "1          0     6            1             0  \n",
              "2          1     7            1             0  \n",
              "3          0     7            1             0  \n",
              "4          0     8            1             0  \n",
              "..       ...   ...          ...           ...  \n",
              "294        1   270            0             0  \n",
              "295        0   271            0             0  \n",
              "296        0   278            0             1  \n",
              "297        1   280            0             1  \n",
              "298        1   285            0             0  \n",
              "\n",
              "[299 rows x 14 columns]"
            ],
            "text/html": [
              "\n",
              "  <div id=\"df-15162528-ea9d-4b25-86cd-eb23f0e27c98\">\n",
              "    <div class=\"colab-df-container\">\n",
              "      <div>\n",
              "<style scoped>\n",
              "    .dataframe tbody tr th:only-of-type {\n",
              "        vertical-align: middle;\n",
              "    }\n",
              "\n",
              "    .dataframe tbody tr th {\n",
              "        vertical-align: top;\n",
              "    }\n",
              "\n",
              "    .dataframe thead th {\n",
              "        text-align: right;\n",
              "    }\n",
              "</style>\n",
              "<table border=\"1\" class=\"dataframe\">\n",
              "  <thead>\n",
              "    <tr style=\"text-align: right;\">\n",
              "      <th></th>\n",
              "      <th>age</th>\n",
              "      <th>anaemia</th>\n",
              "      <th>creatinine_phosphokinase</th>\n",
              "      <th>diabetes</th>\n",
              "      <th>ejection_fraction</th>\n",
              "      <th>high_blood_pressure</th>\n",
              "      <th>platelets</th>\n",
              "      <th>serum_creatinine</th>\n",
              "      <th>serum_sodium</th>\n",
              "      <th>sex</th>\n",
              "      <th>smoking</th>\n",
              "      <th>time</th>\n",
              "      <th>DEATH_EVENT</th>\n",
              "      <th>young_person</th>\n",
              "    </tr>\n",
              "  </thead>\n",
              "  <tbody>\n",
              "    <tr>\n",
              "      <th>0</th>\n",
              "      <td>75.0</td>\n",
              "      <td>0</td>\n",
              "      <td>582</td>\n",
              "      <td>0</td>\n",
              "      <td>20</td>\n",
              "      <td>1</td>\n",
              "      <td>265000.00</td>\n",
              "      <td>1.9</td>\n",
              "      <td>130</td>\n",
              "      <td>1</td>\n",
              "      <td>0</td>\n",
              "      <td>4</td>\n",
              "      <td>1</td>\n",
              "      <td>0</td>\n",
              "    </tr>\n",
              "    <tr>\n",
              "      <th>1</th>\n",
              "      <td>55.0</td>\n",
              "      <td>0</td>\n",
              "      <td>7861</td>\n",
              "      <td>0</td>\n",
              "      <td>38</td>\n",
              "      <td>0</td>\n",
              "      <td>263358.03</td>\n",
              "      <td>1.1</td>\n",
              "      <td>136</td>\n",
              "      <td>1</td>\n",
              "      <td>0</td>\n",
              "      <td>6</td>\n",
              "      <td>1</td>\n",
              "      <td>0</td>\n",
              "    </tr>\n",
              "    <tr>\n",
              "      <th>2</th>\n",
              "      <td>65.0</td>\n",
              "      <td>0</td>\n",
              "      <td>146</td>\n",
              "      <td>0</td>\n",
              "      <td>20</td>\n",
              "      <td>0</td>\n",
              "      <td>162000.00</td>\n",
              "      <td>1.3</td>\n",
              "      <td>129</td>\n",
              "      <td>1</td>\n",
              "      <td>1</td>\n",
              "      <td>7</td>\n",
              "      <td>1</td>\n",
              "      <td>0</td>\n",
              "    </tr>\n",
              "    <tr>\n",
              "      <th>3</th>\n",
              "      <td>50.0</td>\n",
              "      <td>1</td>\n",
              "      <td>111</td>\n",
              "      <td>0</td>\n",
              "      <td>20</td>\n",
              "      <td>0</td>\n",
              "      <td>210000.00</td>\n",
              "      <td>1.9</td>\n",
              "      <td>137</td>\n",
              "      <td>1</td>\n",
              "      <td>0</td>\n",
              "      <td>7</td>\n",
              "      <td>1</td>\n",
              "      <td>0</td>\n",
              "    </tr>\n",
              "    <tr>\n",
              "      <th>4</th>\n",
              "      <td>65.0</td>\n",
              "      <td>1</td>\n",
              "      <td>160</td>\n",
              "      <td>1</td>\n",
              "      <td>20</td>\n",
              "      <td>0</td>\n",
              "      <td>327000.00</td>\n",
              "      <td>2.7</td>\n",
              "      <td>116</td>\n",
              "      <td>0</td>\n",
              "      <td>0</td>\n",
              "      <td>8</td>\n",
              "      <td>1</td>\n",
              "      <td>0</td>\n",
              "    </tr>\n",
              "    <tr>\n",
              "      <th>...</th>\n",
              "      <td>...</td>\n",
              "      <td>...</td>\n",
              "      <td>...</td>\n",
              "      <td>...</td>\n",
              "      <td>...</td>\n",
              "      <td>...</td>\n",
              "      <td>...</td>\n",
              "      <td>...</td>\n",
              "      <td>...</td>\n",
              "      <td>...</td>\n",
              "      <td>...</td>\n",
              "      <td>...</td>\n",
              "      <td>...</td>\n",
              "      <td>...</td>\n",
              "    </tr>\n",
              "    <tr>\n",
              "      <th>294</th>\n",
              "      <td>62.0</td>\n",
              "      <td>0</td>\n",
              "      <td>61</td>\n",
              "      <td>1</td>\n",
              "      <td>38</td>\n",
              "      <td>1</td>\n",
              "      <td>155000.00</td>\n",
              "      <td>1.1</td>\n",
              "      <td>143</td>\n",
              "      <td>1</td>\n",
              "      <td>1</td>\n",
              "      <td>270</td>\n",
              "      <td>0</td>\n",
              "      <td>0</td>\n",
              "    </tr>\n",
              "    <tr>\n",
              "      <th>295</th>\n",
              "      <td>55.0</td>\n",
              "      <td>0</td>\n",
              "      <td>1820</td>\n",
              "      <td>0</td>\n",
              "      <td>38</td>\n",
              "      <td>0</td>\n",
              "      <td>270000.00</td>\n",
              "      <td>1.2</td>\n",
              "      <td>139</td>\n",
              "      <td>0</td>\n",
              "      <td>0</td>\n",
              "      <td>271</td>\n",
              "      <td>0</td>\n",
              "      <td>0</td>\n",
              "    </tr>\n",
              "    <tr>\n",
              "      <th>296</th>\n",
              "      <td>45.0</td>\n",
              "      <td>0</td>\n",
              "      <td>2060</td>\n",
              "      <td>1</td>\n",
              "      <td>60</td>\n",
              "      <td>0</td>\n",
              "      <td>742000.00</td>\n",
              "      <td>0.8</td>\n",
              "      <td>138</td>\n",
              "      <td>0</td>\n",
              "      <td>0</td>\n",
              "      <td>278</td>\n",
              "      <td>0</td>\n",
              "      <td>1</td>\n",
              "    </tr>\n",
              "    <tr>\n",
              "      <th>297</th>\n",
              "      <td>45.0</td>\n",
              "      <td>0</td>\n",
              "      <td>2413</td>\n",
              "      <td>0</td>\n",
              "      <td>38</td>\n",
              "      <td>0</td>\n",
              "      <td>140000.00</td>\n",
              "      <td>1.4</td>\n",
              "      <td>140</td>\n",
              "      <td>1</td>\n",
              "      <td>1</td>\n",
              "      <td>280</td>\n",
              "      <td>0</td>\n",
              "      <td>1</td>\n",
              "    </tr>\n",
              "    <tr>\n",
              "      <th>298</th>\n",
              "      <td>50.0</td>\n",
              "      <td>0</td>\n",
              "      <td>196</td>\n",
              "      <td>0</td>\n",
              "      <td>45</td>\n",
              "      <td>0</td>\n",
              "      <td>395000.00</td>\n",
              "      <td>1.6</td>\n",
              "      <td>136</td>\n",
              "      <td>1</td>\n",
              "      <td>1</td>\n",
              "      <td>285</td>\n",
              "      <td>0</td>\n",
              "      <td>0</td>\n",
              "    </tr>\n",
              "  </tbody>\n",
              "</table>\n",
              "<p>299 rows × 14 columns</p>\n",
              "</div>\n",
              "      <button class=\"colab-df-convert\" onclick=\"convertToInteractive('df-15162528-ea9d-4b25-86cd-eb23f0e27c98')\"\n",
              "              title=\"Convert this dataframe to an interactive table.\"\n",
              "              style=\"display:none;\">\n",
              "        \n",
              "  <svg xmlns=\"http://www.w3.org/2000/svg\" height=\"24px\"viewBox=\"0 0 24 24\"\n",
              "       width=\"24px\">\n",
              "    <path d=\"M0 0h24v24H0V0z\" fill=\"none\"/>\n",
              "    <path d=\"M18.56 5.44l.94 2.06.94-2.06 2.06-.94-2.06-.94-.94-2.06-.94 2.06-2.06.94zm-11 1L8.5 8.5l.94-2.06 2.06-.94-2.06-.94L8.5 2.5l-.94 2.06-2.06.94zm10 10l.94 2.06.94-2.06 2.06-.94-2.06-.94-.94-2.06-.94 2.06-2.06.94z\"/><path d=\"M17.41 7.96l-1.37-1.37c-.4-.4-.92-.59-1.43-.59-.52 0-1.04.2-1.43.59L10.3 9.45l-7.72 7.72c-.78.78-.78 2.05 0 2.83L4 21.41c.39.39.9.59 1.41.59.51 0 1.02-.2 1.41-.59l7.78-7.78 2.81-2.81c.8-.78.8-2.07 0-2.86zM5.41 20L4 18.59l7.72-7.72 1.47 1.35L5.41 20z\"/>\n",
              "  </svg>\n",
              "      </button>\n",
              "      \n",
              "  <style>\n",
              "    .colab-df-container {\n",
              "      display:flex;\n",
              "      flex-wrap:wrap;\n",
              "      gap: 12px;\n",
              "    }\n",
              "\n",
              "    .colab-df-convert {\n",
              "      background-color: #E8F0FE;\n",
              "      border: none;\n",
              "      border-radius: 50%;\n",
              "      cursor: pointer;\n",
              "      display: none;\n",
              "      fill: #1967D2;\n",
              "      height: 32px;\n",
              "      padding: 0 0 0 0;\n",
              "      width: 32px;\n",
              "    }\n",
              "\n",
              "    .colab-df-convert:hover {\n",
              "      background-color: #E2EBFA;\n",
              "      box-shadow: 0px 1px 2px rgba(60, 64, 67, 0.3), 0px 1px 3px 1px rgba(60, 64, 67, 0.15);\n",
              "      fill: #174EA6;\n",
              "    }\n",
              "\n",
              "    [theme=dark] .colab-df-convert {\n",
              "      background-color: #3B4455;\n",
              "      fill: #D2E3FC;\n",
              "    }\n",
              "\n",
              "    [theme=dark] .colab-df-convert:hover {\n",
              "      background-color: #434B5C;\n",
              "      box-shadow: 0px 1px 3px 1px rgba(0, 0, 0, 0.15);\n",
              "      filter: drop-shadow(0px 1px 2px rgba(0, 0, 0, 0.3));\n",
              "      fill: #FFFFFF;\n",
              "    }\n",
              "  </style>\n",
              "\n",
              "      <script>\n",
              "        const buttonEl =\n",
              "          document.querySelector('#df-15162528-ea9d-4b25-86cd-eb23f0e27c98 button.colab-df-convert');\n",
              "        buttonEl.style.display =\n",
              "          google.colab.kernel.accessAllowed ? 'block' : 'none';\n",
              "\n",
              "        async function convertToInteractive(key) {\n",
              "          const element = document.querySelector('#df-15162528-ea9d-4b25-86cd-eb23f0e27c98');\n",
              "          const dataTable =\n",
              "            await google.colab.kernel.invokeFunction('convertToInteractive',\n",
              "                                                     [key], {});\n",
              "          if (!dataTable) return;\n",
              "\n",
              "          const docLinkHtml = 'Like what you see? Visit the ' +\n",
              "            '<a target=\"_blank\" href=https://colab.research.google.com/notebooks/data_table.ipynb>data table notebook</a>'\n",
              "            + ' to learn more about interactive tables.';\n",
              "          element.innerHTML = '';\n",
              "          dataTable['output_type'] = 'display_data';\n",
              "          await google.colab.output.renderOutput(dataTable, element);\n",
              "          const docLink = document.createElement('div');\n",
              "          docLink.innerHTML = docLinkHtml;\n",
              "          element.appendChild(docLink);\n",
              "        }\n",
              "      </script>\n",
              "    </div>\n",
              "  </div>\n",
              "  "
            ]
          },
          "metadata": {},
          "execution_count": 16
        }
      ],
      "source": [
        "df_EDA = df.copy()\n",
        "df_EDA['young_person'] = df_EDA['age'].apply(lambda x: 1 if x < 50 else 0)\n",
        "df_EDA"
      ]
    },
    {
      "cell_type": "markdown",
      "metadata": {
        "id": "qLsfZiCahfKw"
      },
      "source": [
        "## Bar plot"
      ]
    },
    {
      "cell_type": "code",
      "execution_count": 17,
      "metadata": {
        "colab": {
          "base_uri": "https://localhost:8080/",
          "height": 206
        },
        "id": "yERqqkDG7ExJ",
        "outputId": "70517e07-7dd9-44df-8cc3-e983a81631bf"
      },
      "outputs": [
        {
          "output_type": "execute_result",
          "data": {
            "text/plain": [
              "   young_person  anaemia  diabetes  high_blood_pressure  sex  smoking\n",
              "0             0        0         0                    1    1        0\n",
              "1             0        0         0                    0    1        0\n",
              "2             0        0         0                    0    1        1\n",
              "3             0        1         0                    0    1        0\n",
              "4             0        1         1                    0    0        0"
            ],
            "text/html": [
              "\n",
              "  <div id=\"df-4af83669-3e9c-4042-8ba1-c6f08c10e645\">\n",
              "    <div class=\"colab-df-container\">\n",
              "      <div>\n",
              "<style scoped>\n",
              "    .dataframe tbody tr th:only-of-type {\n",
              "        vertical-align: middle;\n",
              "    }\n",
              "\n",
              "    .dataframe tbody tr th {\n",
              "        vertical-align: top;\n",
              "    }\n",
              "\n",
              "    .dataframe thead th {\n",
              "        text-align: right;\n",
              "    }\n",
              "</style>\n",
              "<table border=\"1\" class=\"dataframe\">\n",
              "  <thead>\n",
              "    <tr style=\"text-align: right;\">\n",
              "      <th></th>\n",
              "      <th>young_person</th>\n",
              "      <th>anaemia</th>\n",
              "      <th>diabetes</th>\n",
              "      <th>high_blood_pressure</th>\n",
              "      <th>sex</th>\n",
              "      <th>smoking</th>\n",
              "    </tr>\n",
              "  </thead>\n",
              "  <tbody>\n",
              "    <tr>\n",
              "      <th>0</th>\n",
              "      <td>0</td>\n",
              "      <td>0</td>\n",
              "      <td>0</td>\n",
              "      <td>1</td>\n",
              "      <td>1</td>\n",
              "      <td>0</td>\n",
              "    </tr>\n",
              "    <tr>\n",
              "      <th>1</th>\n",
              "      <td>0</td>\n",
              "      <td>0</td>\n",
              "      <td>0</td>\n",
              "      <td>0</td>\n",
              "      <td>1</td>\n",
              "      <td>0</td>\n",
              "    </tr>\n",
              "    <tr>\n",
              "      <th>2</th>\n",
              "      <td>0</td>\n",
              "      <td>0</td>\n",
              "      <td>0</td>\n",
              "      <td>0</td>\n",
              "      <td>1</td>\n",
              "      <td>1</td>\n",
              "    </tr>\n",
              "    <tr>\n",
              "      <th>3</th>\n",
              "      <td>0</td>\n",
              "      <td>1</td>\n",
              "      <td>0</td>\n",
              "      <td>0</td>\n",
              "      <td>1</td>\n",
              "      <td>0</td>\n",
              "    </tr>\n",
              "    <tr>\n",
              "      <th>4</th>\n",
              "      <td>0</td>\n",
              "      <td>1</td>\n",
              "      <td>1</td>\n",
              "      <td>0</td>\n",
              "      <td>0</td>\n",
              "      <td>0</td>\n",
              "    </tr>\n",
              "  </tbody>\n",
              "</table>\n",
              "</div>\n",
              "      <button class=\"colab-df-convert\" onclick=\"convertToInteractive('df-4af83669-3e9c-4042-8ba1-c6f08c10e645')\"\n",
              "              title=\"Convert this dataframe to an interactive table.\"\n",
              "              style=\"display:none;\">\n",
              "        \n",
              "  <svg xmlns=\"http://www.w3.org/2000/svg\" height=\"24px\"viewBox=\"0 0 24 24\"\n",
              "       width=\"24px\">\n",
              "    <path d=\"M0 0h24v24H0V0z\" fill=\"none\"/>\n",
              "    <path d=\"M18.56 5.44l.94 2.06.94-2.06 2.06-.94-2.06-.94-.94-2.06-.94 2.06-2.06.94zm-11 1L8.5 8.5l.94-2.06 2.06-.94-2.06-.94L8.5 2.5l-.94 2.06-2.06.94zm10 10l.94 2.06.94-2.06 2.06-.94-2.06-.94-.94-2.06-.94 2.06-2.06.94z\"/><path d=\"M17.41 7.96l-1.37-1.37c-.4-.4-.92-.59-1.43-.59-.52 0-1.04.2-1.43.59L10.3 9.45l-7.72 7.72c-.78.78-.78 2.05 0 2.83L4 21.41c.39.39.9.59 1.41.59.51 0 1.02-.2 1.41-.59l7.78-7.78 2.81-2.81c.8-.78.8-2.07 0-2.86zM5.41 20L4 18.59l7.72-7.72 1.47 1.35L5.41 20z\"/>\n",
              "  </svg>\n",
              "      </button>\n",
              "      \n",
              "  <style>\n",
              "    .colab-df-container {\n",
              "      display:flex;\n",
              "      flex-wrap:wrap;\n",
              "      gap: 12px;\n",
              "    }\n",
              "\n",
              "    .colab-df-convert {\n",
              "      background-color: #E8F0FE;\n",
              "      border: none;\n",
              "      border-radius: 50%;\n",
              "      cursor: pointer;\n",
              "      display: none;\n",
              "      fill: #1967D2;\n",
              "      height: 32px;\n",
              "      padding: 0 0 0 0;\n",
              "      width: 32px;\n",
              "    }\n",
              "\n",
              "    .colab-df-convert:hover {\n",
              "      background-color: #E2EBFA;\n",
              "      box-shadow: 0px 1px 2px rgba(60, 64, 67, 0.3), 0px 1px 3px 1px rgba(60, 64, 67, 0.15);\n",
              "      fill: #174EA6;\n",
              "    }\n",
              "\n",
              "    [theme=dark] .colab-df-convert {\n",
              "      background-color: #3B4455;\n",
              "      fill: #D2E3FC;\n",
              "    }\n",
              "\n",
              "    [theme=dark] .colab-df-convert:hover {\n",
              "      background-color: #434B5C;\n",
              "      box-shadow: 0px 1px 3px 1px rgba(0, 0, 0, 0.15);\n",
              "      filter: drop-shadow(0px 1px 2px rgba(0, 0, 0, 0.3));\n",
              "      fill: #FFFFFF;\n",
              "    }\n",
              "  </style>\n",
              "\n",
              "      <script>\n",
              "        const buttonEl =\n",
              "          document.querySelector('#df-4af83669-3e9c-4042-8ba1-c6f08c10e645 button.colab-df-convert');\n",
              "        buttonEl.style.display =\n",
              "          google.colab.kernel.accessAllowed ? 'block' : 'none';\n",
              "\n",
              "        async function convertToInteractive(key) {\n",
              "          const element = document.querySelector('#df-4af83669-3e9c-4042-8ba1-c6f08c10e645');\n",
              "          const dataTable =\n",
              "            await google.colab.kernel.invokeFunction('convertToInteractive',\n",
              "                                                     [key], {});\n",
              "          if (!dataTable) return;\n",
              "\n",
              "          const docLinkHtml = 'Like what you see? Visit the ' +\n",
              "            '<a target=\"_blank\" href=https://colab.research.google.com/notebooks/data_table.ipynb>data table notebook</a>'\n",
              "            + ' to learn more about interactive tables.';\n",
              "          element.innerHTML = '';\n",
              "          dataTable['output_type'] = 'display_data';\n",
              "          await google.colab.output.renderOutput(dataTable, element);\n",
              "          const docLink = document.createElement('div');\n",
              "          docLink.innerHTML = docLinkHtml;\n",
              "          element.appendChild(docLink);\n",
              "        }\n",
              "      </script>\n",
              "    </div>\n",
              "  </div>\n",
              "  "
            ]
          },
          "metadata": {},
          "execution_count": 17
        }
      ],
      "source": [
        "young_anemia_diabetes_hbp_sex_smoking = df_EDA[['young_person','anaemia','diabetes','high_blood_pressure','sex','smoking']]\n",
        "young_anemia_diabetes_hbp_sex_smoking.head()"
      ]
    },
    {
      "cell_type": "code",
      "source": [
        "group1 = young_anemia_diabetes_hbp_sex_smoking.groupby(['young_person','sex']).sum()\n",
        "group1"
      ],
      "metadata": {
        "colab": {
          "base_uri": "https://localhost:8080/",
          "height": 206
        },
        "id": "I59qk1P_DijK",
        "outputId": "c5a6daaf-1399-4bc4-f384-b3b33be159e9"
      },
      "execution_count": 18,
      "outputs": [
        {
          "output_type": "execute_result",
          "data": {
            "text/plain": [
              "                  anaemia  diabetes  high_blood_pressure  smoking\n",
              "young_person sex                                                 \n",
              "0            0         44        45                   36        4\n",
              "             1         71        59                   55       81\n",
              "1            0          8        10                    8        0\n",
              "             1          6        11                    6       11"
            ],
            "text/html": [
              "\n",
              "  <div id=\"df-005361c4-68a1-4eef-b438-554fc2ecb7f9\">\n",
              "    <div class=\"colab-df-container\">\n",
              "      <div>\n",
              "<style scoped>\n",
              "    .dataframe tbody tr th:only-of-type {\n",
              "        vertical-align: middle;\n",
              "    }\n",
              "\n",
              "    .dataframe tbody tr th {\n",
              "        vertical-align: top;\n",
              "    }\n",
              "\n",
              "    .dataframe thead th {\n",
              "        text-align: right;\n",
              "    }\n",
              "</style>\n",
              "<table border=\"1\" class=\"dataframe\">\n",
              "  <thead>\n",
              "    <tr style=\"text-align: right;\">\n",
              "      <th></th>\n",
              "      <th></th>\n",
              "      <th>anaemia</th>\n",
              "      <th>diabetes</th>\n",
              "      <th>high_blood_pressure</th>\n",
              "      <th>smoking</th>\n",
              "    </tr>\n",
              "    <tr>\n",
              "      <th>young_person</th>\n",
              "      <th>sex</th>\n",
              "      <th></th>\n",
              "      <th></th>\n",
              "      <th></th>\n",
              "      <th></th>\n",
              "    </tr>\n",
              "  </thead>\n",
              "  <tbody>\n",
              "    <tr>\n",
              "      <th rowspan=\"2\" valign=\"top\">0</th>\n",
              "      <th>0</th>\n",
              "      <td>44</td>\n",
              "      <td>45</td>\n",
              "      <td>36</td>\n",
              "      <td>4</td>\n",
              "    </tr>\n",
              "    <tr>\n",
              "      <th>1</th>\n",
              "      <td>71</td>\n",
              "      <td>59</td>\n",
              "      <td>55</td>\n",
              "      <td>81</td>\n",
              "    </tr>\n",
              "    <tr>\n",
              "      <th rowspan=\"2\" valign=\"top\">1</th>\n",
              "      <th>0</th>\n",
              "      <td>8</td>\n",
              "      <td>10</td>\n",
              "      <td>8</td>\n",
              "      <td>0</td>\n",
              "    </tr>\n",
              "    <tr>\n",
              "      <th>1</th>\n",
              "      <td>6</td>\n",
              "      <td>11</td>\n",
              "      <td>6</td>\n",
              "      <td>11</td>\n",
              "    </tr>\n",
              "  </tbody>\n",
              "</table>\n",
              "</div>\n",
              "      <button class=\"colab-df-convert\" onclick=\"convertToInteractive('df-005361c4-68a1-4eef-b438-554fc2ecb7f9')\"\n",
              "              title=\"Convert this dataframe to an interactive table.\"\n",
              "              style=\"display:none;\">\n",
              "        \n",
              "  <svg xmlns=\"http://www.w3.org/2000/svg\" height=\"24px\"viewBox=\"0 0 24 24\"\n",
              "       width=\"24px\">\n",
              "    <path d=\"M0 0h24v24H0V0z\" fill=\"none\"/>\n",
              "    <path d=\"M18.56 5.44l.94 2.06.94-2.06 2.06-.94-2.06-.94-.94-2.06-.94 2.06-2.06.94zm-11 1L8.5 8.5l.94-2.06 2.06-.94-2.06-.94L8.5 2.5l-.94 2.06-2.06.94zm10 10l.94 2.06.94-2.06 2.06-.94-2.06-.94-.94-2.06-.94 2.06-2.06.94z\"/><path d=\"M17.41 7.96l-1.37-1.37c-.4-.4-.92-.59-1.43-.59-.52 0-1.04.2-1.43.59L10.3 9.45l-7.72 7.72c-.78.78-.78 2.05 0 2.83L4 21.41c.39.39.9.59 1.41.59.51 0 1.02-.2 1.41-.59l7.78-7.78 2.81-2.81c.8-.78.8-2.07 0-2.86zM5.41 20L4 18.59l7.72-7.72 1.47 1.35L5.41 20z\"/>\n",
              "  </svg>\n",
              "      </button>\n",
              "      \n",
              "  <style>\n",
              "    .colab-df-container {\n",
              "      display:flex;\n",
              "      flex-wrap:wrap;\n",
              "      gap: 12px;\n",
              "    }\n",
              "\n",
              "    .colab-df-convert {\n",
              "      background-color: #E8F0FE;\n",
              "      border: none;\n",
              "      border-radius: 50%;\n",
              "      cursor: pointer;\n",
              "      display: none;\n",
              "      fill: #1967D2;\n",
              "      height: 32px;\n",
              "      padding: 0 0 0 0;\n",
              "      width: 32px;\n",
              "    }\n",
              "\n",
              "    .colab-df-convert:hover {\n",
              "      background-color: #E2EBFA;\n",
              "      box-shadow: 0px 1px 2px rgba(60, 64, 67, 0.3), 0px 1px 3px 1px rgba(60, 64, 67, 0.15);\n",
              "      fill: #174EA6;\n",
              "    }\n",
              "\n",
              "    [theme=dark] .colab-df-convert {\n",
              "      background-color: #3B4455;\n",
              "      fill: #D2E3FC;\n",
              "    }\n",
              "\n",
              "    [theme=dark] .colab-df-convert:hover {\n",
              "      background-color: #434B5C;\n",
              "      box-shadow: 0px 1px 3px 1px rgba(0, 0, 0, 0.15);\n",
              "      filter: drop-shadow(0px 1px 2px rgba(0, 0, 0, 0.3));\n",
              "      fill: #FFFFFF;\n",
              "    }\n",
              "  </style>\n",
              "\n",
              "      <script>\n",
              "        const buttonEl =\n",
              "          document.querySelector('#df-005361c4-68a1-4eef-b438-554fc2ecb7f9 button.colab-df-convert');\n",
              "        buttonEl.style.display =\n",
              "          google.colab.kernel.accessAllowed ? 'block' : 'none';\n",
              "\n",
              "        async function convertToInteractive(key) {\n",
              "          const element = document.querySelector('#df-005361c4-68a1-4eef-b438-554fc2ecb7f9');\n",
              "          const dataTable =\n",
              "            await google.colab.kernel.invokeFunction('convertToInteractive',\n",
              "                                                     [key], {});\n",
              "          if (!dataTable) return;\n",
              "\n",
              "          const docLinkHtml = 'Like what you see? Visit the ' +\n",
              "            '<a target=\"_blank\" href=https://colab.research.google.com/notebooks/data_table.ipynb>data table notebook</a>'\n",
              "            + ' to learn more about interactive tables.';\n",
              "          element.innerHTML = '';\n",
              "          dataTable['output_type'] = 'display_data';\n",
              "          await google.colab.output.renderOutput(dataTable, element);\n",
              "          const docLink = document.createElement('div');\n",
              "          docLink.innerHTML = docLinkHtml;\n",
              "          element.appendChild(docLink);\n",
              "        }\n",
              "      </script>\n",
              "    </div>\n",
              "  </div>\n",
              "  "
            ]
          },
          "metadata": {},
          "execution_count": 18
        }
      ]
    },
    {
      "cell_type": "code",
      "source": [
        "plt.figure(figsize=(16,10))\n",
        "plt.style.use('ggplot')\n",
        "group1.plot(kind='bar',title='perbandingan penyakit yang diderita berdasarkan umur dan sex')\n",
        "plt.savefig(\"perbandingan_sex_umur.png\",\n",
        "            bbox_inches =\"tight\",\n",
        "            pad_inches = 1,\n",
        "            transparent = True,\n",
        "            orientation ='landscape')"
      ],
      "metadata": {
        "colab": {
          "base_uri": "https://localhost:8080/",
          "height": 333
        },
        "id": "y7OVdiiaHlfs",
        "outputId": "d80cf731-619d-486c-a6c4-73c317ee8440"
      },
      "execution_count": 19,
      "outputs": [
        {
          "output_type": "display_data",
          "data": {
            "text/plain": [
              "<Figure size 1152x720 with 0 Axes>"
            ]
          },
          "metadata": {}
        },
        {
          "output_type": "display_data",
          "data": {
            "text/plain": [
              "<Figure size 432x288 with 1 Axes>"
            ],
            "image/png": "[encoded data removed]"
          },
          "metadata": {}
        }
      ]
    },
    {
      "cell_type": "markdown",
      "source": [
        "## Scatter Plot"
      ],
      "metadata": {
        "id": "MqV8CLX8_OHk"
      }
    },
    {
      "cell_type": "code",
      "source": [
        "np.unique(df_EDA['serum_creatinine'])"
      ],
      "metadata": {
        "colab": {
          "base_uri": "https://localhost:8080/"
        },
        "id": "gVdp1sz8IjK-",
        "outputId": "8e7c912b-098d-49d6-b2e9-7c5fcacaa8f1"
      },
      "execution_count": 20,
      "outputs": [
        {
          "output_type": "execute_result",
          "data": {
            "text/plain": [
              "array([0.5 , 0.6 , 0.7 , 0.75, 0.8 , 0.9 , 1.  , 1.1 , 1.18, 1.2 , 1.3 ,\n",
              "       1.4 , 1.5 , 1.6 , 1.7 , 1.8 , 1.83, 1.9 , 2.  , 2.1 , 2.2 , 2.3 ,\n",
              "       2.4 , 2.5 , 2.7 , 2.9 , 3.  , 3.2 , 3.4 , 3.5 , 3.7 , 3.8 , 4.  ,\n",
              "       4.4 , 5.  , 5.8 , 6.1 , 6.8 , 9.  , 9.4 ])"
            ]
          },
          "metadata": {},
          "execution_count": 20
        }
      ]
    },
    {
      "cell_type": "code",
      "source": [
        "np.unique(df_EDA['time'])"
      ],
      "metadata": {
        "colab": {
          "base_uri": "https://localhost:8080/"
        },
        "id": "zxiPAfcXJlz1",
        "outputId": "d4c678dc-cfa2-48c6-96b0-bac43696ea26"
      },
      "execution_count": 21,
      "outputs": [
        {
          "output_type": "execute_result",
          "data": {
            "text/plain": [
              "array([  4,   6,   7,   8,  10,  11,  12,  13,  14,  15,  16,  20,  22,\n",
              "        23,  24,  26,  27,  28,  29,  30,  31,  32,  33,  35,  38,  40,\n",
              "        41,  42,  43,  44,  45,  50,  54,  55,  59,  60,  61,  63,  64,\n",
              "        65,  66,  67,  68,  71,  72,  73,  74,  75,  76,  77,  78,  79,\n",
              "        80,  82,  83,  85,  86,  87,  88,  90,  91,  94,  95,  96,  97,\n",
              "       100, 104, 105, 106, 107, 108, 109, 110, 111, 112, 113, 115, 117,\n",
              "       118, 119, 120, 121, 123, 126, 129, 130, 134, 135, 140, 145, 146,\n",
              "       147, 148, 150, 154, 162, 170, 171, 172, 174, 175, 180, 185, 186,\n",
              "       187, 188, 192, 193, 194, 195, 196, 197, 198, 200, 201, 205, 206,\n",
              "       207, 208, 209, 210, 211, 212, 213, 214, 215, 216, 220, 230, 231,\n",
              "       233, 235, 237, 240, 241, 244, 245, 246, 247, 250, 256, 257, 258,\n",
              "       270, 271, 278, 280, 285])"
            ]
          },
          "metadata": {},
          "execution_count": 21
        }
      ]
    },
    {
      "cell_type": "code",
      "source": [
        "plt.figure(figsize=(14,10))\n",
        "plt.title('Persebaran data hubungan antara kadar serum creatinin dengan waktu penanganan pasien')\n",
        "sns.scatterplot(data=df_EDA, x='serum_creatinine', y='time', hue='sex')\n",
        "plt.savefig(\"scatter_serum_time.png\",\n",
        "            bbox_inches =\"tight\",\n",
        "            pad_inches = 1,\n",
        "            transparent = True,\n",
        "            orientation ='landscape')"
      ],
      "metadata": {
        "colab": {
          "base_uri": "https://localhost:8080/",
          "height": 626
        },
        "id": "efBvIIThI8mc",
        "outputId": "644703d9-2aa7-4022-bba4-758ae585d712"
      },
      "execution_count": 22,
      "outputs": [
        {
          "output_type": "display_data",
          "data": {
            "text/plain": [
              "<Figure size 1008x720 with 1 Axes>"
            ],
            "image/png": "[encoded data removed]"
          },
          "metadata": {}
        }
      ]
    },
    {
      "cell_type": "code",
      "source": [
        "plt.figure(figsize=(16,10))\n",
        "\n",
        "df_EDA['DEATH_EVENT'].value_counts().plot(\n",
        "    kind='pie',\n",
        "    autopct='%.2f%%',\n",
        "    shadow=False\n",
        ")\n",
        "plt.title('Persentase Kematian pada dataset')\n",
        "plt.ylabel('')\n",
        "plt.savefig(\"pie_DE.png\",\n",
        "            bbox_inches =\"tight\",\n",
        "            pad_inches = 1,\n",
        "            transparent = True,\n",
        "            orientation ='landscape')"
      ],
      "metadata": {
        "colab": {
          "base_uri": "https://localhost:8080/",
          "height": 592
        },
        "id": "JHdQVz-GsFPN",
        "outputId": "2c43be1c-2a81-4dd6-c814-b32efb0bcd6b"
      },
      "execution_count": 23,
      "outputs": [
        {
          "output_type": "display_data",
          "data": {
            "text/plain": [
              "<Figure size 1152x720 with 1 Axes>"
            ],
            "image/png": "[encoded data removed]"
          },
          "metadata": {}
        }
      ]
    },
    {
      "cell_type": "markdown",
      "metadata": {
        "id": "V1nvQp1kruMZ"
      },
      "source": [
        "#Data Preprocessing"
      ]
    },
    {
      "cell_type": "code",
      "source": [
        "new_df_scaled = new_df.copy()\n",
        "numerics = ['int64','float64']\n",
        "# new_df_scaled.drop(columns=['DEATH_EVENT'],inplace=True)\n",
        "scaler = StandardScaler()\n",
        "numeric_df = new_df.select_dtypes(include=numerics)\n",
        "for column in numeric_df.columns:\n",
        "  new_df_scaled[column] = scaler.fit_transform(new_df_scaled[column].values.reshape(-1,1))\n",
        "new_df_scaled['DEATH_EVENT'] = new_df['DEATH_EVENT']\n",
        "new_df_scaled['young_person'] = new_df['age'].apply(lambda x: 1 if x < 50 else 0)\n",
        "# new_df_scaled = new_df_scaled.drop(columns=['age'])"
      ],
      "metadata": {
        "id": "cSsjFccwRuVG"
      },
      "execution_count": 24,
      "outputs": []
    },
    {
      "cell_type": "code",
      "source": [
        "new_df_scaled"
      ],
      "metadata": {
        "colab": {
          "base_uri": "https://localhost:8080/",
          "height": 488
        },
        "id": "UvcpFORBLYdi",
        "outputId": "3d5b5854-6112-4a32-a722-781ee1c015a5"
      },
      "execution_count": 25,
      "outputs": [
        {
          "output_type": "execute_result",
          "data": {
            "text/plain": [
              "          age   anaemia  creatinine_phosphokinase  diabetes  \\\n",
              "0    1.192945 -0.871105                  0.000166 -0.847579   \n",
              "1   -0.491279 -0.871105                  7.514640 -0.847579   \n",
              "2    0.350833 -0.871105                 -0.449939 -0.847579   \n",
              "3   -0.912335  1.147968                 -0.486071 -0.847579   \n",
              "4    0.350833  1.147968                 -0.435486  1.179830   \n",
              "..        ...       ...                       ...       ...   \n",
              "294  0.098199 -0.871105                 -0.537688  1.179830   \n",
              "295 -0.491279 -0.871105                  1.278215 -0.847579   \n",
              "296 -1.333392 -0.871105                  1.525979  1.179830   \n",
              "297 -1.333392 -0.871105                  1.890398 -0.847579   \n",
              "298 -0.912335 -0.871105                 -0.398321 -0.847579   \n",
              "\n",
              "     high_blood_pressure     platelets  serum_creatinine       sex   smoking  \\\n",
              "0               1.359272  1.681648e-02          0.490057  0.735688 -0.687682   \n",
              "1              -0.735688  7.535660e-09         -0.284552  0.735688 -0.687682   \n",
              "2              -0.735688 -1.038073e+00         -0.090900  0.735688  1.454161   \n",
              "3              -0.735688 -5.464741e-01          0.490057  0.735688 -0.687682   \n",
              "4              -0.735688  6.517986e-01          1.264666 -1.359272 -0.687682   \n",
              "..                   ...           ...               ...       ...       ...   \n",
              "294             1.359272 -1.109765e+00         -0.284552  0.735688  1.454161   \n",
              "295            -0.735688  6.802472e-02         -0.187726 -1.359272 -0.687682   \n",
              "296            -0.735688  4.902082e+00         -0.575031 -1.359272 -0.687682   \n",
              "297            -0.735688 -1.263389e+00          0.005926  0.735688  1.454161   \n",
              "298            -0.735688  1.348231e+00          0.199578  0.735688  1.454161   \n",
              "\n",
              "     DEATH_EVENT  young_person  \n",
              "0              1             0  \n",
              "1              1             0  \n",
              "2              1             0  \n",
              "3              1             0  \n",
              "4              1             0  \n",
              "..           ...           ...  \n",
              "294            0             0  \n",
              "295            0             0  \n",
              "296            0             1  \n",
              "297            0             1  \n",
              "298            0             0  \n",
              "\n",
              "[299 rows x 11 columns]"
            ],
            "text/html": [
              "\n",
              "  <div id=\"df-ce188df9-e10f-422e-8e30-95ca26b0de91\">\n",
              "    <div class=\"colab-df-container\">\n",
              "      <div>\n",
              "<style scoped>\n",
              "    .dataframe tbody tr th:only-of-type {\n",
              "        vertical-align: middle;\n",
              "    }\n",
              "\n",
              "    .dataframe tbody tr th {\n",
              "        vertical-align: top;\n",
              "    }\n",
              "\n",
              "    .dataframe thead th {\n",
              "        text-align: right;\n",
              "    }\n",
              "</style>\n",
              "<table border=\"1\" class=\"dataframe\">\n",
              "  <thead>\n",
              "    <tr style=\"text-align: right;\">\n",
              "      <th></th>\n",
              "      <th>age</th>\n",
              "      <th>anaemia</th>\n",
              "      <th>creatinine_phosphokinase</th>\n",
              "      <th>diabetes</th>\n",
              "      <th>high_blood_pressure</th>\n",
              "      <th>platelets</th>\n",
              "      <th>serum_creatinine</th>\n",
              "      <th>sex</th>\n",
              "      <th>smoking</th>\n",
              "      <th>DEATH_EVENT</th>\n",
              "      <th>young_person</th>\n",
              "    </tr>\n",
              "  </thead>\n",
              "  <tbody>\n",
              "    <tr>\n",
              "      <th>0</th>\n",
              "      <td>1.192945</td>\n",
              "      <td>-0.871105</td>\n",
              "      <td>0.000166</td>\n",
              "      <td>-0.847579</td>\n",
              "      <td>1.359272</td>\n",
              "      <td>1.681648e-02</td>\n",
              "      <td>0.490057</td>\n",
              "      <td>0.735688</td>\n",
              "      <td>-0.687682</td>\n",
              "      <td>1</td>\n",
              "      <td>0</td>\n",
              "    </tr>\n",
              "    <tr>\n",
              "      <th>1</th>\n",
              "      <td>-0.491279</td>\n",
              "      <td>-0.871105</td>\n",
              "      <td>7.514640</td>\n",
              "      <td>-0.847579</td>\n",
              "      <td>-0.735688</td>\n",
              "      <td>7.535660e-09</td>\n",
              "      <td>-0.284552</td>\n",
              "      <td>0.735688</td>\n",
              "      <td>-0.687682</td>\n",
              "      <td>1</td>\n",
              "      <td>0</td>\n",
              "    </tr>\n",
              "    <tr>\n",
              "      <th>2</th>\n",
              "      <td>0.350833</td>\n",
              "      <td>-0.871105</td>\n",
              "      <td>-0.449939</td>\n",
              "      <td>-0.847579</td>\n",
              "      <td>-0.735688</td>\n",
              "      <td>-1.038073e+00</td>\n",
              "      <td>-0.090900</td>\n",
              "      <td>0.735688</td>\n",
              "      <td>1.454161</td>\n",
              "      <td>1</td>\n",
              "      <td>0</td>\n",
              "    </tr>\n",
              "    <tr>\n",
              "      <th>3</th>\n",
              "      <td>-0.912335</td>\n",
              "      <td>1.147968</td>\n",
              "      <td>-0.486071</td>\n",
              "      <td>-0.847579</td>\n",
              "      <td>-0.735688</td>\n",
              "      <td>-5.464741e-01</td>\n",
              "      <td>0.490057</td>\n",
              "      <td>0.735688</td>\n",
              "      <td>-0.687682</td>\n",
              "      <td>1</td>\n",
              "      <td>0</td>\n",
              "    </tr>\n",
              "    <tr>\n",
              "      <th>4</th>\n",
              "      <td>0.350833</td>\n",
              "      <td>1.147968</td>\n",
              "      <td>-0.435486</td>\n",
              "      <td>1.179830</td>\n",
              "      <td>-0.735688</td>\n",
              "      <td>6.517986e-01</td>\n",
              "      <td>1.264666</td>\n",
              "      <td>-1.359272</td>\n",
              "      <td>-0.687682</td>\n",
              "      <td>1</td>\n",
              "      <td>0</td>\n",
              "    </tr>\n",
              "    <tr>\n",
              "      <th>...</th>\n",
              "      <td>...</td>\n",
              "      <td>...</td>\n",
              "      <td>...</td>\n",
              "      <td>...</td>\n",
              "      <td>...</td>\n",
              "      <td>...</td>\n",
              "      <td>...</td>\n",
              "      <td>...</td>\n",
              "      <td>...</td>\n",
              "      <td>...</td>\n",
              "      <td>...</td>\n",
              "    </tr>\n",
              "    <tr>\n",
              "      <th>294</th>\n",
              "      <td>0.098199</td>\n",
              "      <td>-0.871105</td>\n",
              "      <td>-0.537688</td>\n",
              "      <td>1.179830</td>\n",
              "      <td>1.359272</td>\n",
              "      <td>-1.109765e+00</td>\n",
              "      <td>-0.284552</td>\n",
              "      <td>0.735688</td>\n",
              "      <td>1.454161</td>\n",
              "      <td>0</td>\n",
              "      <td>0</td>\n",
              "    </tr>\n",
              "    <tr>\n",
              "      <th>295</th>\n",
              "      <td>-0.491279</td>\n",
              "      <td>-0.871105</td>\n",
              "      <td>1.278215</td>\n",
              "      <td>-0.847579</td>\n",
              "      <td>-0.735688</td>\n",
              "      <td>6.802472e-02</td>\n",
              "      <td>-0.187726</td>\n",
              "      <td>-1.359272</td>\n",
              "      <td>-0.687682</td>\n",
              "      <td>0</td>\n",
              "      <td>0</td>\n",
              "    </tr>\n",
              "    <tr>\n",
              "      <th>296</th>\n",
              "      <td>-1.333392</td>\n",
              "      <td>-0.871105</td>\n",
              "      <td>1.525979</td>\n",
              "      <td>1.179830</td>\n",
              "      <td>-0.735688</td>\n",
              "      <td>4.902082e+00</td>\n",
              "      <td>-0.575031</td>\n",
              "      <td>-1.359272</td>\n",
              "      <td>-0.687682</td>\n",
              "      <td>0</td>\n",
              "      <td>1</td>\n",
              "    </tr>\n",
              "    <tr>\n",
              "      <th>297</th>\n",
              "      <td>-1.333392</td>\n",
              "      <td>-0.871105</td>\n",
              "      <td>1.890398</td>\n",
              "      <td>-0.847579</td>\n",
              "      <td>-0.735688</td>\n",
              "      <td>-1.263389e+00</td>\n",
              "      <td>0.005926</td>\n",
              "      <td>0.735688</td>\n",
              "      <td>1.454161</td>\n",
              "      <td>0</td>\n",
              "      <td>1</td>\n",
              "    </tr>\n",
              "    <tr>\n",
              "      <th>298</th>\n",
              "      <td>-0.912335</td>\n",
              "      <td>-0.871105</td>\n",
              "      <td>-0.398321</td>\n",
              "      <td>-0.847579</td>\n",
              "      <td>-0.735688</td>\n",
              "      <td>1.348231e+00</td>\n",
              "      <td>0.199578</td>\n",
              "      <td>0.735688</td>\n",
              "      <td>1.454161</td>\n",
              "      <td>0</td>\n",
              "      <td>0</td>\n",
              "    </tr>\n",
              "  </tbody>\n",
              "</table>\n",
              "<p>299 rows × 11 columns</p>\n",
              "</div>\n",
              "      <button class=\"colab-df-convert\" onclick=\"convertToInteractive('df-ce188df9-e10f-422e-8e30-95ca26b0de91')\"\n",
              "              title=\"Convert this dataframe to an interactive table.\"\n",
              "              style=\"display:none;\">\n",
              "        \n",
              "  <svg xmlns=\"http://www.w3.org/2000/svg\" height=\"24px\"viewBox=\"0 0 24 24\"\n",
              "       width=\"24px\">\n",
              "    <path d=\"M0 0h24v24H0V0z\" fill=\"none\"/>\n",
              "    <path d=\"M18.56 5.44l.94 2.06.94-2.06 2.06-.94-2.06-.94-.94-2.06-.94 2.06-2.06.94zm-11 1L8.5 8.5l.94-2.06 2.06-.94-2.06-.94L8.5 2.5l-.94 2.06-2.06.94zm10 10l.94 2.06.94-2.06 2.06-.94-2.06-.94-.94-2.06-.94 2.06-2.06.94z\"/><path d=\"M17.41 7.96l-1.37-1.37c-.4-.4-.92-.59-1.43-.59-.52 0-1.04.2-1.43.59L10.3 9.45l-7.72 7.72c-.78.78-.78 2.05 0 2.83L4 21.41c.39.39.9.59 1.41.59.51 0 1.02-.2 1.41-.59l7.78-7.78 2.81-2.81c.8-.78.8-2.07 0-2.86zM5.41 20L4 18.59l7.72-7.72 1.47 1.35L5.41 20z\"/>\n",
              "  </svg>\n",
              "      </button>\n",
              "      \n",
              "  <style>\n",
              "    .colab-df-container {\n",
              "      display:flex;\n",
              "      flex-wrap:wrap;\n",
              "      gap: 12px;\n",
              "    }\n",
              "\n",
              "    .colab-df-convert {\n",
              "      background-color: #E8F0FE;\n",
              "      border: none;\n",
              "      border-radius: 50%;\n",
              "      cursor: pointer;\n",
              "      display: none;\n",
              "      fill: #1967D2;\n",
              "      height: 32px;\n",
              "      padding: 0 0 0 0;\n",
              "      width: 32px;\n",
              "    }\n",
              "\n",
              "    .colab-df-convert:hover {\n",
              "      background-color: #E2EBFA;\n",
              "      box-shadow: 0px 1px 2px rgba(60, 64, 67, 0.3), 0px 1px 3px 1px rgba(60, 64, 67, 0.15);\n",
              "      fill: #174EA6;\n",
              "    }\n",
              "\n",
              "    [theme=dark] .colab-df-convert {\n",
              "      background-color: #3B4455;\n",
              "      fill: #D2E3FC;\n",
              "    }\n",
              "\n",
              "    [theme=dark] .colab-df-convert:hover {\n",
              "      background-color: #434B5C;\n",
              "      box-shadow: 0px 1px 3px 1px rgba(0, 0, 0, 0.15);\n",
              "      filter: drop-shadow(0px 1px 2px rgba(0, 0, 0, 0.3));\n",
              "      fill: #FFFFFF;\n",
              "    }\n",
              "  </style>\n",
              "\n",
              "      <script>\n",
              "        const buttonEl =\n",
              "          document.querySelector('#df-ce188df9-e10f-422e-8e30-95ca26b0de91 button.colab-df-convert');\n",
              "        buttonEl.style.display =\n",
              "          google.colab.kernel.accessAllowed ? 'block' : 'none';\n",
              "\n",
              "        async function convertToInteractive(key) {\n",
              "          const element = document.querySelector('#df-ce188df9-e10f-422e-8e30-95ca26b0de91');\n",
              "          const dataTable =\n",
              "            await google.colab.kernel.invokeFunction('convertToInteractive',\n",
              "                                                     [key], {});\n",
              "          if (!dataTable) return;\n",
              "\n",
              "          const docLinkHtml = 'Like what you see? Visit the ' +\n",
              "            '<a target=\"_blank\" href=https://colab.research.google.com/notebooks/data_table.ipynb>data table notebook</a>'\n",
              "            + ' to learn more about interactive tables.';\n",
              "          element.innerHTML = '';\n",
              "          dataTable['output_type'] = 'display_data';\n",
              "          await google.colab.output.renderOutput(dataTable, element);\n",
              "          const docLink = document.createElement('div');\n",
              "          docLink.innerHTML = docLinkHtml;\n",
              "          element.appendChild(docLink);\n",
              "        }\n",
              "      </script>\n",
              "    </div>\n",
              "  </div>\n",
              "  "
            ]
          },
          "metadata": {},
          "execution_count": 25
        }
      ]
    },
    {
      "cell_type": "markdown",
      "source": [
        "## Data Splitting dengan dan tanpa SMOTE (Synthetic Minority Oversampling Technique).\n",
        "\n",
        "Menggunakan SMOTE agar meng-oversampling data"
      ],
      "metadata": {
        "id": "ZnOksJtqFSbX"
      }
    },
    {
      "cell_type": "code",
      "source": [
        "X = new_df_scaled.drop(columns=['DEATH_EVENT'])\n",
        "y = new_df_scaled['DEATH_EVENT']\n",
        "\n",
        "smote = SMOTE()\n",
        "X_s, y_s = smote.fit_resample(X, y)\n",
        "X_train, X_test, y_train, y_test = train_test_split(X, y, test_size=0.1, random_state=42)\n",
        "Xs_train, Xs_test, ys_train, ys_test = train_test_split(X_s, y_s, test_size=0.1, random_state=42)"
      ],
      "metadata": {
        "id": "2WG1cJXxNCup"
      },
      "execution_count": 26,
      "outputs": []
    },
    {
      "cell_type": "markdown",
      "metadata": {
        "id": "lq0LzJMYr1Cq"
      },
      "source": [
        "#Pendefinisian Model"
      ]
    },
    {
      "cell_type": "markdown",
      "source": [
        "## Decision Tree"
      ],
      "metadata": {
        "id": "SeBhYtBtTJ7C"
      }
    },
    {
      "cell_type": "code",
      "source": [
        "dt_model = DecisionTreeClassifier(criterion='gini')\n",
        "dt_model_s = DecisionTreeClassifier(criterion='gini')\n",
        "dt_model.fit(X_train, y_train)\n",
        "dt_model_s.fit(Xs_train, ys_train)"
      ],
      "metadata": {
        "colab": {
          "base_uri": "https://localhost:8080/"
        },
        "id": "wqj1BOHVNWoC",
        "outputId": "6cf4676f-a361-437e-bd1d-0e684e20f025"
      },
      "execution_count": 27,
      "outputs": [
        {
          "output_type": "execute_result",
          "data": {
            "text/plain": [
              "DecisionTreeClassifier()"
            ]
          },
          "metadata": {},
          "execution_count": 27
        }
      ]
    },
    {
      "cell_type": "code",
      "source": [
        "dot_data = export_graphviz(dt_model, out_file=None, \n",
        "                      class_names=new_df_scaled['DEATH_EVENT'].astype('str'),  \n",
        "                      filled=True, rounded=True,  \n",
        "                      special_characters=True,\n",
        "                      )  \n",
        "graph = graphviz.Source(dot_data)\n",
        "graph"
      ],
      "metadata": {
        "colab": {
          "base_uri": "https://localhost:8080/",
          "height": 1000
        },
        "id": "oDNMCKmdTTE9",
        "outputId": "872dd64d-a5c0-4159-94b3-01f711ecf81b"
      },
      "execution_count": 28,
      "outputs": [
        {
          "output_type": "execute_result",
          "data": {
            "text/plain": [
              "<graphviz.files.Source at 0x7fe4ab98a430>"
            ],
            "image/svg+xml": "<?xml version=\"1.0\" encoding=\"UTF-8\" standalone=\"no\"?>\n<!DOCTYPE svg PUBLIC \"-//W3C//DTD SVG 1.1//EN\"\n \"http://www.w3.org/Graphics/SVG/1.1/DTD/svg11.dtd\">\n<!-- Generated by graphviz version 2.40.1 (20161225.0304)\n -->\n<!-- Title: Tree Pages: 1 -->\n<svg width=\"2489pt\" height=\"1900pt\"\n viewBox=\"0.00 0.00 2489.00 1900.00\" xmlns=\"http://www.w3.org/2000/svg\" xmlns:xlink=\"http://www.w3.org/1999/xlink\">\n<g id=\"graph0\" class=\"graph\" transform=\"scale(1 1) rotate(0) translate(4 1896)\">\n<title>Tree</title>\n<polygon fill=\"#ffffff\" stroke=\"transparent\" points=\"-4,4 -4,-1896 2485,-1896 2485,4 -4,4\"/>\n<!-- 0 -->\n<g id=\"node1\" class=\"node\">\n<title>0</title>\n<path fill=\"#f1ba93\" stroke=\"#000000\" d=\"M1759.5,-1892C1759.5,-1892 1659.5,-1892 1659.5,-1892 1653.5,-1892 1647.5,-1886 1647.5,-1880 1647.5,-1880 1647.5,-1826 1647.5,-1826 1647.5,-1820 1653.5,-1814 1659.5,-1814 1659.5,-1814 1759.5,-1814 1759.5,-1814 1765.5,-1814 1771.5,-1820 1771.5,-1826 1771.5,-1826 1771.5,-1880 1771.5,-1880 1771.5,-1886 1765.5,-1892 1759.5,-1892\"/>\n<text text-anchor=\"start\" x=\"1675\" y=\"-1877.8\" font-family=\"Helvetica,sans-Serif\" font-size=\"14.00\" fill=\"#000000\">X</text>\n<text text-anchor=\"start\" x=\"1685\" y=\"-1877.8\" font-family=\"Helvetica,sans-Serif\" baseline-shift=\"sub\" font-size=\"14.00\" fill=\"#000000\">6</text>\n<text text-anchor=\"start\" x=\"1692\" y=\"-1877.8\" font-family=\"Helvetica,sans-Serif\" font-size=\"14.00\" fill=\"#000000\"> ≤ 0.408</text>\n<text text-anchor=\"start\" x=\"1676\" y=\"-1863.8\" font-family=\"Helvetica,sans-Serif\" font-size=\"14.00\" fill=\"#000000\">gini = 0.43</text>\n<text text-anchor=\"start\" x=\"1661.5\" y=\"-1849.8\" font-family=\"Helvetica,sans-Serif\" font-size=\"14.00\" fill=\"#000000\">samples = 269</text>\n<text text-anchor=\"start\" x=\"1655.5\" y=\"-1835.8\" font-family=\"Helvetica,sans-Serif\" font-size=\"14.00\" fill=\"#000000\">value = [185, 84]</text>\n<text text-anchor=\"start\" x=\"1680.5\" y=\"-1821.8\" font-family=\"Helvetica,sans-Serif\" font-size=\"14.00\" fill=\"#000000\">class = 1</text>\n</g>\n<!-- 1 -->\n<g id=\"node2\" class=\"node\">\n<title>1</title>\n<path fill=\"#eda673\" stroke=\"#000000\" d=\"M1690.5,-1778C1690.5,-1778 1590.5,-1778 1590.5,-1778 1584.5,-1778 1578.5,-1772 1578.5,-1766 1578.5,-1766 1578.5,-1712 1578.5,-1712 1578.5,-1706 1584.5,-1700 1590.5,-1700 1590.5,-1700 1690.5,-1700 1690.5,-1700 1696.5,-1700 1702.5,-1706 1702.5,-1712 1702.5,-1712 1702.5,-1766 1702.5,-1766 1702.5,-1772 1696.5,-1778 1690.5,-1778\"/>\n<text text-anchor=\"start\" x=\"1610\" y=\"-1763.8\" font-family=\"Helvetica,sans-Serif\" font-size=\"14.00\" fill=\"#000000\">X</text>\n<text text-anchor=\"start\" x=\"1620\" y=\"-1763.8\" font-family=\"Helvetica,sans-Serif\" baseline-shift=\"sub\" font-size=\"14.00\" fill=\"#000000\">0</text>\n<text text-anchor=\"start\" x=\"1627\" y=\"-1763.8\" font-family=\"Helvetica,sans-Serif\" font-size=\"14.00\" fill=\"#000000\"> ≤ 1.74</text>\n<text text-anchor=\"start\" x=\"1602.5\" y=\"-1749.8\" font-family=\"Helvetica,sans-Serif\" font-size=\"14.00\" fill=\"#000000\">gini = 0.349</text>\n<text text-anchor=\"start\" x=\"1592.5\" y=\"-1735.8\" font-family=\"Helvetica,sans-Serif\" font-size=\"14.00\" fill=\"#000000\">samples = 226</text>\n<text text-anchor=\"start\" x=\"1586.5\" y=\"-1721.8\" font-family=\"Helvetica,sans-Serif\" font-size=\"14.00\" fill=\"#000000\">value = [175, 51]</text>\n<text text-anchor=\"start\" x=\"1611.5\" y=\"-1707.8\" font-family=\"Helvetica,sans-Serif\" font-size=\"14.00\" fill=\"#000000\">class = 1</text>\n</g>\n<!-- 0&#45;&gt;1 -->\n<g id=\"edge1\" class=\"edge\">\n<title>0&#45;&gt;1</title>\n<path fill=\"none\" stroke=\"#000000\" d=\"M1685.7541,-1813.7677C1680.5499,-1805.1694 1674.9829,-1795.9718 1669.5962,-1787.072\"/>\n<polygon fill=\"#000000\" stroke=\"#000000\" points=\"1672.462,-1785.0473 1664.2897,-1778.3046 1666.4735,-1788.672 1672.462,-1785.0473\"/>\n<text text-anchor=\"middle\" x=\"1658.32\" y=\"-1798.8814\" font-family=\"Helvetica,sans-Serif\" font-size=\"14.00\" fill=\"#000000\">True</text>\n</g>\n<!-- 106 -->\n<g id=\"node107\" class=\"node\">\n<title>106</title>\n<path fill=\"#75bbed\" stroke=\"#000000\" d=\"M1918.5,-1778C1918.5,-1778 1826.5,-1778 1826.5,-1778 1820.5,-1778 1814.5,-1772 1814.5,-1766 1814.5,-1766 1814.5,-1712 1814.5,-1712 1814.5,-1706 1820.5,-1700 1826.5,-1700 1826.5,-1700 1918.5,-1700 1918.5,-1700 1924.5,-1700 1930.5,-1706 1930.5,-1712 1930.5,-1712 1930.5,-1766 1930.5,-1766 1930.5,-1772 1924.5,-1778 1918.5,-1778\"/>\n<text text-anchor=\"start\" x=\"1838\" y=\"-1763.8\" font-family=\"Helvetica,sans-Serif\" font-size=\"14.00\" fill=\"#000000\">X</text>\n<text text-anchor=\"start\" x=\"1848\" y=\"-1763.8\" font-family=\"Helvetica,sans-Serif\" baseline-shift=\"sub\" font-size=\"14.00\" fill=\"#000000\">6</text>\n<text text-anchor=\"start\" x=\"1855\" y=\"-1763.8\" font-family=\"Helvetica,sans-Serif\" font-size=\"14.00\" fill=\"#000000\"> ≤ 0.635</text>\n<text text-anchor=\"start\" x=\"1834.5\" y=\"-1749.8\" font-family=\"Helvetica,sans-Serif\" font-size=\"14.00\" fill=\"#000000\">gini = 0.357</text>\n<text text-anchor=\"start\" x=\"1828.5\" y=\"-1735.8\" font-family=\"Helvetica,sans-Serif\" font-size=\"14.00\" fill=\"#000000\">samples = 43</text>\n<text text-anchor=\"start\" x=\"1822.5\" y=\"-1721.8\" font-family=\"Helvetica,sans-Serif\" font-size=\"14.00\" fill=\"#000000\">value = [10, 33]</text>\n<text text-anchor=\"start\" x=\"1843.5\" y=\"-1707.8\" font-family=\"Helvetica,sans-Serif\" font-size=\"14.00\" fill=\"#000000\">class = 1</text>\n</g>\n<!-- 0&#45;&gt;106 -->\n<g id=\"edge106\" class=\"edge\">\n<title>0&#45;&gt;106</title>\n<path fill=\"none\" stroke=\"#000000\" d=\"M1765.5954,-1813.7677C1779.375,-1804.1303 1794.2313,-1793.7401 1808.3579,-1783.8601\"/>\n<polygon fill=\"#000000\" stroke=\"#000000\" points=\"1810.3887,-1786.7109 1816.5775,-1778.1115 1806.3768,-1780.9746 1810.3887,-1786.7109\"/>\n<text text-anchor=\"middle\" x=\"1812.2227\" y=\"-1799.0293\" font-family=\"Helvetica,sans-Serif\" font-size=\"14.00\" fill=\"#000000\">False</text>\n</g>\n<!-- 2 -->\n<g id=\"node3\" class=\"node\">\n<title>2</title>\n<path fill=\"#eca06a\" stroke=\"#000000\" d=\"M1524.5,-1664C1524.5,-1664 1424.5,-1664 1424.5,-1664 1418.5,-1664 1412.5,-1658 1412.5,-1652 1412.5,-1652 1412.5,-1598 1412.5,-1598 1412.5,-1592 1418.5,-1586 1424.5,-1586 1424.5,-1586 1524.5,-1586 1524.5,-1586 1530.5,-1586 1536.5,-1592 1536.5,-1598 1536.5,-1598 1536.5,-1652 1536.5,-1652 1536.5,-1658 1530.5,-1664 1524.5,-1664\"/>\n<text text-anchor=\"start\" x=\"1437.5\" y=\"-1649.8\" font-family=\"Helvetica,sans-Serif\" font-size=\"14.00\" fill=\"#000000\">X</text>\n<text text-anchor=\"start\" x=\"1447.5\" y=\"-1649.8\" font-family=\"Helvetica,sans-Serif\" baseline-shift=\"sub\" font-size=\"14.00\" fill=\"#000000\">6</text>\n<text text-anchor=\"start\" x=\"1454.5\" y=\"-1649.8\" font-family=\"Helvetica,sans-Serif\" font-size=\"14.00\" fill=\"#000000\"> ≤ &#45;0.197</text>\n<text text-anchor=\"start\" x=\"1441\" y=\"-1635.8\" font-family=\"Helvetica,sans-Serif\" font-size=\"14.00\" fill=\"#000000\">gini = 0.32</text>\n<text text-anchor=\"start\" x=\"1426.5\" y=\"-1621.8\" font-family=\"Helvetica,sans-Serif\" font-size=\"14.00\" fill=\"#000000\">samples = 215</text>\n<text text-anchor=\"start\" x=\"1420.5\" y=\"-1607.8\" font-family=\"Helvetica,sans-Serif\" font-size=\"14.00\" fill=\"#000000\">value = [172, 43]</text>\n<text text-anchor=\"start\" x=\"1445.5\" y=\"-1593.8\" font-family=\"Helvetica,sans-Serif\" font-size=\"14.00\" fill=\"#000000\">class = 1</text>\n</g>\n<!-- 1&#45;&gt;2 -->\n<g id=\"edge2\" class=\"edge\">\n<title>1&#45;&gt;2</title>\n<path fill=\"none\" stroke=\"#000000\" d=\"M1583.3722,-1699.7677C1569.3389,-1690.1303 1554.2092,-1679.7401 1539.8226,-1669.8601\"/>\n<polygon fill=\"#000000\" stroke=\"#000000\" points=\"1541.6765,-1666.8874 1531.4518,-1664.1115 1537.7137,-1672.6577 1541.6765,-1666.8874\"/>\n</g>\n<!-- 99 -->\n<g id=\"node100\" class=\"node\">\n<title>99</title>\n<path fill=\"#83c2ef\" stroke=\"#000000\" d=\"M1680.5,-1664C1680.5,-1664 1600.5,-1664 1600.5,-1664 1594.5,-1664 1588.5,-1658 1588.5,-1652 1588.5,-1652 1588.5,-1598 1588.5,-1598 1588.5,-1592 1594.5,-1586 1600.5,-1586 1600.5,-1586 1680.5,-1586 1680.5,-1586 1686.5,-1586 1692.5,-1592 1692.5,-1598 1692.5,-1598 1692.5,-1652 1692.5,-1652 1692.5,-1658 1686.5,-1664 1680.5,-1664\"/>\n<text text-anchor=\"start\" x=\"1603.5\" y=\"-1649.8\" font-family=\"Helvetica,sans-Serif\" font-size=\"14.00\" fill=\"#000000\">X</text>\n<text text-anchor=\"start\" x=\"1613.5\" y=\"-1649.8\" font-family=\"Helvetica,sans-Serif\" baseline-shift=\"sub\" font-size=\"14.00\" fill=\"#000000\">2</text>\n<text text-anchor=\"start\" x=\"1620.5\" y=\"-1649.8\" font-family=\"Helvetica,sans-Serif\" font-size=\"14.00\" fill=\"#000000\"> ≤ &#45;0.414</text>\n<text text-anchor=\"start\" x=\"1602.5\" y=\"-1635.8\" font-family=\"Helvetica,sans-Serif\" font-size=\"14.00\" fill=\"#000000\">gini = 0.397</text>\n<text text-anchor=\"start\" x=\"1596.5\" y=\"-1621.8\" font-family=\"Helvetica,sans-Serif\" font-size=\"14.00\" fill=\"#000000\">samples = 11</text>\n<text text-anchor=\"start\" x=\"1599\" y=\"-1607.8\" font-family=\"Helvetica,sans-Serif\" font-size=\"14.00\" fill=\"#000000\">value = [3, 8]</text>\n<text text-anchor=\"start\" x=\"1611.5\" y=\"-1593.8\" font-family=\"Helvetica,sans-Serif\" font-size=\"14.00\" fill=\"#000000\">class = 1</text>\n</g>\n<!-- 1&#45;&gt;99 -->\n<g id=\"edge99\" class=\"edge\">\n<title>1&#45;&gt;99</title>\n<path fill=\"none\" stroke=\"#000000\" d=\"M1640.5,-1699.7677C1640.5,-1691.6172 1640.5,-1682.9283 1640.5,-1674.4649\"/>\n<polygon fill=\"#000000\" stroke=\"#000000\" points=\"1644.0001,-1674.3046 1640.5,-1664.3046 1637.0001,-1674.3047 1644.0001,-1674.3046\"/>\n</g>\n<!-- 3 -->\n<g id=\"node4\" class=\"node\">\n<title>3</title>\n<path fill=\"#ea985d\" stroke=\"#000000\" d=\"M1295.5,-1550C1295.5,-1550 1195.5,-1550 1195.5,-1550 1189.5,-1550 1183.5,-1544 1183.5,-1538 1183.5,-1538 1183.5,-1484 1183.5,-1484 1183.5,-1478 1189.5,-1472 1195.5,-1472 1195.5,-1472 1295.5,-1472 1295.5,-1472 1301.5,-1472 1307.5,-1478 1307.5,-1484 1307.5,-1484 1307.5,-1538 1307.5,-1538 1307.5,-1544 1301.5,-1550 1295.5,-1550\"/>\n<text text-anchor=\"start\" x=\"1211\" y=\"-1535.8\" font-family=\"Helvetica,sans-Serif\" font-size=\"14.00\" fill=\"#000000\">X</text>\n<text text-anchor=\"start\" x=\"1221\" y=\"-1535.8\" font-family=\"Helvetica,sans-Serif\" baseline-shift=\"sub\" font-size=\"14.00\" fill=\"#000000\">2</text>\n<text text-anchor=\"start\" x=\"1228\" y=\"-1535.8\" font-family=\"Helvetica,sans-Serif\" font-size=\"14.00\" fill=\"#000000\"> ≤ 6.146</text>\n<text text-anchor=\"start\" x=\"1212\" y=\"-1521.8\" font-family=\"Helvetica,sans-Serif\" font-size=\"14.00\" fill=\"#000000\">gini = 0.26</text>\n<text text-anchor=\"start\" x=\"1197.5\" y=\"-1507.8\" font-family=\"Helvetica,sans-Serif\" font-size=\"14.00\" fill=\"#000000\">samples = 150</text>\n<text text-anchor=\"start\" x=\"1191.5\" y=\"-1493.8\" font-family=\"Helvetica,sans-Serif\" font-size=\"14.00\" fill=\"#000000\">value = [127, 23]</text>\n<text text-anchor=\"start\" x=\"1216.5\" y=\"-1479.8\" font-family=\"Helvetica,sans-Serif\" font-size=\"14.00\" fill=\"#000000\">class = 1</text>\n</g>\n<!-- 2&#45;&gt;3 -->\n<g id=\"edge3\" class=\"edge\">\n<title>2&#45;&gt;3</title>\n<path fill=\"none\" stroke=\"#000000\" d=\"M1412.2272,-1593.9996C1382.8205,-1579.3604 1347.5644,-1561.8093 1317.0622,-1546.6248\"/>\n<polygon fill=\"#000000\" stroke=\"#000000\" points=\"1318.2723,-1543.3176 1307.7604,-1541.9942 1315.1527,-1549.584 1318.2723,-1543.3176\"/>\n</g>\n<!-- 70 -->\n<g id=\"node71\" class=\"node\">\n<title>70</title>\n<path fill=\"#f1b991\" stroke=\"#000000\" d=\"M1520.5,-1550C1520.5,-1550 1428.5,-1550 1428.5,-1550 1422.5,-1550 1416.5,-1544 1416.5,-1538 1416.5,-1538 1416.5,-1484 1416.5,-1484 1416.5,-1478 1422.5,-1472 1428.5,-1472 1428.5,-1472 1520.5,-1472 1520.5,-1472 1526.5,-1472 1532.5,-1478 1532.5,-1484 1532.5,-1484 1532.5,-1538 1532.5,-1538 1532.5,-1544 1526.5,-1550 1520.5,-1550\"/>\n<text text-anchor=\"start\" x=\"1440\" y=\"-1535.8\" font-family=\"Helvetica,sans-Serif\" font-size=\"14.00\" fill=\"#000000\">X</text>\n<text text-anchor=\"start\" x=\"1450\" y=\"-1535.8\" font-family=\"Helvetica,sans-Serif\" baseline-shift=\"sub\" font-size=\"14.00\" fill=\"#000000\">0</text>\n<text text-anchor=\"start\" x=\"1457\" y=\"-1535.8\" font-family=\"Helvetica,sans-Serif\" font-size=\"14.00\" fill=\"#000000\"> ≤ 0.309</text>\n<text text-anchor=\"start\" x=\"1436.5\" y=\"-1521.8\" font-family=\"Helvetica,sans-Serif\" font-size=\"14.00\" fill=\"#000000\">gini = 0.426</text>\n<text text-anchor=\"start\" x=\"1430.5\" y=\"-1507.8\" font-family=\"Helvetica,sans-Serif\" font-size=\"14.00\" fill=\"#000000\">samples = 65</text>\n<text text-anchor=\"start\" x=\"1424.5\" y=\"-1493.8\" font-family=\"Helvetica,sans-Serif\" font-size=\"14.00\" fill=\"#000000\">value = [45, 20]</text>\n<text text-anchor=\"start\" x=\"1445.5\" y=\"-1479.8\" font-family=\"Helvetica,sans-Serif\" font-size=\"14.00\" fill=\"#000000\">class = 1</text>\n</g>\n<!-- 2&#45;&gt;70 -->\n<g id=\"edge70\" class=\"edge\">\n<title>2&#45;&gt;70</title>\n<path fill=\"none\" stroke=\"#000000\" d=\"M1474.5,-1585.7677C1474.5,-1577.6172 1474.5,-1568.9283 1474.5,-1560.4649\"/>\n<polygon fill=\"#000000\" stroke=\"#000000\" points=\"1478.0001,-1560.3046 1474.5,-1550.3046 1471.0001,-1560.3047 1478.0001,-1560.3046\"/>\n</g>\n<!-- 4 -->\n<g id=\"node5\" class=\"node\">\n<title>4</title>\n<path fill=\"#ea975b\" stroke=\"#000000\" d=\"M1117.5,-1436C1117.5,-1436 1017.5,-1436 1017.5,-1436 1011.5,-1436 1005.5,-1430 1005.5,-1424 1005.5,-1424 1005.5,-1370 1005.5,-1370 1005.5,-1364 1011.5,-1358 1017.5,-1358 1017.5,-1358 1117.5,-1358 1117.5,-1358 1123.5,-1358 1129.5,-1364 1129.5,-1370 1129.5,-1370 1129.5,-1424 1129.5,-1424 1129.5,-1430 1123.5,-1436 1117.5,-1436\"/>\n<text text-anchor=\"start\" x=\"1033\" y=\"-1421.8\" font-family=\"Helvetica,sans-Serif\" font-size=\"14.00\" fill=\"#000000\">X</text>\n<text text-anchor=\"start\" x=\"1043\" y=\"-1421.8\" font-family=\"Helvetica,sans-Serif\" baseline-shift=\"sub\" font-size=\"14.00\" fill=\"#000000\">1</text>\n<text text-anchor=\"start\" x=\"1050\" y=\"-1421.8\" font-family=\"Helvetica,sans-Serif\" font-size=\"14.00\" fill=\"#000000\"> ≤ 0.138</text>\n<text text-anchor=\"start\" x=\"1029.5\" y=\"-1407.8\" font-family=\"Helvetica,sans-Serif\" font-size=\"14.00\" fill=\"#000000\">gini = 0.252</text>\n<text text-anchor=\"start\" x=\"1019.5\" y=\"-1393.8\" font-family=\"Helvetica,sans-Serif\" font-size=\"14.00\" fill=\"#000000\">samples = 149</text>\n<text text-anchor=\"start\" x=\"1013.5\" y=\"-1379.8\" font-family=\"Helvetica,sans-Serif\" font-size=\"14.00\" fill=\"#000000\">value = [127, 22]</text>\n<text text-anchor=\"start\" x=\"1038.5\" y=\"-1365.8\" font-family=\"Helvetica,sans-Serif\" font-size=\"14.00\" fill=\"#000000\">class = 1</text>\n</g>\n<!-- 3&#45;&gt;4 -->\n<g id=\"edge4\" class=\"edge\">\n<title>3&#45;&gt;4</title>\n<path fill=\"none\" stroke=\"#000000\" d=\"M1184.2425,-1471.7677C1169.0541,-1462.0403 1152.668,-1451.5458 1137.1124,-1441.5832\"/>\n<polygon fill=\"#000000\" stroke=\"#000000\" points=\"1138.8774,-1438.5574 1128.5688,-1436.1115 1135.1021,-1444.4521 1138.8774,-1438.5574\"/>\n</g>\n<!-- 69 -->\n<g id=\"node70\" class=\"node\">\n<title>69</title>\n<path fill=\"#399de5\" stroke=\"#000000\" d=\"M1283,-1431C1283,-1431 1208,-1431 1208,-1431 1202,-1431 1196,-1425 1196,-1419 1196,-1419 1196,-1375 1196,-1375 1196,-1369 1202,-1363 1208,-1363 1208,-1363 1283,-1363 1283,-1363 1289,-1363 1295,-1369 1295,-1375 1295,-1375 1295,-1419 1295,-1419 1295,-1425 1289,-1431 1283,-1431\"/>\n<text text-anchor=\"start\" x=\"1216\" y=\"-1415.8\" font-family=\"Helvetica,sans-Serif\" font-size=\"14.00\" fill=\"#000000\">gini = 0.0</text>\n<text text-anchor=\"start\" x=\"1206\" y=\"-1400.8\" font-family=\"Helvetica,sans-Serif\" font-size=\"14.00\" fill=\"#000000\">samples = 1</text>\n<text text-anchor=\"start\" x=\"1204\" y=\"-1385.8\" font-family=\"Helvetica,sans-Serif\" font-size=\"14.00\" fill=\"#000000\">value = [0, 1]</text>\n<text text-anchor=\"start\" x=\"1216.5\" y=\"-1370.8\" font-family=\"Helvetica,sans-Serif\" font-size=\"14.00\" fill=\"#000000\">class = 1</text>\n</g>\n<!-- 3&#45;&gt;69 -->\n<g id=\"edge69\" class=\"edge\">\n<title>3&#45;&gt;69</title>\n<path fill=\"none\" stroke=\"#000000\" d=\"M1245.5,-1471.7677C1245.5,-1462.0161 1245.5,-1451.4937 1245.5,-1441.509\"/>\n<polygon fill=\"#000000\" stroke=\"#000000\" points=\"1249.0001,-1441.3535 1245.5,-1431.3535 1242.0001,-1441.3536 1249.0001,-1441.3535\"/>\n</g>\n<!-- 5 -->\n<g id=\"node6\" class=\"node\">\n<title>5</title>\n<path fill=\"#e78c4b\" stroke=\"#000000\" d=\"M421,-1322C421,-1322 338,-1322 338,-1322 332,-1322 326,-1316 326,-1310 326,-1310 326,-1256 326,-1256 326,-1250 332,-1244 338,-1244 338,-1244 421,-1244 421,-1244 427,-1244 433,-1250 433,-1256 433,-1256 433,-1310 433,-1310 433,-1316 427,-1322 421,-1322\"/>\n<text text-anchor=\"start\" x=\"346.5\" y=\"-1307.8\" font-family=\"Helvetica,sans-Serif\" font-size=\"14.00\" fill=\"#000000\">X</text>\n<text text-anchor=\"start\" x=\"356.5\" y=\"-1307.8\" font-family=\"Helvetica,sans-Serif\" baseline-shift=\"sub\" font-size=\"14.00\" fill=\"#000000\">6</text>\n<text text-anchor=\"start\" x=\"363.5\" y=\"-1307.8\" font-family=\"Helvetica,sans-Serif\" font-size=\"14.00\" fill=\"#000000\"> ≤ &#45;0.72</text>\n<text text-anchor=\"start\" x=\"341.5\" y=\"-1293.8\" font-family=\"Helvetica,sans-Serif\" font-size=\"14.00\" fill=\"#000000\">gini = 0.153</text>\n<text text-anchor=\"start\" x=\"335.5\" y=\"-1279.8\" font-family=\"Helvetica,sans-Serif\" font-size=\"14.00\" fill=\"#000000\">samples = 84</text>\n<text text-anchor=\"start\" x=\"334\" y=\"-1265.8\" font-family=\"Helvetica,sans-Serif\" font-size=\"14.00\" fill=\"#000000\">value = [77, 7]</text>\n<text text-anchor=\"start\" x=\"350.5\" y=\"-1251.8\" font-family=\"Helvetica,sans-Serif\" font-size=\"14.00\" fill=\"#000000\">class = 1</text>\n</g>\n<!-- 4&#45;&gt;5 -->\n<g id=\"edge5\" class=\"edge\">\n<title>4&#45;&gt;5</title>\n<path fill=\"none\" stroke=\"#000000\" d=\"M1005.2312,-1386.6822C874.9906,-1365.1016 575.0076,-1315.3951 443.3801,-1293.5848\"/>\n<polygon fill=\"#000000\" stroke=\"#000000\" points=\"443.879,-1290.1198 433.4414,-1291.938 442.7347,-1297.0257 443.879,-1290.1198\"/>\n</g>\n<!-- 30 -->\n<g id=\"node31\" class=\"node\">\n<title>30</title>\n<path fill=\"#eda774\" stroke=\"#000000\" d=\"M1113.5,-1322C1113.5,-1322 1021.5,-1322 1021.5,-1322 1015.5,-1322 1009.5,-1316 1009.5,-1310 1009.5,-1310 1009.5,-1256 1009.5,-1256 1009.5,-1250 1015.5,-1244 1021.5,-1244 1021.5,-1244 1113.5,-1244 1113.5,-1244 1119.5,-1244 1125.5,-1250 1125.5,-1256 1125.5,-1256 1125.5,-1310 1125.5,-1310 1125.5,-1316 1119.5,-1322 1113.5,-1322\"/>\n<text text-anchor=\"start\" x=\"1030.5\" y=\"-1307.8\" font-family=\"Helvetica,sans-Serif\" font-size=\"14.00\" fill=\"#000000\">X</text>\n<text text-anchor=\"start\" x=\"1040.5\" y=\"-1307.8\" font-family=\"Helvetica,sans-Serif\" baseline-shift=\"sub\" font-size=\"14.00\" fill=\"#000000\">2</text>\n<text text-anchor=\"start\" x=\"1047.5\" y=\"-1307.8\" font-family=\"Helvetica,sans-Serif\" font-size=\"14.00\" fill=\"#000000\"> ≤ &#45;0.549</text>\n<text text-anchor=\"start\" x=\"1029.5\" y=\"-1293.8\" font-family=\"Helvetica,sans-Serif\" font-size=\"14.00\" fill=\"#000000\">gini = 0.355</text>\n<text text-anchor=\"start\" x=\"1023.5\" y=\"-1279.8\" font-family=\"Helvetica,sans-Serif\" font-size=\"14.00\" fill=\"#000000\">samples = 65</text>\n<text text-anchor=\"start\" x=\"1017.5\" y=\"-1265.8\" font-family=\"Helvetica,sans-Serif\" font-size=\"14.00\" fill=\"#000000\">value = [50, 15]</text>\n<text text-anchor=\"start\" x=\"1038.5\" y=\"-1251.8\" font-family=\"Helvetica,sans-Serif\" font-size=\"14.00\" fill=\"#000000\">class = 1</text>\n</g>\n<!-- 4&#45;&gt;30 -->\n<g id=\"edge30\" class=\"edge\">\n<title>4&#45;&gt;30</title>\n<path fill=\"none\" stroke=\"#000000\" d=\"M1067.5,-1357.7677C1067.5,-1349.6172 1067.5,-1340.9283 1067.5,-1332.4649\"/>\n<polygon fill=\"#000000\" stroke=\"#000000\" points=\"1071.0001,-1332.3046 1067.5,-1322.3046 1064.0001,-1332.3047 1071.0001,-1332.3046\"/>\n</g>\n<!-- 6 -->\n<g id=\"node7\" class=\"node\">\n<title>6</title>\n<path fill=\"#9ccef2\" stroke=\"#000000\" d=\"M204,-1208C204,-1208 129,-1208 129,-1208 123,-1208 117,-1202 117,-1196 117,-1196 117,-1142 117,-1142 117,-1136 123,-1130 129,-1130 129,-1130 204,-1130 204,-1130 210,-1130 216,-1136 216,-1142 216,-1142 216,-1196 216,-1196 216,-1202 210,-1208 204,-1208\"/>\n<text text-anchor=\"start\" x=\"132\" y=\"-1193.8\" font-family=\"Helvetica,sans-Serif\" font-size=\"14.00\" fill=\"#000000\">X</text>\n<text text-anchor=\"start\" x=\"142\" y=\"-1193.8\" font-family=\"Helvetica,sans-Serif\" baseline-shift=\"sub\" font-size=\"14.00\" fill=\"#000000\">2</text>\n<text text-anchor=\"start\" x=\"149\" y=\"-1193.8\" font-family=\"Helvetica,sans-Serif\" font-size=\"14.00\" fill=\"#000000\"> ≤ 1.002</text>\n<text text-anchor=\"start\" x=\"128.5\" y=\"-1179.8\" font-family=\"Helvetica,sans-Serif\" font-size=\"14.00\" fill=\"#000000\">gini = 0.444</text>\n<text text-anchor=\"start\" x=\"127\" y=\"-1165.8\" font-family=\"Helvetica,sans-Serif\" font-size=\"14.00\" fill=\"#000000\">samples = 3</text>\n<text text-anchor=\"start\" x=\"125\" y=\"-1151.8\" font-family=\"Helvetica,sans-Serif\" font-size=\"14.00\" fill=\"#000000\">value = [1, 2]</text>\n<text text-anchor=\"start\" x=\"137.5\" y=\"-1137.8\" font-family=\"Helvetica,sans-Serif\" font-size=\"14.00\" fill=\"#000000\">class = 1</text>\n</g>\n<!-- 5&#45;&gt;6 -->\n<g id=\"edge6\" class=\"edge\">\n<title>5&#45;&gt;6</title>\n<path fill=\"none\" stroke=\"#000000\" d=\"M325.7511,-1254.233C295.129,-1237.8437 256.7227,-1217.2882 225.2995,-1200.4701\"/>\n<polygon fill=\"#000000\" stroke=\"#000000\" points=\"226.6804,-1197.2395 216.2122,-1195.6065 223.3773,-1203.4112 226.6804,-1197.2395\"/>\n</g>\n<!-- 9 -->\n<g id=\"node10\" class=\"node\">\n<title>9</title>\n<path fill=\"#e78946\" stroke=\"#000000\" d=\"M421,-1208C421,-1208 338,-1208 338,-1208 332,-1208 326,-1202 326,-1196 326,-1196 326,-1142 326,-1142 326,-1136 332,-1130 338,-1130 338,-1130 421,-1130 421,-1130 427,-1130 433,-1136 433,-1142 433,-1142 433,-1196 433,-1196 433,-1202 427,-1208 421,-1208\"/>\n<text text-anchor=\"start\" x=\"342.5\" y=\"-1193.8\" font-family=\"Helvetica,sans-Serif\" font-size=\"14.00\" fill=\"#000000\">X</text>\n<text text-anchor=\"start\" x=\"352.5\" y=\"-1193.8\" font-family=\"Helvetica,sans-Serif\" baseline-shift=\"sub\" font-size=\"14.00\" fill=\"#000000\">5</text>\n<text text-anchor=\"start\" x=\"359.5\" y=\"-1193.8\" font-family=\"Helvetica,sans-Serif\" font-size=\"14.00\" fill=\"#000000\"> ≤ &#45;0.767</text>\n<text text-anchor=\"start\" x=\"341.5\" y=\"-1179.8\" font-family=\"Helvetica,sans-Serif\" font-size=\"14.00\" fill=\"#000000\">gini = 0.116</text>\n<text text-anchor=\"start\" x=\"335.5\" y=\"-1165.8\" font-family=\"Helvetica,sans-Serif\" font-size=\"14.00\" fill=\"#000000\">samples = 81</text>\n<text text-anchor=\"start\" x=\"334\" y=\"-1151.8\" font-family=\"Helvetica,sans-Serif\" font-size=\"14.00\" fill=\"#000000\">value = [76, 5]</text>\n<text text-anchor=\"start\" x=\"350.5\" y=\"-1137.8\" font-family=\"Helvetica,sans-Serif\" font-size=\"14.00\" fill=\"#000000\">class = 1</text>\n</g>\n<!-- 5&#45;&gt;9 -->\n<g id=\"edge9\" class=\"edge\">\n<title>5&#45;&gt;9</title>\n<path fill=\"none\" stroke=\"#000000\" d=\"M379.5,-1243.7677C379.5,-1235.6172 379.5,-1226.9283 379.5,-1218.4649\"/>\n<polygon fill=\"#000000\" stroke=\"#000000\" points=\"383.0001,-1218.3046 379.5,-1208.3046 376.0001,-1218.3047 383.0001,-1218.3046\"/>\n</g>\n<!-- 7 -->\n<g id=\"node8\" class=\"node\">\n<title>7</title>\n<path fill=\"#399de5\" stroke=\"#000000\" d=\"M87,-1089C87,-1089 12,-1089 12,-1089 6,-1089 0,-1083 0,-1077 0,-1077 0,-1033 0,-1033 0,-1027 6,-1021 12,-1021 12,-1021 87,-1021 87,-1021 93,-1021 99,-1027 99,-1033 99,-1033 99,-1077 99,-1077 99,-1083 93,-1089 87,-1089\"/>\n<text text-anchor=\"start\" x=\"20\" y=\"-1073.8\" font-family=\"Helvetica,sans-Serif\" font-size=\"14.00\" fill=\"#000000\">gini = 0.0</text>\n<text text-anchor=\"start\" x=\"10\" y=\"-1058.8\" font-family=\"Helvetica,sans-Serif\" font-size=\"14.00\" fill=\"#000000\">samples = 2</text>\n<text text-anchor=\"start\" x=\"8\" y=\"-1043.8\" font-family=\"Helvetica,sans-Serif\" font-size=\"14.00\" fill=\"#000000\">value = [0, 2]</text>\n<text text-anchor=\"start\" x=\"20.5\" y=\"-1028.8\" font-family=\"Helvetica,sans-Serif\" font-size=\"14.00\" fill=\"#000000\">class = 1</text>\n</g>\n<!-- 6&#45;&gt;7 -->\n<g id=\"edge7\" class=\"edge\">\n<title>6&#45;&gt;7</title>\n<path fill=\"none\" stroke=\"#000000\" d=\"M126.2352,-1129.7677C115.1736,-1118.9896 103.1454,-1107.2699 91.9642,-1096.3754\"/>\n<polygon fill=\"#000000\" stroke=\"#000000\" points=\"94.3624,-1093.8254 84.7576,-1089.3535 89.4773,-1098.839 94.3624,-1093.8254\"/>\n</g>\n<!-- 8 -->\n<g id=\"node9\" class=\"node\">\n<title>8</title>\n<path fill=\"#e58139\" stroke=\"#000000\" d=\"M204,-1089C204,-1089 129,-1089 129,-1089 123,-1089 117,-1083 117,-1077 117,-1077 117,-1033 117,-1033 117,-1027 123,-1021 129,-1021 129,-1021 204,-1021 204,-1021 210,-1021 216,-1027 216,-1033 216,-1033 216,-1077 216,-1077 216,-1083 210,-1089 204,-1089\"/>\n<text text-anchor=\"start\" x=\"137\" y=\"-1073.8\" font-family=\"Helvetica,sans-Serif\" font-size=\"14.00\" fill=\"#000000\">gini = 0.0</text>\n<text text-anchor=\"start\" x=\"127\" y=\"-1058.8\" font-family=\"Helvetica,sans-Serif\" font-size=\"14.00\" fill=\"#000000\">samples = 1</text>\n<text text-anchor=\"start\" x=\"125\" y=\"-1043.8\" font-family=\"Helvetica,sans-Serif\" font-size=\"14.00\" fill=\"#000000\">value = [1, 0]</text>\n<text text-anchor=\"start\" x=\"137.5\" y=\"-1028.8\" font-family=\"Helvetica,sans-Serif\" font-size=\"14.00\" fill=\"#000000\">class = 1</text>\n</g>\n<!-- 6&#45;&gt;8 -->\n<g id=\"edge8\" class=\"edge\">\n<title>6&#45;&gt;8</title>\n<path fill=\"none\" stroke=\"#000000\" d=\"M166.5,-1129.7677C166.5,-1120.0161 166.5,-1109.4937 166.5,-1099.509\"/>\n<polygon fill=\"#000000\" stroke=\"#000000\" points=\"170.0001,-1099.3535 166.5,-1089.3535 163.0001,-1099.3536 170.0001,-1099.3535\"/>\n</g>\n<!-- 10 -->\n<g id=\"node11\" class=\"node\">\n<title>10</title>\n<path fill=\"#ea9a61\" stroke=\"#000000\" d=\"M329,-1094C329,-1094 246,-1094 246,-1094 240,-1094 234,-1088 234,-1082 234,-1082 234,-1028 234,-1028 234,-1022 240,-1016 246,-1016 246,-1016 329,-1016 329,-1016 335,-1016 341,-1022 341,-1028 341,-1028 341,-1082 341,-1082 341,-1088 335,-1094 329,-1094\"/>\n<text text-anchor=\"start\" x=\"250.5\" y=\"-1079.8\" font-family=\"Helvetica,sans-Serif\" font-size=\"14.00\" fill=\"#000000\">X</text>\n<text text-anchor=\"start\" x=\"260.5\" y=\"-1079.8\" font-family=\"Helvetica,sans-Serif\" baseline-shift=\"sub\" font-size=\"14.00\" fill=\"#000000\">0</text>\n<text text-anchor=\"start\" x=\"267.5\" y=\"-1079.8\" font-family=\"Helvetica,sans-Serif\" font-size=\"14.00\" fill=\"#000000\"> ≤ &#45;1.249</text>\n<text text-anchor=\"start\" x=\"249.5\" y=\"-1065.8\" font-family=\"Helvetica,sans-Serif\" font-size=\"14.00\" fill=\"#000000\">gini = 0.278</text>\n<text text-anchor=\"start\" x=\"243.5\" y=\"-1051.8\" font-family=\"Helvetica,sans-Serif\" font-size=\"14.00\" fill=\"#000000\">samples = 12</text>\n<text text-anchor=\"start\" x=\"242\" y=\"-1037.8\" font-family=\"Helvetica,sans-Serif\" font-size=\"14.00\" fill=\"#000000\">value = [10, 2]</text>\n<text text-anchor=\"start\" x=\"258.5\" y=\"-1023.8\" font-family=\"Helvetica,sans-Serif\" font-size=\"14.00\" fill=\"#000000\">class = 1</text>\n</g>\n<!-- 9&#45;&gt;10 -->\n<g id=\"edge10\" class=\"edge\">\n<title>9&#45;&gt;10</title>\n<path fill=\"none\" stroke=\"#000000\" d=\"M347.8388,-1129.7677C340.683,-1120.9007 333.0129,-1111.3964 325.6223,-1102.2385\"/>\n<polygon fill=\"#000000\" stroke=\"#000000\" points=\"328.2235,-1099.8886 319.2195,-1094.3046 322.7761,-1104.2847 328.2235,-1099.8886\"/>\n</g>\n<!-- 15 -->\n<g id=\"node16\" class=\"node\">\n<title>15</title>\n<path fill=\"#e68742\" stroke=\"#000000\" d=\"M483,-1094C483,-1094 400,-1094 400,-1094 394,-1094 388,-1088 388,-1082 388,-1082 388,-1028 388,-1028 388,-1022 394,-1016 400,-1016 400,-1016 483,-1016 483,-1016 489,-1016 495,-1022 495,-1028 495,-1028 495,-1082 495,-1082 495,-1088 489,-1094 483,-1094\"/>\n<text text-anchor=\"start\" x=\"407\" y=\"-1079.8\" font-family=\"Helvetica,sans-Serif\" font-size=\"14.00\" fill=\"#000000\">X</text>\n<text text-anchor=\"start\" x=\"417\" y=\"-1079.8\" font-family=\"Helvetica,sans-Serif\" baseline-shift=\"sub\" font-size=\"14.00\" fill=\"#000000\">2</text>\n<text text-anchor=\"start\" x=\"424\" y=\"-1079.8\" font-family=\"Helvetica,sans-Serif\" font-size=\"14.00\" fill=\"#000000\"> ≤ 0.178</text>\n<text text-anchor=\"start\" x=\"403.5\" y=\"-1065.8\" font-family=\"Helvetica,sans-Serif\" font-size=\"14.00\" fill=\"#000000\">gini = 0.083</text>\n<text text-anchor=\"start\" x=\"397.5\" y=\"-1051.8\" font-family=\"Helvetica,sans-Serif\" font-size=\"14.00\" fill=\"#000000\">samples = 69</text>\n<text text-anchor=\"start\" x=\"396\" y=\"-1037.8\" font-family=\"Helvetica,sans-Serif\" font-size=\"14.00\" fill=\"#000000\">value = [66, 3]</text>\n<text text-anchor=\"start\" x=\"412.5\" y=\"-1023.8\" font-family=\"Helvetica,sans-Serif\" font-size=\"14.00\" fill=\"#000000\">class = 1</text>\n</g>\n<!-- 9&#45;&gt;15 -->\n<g id=\"edge15\" class=\"edge\">\n<title>9&#45;&gt;15</title>\n<path fill=\"none\" stroke=\"#000000\" d=\"M400.8369,-1129.7677C405.4644,-1121.259 410.4112,-1112.1634 415.2043,-1103.3502\"/>\n<polygon fill=\"#000000\" stroke=\"#000000\" points=\"418.4207,-1104.7617 420.1238,-1094.3046 412.2713,-1101.4173 418.4207,-1104.7617\"/>\n</g>\n<!-- 11 -->\n<g id=\"node12\" class=\"node\">\n<title>11</title>\n<path fill=\"#399de5\" stroke=\"#000000\" d=\"M189,-975C189,-975 114,-975 114,-975 108,-975 102,-969 102,-963 102,-963 102,-919 102,-919 102,-913 108,-907 114,-907 114,-907 189,-907 189,-907 195,-907 201,-913 201,-919 201,-919 201,-963 201,-963 201,-969 195,-975 189,-975\"/>\n<text text-anchor=\"start\" x=\"122\" y=\"-959.8\" font-family=\"Helvetica,sans-Serif\" font-size=\"14.00\" fill=\"#000000\">gini = 0.0</text>\n<text text-anchor=\"start\" x=\"112\" y=\"-944.8\" font-family=\"Helvetica,sans-Serif\" font-size=\"14.00\" fill=\"#000000\">samples = 1</text>\n<text text-anchor=\"start\" x=\"110\" y=\"-929.8\" font-family=\"Helvetica,sans-Serif\" font-size=\"14.00\" fill=\"#000000\">value = [0, 1]</text>\n<text text-anchor=\"start\" x=\"122.5\" y=\"-914.8\" font-family=\"Helvetica,sans-Serif\" font-size=\"14.00\" fill=\"#000000\">class = 1</text>\n</g>\n<!-- 10&#45;&gt;11 -->\n<g id=\"edge11\" class=\"edge\">\n<title>10&#45;&gt;11</title>\n<path fill=\"none\" stroke=\"#000000\" d=\"M240.6965,-1015.7677C227.7161,-1004.887 213.5907,-993.0466 200.4891,-982.0644\"/>\n<polygon fill=\"#000000\" stroke=\"#000000\" points=\"202.3953,-979.0952 192.4831,-975.3535 197.8985,-984.4598 202.3953,-979.0952\"/>\n</g>\n<!-- 12 -->\n<g id=\"node13\" class=\"node\">\n<title>12</title>\n<path fill=\"#e88e4d\" stroke=\"#000000\" d=\"M314,-980C314,-980 231,-980 231,-980 225,-980 219,-974 219,-968 219,-968 219,-914 219,-914 219,-908 225,-902 231,-902 231,-902 314,-902 314,-902 320,-902 326,-908 326,-914 326,-914 326,-968 326,-968 326,-974 320,-980 314,-980\"/>\n<text text-anchor=\"start\" x=\"235.5\" y=\"-965.8\" font-family=\"Helvetica,sans-Serif\" font-size=\"14.00\" fill=\"#000000\">X</text>\n<text text-anchor=\"start\" x=\"245.5\" y=\"-965.8\" font-family=\"Helvetica,sans-Serif\" baseline-shift=\"sub\" font-size=\"14.00\" fill=\"#000000\">5</text>\n<text text-anchor=\"start\" x=\"252.5\" y=\"-965.8\" font-family=\"Helvetica,sans-Serif\" font-size=\"14.00\" fill=\"#000000\"> ≤ &#45;0.787</text>\n<text text-anchor=\"start\" x=\"234.5\" y=\"-951.8\" font-family=\"Helvetica,sans-Serif\" font-size=\"14.00\" fill=\"#000000\">gini = 0.165</text>\n<text text-anchor=\"start\" x=\"228.5\" y=\"-937.8\" font-family=\"Helvetica,sans-Serif\" font-size=\"14.00\" fill=\"#000000\">samples = 11</text>\n<text text-anchor=\"start\" x=\"227\" y=\"-923.8\" font-family=\"Helvetica,sans-Serif\" font-size=\"14.00\" fill=\"#000000\">value = [10, 1]</text>\n<text text-anchor=\"start\" x=\"243.5\" y=\"-909.8\" font-family=\"Helvetica,sans-Serif\" font-size=\"14.00\" fill=\"#000000\">class = 1</text>\n</g>\n<!-- 10&#45;&gt;12 -->\n<g id=\"edge12\" class=\"edge\">\n<title>10&#45;&gt;12</title>\n<path fill=\"none\" stroke=\"#000000\" d=\"M282.3379,-1015.7677C281.2654,-1007.6172 280.1221,-998.9283 279.0085,-990.4649\"/>\n<polygon fill=\"#000000\" stroke=\"#000000\" points=\"282.4464,-989.7626 277.6717,-980.3046 275.5062,-990.6758 282.4464,-989.7626\"/>\n</g>\n<!-- 13 -->\n<g id=\"node14\" class=\"node\">\n<title>13</title>\n<path fill=\"#e58139\" stroke=\"#000000\" d=\"M178,-861C178,-861 95,-861 95,-861 89,-861 83,-855 83,-849 83,-849 83,-805 83,-805 83,-799 89,-793 95,-793 95,-793 178,-793 178,-793 184,-793 190,-799 190,-805 190,-805 190,-849 190,-849 190,-855 184,-861 178,-861\"/>\n<text text-anchor=\"start\" x=\"107\" y=\"-845.8\" font-family=\"Helvetica,sans-Serif\" font-size=\"14.00\" fill=\"#000000\">gini = 0.0</text>\n<text text-anchor=\"start\" x=\"92.5\" y=\"-830.8\" font-family=\"Helvetica,sans-Serif\" font-size=\"14.00\" fill=\"#000000\">samples = 10</text>\n<text text-anchor=\"start\" x=\"91\" y=\"-815.8\" font-family=\"Helvetica,sans-Serif\" font-size=\"14.00\" fill=\"#000000\">value = [10, 0]</text>\n<text text-anchor=\"start\" x=\"107.5\" y=\"-800.8\" font-family=\"Helvetica,sans-Serif\" font-size=\"14.00\" fill=\"#000000\">class = 1</text>\n</g>\n<!-- 12&#45;&gt;13 -->\n<g id=\"edge13\" class=\"edge\">\n<title>12&#45;&gt;13</title>\n<path fill=\"none\" stroke=\"#000000\" d=\"M225.6965,-901.7677C212.7161,-890.887 198.5907,-879.0466 185.4891,-868.0644\"/>\n<polygon fill=\"#000000\" stroke=\"#000000\" points=\"187.3953,-865.0952 177.4831,-861.3535 182.8985,-870.4598 187.3953,-865.0952\"/>\n</g>\n<!-- 14 -->\n<g id=\"node15\" class=\"node\">\n<title>14</title>\n<path fill=\"#399de5\" stroke=\"#000000\" d=\"M295,-861C295,-861 220,-861 220,-861 214,-861 208,-855 208,-849 208,-849 208,-805 208,-805 208,-799 214,-793 220,-793 220,-793 295,-793 295,-793 301,-793 307,-799 307,-805 307,-805 307,-849 307,-849 307,-855 301,-861 295,-861\"/>\n<text text-anchor=\"start\" x=\"228\" y=\"-845.8\" font-family=\"Helvetica,sans-Serif\" font-size=\"14.00\" fill=\"#000000\">gini = 0.0</text>\n<text text-anchor=\"start\" x=\"218\" y=\"-830.8\" font-family=\"Helvetica,sans-Serif\" font-size=\"14.00\" fill=\"#000000\">samples = 1</text>\n<text text-anchor=\"start\" x=\"216\" y=\"-815.8\" font-family=\"Helvetica,sans-Serif\" font-size=\"14.00\" fill=\"#000000\">value = [0, 1]</text>\n<text text-anchor=\"start\" x=\"228.5\" y=\"-800.8\" font-family=\"Helvetica,sans-Serif\" font-size=\"14.00\" fill=\"#000000\">class = 1</text>\n</g>\n<!-- 12&#45;&gt;14 -->\n<g id=\"edge14\" class=\"edge\">\n<title>12&#45;&gt;14</title>\n<path fill=\"none\" stroke=\"#000000\" d=\"M267.3379,-901.7677C266.0548,-892.0161 264.6702,-881.4937 263.3565,-871.509\"/>\n<polygon fill=\"#000000\" stroke=\"#000000\" points=\"266.7949,-870.8114 262.0202,-861.3535 259.8547,-871.7247 266.7949,-870.8114\"/>\n</g>\n<!-- 16 -->\n<g id=\"node17\" class=\"node\">\n<title>16</title>\n<path fill=\"#e6833d\" stroke=\"#000000\" d=\"M483,-980C483,-980 400,-980 400,-980 394,-980 388,-974 388,-968 388,-968 388,-914 388,-914 388,-908 394,-902 400,-902 400,-902 483,-902 483,-902 489,-902 495,-908 495,-914 495,-914 495,-968 495,-968 495,-974 489,-980 483,-980\"/>\n<text text-anchor=\"start\" x=\"407\" y=\"-965.8\" font-family=\"Helvetica,sans-Serif\" font-size=\"14.00\" fill=\"#000000\">X</text>\n<text text-anchor=\"start\" x=\"417\" y=\"-965.8\" font-family=\"Helvetica,sans-Serif\" baseline-shift=\"sub\" font-size=\"14.00\" fill=\"#000000\">0</text>\n<text text-anchor=\"start\" x=\"424\" y=\"-965.8\" font-family=\"Helvetica,sans-Serif\" font-size=\"14.00\" fill=\"#000000\"> ≤ 0.056</text>\n<text text-anchor=\"start\" x=\"403.5\" y=\"-951.8\" font-family=\"Helvetica,sans-Serif\" font-size=\"14.00\" fill=\"#000000\">gini = 0.037</text>\n<text text-anchor=\"start\" x=\"397.5\" y=\"-937.8\" font-family=\"Helvetica,sans-Serif\" font-size=\"14.00\" fill=\"#000000\">samples = 53</text>\n<text text-anchor=\"start\" x=\"396\" y=\"-923.8\" font-family=\"Helvetica,sans-Serif\" font-size=\"14.00\" fill=\"#000000\">value = [52, 1]</text>\n<text text-anchor=\"start\" x=\"412.5\" y=\"-909.8\" font-family=\"Helvetica,sans-Serif\" font-size=\"14.00\" fill=\"#000000\">class = 1</text>\n</g>\n<!-- 15&#45;&gt;16 -->\n<g id=\"edge16\" class=\"edge\">\n<title>15&#45;&gt;16</title>\n<path fill=\"none\" stroke=\"#000000\" d=\"M441.5,-1015.7677C441.5,-1007.6172 441.5,-998.9283 441.5,-990.4649\"/>\n<polygon fill=\"#000000\" stroke=\"#000000\" points=\"445.0001,-990.3046 441.5,-980.3046 438.0001,-990.3047 445.0001,-990.3046\"/>\n</g>\n<!-- 23 -->\n<g id=\"node24\" class=\"node\">\n<title>23</title>\n<path fill=\"#e99355\" stroke=\"#000000\" d=\"M666,-980C666,-980 583,-980 583,-980 577,-980 571,-974 571,-968 571,-968 571,-914 571,-914 571,-908 577,-902 583,-902 583,-902 666,-902 666,-902 672,-902 678,-908 678,-914 678,-914 678,-968 678,-968 678,-974 672,-980 666,-980\"/>\n<text text-anchor=\"start\" x=\"590\" y=\"-965.8\" font-family=\"Helvetica,sans-Serif\" font-size=\"14.00\" fill=\"#000000\">X</text>\n<text text-anchor=\"start\" x=\"600\" y=\"-965.8\" font-family=\"Helvetica,sans-Serif\" baseline-shift=\"sub\" font-size=\"14.00\" fill=\"#000000\">2</text>\n<text text-anchor=\"start\" x=\"607\" y=\"-965.8\" font-family=\"Helvetica,sans-Serif\" font-size=\"14.00\" fill=\"#000000\"> ≤ 0.238</text>\n<text text-anchor=\"start\" x=\"586.5\" y=\"-951.8\" font-family=\"Helvetica,sans-Serif\" font-size=\"14.00\" fill=\"#000000\">gini = 0.219</text>\n<text text-anchor=\"start\" x=\"580.5\" y=\"-937.8\" font-family=\"Helvetica,sans-Serif\" font-size=\"14.00\" fill=\"#000000\">samples = 16</text>\n<text text-anchor=\"start\" x=\"579\" y=\"-923.8\" font-family=\"Helvetica,sans-Serif\" font-size=\"14.00\" fill=\"#000000\">value = [14, 2]</text>\n<text text-anchor=\"start\" x=\"595.5\" y=\"-909.8\" font-family=\"Helvetica,sans-Serif\" font-size=\"14.00\" fill=\"#000000\">class = 1</text>\n</g>\n<!-- 15&#45;&gt;23 -->\n<g id=\"edge23\" class=\"edge\">\n<title>15&#45;&gt;23</title>\n<path fill=\"none\" stroke=\"#000000\" d=\"M495.4163,-1021.4128C516.4513,-1008.309 540.6939,-993.2071 562.4499,-979.6541\"/>\n<polygon fill=\"#000000\" stroke=\"#000000\" points=\"564.3319,-982.6054 570.9691,-974.3471 560.6307,-976.6639 564.3319,-982.6054\"/>\n</g>\n<!-- 17 -->\n<g id=\"node18\" class=\"node\">\n<title>17</title>\n<path fill=\"#e58139\" stroke=\"#000000\" d=\"M420,-861C420,-861 337,-861 337,-861 331,-861 325,-855 325,-849 325,-849 325,-805 325,-805 325,-799 331,-793 337,-793 337,-793 420,-793 420,-793 426,-793 432,-799 432,-805 432,-805 432,-849 432,-849 432,-855 426,-861 420,-861\"/>\n<text text-anchor=\"start\" x=\"349\" y=\"-845.8\" font-family=\"Helvetica,sans-Serif\" font-size=\"14.00\" fill=\"#000000\">gini = 0.0</text>\n<text text-anchor=\"start\" x=\"334.5\" y=\"-830.8\" font-family=\"Helvetica,sans-Serif\" font-size=\"14.00\" fill=\"#000000\">samples = 37</text>\n<text text-anchor=\"start\" x=\"333\" y=\"-815.8\" font-family=\"Helvetica,sans-Serif\" font-size=\"14.00\" fill=\"#000000\">value = [37, 0]</text>\n<text text-anchor=\"start\" x=\"349.5\" y=\"-800.8\" font-family=\"Helvetica,sans-Serif\" font-size=\"14.00\" fill=\"#000000\">class = 1</text>\n</g>\n<!-- 16&#45;&gt;17 -->\n<g id=\"edge17\" class=\"edge\">\n<title>16&#45;&gt;17</title>\n<path fill=\"none\" stroke=\"#000000\" d=\"M419.819,-901.7677C414.2031,-891.6055 408.1245,-880.6062 402.4017,-870.2508\"/>\n<polygon fill=\"#000000\" stroke=\"#000000\" points=\"405.3851,-868.413 397.4848,-861.3535 399.2584,-871.7989 405.3851,-868.413\"/>\n</g>\n<!-- 18 -->\n<g id=\"node19\" class=\"node\">\n<title>18</title>\n<path fill=\"#e78946\" stroke=\"#000000\" d=\"M545,-866C545,-866 462,-866 462,-866 456,-866 450,-860 450,-854 450,-854 450,-800 450,-800 450,-794 456,-788 462,-788 462,-788 545,-788 545,-788 551,-788 557,-794 557,-800 557,-800 557,-854 557,-854 557,-860 551,-866 545,-866\"/>\n<text text-anchor=\"start\" x=\"469\" y=\"-851.8\" font-family=\"Helvetica,sans-Serif\" font-size=\"14.00\" fill=\"#000000\">X</text>\n<text text-anchor=\"start\" x=\"479\" y=\"-851.8\" font-family=\"Helvetica,sans-Serif\" baseline-shift=\"sub\" font-size=\"14.00\" fill=\"#000000\">0</text>\n<text text-anchor=\"start\" x=\"486\" y=\"-851.8\" font-family=\"Helvetica,sans-Serif\" font-size=\"14.00\" fill=\"#000000\"> ≤ 0.225</text>\n<text text-anchor=\"start\" x=\"465.5\" y=\"-837.8\" font-family=\"Helvetica,sans-Serif\" font-size=\"14.00\" fill=\"#000000\">gini = 0.117</text>\n<text text-anchor=\"start\" x=\"459.5\" y=\"-823.8\" font-family=\"Helvetica,sans-Serif\" font-size=\"14.00\" fill=\"#000000\">samples = 16</text>\n<text text-anchor=\"start\" x=\"458\" y=\"-809.8\" font-family=\"Helvetica,sans-Serif\" font-size=\"14.00\" fill=\"#000000\">value = [15, 1]</text>\n<text text-anchor=\"start\" x=\"474.5\" y=\"-795.8\" font-family=\"Helvetica,sans-Serif\" font-size=\"14.00\" fill=\"#000000\">class = 1</text>\n</g>\n<!-- 16&#45;&gt;18 -->\n<g id=\"edge18\" class=\"edge\">\n<title>16&#45;&gt;18</title>\n<path fill=\"none\" stroke=\"#000000\" d=\"M462.8369,-901.7677C467.4644,-893.259 472.4112,-884.1634 477.2043,-875.3502\"/>\n<polygon fill=\"#000000\" stroke=\"#000000\" points=\"480.4207,-876.7617 482.1238,-866.3046 474.2713,-873.4173 480.4207,-876.7617\"/>\n</g>\n<!-- 19 -->\n<g id=\"node20\" class=\"node\">\n<title>19</title>\n<path fill=\"#f2c09c\" stroke=\"#000000\" d=\"M422,-752C422,-752 347,-752 347,-752 341,-752 335,-746 335,-740 335,-740 335,-686 335,-686 335,-680 341,-674 347,-674 347,-674 422,-674 422,-674 428,-674 434,-680 434,-686 434,-686 434,-740 434,-740 434,-746 428,-752 422,-752\"/>\n<text text-anchor=\"start\" x=\"350\" y=\"-737.8\" font-family=\"Helvetica,sans-Serif\" font-size=\"14.00\" fill=\"#000000\">X</text>\n<text text-anchor=\"start\" x=\"360\" y=\"-737.8\" font-family=\"Helvetica,sans-Serif\" baseline-shift=\"sub\" font-size=\"14.00\" fill=\"#000000\">3</text>\n<text text-anchor=\"start\" x=\"367\" y=\"-737.8\" font-family=\"Helvetica,sans-Serif\" font-size=\"14.00\" fill=\"#000000\"> ≤ 0.166</text>\n<text text-anchor=\"start\" x=\"346.5\" y=\"-723.8\" font-family=\"Helvetica,sans-Serif\" font-size=\"14.00\" fill=\"#000000\">gini = 0.444</text>\n<text text-anchor=\"start\" x=\"345\" y=\"-709.8\" font-family=\"Helvetica,sans-Serif\" font-size=\"14.00\" fill=\"#000000\">samples = 3</text>\n<text text-anchor=\"start\" x=\"343\" y=\"-695.8\" font-family=\"Helvetica,sans-Serif\" font-size=\"14.00\" fill=\"#000000\">value = [2, 1]</text>\n<text text-anchor=\"start\" x=\"355.5\" y=\"-681.8\" font-family=\"Helvetica,sans-Serif\" font-size=\"14.00\" fill=\"#000000\">class = 1</text>\n</g>\n<!-- 18&#45;&gt;19 -->\n<g id=\"edge19\" class=\"edge\">\n<title>18&#45;&gt;19</title>\n<path fill=\"none\" stroke=\"#000000\" d=\"M462.547,-787.7677C453.0106,-778.632 442.768,-768.8198 432.9424,-759.407\"/>\n<polygon fill=\"#000000\" stroke=\"#000000\" points=\"435.1709,-756.695 425.5285,-752.3046 430.3285,-761.7498 435.1709,-756.695\"/>\n</g>\n<!-- 22 -->\n<g id=\"node23\" class=\"node\">\n<title>22</title>\n<path fill=\"#e58139\" stroke=\"#000000\" d=\"M547,-747C547,-747 464,-747 464,-747 458,-747 452,-741 452,-735 452,-735 452,-691 452,-691 452,-685 458,-679 464,-679 464,-679 547,-679 547,-679 553,-679 559,-685 559,-691 559,-691 559,-735 559,-735 559,-741 553,-747 547,-747\"/>\n<text text-anchor=\"start\" x=\"476\" y=\"-731.8\" font-family=\"Helvetica,sans-Serif\" font-size=\"14.00\" fill=\"#000000\">gini = 0.0</text>\n<text text-anchor=\"start\" x=\"461.5\" y=\"-716.8\" font-family=\"Helvetica,sans-Serif\" font-size=\"14.00\" fill=\"#000000\">samples = 13</text>\n<text text-anchor=\"start\" x=\"460\" y=\"-701.8\" font-family=\"Helvetica,sans-Serif\" font-size=\"14.00\" fill=\"#000000\">value = [13, 0]</text>\n<text text-anchor=\"start\" x=\"476.5\" y=\"-686.8\" font-family=\"Helvetica,sans-Serif\" font-size=\"14.00\" fill=\"#000000\">class = 1</text>\n</g>\n<!-- 18&#45;&gt;22 -->\n<g id=\"edge22\" class=\"edge\">\n<title>18&#45;&gt;22</title>\n<path fill=\"none\" stroke=\"#000000\" d=\"M504.1883,-787.7677C504.3594,-778.0161 504.544,-767.4937 504.7191,-757.509\"/>\n<polygon fill=\"#000000\" stroke=\"#000000\" points=\"508.2213,-757.4134 504.8973,-747.3535 501.2223,-757.2906 508.2213,-757.4134\"/>\n</g>\n<!-- 20 -->\n<g id=\"node21\" class=\"node\">\n<title>20</title>\n<path fill=\"#399de5\" stroke=\"#000000\" d=\"M364,-633C364,-633 289,-633 289,-633 283,-633 277,-627 277,-621 277,-621 277,-577 277,-577 277,-571 283,-565 289,-565 289,-565 364,-565 364,-565 370,-565 376,-571 376,-577 376,-577 376,-621 376,-621 376,-627 370,-633 364,-633\"/>\n<text text-anchor=\"start\" x=\"297\" y=\"-617.8\" font-family=\"Helvetica,sans-Serif\" font-size=\"14.00\" fill=\"#000000\">gini = 0.0</text>\n<text text-anchor=\"start\" x=\"287\" y=\"-602.8\" font-family=\"Helvetica,sans-Serif\" font-size=\"14.00\" fill=\"#000000\">samples = 1</text>\n<text text-anchor=\"start\" x=\"285\" y=\"-587.8\" font-family=\"Helvetica,sans-Serif\" font-size=\"14.00\" fill=\"#000000\">value = [0, 1]</text>\n<text text-anchor=\"start\" x=\"297.5\" y=\"-572.8\" font-family=\"Helvetica,sans-Serif\" font-size=\"14.00\" fill=\"#000000\">class = 1</text>\n</g>\n<!-- 19&#45;&gt;20 -->\n<g id=\"edge20\" class=\"edge\">\n<title>19&#45;&gt;20</title>\n<path fill=\"none\" stroke=\"#000000\" d=\"M364.5397,-673.7677C359.4217,-663.7082 353.8863,-652.8283 348.6645,-642.5648\"/>\n<polygon fill=\"#000000\" stroke=\"#000000\" points=\"351.6322,-640.6792 343.9781,-633.3535 345.3933,-643.8534 351.6322,-640.6792\"/>\n</g>\n<!-- 21 -->\n<g id=\"node22\" class=\"node\">\n<title>21</title>\n<path fill=\"#e58139\" stroke=\"#000000\" d=\"M481,-633C481,-633 406,-633 406,-633 400,-633 394,-627 394,-621 394,-621 394,-577 394,-577 394,-571 400,-565 406,-565 406,-565 481,-565 481,-565 487,-565 493,-571 493,-577 493,-577 493,-621 493,-621 493,-627 487,-633 481,-633\"/>\n<text text-anchor=\"start\" x=\"414\" y=\"-617.8\" font-family=\"Helvetica,sans-Serif\" font-size=\"14.00\" fill=\"#000000\">gini = 0.0</text>\n<text text-anchor=\"start\" x=\"404\" y=\"-602.8\" font-family=\"Helvetica,sans-Serif\" font-size=\"14.00\" fill=\"#000000\">samples = 2</text>\n<text text-anchor=\"start\" x=\"402\" y=\"-587.8\" font-family=\"Helvetica,sans-Serif\" font-size=\"14.00\" fill=\"#000000\">value = [2, 0]</text>\n<text text-anchor=\"start\" x=\"414.5\" y=\"-572.8\" font-family=\"Helvetica,sans-Serif\" font-size=\"14.00\" fill=\"#000000\">class = 1</text>\n</g>\n<!-- 19&#45;&gt;21 -->\n<g id=\"edge21\" class=\"edge\">\n<title>19&#45;&gt;21</title>\n<path fill=\"none\" stroke=\"#000000\" d=\"M404.8045,-673.7677C410.0638,-663.6055 415.7564,-652.6062 421.1158,-642.2508\"/>\n<polygon fill=\"#000000\" stroke=\"#000000\" points=\"424.2325,-643.8434 425.7205,-633.3535 418.0158,-640.6259 424.2325,-643.8434\"/>\n</g>\n<!-- 24 -->\n<g id=\"node25\" class=\"node\">\n<title>24</title>\n<path fill=\"#399de5\" stroke=\"#000000\" d=\"M662,-861C662,-861 587,-861 587,-861 581,-861 575,-855 575,-849 575,-849 575,-805 575,-805 575,-799 581,-793 587,-793 587,-793 662,-793 662,-793 668,-793 674,-799 674,-805 674,-805 674,-849 674,-849 674,-855 668,-861 662,-861\"/>\n<text text-anchor=\"start\" x=\"595\" y=\"-845.8\" font-family=\"Helvetica,sans-Serif\" font-size=\"14.00\" fill=\"#000000\">gini = 0.0</text>\n<text text-anchor=\"start\" x=\"585\" y=\"-830.8\" font-family=\"Helvetica,sans-Serif\" font-size=\"14.00\" fill=\"#000000\">samples = 1</text>\n<text text-anchor=\"start\" x=\"583\" y=\"-815.8\" font-family=\"Helvetica,sans-Serif\" font-size=\"14.00\" fill=\"#000000\">value = [0, 1]</text>\n<text text-anchor=\"start\" x=\"595.5\" y=\"-800.8\" font-family=\"Helvetica,sans-Serif\" font-size=\"14.00\" fill=\"#000000\">class = 1</text>\n</g>\n<!-- 23&#45;&gt;24 -->\n<g id=\"edge24\" class=\"edge\">\n<title>23&#45;&gt;24</title>\n<path fill=\"none\" stroke=\"#000000\" d=\"M624.5,-901.7677C624.5,-892.0161 624.5,-881.4937 624.5,-871.509\"/>\n<polygon fill=\"#000000\" stroke=\"#000000\" points=\"628.0001,-871.3535 624.5,-861.3535 621.0001,-871.3536 628.0001,-871.3535\"/>\n</g>\n<!-- 25 -->\n<g id=\"node26\" class=\"node\">\n<title>25</title>\n<path fill=\"#e78a47\" stroke=\"#000000\" d=\"M787,-866C787,-866 704,-866 704,-866 698,-866 692,-860 692,-854 692,-854 692,-800 692,-800 692,-794 698,-788 704,-788 704,-788 787,-788 787,-788 793,-788 799,-794 799,-800 799,-800 799,-854 799,-854 799,-860 793,-866 787,-866\"/>\n<text text-anchor=\"start\" x=\"711\" y=\"-851.8\" font-family=\"Helvetica,sans-Serif\" font-size=\"14.00\" fill=\"#000000\">X</text>\n<text text-anchor=\"start\" x=\"721\" y=\"-851.8\" font-family=\"Helvetica,sans-Serif\" baseline-shift=\"sub\" font-size=\"14.00\" fill=\"#000000\">5</text>\n<text text-anchor=\"start\" x=\"728\" y=\"-851.8\" font-family=\"Helvetica,sans-Serif\" font-size=\"14.00\" fill=\"#000000\"> ≤ 0.473</text>\n<text text-anchor=\"start\" x=\"707.5\" y=\"-837.8\" font-family=\"Helvetica,sans-Serif\" font-size=\"14.00\" fill=\"#000000\">gini = 0.124</text>\n<text text-anchor=\"start\" x=\"701.5\" y=\"-823.8\" font-family=\"Helvetica,sans-Serif\" font-size=\"14.00\" fill=\"#000000\">samples = 15</text>\n<text text-anchor=\"start\" x=\"700\" y=\"-809.8\" font-family=\"Helvetica,sans-Serif\" font-size=\"14.00\" fill=\"#000000\">value = [14, 1]</text>\n<text text-anchor=\"start\" x=\"716.5\" y=\"-795.8\" font-family=\"Helvetica,sans-Serif\" font-size=\"14.00\" fill=\"#000000\">class = 1</text>\n</g>\n<!-- 23&#45;&gt;25 -->\n<g id=\"edge25\" class=\"edge\">\n<title>23&#45;&gt;25</title>\n<path fill=\"none\" stroke=\"#000000\" d=\"M666.1413,-901.7677C675.838,-892.632 686.2527,-882.8198 696.2435,-873.407\"/>\n<polygon fill=\"#000000\" stroke=\"#000000\" points=\"698.9035,-875.7096 703.7819,-866.3046 694.1033,-870.6146 698.9035,-875.7096\"/>\n</g>\n<!-- 26 -->\n<g id=\"node27\" class=\"node\">\n<title>26</title>\n<path fill=\"#e58139\" stroke=\"#000000\" d=\"M676,-747C676,-747 593,-747 593,-747 587,-747 581,-741 581,-735 581,-735 581,-691 581,-691 581,-685 587,-679 593,-679 593,-679 676,-679 676,-679 682,-679 688,-685 688,-691 688,-691 688,-735 688,-735 688,-741 682,-747 676,-747\"/>\n<text text-anchor=\"start\" x=\"605\" y=\"-731.8\" font-family=\"Helvetica,sans-Serif\" font-size=\"14.00\" fill=\"#000000\">gini = 0.0</text>\n<text text-anchor=\"start\" x=\"590.5\" y=\"-716.8\" font-family=\"Helvetica,sans-Serif\" font-size=\"14.00\" fill=\"#000000\">samples = 11</text>\n<text text-anchor=\"start\" x=\"589\" y=\"-701.8\" font-family=\"Helvetica,sans-Serif\" font-size=\"14.00\" fill=\"#000000\">value = [11, 0]</text>\n<text text-anchor=\"start\" x=\"605.5\" y=\"-686.8\" font-family=\"Helvetica,sans-Serif\" font-size=\"14.00\" fill=\"#000000\">class = 1</text>\n</g>\n<!-- 25&#45;&gt;26 -->\n<g id=\"edge26\" class=\"edge\">\n<title>25&#45;&gt;26</title>\n<path fill=\"none\" stroke=\"#000000\" d=\"M707.3001,-787.7677C696.9056,-777.0923 685.6116,-765.493 675.0899,-754.6869\"/>\n<polygon fill=\"#000000\" stroke=\"#000000\" points=\"677.4333,-752.0766 667.9495,-747.3535 672.418,-756.9599 677.4333,-752.0766\"/>\n</g>\n<!-- 27 -->\n<g id=\"node28\" class=\"node\">\n<title>27</title>\n<path fill=\"#eeab7b\" stroke=\"#000000\" d=\"M793,-752C793,-752 718,-752 718,-752 712,-752 706,-746 706,-740 706,-740 706,-686 706,-686 706,-680 712,-674 718,-674 718,-674 793,-674 793,-674 799,-674 805,-680 805,-686 805,-686 805,-740 805,-740 805,-746 799,-752 793,-752\"/>\n<text text-anchor=\"start\" x=\"718.5\" y=\"-737.8\" font-family=\"Helvetica,sans-Serif\" font-size=\"14.00\" fill=\"#000000\">X</text>\n<text text-anchor=\"start\" x=\"728.5\" y=\"-737.8\" font-family=\"Helvetica,sans-Serif\" baseline-shift=\"sub\" font-size=\"14.00\" fill=\"#000000\">6</text>\n<text text-anchor=\"start\" x=\"735.5\" y=\"-737.8\" font-family=\"Helvetica,sans-Serif\" font-size=\"14.00\" fill=\"#000000\"> ≤ &#45;0.381</text>\n<text text-anchor=\"start\" x=\"717.5\" y=\"-723.8\" font-family=\"Helvetica,sans-Serif\" font-size=\"14.00\" fill=\"#000000\">gini = 0.375</text>\n<text text-anchor=\"start\" x=\"716\" y=\"-709.8\" font-family=\"Helvetica,sans-Serif\" font-size=\"14.00\" fill=\"#000000\">samples = 4</text>\n<text text-anchor=\"start\" x=\"714\" y=\"-695.8\" font-family=\"Helvetica,sans-Serif\" font-size=\"14.00\" fill=\"#000000\">value = [3, 1]</text>\n<text text-anchor=\"start\" x=\"726.5\" y=\"-681.8\" font-family=\"Helvetica,sans-Serif\" font-size=\"14.00\" fill=\"#000000\">class = 1</text>\n</g>\n<!-- 25&#45;&gt;27 -->\n<g id=\"edge27\" class=\"edge\">\n<title>25&#45;&gt;27</title>\n<path fill=\"none\" stroke=\"#000000\" d=\"M748.9414,-787.7677C749.6564,-779.6172 750.4186,-770.9283 751.161,-762.4649\"/>\n<polygon fill=\"#000000\" stroke=\"#000000\" points=\"754.6649,-762.5723 752.0522,-752.3046 747.6917,-761.9605 754.6649,-762.5723\"/>\n</g>\n<!-- 28 -->\n<g id=\"node29\" class=\"node\">\n<title>28</title>\n<path fill=\"#e58139\" stroke=\"#000000\" d=\"M735,-633C735,-633 660,-633 660,-633 654,-633 648,-627 648,-621 648,-621 648,-577 648,-577 648,-571 654,-565 660,-565 660,-565 735,-565 735,-565 741,-565 747,-571 747,-577 747,-577 747,-621 747,-621 747,-627 741,-633 735,-633\"/>\n<text text-anchor=\"start\" x=\"668\" y=\"-617.8\" font-family=\"Helvetica,sans-Serif\" font-size=\"14.00\" fill=\"#000000\">gini = 0.0</text>\n<text text-anchor=\"start\" x=\"658\" y=\"-602.8\" font-family=\"Helvetica,sans-Serif\" font-size=\"14.00\" fill=\"#000000\">samples = 3</text>\n<text text-anchor=\"start\" x=\"656\" y=\"-587.8\" font-family=\"Helvetica,sans-Serif\" font-size=\"14.00\" fill=\"#000000\">value = [3, 0]</text>\n<text text-anchor=\"start\" x=\"668.5\" y=\"-572.8\" font-family=\"Helvetica,sans-Serif\" font-size=\"14.00\" fill=\"#000000\">class = 1</text>\n</g>\n<!-- 27&#45;&gt;28 -->\n<g id=\"edge28\" class=\"edge\">\n<title>27&#45;&gt;28</title>\n<path fill=\"none\" stroke=\"#000000\" d=\"M735.5397,-673.7677C730.4217,-663.7082 724.8863,-652.8283 719.6645,-642.5648\"/>\n<polygon fill=\"#000000\" stroke=\"#000000\" points=\"722.6322,-640.6792 714.9781,-633.3535 716.3933,-643.8534 722.6322,-640.6792\"/>\n</g>\n<!-- 29 -->\n<g id=\"node30\" class=\"node\">\n<title>29</title>\n<path fill=\"#399de5\" stroke=\"#000000\" d=\"M852,-633C852,-633 777,-633 777,-633 771,-633 765,-627 765,-621 765,-621 765,-577 765,-577 765,-571 771,-565 777,-565 777,-565 852,-565 852,-565 858,-565 864,-571 864,-577 864,-577 864,-621 864,-621 864,-627 858,-633 852,-633\"/>\n<text text-anchor=\"start\" x=\"785\" y=\"-617.8\" font-family=\"Helvetica,sans-Serif\" font-size=\"14.00\" fill=\"#000000\">gini = 0.0</text>\n<text text-anchor=\"start\" x=\"775\" y=\"-602.8\" font-family=\"Helvetica,sans-Serif\" font-size=\"14.00\" fill=\"#000000\">samples = 1</text>\n<text text-anchor=\"start\" x=\"773\" y=\"-587.8\" font-family=\"Helvetica,sans-Serif\" font-size=\"14.00\" fill=\"#000000\">value = [0, 1]</text>\n<text text-anchor=\"start\" x=\"785.5\" y=\"-572.8\" font-family=\"Helvetica,sans-Serif\" font-size=\"14.00\" fill=\"#000000\">class = 1</text>\n</g>\n<!-- 27&#45;&gt;29 -->\n<g id=\"edge29\" class=\"edge\">\n<title>27&#45;&gt;29</title>\n<path fill=\"none\" stroke=\"#000000\" d=\"M775.8045,-673.7677C781.0638,-663.6055 786.7564,-652.6062 792.1158,-642.2508\"/>\n<polygon fill=\"#000000\" stroke=\"#000000\" points=\"795.2325,-643.8434 796.7205,-633.3535 789.0158,-640.6259 795.2325,-643.8434\"/>\n</g>\n<!-- 31 -->\n<g id=\"node32\" class=\"node\">\n<title>31</title>\n<path fill=\"#399de5\" stroke=\"#000000\" d=\"M1042,-1203C1042,-1203 967,-1203 967,-1203 961,-1203 955,-1197 955,-1191 955,-1191 955,-1147 955,-1147 955,-1141 961,-1135 967,-1135 967,-1135 1042,-1135 1042,-1135 1048,-1135 1054,-1141 1054,-1147 1054,-1147 1054,-1191 1054,-1191 1054,-1197 1048,-1203 1042,-1203\"/>\n<text text-anchor=\"start\" x=\"975\" y=\"-1187.8\" font-family=\"Helvetica,sans-Serif\" font-size=\"14.00\" fill=\"#000000\">gini = 0.0</text>\n<text text-anchor=\"start\" x=\"965\" y=\"-1172.8\" font-family=\"Helvetica,sans-Serif\" font-size=\"14.00\" fill=\"#000000\">samples = 1</text>\n<text text-anchor=\"start\" x=\"963\" y=\"-1157.8\" font-family=\"Helvetica,sans-Serif\" font-size=\"14.00\" fill=\"#000000\">value = [0, 1]</text>\n<text text-anchor=\"start\" x=\"975.5\" y=\"-1142.8\" font-family=\"Helvetica,sans-Serif\" font-size=\"14.00\" fill=\"#000000\">class = 1</text>\n</g>\n<!-- 30&#45;&gt;31 -->\n<g id=\"edge31\" class=\"edge\">\n<title>30&#45;&gt;31</title>\n<path fill=\"none\" stroke=\"#000000\" d=\"M1045.819,-1243.7677C1040.2031,-1233.6055 1034.1245,-1222.6062 1028.4017,-1212.2508\"/>\n<polygon fill=\"#000000\" stroke=\"#000000\" points=\"1031.3851,-1210.413 1023.4848,-1203.3535 1025.2584,-1213.7989 1031.3851,-1210.413\"/>\n</g>\n<!-- 32 -->\n<g id=\"node33\" class=\"node\">\n<title>32</title>\n<path fill=\"#eca470\" stroke=\"#000000\" d=\"M1176.5,-1208C1176.5,-1208 1084.5,-1208 1084.5,-1208 1078.5,-1208 1072.5,-1202 1072.5,-1196 1072.5,-1196 1072.5,-1142 1072.5,-1142 1072.5,-1136 1078.5,-1130 1084.5,-1130 1084.5,-1130 1176.5,-1130 1176.5,-1130 1182.5,-1130 1188.5,-1136 1188.5,-1142 1188.5,-1142 1188.5,-1196 1188.5,-1196 1188.5,-1202 1182.5,-1208 1176.5,-1208\"/>\n<text text-anchor=\"start\" x=\"1097.5\" y=\"-1193.8\" font-family=\"Helvetica,sans-Serif\" font-size=\"14.00\" fill=\"#000000\">X</text>\n<text text-anchor=\"start\" x=\"1107.5\" y=\"-1193.8\" font-family=\"Helvetica,sans-Serif\" baseline-shift=\"sub\" font-size=\"14.00\" fill=\"#000000\">6</text>\n<text text-anchor=\"start\" x=\"1114.5\" y=\"-1193.8\" font-family=\"Helvetica,sans-Serif\" font-size=\"14.00\" fill=\"#000000\"> ≤ &#45;0.43</text>\n<text text-anchor=\"start\" x=\"1092.5\" y=\"-1179.8\" font-family=\"Helvetica,sans-Serif\" font-size=\"14.00\" fill=\"#000000\">gini = 0.342</text>\n<text text-anchor=\"start\" x=\"1086.5\" y=\"-1165.8\" font-family=\"Helvetica,sans-Serif\" font-size=\"14.00\" fill=\"#000000\">samples = 64</text>\n<text text-anchor=\"start\" x=\"1080.5\" y=\"-1151.8\" font-family=\"Helvetica,sans-Serif\" font-size=\"14.00\" fill=\"#000000\">value = [50, 14]</text>\n<text text-anchor=\"start\" x=\"1101.5\" y=\"-1137.8\" font-family=\"Helvetica,sans-Serif\" font-size=\"14.00\" fill=\"#000000\">class = 1</text>\n</g>\n<!-- 30&#45;&gt;32 -->\n<g id=\"edge32\" class=\"edge\">\n<title>30&#45;&gt;32</title>\n<path fill=\"none\" stroke=\"#000000\" d=\"M1089.181,-1243.7677C1093.9327,-1235.1694 1099.0156,-1225.9718 1103.9339,-1217.072\"/>\n<polygon fill=\"#000000\" stroke=\"#000000\" points=\"1107.0054,-1218.75 1108.779,-1208.3046 1100.8787,-1215.3642 1107.0054,-1218.75\"/>\n</g>\n<!-- 33 -->\n<g id=\"node34\" class=\"node\">\n<title>33</title>\n<path fill=\"#e78c4a\" stroke=\"#000000\" d=\"M1148,-1094C1148,-1094 1065,-1094 1065,-1094 1059,-1094 1053,-1088 1053,-1082 1053,-1082 1053,-1028 1053,-1028 1053,-1022 1059,-1016 1065,-1016 1065,-1016 1148,-1016 1148,-1016 1154,-1016 1160,-1022 1160,-1028 1160,-1028 1160,-1082 1160,-1082 1160,-1088 1154,-1094 1148,-1094\"/>\n<text text-anchor=\"start\" x=\"1072\" y=\"-1079.8\" font-family=\"Helvetica,sans-Serif\" font-size=\"14.00\" fill=\"#000000\">X</text>\n<text text-anchor=\"start\" x=\"1082\" y=\"-1079.8\" font-family=\"Helvetica,sans-Serif\" baseline-shift=\"sub\" font-size=\"14.00\" fill=\"#000000\">2</text>\n<text text-anchor=\"start\" x=\"1089\" y=\"-1079.8\" font-family=\"Helvetica,sans-Serif\" font-size=\"14.00\" fill=\"#000000\"> ≤ 1.572</text>\n<text text-anchor=\"start\" x=\"1068.5\" y=\"-1065.8\" font-family=\"Helvetica,sans-Serif\" font-size=\"14.00\" fill=\"#000000\">gini = 0.147</text>\n<text text-anchor=\"start\" x=\"1062.5\" y=\"-1051.8\" font-family=\"Helvetica,sans-Serif\" font-size=\"14.00\" fill=\"#000000\">samples = 25</text>\n<text text-anchor=\"start\" x=\"1061\" y=\"-1037.8\" font-family=\"Helvetica,sans-Serif\" font-size=\"14.00\" fill=\"#000000\">value = [23, 2]</text>\n<text text-anchor=\"start\" x=\"1077.5\" y=\"-1023.8\" font-family=\"Helvetica,sans-Serif\" font-size=\"14.00\" fill=\"#000000\">class = 1</text>\n</g>\n<!-- 32&#45;&gt;33 -->\n<g id=\"edge33\" class=\"edge\">\n<title>32&#45;&gt;33</title>\n<path fill=\"none\" stroke=\"#000000\" d=\"M1122.2406,-1129.7677C1120.5058,-1121.5277 1118.6552,-1112.7372 1116.8549,-1104.1859\"/>\n<polygon fill=\"#000000\" stroke=\"#000000\" points=\"1120.2598,-1103.3691 1114.7747,-1094.3046 1113.4099,-1104.8112 1120.2598,-1103.3691\"/>\n</g>\n<!-- 40 -->\n<g id=\"node41\" class=\"node\">\n<title>40</title>\n<path fill=\"#f1b991\" stroke=\"#000000\" d=\"M1282.5,-1094C1282.5,-1094 1190.5,-1094 1190.5,-1094 1184.5,-1094 1178.5,-1088 1178.5,-1082 1178.5,-1082 1178.5,-1028 1178.5,-1028 1178.5,-1022 1184.5,-1016 1190.5,-1016 1190.5,-1016 1282.5,-1016 1282.5,-1016 1288.5,-1016 1294.5,-1022 1294.5,-1028 1294.5,-1028 1294.5,-1082 1294.5,-1082 1294.5,-1088 1288.5,-1094 1282.5,-1094\"/>\n<text text-anchor=\"start\" x=\"1202\" y=\"-1079.8\" font-family=\"Helvetica,sans-Serif\" font-size=\"14.00\" fill=\"#000000\">X</text>\n<text text-anchor=\"start\" x=\"1212\" y=\"-1079.8\" font-family=\"Helvetica,sans-Serif\" baseline-shift=\"sub\" font-size=\"14.00\" fill=\"#000000\">5</text>\n<text text-anchor=\"start\" x=\"1219\" y=\"-1079.8\" font-family=\"Helvetica,sans-Serif\" font-size=\"14.00\" fill=\"#000000\"> ≤ 1.814</text>\n<text text-anchor=\"start\" x=\"1198.5\" y=\"-1065.8\" font-family=\"Helvetica,sans-Serif\" font-size=\"14.00\" fill=\"#000000\">gini = 0.426</text>\n<text text-anchor=\"start\" x=\"1192.5\" y=\"-1051.8\" font-family=\"Helvetica,sans-Serif\" font-size=\"14.00\" fill=\"#000000\">samples = 39</text>\n<text text-anchor=\"start\" x=\"1186.5\" y=\"-1037.8\" font-family=\"Helvetica,sans-Serif\" font-size=\"14.00\" fill=\"#000000\">value = [27, 12]</text>\n<text text-anchor=\"start\" x=\"1207.5\" y=\"-1023.8\" font-family=\"Helvetica,sans-Serif\" font-size=\"14.00\" fill=\"#000000\">class = 1</text>\n</g>\n<!-- 32&#45;&gt;40 -->\n<g id=\"edge40\" class=\"edge\">\n<title>32&#45;&gt;40</title>\n<path fill=\"none\" stroke=\"#000000\" d=\"M1166.9792,-1129.7677C1175.3905,-1120.7216 1184.4186,-1111.0121 1193.0921,-1101.6839\"/>\n<polygon fill=\"#000000\" stroke=\"#000000\" points=\"1195.7073,-1104.0113 1199.9536,-1094.3046 1190.5809,-1099.2447 1195.7073,-1104.0113\"/>\n</g>\n<!-- 34 -->\n<g id=\"node35\" class=\"node\">\n<title>34</title>\n<path fill=\"#e68642\" stroke=\"#000000\" d=\"M1028,-980C1028,-980 945,-980 945,-980 939,-980 933,-974 933,-968 933,-968 933,-914 933,-914 933,-908 939,-902 945,-902 945,-902 1028,-902 1028,-902 1034,-902 1040,-908 1040,-914 1040,-914 1040,-968 1040,-968 1040,-974 1034,-980 1028,-980\"/>\n<text text-anchor=\"start\" x=\"952\" y=\"-965.8\" font-family=\"Helvetica,sans-Serif\" font-size=\"14.00\" fill=\"#000000\">X</text>\n<text text-anchor=\"start\" x=\"962\" y=\"-965.8\" font-family=\"Helvetica,sans-Serif\" baseline-shift=\"sub\" font-size=\"14.00\" fill=\"#000000\">0</text>\n<text text-anchor=\"start\" x=\"969\" y=\"-965.8\" font-family=\"Helvetica,sans-Serif\" font-size=\"14.00\" fill=\"#000000\"> ≤ 0.477</text>\n<text text-anchor=\"start\" x=\"953\" y=\"-951.8\" font-family=\"Helvetica,sans-Serif\" font-size=\"14.00\" fill=\"#000000\">gini = 0.08</text>\n<text text-anchor=\"start\" x=\"942.5\" y=\"-937.8\" font-family=\"Helvetica,sans-Serif\" font-size=\"14.00\" fill=\"#000000\">samples = 24</text>\n<text text-anchor=\"start\" x=\"941\" y=\"-923.8\" font-family=\"Helvetica,sans-Serif\" font-size=\"14.00\" fill=\"#000000\">value = [23, 1]</text>\n<text text-anchor=\"start\" x=\"957.5\" y=\"-909.8\" font-family=\"Helvetica,sans-Serif\" font-size=\"14.00\" fill=\"#000000\">class = 1</text>\n</g>\n<!-- 33&#45;&gt;34 -->\n<g id=\"edge34\" class=\"edge\">\n<title>33&#45;&gt;34</title>\n<path fill=\"none\" stroke=\"#000000\" d=\"M1065.2028,-1015.7677C1055.5863,-1006.632 1045.2576,-996.8198 1035.3494,-987.407\"/>\n<polygon fill=\"#000000\" stroke=\"#000000\" points=\"1037.534,-984.6547 1027.8733,-980.3046 1032.7127,-989.7297 1037.534,-984.6547\"/>\n</g>\n<!-- 39 -->\n<g id=\"node40\" class=\"node\">\n<title>39</title>\n<path fill=\"#399de5\" stroke=\"#000000\" d=\"M1145,-975C1145,-975 1070,-975 1070,-975 1064,-975 1058,-969 1058,-963 1058,-963 1058,-919 1058,-919 1058,-913 1064,-907 1070,-907 1070,-907 1145,-907 1145,-907 1151,-907 1157,-913 1157,-919 1157,-919 1157,-963 1157,-963 1157,-969 1151,-975 1145,-975\"/>\n<text text-anchor=\"start\" x=\"1078\" y=\"-959.8\" font-family=\"Helvetica,sans-Serif\" font-size=\"14.00\" fill=\"#000000\">gini = 0.0</text>\n<text text-anchor=\"start\" x=\"1068\" y=\"-944.8\" font-family=\"Helvetica,sans-Serif\" font-size=\"14.00\" fill=\"#000000\">samples = 1</text>\n<text text-anchor=\"start\" x=\"1066\" y=\"-929.8\" font-family=\"Helvetica,sans-Serif\" font-size=\"14.00\" fill=\"#000000\">value = [0, 1]</text>\n<text text-anchor=\"start\" x=\"1078.5\" y=\"-914.8\" font-family=\"Helvetica,sans-Serif\" font-size=\"14.00\" fill=\"#000000\">class = 1</text>\n</g>\n<!-- 33&#45;&gt;39 -->\n<g id=\"edge39\" class=\"edge\">\n<title>33&#45;&gt;39</title>\n<path fill=\"none\" stroke=\"#000000\" d=\"M1106.8441,-1015.7677C1106.9297,-1006.0161 1107.022,-995.4937 1107.1096,-985.509\"/>\n<polygon fill=\"#000000\" stroke=\"#000000\" points=\"1110.6107,-985.3839 1107.1987,-975.3535 1103.611,-985.3224 1110.6107,-985.3839\"/>\n</g>\n<!-- 35 -->\n<g id=\"node36\" class=\"node\">\n<title>35</title>\n<path fill=\"#e58139\" stroke=\"#000000\" d=\"M912,-861C912,-861 829,-861 829,-861 823,-861 817,-855 817,-849 817,-849 817,-805 817,-805 817,-799 823,-793 829,-793 829,-793 912,-793 912,-793 918,-793 924,-799 924,-805 924,-805 924,-849 924,-849 924,-855 918,-861 912,-861\"/>\n<text text-anchor=\"start\" x=\"841\" y=\"-845.8\" font-family=\"Helvetica,sans-Serif\" font-size=\"14.00\" fill=\"#000000\">gini = 0.0</text>\n<text text-anchor=\"start\" x=\"826.5\" y=\"-830.8\" font-family=\"Helvetica,sans-Serif\" font-size=\"14.00\" fill=\"#000000\">samples = 20</text>\n<text text-anchor=\"start\" x=\"825\" y=\"-815.8\" font-family=\"Helvetica,sans-Serif\" font-size=\"14.00\" fill=\"#000000\">value = [20, 0]</text>\n<text text-anchor=\"start\" x=\"841.5\" y=\"-800.8\" font-family=\"Helvetica,sans-Serif\" font-size=\"14.00\" fill=\"#000000\">class = 1</text>\n</g>\n<!-- 34&#45;&gt;35 -->\n<g id=\"edge35\" class=\"edge\">\n<title>34&#45;&gt;35</title>\n<path fill=\"none\" stroke=\"#000000\" d=\"M946.5794,-901.7677C935.6123,-890.9896 923.6869,-879.2699 912.6013,-868.3754\"/>\n<polygon fill=\"#000000\" stroke=\"#000000\" points=\"915.0418,-865.8666 905.4562,-861.3535 910.1353,-870.8592 915.0418,-865.8666\"/>\n</g>\n<!-- 36 -->\n<g id=\"node37\" class=\"node\">\n<title>36</title>\n<path fill=\"#eeab7b\" stroke=\"#000000\" d=\"M1029,-866C1029,-866 954,-866 954,-866 948,-866 942,-860 942,-854 942,-854 942,-800 942,-800 942,-794 948,-788 954,-788 954,-788 1029,-788 1029,-788 1035,-788 1041,-794 1041,-800 1041,-800 1041,-854 1041,-854 1041,-860 1035,-866 1029,-866\"/>\n<text text-anchor=\"start\" x=\"957\" y=\"-851.8\" font-family=\"Helvetica,sans-Serif\" font-size=\"14.00\" fill=\"#000000\">X</text>\n<text text-anchor=\"start\" x=\"967\" y=\"-851.8\" font-family=\"Helvetica,sans-Serif\" baseline-shift=\"sub\" font-size=\"14.00\" fill=\"#000000\">5</text>\n<text text-anchor=\"start\" x=\"974\" y=\"-851.8\" font-family=\"Helvetica,sans-Serif\" font-size=\"14.00\" fill=\"#000000\"> ≤ 0.232</text>\n<text text-anchor=\"start\" x=\"953.5\" y=\"-837.8\" font-family=\"Helvetica,sans-Serif\" font-size=\"14.00\" fill=\"#000000\">gini = 0.375</text>\n<text text-anchor=\"start\" x=\"952\" y=\"-823.8\" font-family=\"Helvetica,sans-Serif\" font-size=\"14.00\" fill=\"#000000\">samples = 4</text>\n<text text-anchor=\"start\" x=\"950\" y=\"-809.8\" font-family=\"Helvetica,sans-Serif\" font-size=\"14.00\" fill=\"#000000\">value = [3, 1]</text>\n<text text-anchor=\"start\" x=\"962.5\" y=\"-795.8\" font-family=\"Helvetica,sans-Serif\" font-size=\"14.00\" fill=\"#000000\">class = 1</text>\n</g>\n<!-- 34&#45;&gt;36 -->\n<g id=\"edge36\" class=\"edge\">\n<title>34&#45;&gt;36</title>\n<path fill=\"none\" stroke=\"#000000\" d=\"M988.2207,-901.7677C988.5782,-893.6172 988.9593,-884.9283 989.3305,-876.4649\"/>\n<polygon fill=\"#000000\" stroke=\"#000000\" points=\"992.8345,-876.4484 989.7761,-866.3046 985.8412,-876.1416 992.8345,-876.4484\"/>\n</g>\n<!-- 37 -->\n<g id=\"node38\" class=\"node\">\n<title>37</title>\n<path fill=\"#e58139\" stroke=\"#000000\" d=\"M912,-747C912,-747 837,-747 837,-747 831,-747 825,-741 825,-735 825,-735 825,-691 825,-691 825,-685 831,-679 837,-679 837,-679 912,-679 912,-679 918,-679 924,-685 924,-691 924,-691 924,-735 924,-735 924,-741 918,-747 912,-747\"/>\n<text text-anchor=\"start\" x=\"845\" y=\"-731.8\" font-family=\"Helvetica,sans-Serif\" font-size=\"14.00\" fill=\"#000000\">gini = 0.0</text>\n<text text-anchor=\"start\" x=\"835\" y=\"-716.8\" font-family=\"Helvetica,sans-Serif\" font-size=\"14.00\" fill=\"#000000\">samples = 3</text>\n<text text-anchor=\"start\" x=\"833\" y=\"-701.8\" font-family=\"Helvetica,sans-Serif\" font-size=\"14.00\" fill=\"#000000\">value = [3, 0]</text>\n<text text-anchor=\"start\" x=\"845.5\" y=\"-686.8\" font-family=\"Helvetica,sans-Serif\" font-size=\"14.00\" fill=\"#000000\">class = 1</text>\n</g>\n<!-- 36&#45;&gt;37 -->\n<g id=\"edge37\" class=\"edge\">\n<title>36&#45;&gt;37</title>\n<path fill=\"none\" stroke=\"#000000\" d=\"M951.2352,-787.7677C940.1736,-776.9896 928.1454,-765.2699 916.9642,-754.3754\"/>\n<polygon fill=\"#000000\" stroke=\"#000000\" points=\"919.3624,-751.8254 909.7576,-747.3535 914.4773,-756.839 919.3624,-751.8254\"/>\n</g>\n<!-- 38 -->\n<g id=\"node39\" class=\"node\">\n<title>38</title>\n<path fill=\"#399de5\" stroke=\"#000000\" d=\"M1029,-747C1029,-747 954,-747 954,-747 948,-747 942,-741 942,-735 942,-735 942,-691 942,-691 942,-685 948,-679 954,-679 954,-679 1029,-679 1029,-679 1035,-679 1041,-685 1041,-691 1041,-691 1041,-735 1041,-735 1041,-741 1035,-747 1029,-747\"/>\n<text text-anchor=\"start\" x=\"962\" y=\"-731.8\" font-family=\"Helvetica,sans-Serif\" font-size=\"14.00\" fill=\"#000000\">gini = 0.0</text>\n<text text-anchor=\"start\" x=\"952\" y=\"-716.8\" font-family=\"Helvetica,sans-Serif\" font-size=\"14.00\" fill=\"#000000\">samples = 1</text>\n<text text-anchor=\"start\" x=\"950\" y=\"-701.8\" font-family=\"Helvetica,sans-Serif\" font-size=\"14.00\" fill=\"#000000\">value = [0, 1]</text>\n<text text-anchor=\"start\" x=\"962.5\" y=\"-686.8\" font-family=\"Helvetica,sans-Serif\" font-size=\"14.00\" fill=\"#000000\">class = 1</text>\n</g>\n<!-- 36&#45;&gt;38 -->\n<g id=\"edge38\" class=\"edge\">\n<title>36&#45;&gt;38</title>\n<path fill=\"none\" stroke=\"#000000\" d=\"M991.5,-787.7677C991.5,-778.0161 991.5,-767.4937 991.5,-757.509\"/>\n<polygon fill=\"#000000\" stroke=\"#000000\" points=\"995.0001,-757.3535 991.5,-747.3535 988.0001,-757.3536 995.0001,-757.3535\"/>\n</g>\n<!-- 41 -->\n<g id=\"node42\" class=\"node\">\n<title>41</title>\n<path fill=\"#f0b48a\" stroke=\"#000000\" d=\"M1281.5,-980C1281.5,-980 1189.5,-980 1189.5,-980 1183.5,-980 1177.5,-974 1177.5,-968 1177.5,-968 1177.5,-914 1177.5,-914 1177.5,-908 1183.5,-902 1189.5,-902 1189.5,-902 1281.5,-902 1281.5,-902 1287.5,-902 1293.5,-908 1293.5,-914 1293.5,-914 1293.5,-968 1293.5,-968 1293.5,-974 1287.5,-980 1281.5,-980\"/>\n<text text-anchor=\"start\" x=\"1201\" y=\"-965.8\" font-family=\"Helvetica,sans-Serif\" font-size=\"14.00\" fill=\"#000000\">X</text>\n<text text-anchor=\"start\" x=\"1211\" y=\"-965.8\" font-family=\"Helvetica,sans-Serif\" baseline-shift=\"sub\" font-size=\"14.00\" fill=\"#000000\">0</text>\n<text text-anchor=\"start\" x=\"1218\" y=\"-965.8\" font-family=\"Helvetica,sans-Serif\" font-size=\"14.00\" fill=\"#000000\"> ≤ 0.688</text>\n<text text-anchor=\"start\" x=\"1197.5\" y=\"-951.8\" font-family=\"Helvetica,sans-Serif\" font-size=\"14.00\" fill=\"#000000\">gini = 0.411</text>\n<text text-anchor=\"start\" x=\"1191.5\" y=\"-937.8\" font-family=\"Helvetica,sans-Serif\" font-size=\"14.00\" fill=\"#000000\">samples = 38</text>\n<text text-anchor=\"start\" x=\"1185.5\" y=\"-923.8\" font-family=\"Helvetica,sans-Serif\" font-size=\"14.00\" fill=\"#000000\">value = [27, 11]</text>\n<text text-anchor=\"start\" x=\"1206.5\" y=\"-909.8\" font-family=\"Helvetica,sans-Serif\" font-size=\"14.00\" fill=\"#000000\">class = 1</text>\n</g>\n<!-- 40&#45;&gt;41 -->\n<g id=\"edge41\" class=\"edge\">\n<title>40&#45;&gt;41</title>\n<path fill=\"none\" stroke=\"#000000\" d=\"M1236.1559,-1015.7677C1236.0844,-1007.6172 1236.0081,-998.9283 1235.9339,-990.4649\"/>\n<polygon fill=\"#000000\" stroke=\"#000000\" points=\"1239.4325,-990.2735 1235.8448,-980.3046 1232.4327,-990.335 1239.4325,-990.2735\"/>\n</g>\n<!-- 68 -->\n<g id=\"node69\" class=\"node\">\n<title>68</title>\n<path fill=\"#399de5\" stroke=\"#000000\" d=\"M1399,-975C1399,-975 1324,-975 1324,-975 1318,-975 1312,-969 1312,-963 1312,-963 1312,-919 1312,-919 1312,-913 1318,-907 1324,-907 1324,-907 1399,-907 1399,-907 1405,-907 1411,-913 1411,-919 1411,-919 1411,-963 1411,-963 1411,-969 1405,-975 1399,-975\"/>\n<text text-anchor=\"start\" x=\"1332\" y=\"-959.8\" font-family=\"Helvetica,sans-Serif\" font-size=\"14.00\" fill=\"#000000\">gini = 0.0</text>\n<text text-anchor=\"start\" x=\"1322\" y=\"-944.8\" font-family=\"Helvetica,sans-Serif\" font-size=\"14.00\" fill=\"#000000\">samples = 1</text>\n<text text-anchor=\"start\" x=\"1320\" y=\"-929.8\" font-family=\"Helvetica,sans-Serif\" font-size=\"14.00\" fill=\"#000000\">value = [0, 1]</text>\n<text text-anchor=\"start\" x=\"1332.5\" y=\"-914.8\" font-family=\"Helvetica,sans-Serif\" font-size=\"14.00\" fill=\"#000000\">class = 1</text>\n</g>\n<!-- 40&#45;&gt;68 -->\n<g id=\"edge68\" class=\"edge\">\n<title>40&#45;&gt;68</title>\n<path fill=\"none\" stroke=\"#000000\" d=\"M1279.5179,-1015.7677C1291.3359,-1004.9896 1304.1865,-993.2699 1316.1322,-982.3754\"/>\n<polygon fill=\"#000000\" stroke=\"#000000\" points=\"1318.8014,-984.6781 1323.8317,-975.3535 1314.0845,-979.506 1318.8014,-984.6781\"/>\n</g>\n<!-- 42 -->\n<g id=\"node43\" class=\"node\">\n<title>42</title>\n<path fill=\"#eeab7b\" stroke=\"#000000\" d=\"M1277,-866C1277,-866 1194,-866 1194,-866 1188,-866 1182,-860 1182,-854 1182,-854 1182,-800 1182,-800 1182,-794 1188,-788 1194,-788 1194,-788 1277,-788 1277,-788 1283,-788 1289,-794 1289,-800 1289,-800 1289,-854 1289,-854 1289,-860 1283,-866 1277,-866\"/>\n<text text-anchor=\"start\" x=\"1198.5\" y=\"-851.8\" font-family=\"Helvetica,sans-Serif\" font-size=\"14.00\" fill=\"#000000\">X</text>\n<text text-anchor=\"start\" x=\"1208.5\" y=\"-851.8\" font-family=\"Helvetica,sans-Serif\" baseline-shift=\"sub\" font-size=\"14.00\" fill=\"#000000\">2</text>\n<text text-anchor=\"start\" x=\"1215.5\" y=\"-851.8\" font-family=\"Helvetica,sans-Serif\" font-size=\"14.00\" fill=\"#000000\"> ≤ &#45;0.428</text>\n<text text-anchor=\"start\" x=\"1197.5\" y=\"-837.8\" font-family=\"Helvetica,sans-Serif\" font-size=\"14.00\" fill=\"#000000\">gini = 0.375</text>\n<text text-anchor=\"start\" x=\"1191.5\" y=\"-823.8\" font-family=\"Helvetica,sans-Serif\" font-size=\"14.00\" fill=\"#000000\">samples = 32</text>\n<text text-anchor=\"start\" x=\"1190\" y=\"-809.8\" font-family=\"Helvetica,sans-Serif\" font-size=\"14.00\" fill=\"#000000\">value = [24, 8]</text>\n<text text-anchor=\"start\" x=\"1206.5\" y=\"-795.8\" font-family=\"Helvetica,sans-Serif\" font-size=\"14.00\" fill=\"#000000\">class = 1</text>\n</g>\n<!-- 41&#45;&gt;42 -->\n<g id=\"edge42\" class=\"edge\">\n<title>41&#45;&gt;42</title>\n<path fill=\"none\" stroke=\"#000000\" d=\"M1235.5,-901.7677C1235.5,-893.6172 1235.5,-884.9283 1235.5,-876.4649\"/>\n<polygon fill=\"#000000\" stroke=\"#000000\" points=\"1239.0001,-876.3046 1235.5,-866.3046 1232.0001,-876.3047 1239.0001,-876.3046\"/>\n</g>\n<!-- 65 -->\n<g id=\"node66\" class=\"node\">\n<title>65</title>\n<path fill=\"#ffffff\" stroke=\"#000000\" d=\"M1396,-866C1396,-866 1321,-866 1321,-866 1315,-866 1309,-860 1309,-854 1309,-854 1309,-800 1309,-800 1309,-794 1315,-788 1321,-788 1321,-788 1396,-788 1396,-788 1402,-788 1408,-794 1408,-800 1408,-800 1408,-854 1408,-854 1408,-860 1402,-866 1396,-866\"/>\n<text text-anchor=\"start\" x=\"1321.5\" y=\"-851.8\" font-family=\"Helvetica,sans-Serif\" font-size=\"14.00\" fill=\"#000000\">X</text>\n<text text-anchor=\"start\" x=\"1331.5\" y=\"-851.8\" font-family=\"Helvetica,sans-Serif\" baseline-shift=\"sub\" font-size=\"14.00\" fill=\"#000000\">6</text>\n<text text-anchor=\"start\" x=\"1338.5\" y=\"-851.8\" font-family=\"Helvetica,sans-Serif\" font-size=\"14.00\" fill=\"#000000\"> ≤ &#45;0.333</text>\n<text text-anchor=\"start\" x=\"1329\" y=\"-837.8\" font-family=\"Helvetica,sans-Serif\" font-size=\"14.00\" fill=\"#000000\">gini = 0.5</text>\n<text text-anchor=\"start\" x=\"1319\" y=\"-823.8\" font-family=\"Helvetica,sans-Serif\" font-size=\"14.00\" fill=\"#000000\">samples = 6</text>\n<text text-anchor=\"start\" x=\"1317\" y=\"-809.8\" font-family=\"Helvetica,sans-Serif\" font-size=\"14.00\" fill=\"#000000\">value = [3, 3]</text>\n<text text-anchor=\"start\" x=\"1329.5\" y=\"-795.8\" font-family=\"Helvetica,sans-Serif\" font-size=\"14.00\" fill=\"#000000\">class = 1</text>\n</g>\n<!-- 41&#45;&gt;65 -->\n<g id=\"edge65\" class=\"edge\">\n<title>41&#45;&gt;65</title>\n<path fill=\"none\" stroke=\"#000000\" d=\"M1277.8296,-901.7677C1287.7832,-892.5424 1298.4811,-882.6273 1308.7279,-873.1302\"/>\n<polygon fill=\"#000000\" stroke=\"#000000\" points=\"1311.1372,-875.6693 1316.0924,-866.3046 1306.3788,-870.5353 1311.1372,-875.6693\"/>\n</g>\n<!-- 43 -->\n<g id=\"node44\" class=\"node\">\n<title>43</title>\n<path fill=\"#e78c49\" stroke=\"#000000\" d=\"M1154,-752C1154,-752 1071,-752 1071,-752 1065,-752 1059,-746 1059,-740 1059,-740 1059,-686 1059,-686 1059,-680 1065,-674 1071,-674 1071,-674 1154,-674 1154,-674 1160,-674 1166,-680 1166,-686 1166,-686 1166,-740 1166,-740 1166,-746 1160,-752 1154,-752\"/>\n<text text-anchor=\"start\" x=\"1078\" y=\"-737.8\" font-family=\"Helvetica,sans-Serif\" font-size=\"14.00\" fill=\"#000000\">X</text>\n<text text-anchor=\"start\" x=\"1088\" y=\"-737.8\" font-family=\"Helvetica,sans-Serif\" baseline-shift=\"sub\" font-size=\"14.00\" fill=\"#000000\">5</text>\n<text text-anchor=\"start\" x=\"1095\" y=\"-737.8\" font-family=\"Helvetica,sans-Serif\" font-size=\"14.00\" fill=\"#000000\"> ≤ 1.195</text>\n<text text-anchor=\"start\" x=\"1074.5\" y=\"-723.8\" font-family=\"Helvetica,sans-Serif\" font-size=\"14.00\" fill=\"#000000\">gini = 0.142</text>\n<text text-anchor=\"start\" x=\"1068.5\" y=\"-709.8\" font-family=\"Helvetica,sans-Serif\" font-size=\"14.00\" fill=\"#000000\">samples = 13</text>\n<text text-anchor=\"start\" x=\"1067\" y=\"-695.8\" font-family=\"Helvetica,sans-Serif\" font-size=\"14.00\" fill=\"#000000\">value = [12, 1]</text>\n<text text-anchor=\"start\" x=\"1083.5\" y=\"-681.8\" font-family=\"Helvetica,sans-Serif\" font-size=\"14.00\" fill=\"#000000\">class = 1</text>\n</g>\n<!-- 42&#45;&gt;43 -->\n<g id=\"edge43\" class=\"edge\">\n<title>42&#45;&gt;43</title>\n<path fill=\"none\" stroke=\"#000000\" d=\"M1193.1704,-787.7677C1183.2168,-778.5424 1172.5189,-768.6273 1162.2721,-759.1302\"/>\n<polygon fill=\"#000000\" stroke=\"#000000\" points=\"1164.6212,-756.5353 1154.9076,-752.3046 1159.8628,-761.6693 1164.6212,-756.5353\"/>\n</g>\n<!-- 48 -->\n<g id=\"node49\" class=\"node\">\n<title>48</title>\n<path fill=\"#f4caac\" stroke=\"#000000\" d=\"M1279,-752C1279,-752 1196,-752 1196,-752 1190,-752 1184,-746 1184,-740 1184,-740 1184,-686 1184,-686 1184,-680 1190,-674 1196,-674 1196,-674 1279,-674 1279,-674 1285,-674 1291,-680 1291,-686 1291,-686 1291,-740 1291,-740 1291,-746 1285,-752 1279,-752\"/>\n<text text-anchor=\"start\" x=\"1200.5\" y=\"-737.8\" font-family=\"Helvetica,sans-Serif\" font-size=\"14.00\" fill=\"#000000\">X</text>\n<text text-anchor=\"start\" x=\"1210.5\" y=\"-737.8\" font-family=\"Helvetica,sans-Serif\" baseline-shift=\"sub\" font-size=\"14.00\" fill=\"#000000\">2</text>\n<text text-anchor=\"start\" x=\"1217.5\" y=\"-737.8\" font-family=\"Helvetica,sans-Serif\" font-size=\"14.00\" fill=\"#000000\"> ≤ &#45;0.417</text>\n<text text-anchor=\"start\" x=\"1199.5\" y=\"-723.8\" font-family=\"Helvetica,sans-Serif\" font-size=\"14.00\" fill=\"#000000\">gini = 0.465</text>\n<text text-anchor=\"start\" x=\"1193.5\" y=\"-709.8\" font-family=\"Helvetica,sans-Serif\" font-size=\"14.00\" fill=\"#000000\">samples = 19</text>\n<text text-anchor=\"start\" x=\"1192\" y=\"-695.8\" font-family=\"Helvetica,sans-Serif\" font-size=\"14.00\" fill=\"#000000\">value = [12, 7]</text>\n<text text-anchor=\"start\" x=\"1208.5\" y=\"-681.8\" font-family=\"Helvetica,sans-Serif\" font-size=\"14.00\" fill=\"#000000\">class = 1</text>\n</g>\n<!-- 42&#45;&gt;48 -->\n<g id=\"edge48\" class=\"edge\">\n<title>42&#45;&gt;48</title>\n<path fill=\"none\" stroke=\"#000000\" d=\"M1236.1883,-787.7677C1236.3313,-779.6172 1236.4837,-770.9283 1236.6322,-762.4649\"/>\n<polygon fill=\"#000000\" stroke=\"#000000\" points=\"1240.1344,-762.3645 1236.8104,-752.3046 1233.1355,-762.2417 1240.1344,-762.3645\"/>\n</g>\n<!-- 44 -->\n<g id=\"node45\" class=\"node\">\n<title>44</title>\n<path fill=\"#e58139\" stroke=\"#000000\" d=\"M1038,-633C1038,-633 955,-633 955,-633 949,-633 943,-627 943,-621 943,-621 943,-577 943,-577 943,-571 949,-565 955,-565 955,-565 1038,-565 1038,-565 1044,-565 1050,-571 1050,-577 1050,-577 1050,-621 1050,-621 1050,-627 1044,-633 1038,-633\"/>\n<text text-anchor=\"start\" x=\"967\" y=\"-617.8\" font-family=\"Helvetica,sans-Serif\" font-size=\"14.00\" fill=\"#000000\">gini = 0.0</text>\n<text text-anchor=\"start\" x=\"952.5\" y=\"-602.8\" font-family=\"Helvetica,sans-Serif\" font-size=\"14.00\" fill=\"#000000\">samples = 11</text>\n<text text-anchor=\"start\" x=\"951\" y=\"-587.8\" font-family=\"Helvetica,sans-Serif\" font-size=\"14.00\" fill=\"#000000\">value = [11, 0]</text>\n<text text-anchor=\"start\" x=\"967.5\" y=\"-572.8\" font-family=\"Helvetica,sans-Serif\" font-size=\"14.00\" fill=\"#000000\">class = 1</text>\n</g>\n<!-- 43&#45;&gt;44 -->\n<g id=\"edge44\" class=\"edge\">\n<title>43&#45;&gt;44</title>\n<path fill=\"none\" stroke=\"#000000\" d=\"M1072.5794,-673.7677C1061.6123,-662.9896 1049.6869,-651.2699 1038.6013,-640.3754\"/>\n<polygon fill=\"#000000\" stroke=\"#000000\" points=\"1041.0418,-637.8666 1031.4562,-633.3535 1036.1353,-642.8592 1041.0418,-637.8666\"/>\n</g>\n<!-- 45 -->\n<g id=\"node46\" class=\"node\">\n<title>45</title>\n<path fill=\"#ffffff\" stroke=\"#000000\" d=\"M1155,-638C1155,-638 1080,-638 1080,-638 1074,-638 1068,-632 1068,-626 1068,-626 1068,-572 1068,-572 1068,-566 1074,-560 1080,-560 1080,-560 1155,-560 1155,-560 1161,-560 1167,-566 1167,-572 1167,-572 1167,-626 1167,-626 1167,-632 1161,-638 1155,-638\"/>\n<text text-anchor=\"start\" x=\"1083\" y=\"-623.8\" font-family=\"Helvetica,sans-Serif\" font-size=\"14.00\" fill=\"#000000\">X</text>\n<text text-anchor=\"start\" x=\"1093\" y=\"-623.8\" font-family=\"Helvetica,sans-Serif\" baseline-shift=\"sub\" font-size=\"14.00\" fill=\"#000000\">4</text>\n<text text-anchor=\"start\" x=\"1100\" y=\"-623.8\" font-family=\"Helvetica,sans-Serif\" font-size=\"14.00\" fill=\"#000000\"> ≤ 0.312</text>\n<text text-anchor=\"start\" x=\"1088\" y=\"-609.8\" font-family=\"Helvetica,sans-Serif\" font-size=\"14.00\" fill=\"#000000\">gini = 0.5</text>\n<text text-anchor=\"start\" x=\"1078\" y=\"-595.8\" font-family=\"Helvetica,sans-Serif\" font-size=\"14.00\" fill=\"#000000\">samples = 2</text>\n<text text-anchor=\"start\" x=\"1076\" y=\"-581.8\" font-family=\"Helvetica,sans-Serif\" font-size=\"14.00\" fill=\"#000000\">value = [1, 1]</text>\n<text text-anchor=\"start\" x=\"1088.5\" y=\"-567.8\" font-family=\"Helvetica,sans-Serif\" font-size=\"14.00\" fill=\"#000000\">class = 1</text>\n</g>\n<!-- 43&#45;&gt;45 -->\n<g id=\"edge45\" class=\"edge\">\n<title>43&#45;&gt;45</title>\n<path fill=\"none\" stroke=\"#000000\" d=\"M1114.2207,-673.7677C1114.5782,-665.6172 1114.9593,-656.9283 1115.3305,-648.4649\"/>\n<polygon fill=\"#000000\" stroke=\"#000000\" points=\"1118.8345,-648.4484 1115.7761,-638.3046 1111.8412,-648.1416 1118.8345,-648.4484\"/>\n</g>\n<!-- 46 -->\n<g id=\"node47\" class=\"node\">\n<title>46</title>\n<path fill=\"#399de5\" stroke=\"#000000\" d=\"M1097,-519C1097,-519 1022,-519 1022,-519 1016,-519 1010,-513 1010,-507 1010,-507 1010,-463 1010,-463 1010,-457 1016,-451 1022,-451 1022,-451 1097,-451 1097,-451 1103,-451 1109,-457 1109,-463 1109,-463 1109,-507 1109,-507 1109,-513 1103,-519 1097,-519\"/>\n<text text-anchor=\"start\" x=\"1030\" y=\"-503.8\" font-family=\"Helvetica,sans-Serif\" font-size=\"14.00\" fill=\"#000000\">gini = 0.0</text>\n<text text-anchor=\"start\" x=\"1020\" y=\"-488.8\" font-family=\"Helvetica,sans-Serif\" font-size=\"14.00\" fill=\"#000000\">samples = 1</text>\n<text text-anchor=\"start\" x=\"1018\" y=\"-473.8\" font-family=\"Helvetica,sans-Serif\" font-size=\"14.00\" fill=\"#000000\">value = [0, 1]</text>\n<text text-anchor=\"start\" x=\"1030.5\" y=\"-458.8\" font-family=\"Helvetica,sans-Serif\" font-size=\"14.00\" fill=\"#000000\">class = 1</text>\n</g>\n<!-- 45&#45;&gt;46 -->\n<g id=\"edge46\" class=\"edge\">\n<title>45&#45;&gt;46</title>\n<path fill=\"none\" stroke=\"#000000\" d=\"M1097.5397,-559.7677C1092.4217,-549.7082 1086.8863,-538.8283 1081.6645,-528.5648\"/>\n<polygon fill=\"#000000\" stroke=\"#000000\" points=\"1084.6322,-526.6792 1076.9781,-519.3535 1078.3933,-529.8534 1084.6322,-526.6792\"/>\n</g>\n<!-- 47 -->\n<g id=\"node48\" class=\"node\">\n<title>47</title>\n<path fill=\"#e58139\" stroke=\"#000000\" d=\"M1214,-519C1214,-519 1139,-519 1139,-519 1133,-519 1127,-513 1127,-507 1127,-507 1127,-463 1127,-463 1127,-457 1133,-451 1139,-451 1139,-451 1214,-451 1214,-451 1220,-451 1226,-457 1226,-463 1226,-463 1226,-507 1226,-507 1226,-513 1220,-519 1214,-519\"/>\n<text text-anchor=\"start\" x=\"1147\" y=\"-503.8\" font-family=\"Helvetica,sans-Serif\" font-size=\"14.00\" fill=\"#000000\">gini = 0.0</text>\n<text text-anchor=\"start\" x=\"1137\" y=\"-488.8\" font-family=\"Helvetica,sans-Serif\" font-size=\"14.00\" fill=\"#000000\">samples = 1</text>\n<text text-anchor=\"start\" x=\"1135\" y=\"-473.8\" font-family=\"Helvetica,sans-Serif\" font-size=\"14.00\" fill=\"#000000\">value = [1, 0]</text>\n<text text-anchor=\"start\" x=\"1147.5\" y=\"-458.8\" font-family=\"Helvetica,sans-Serif\" font-size=\"14.00\" fill=\"#000000\">class = 1</text>\n</g>\n<!-- 45&#45;&gt;47 -->\n<g id=\"edge47\" class=\"edge\">\n<title>45&#45;&gt;47</title>\n<path fill=\"none\" stroke=\"#000000\" d=\"M1137.8045,-559.7677C1143.0638,-549.6055 1148.7564,-538.6062 1154.1158,-528.2508\"/>\n<polygon fill=\"#000000\" stroke=\"#000000\" points=\"1157.2325,-529.8434 1158.7205,-519.3535 1151.0158,-526.6259 1157.2325,-529.8434\"/>\n</g>\n<!-- 49 -->\n<g id=\"node50\" class=\"node\">\n<title>49</title>\n<path fill=\"#399de5\" stroke=\"#000000\" d=\"M1273,-633C1273,-633 1198,-633 1198,-633 1192,-633 1186,-627 1186,-621 1186,-621 1186,-577 1186,-577 1186,-571 1192,-565 1198,-565 1198,-565 1273,-565 1273,-565 1279,-565 1285,-571 1285,-577 1285,-577 1285,-621 1285,-621 1285,-627 1279,-633 1273,-633\"/>\n<text text-anchor=\"start\" x=\"1206\" y=\"-617.8\" font-family=\"Helvetica,sans-Serif\" font-size=\"14.00\" fill=\"#000000\">gini = 0.0</text>\n<text text-anchor=\"start\" x=\"1196\" y=\"-602.8\" font-family=\"Helvetica,sans-Serif\" font-size=\"14.00\" fill=\"#000000\">samples = 2</text>\n<text text-anchor=\"start\" x=\"1194\" y=\"-587.8\" font-family=\"Helvetica,sans-Serif\" font-size=\"14.00\" fill=\"#000000\">value = [0, 2]</text>\n<text text-anchor=\"start\" x=\"1206.5\" y=\"-572.8\" font-family=\"Helvetica,sans-Serif\" font-size=\"14.00\" fill=\"#000000\">class = 1</text>\n</g>\n<!-- 48&#45;&gt;49 -->\n<g id=\"edge49\" class=\"edge\">\n<title>48&#45;&gt;49</title>\n<path fill=\"none\" stroke=\"#000000\" d=\"M1236.8117,-673.7677C1236.6406,-664.0161 1236.456,-653.4937 1236.2809,-643.509\"/>\n<polygon fill=\"#000000\" stroke=\"#000000\" points=\"1239.7777,-643.2906 1236.1027,-633.3535 1232.7787,-643.4134 1239.7777,-643.2906\"/>\n</g>\n<!-- 50 -->\n<g id=\"node51\" class=\"node\">\n<title>50</title>\n<path fill=\"#f0b58b\" stroke=\"#000000\" d=\"M1398,-638C1398,-638 1315,-638 1315,-638 1309,-638 1303,-632 1303,-626 1303,-626 1303,-572 1303,-572 1303,-566 1309,-560 1315,-560 1315,-560 1398,-560 1398,-560 1404,-560 1410,-566 1410,-572 1410,-572 1410,-626 1410,-626 1410,-632 1404,-638 1398,-638\"/>\n<text text-anchor=\"start\" x=\"1319.5\" y=\"-623.8\" font-family=\"Helvetica,sans-Serif\" font-size=\"14.00\" fill=\"#000000\">X</text>\n<text text-anchor=\"start\" x=\"1329.5\" y=\"-623.8\" font-family=\"Helvetica,sans-Serif\" baseline-shift=\"sub\" font-size=\"14.00\" fill=\"#000000\">5</text>\n<text text-anchor=\"start\" x=\"1336.5\" y=\"-623.8\" font-family=\"Helvetica,sans-Serif\" font-size=\"14.00\" fill=\"#000000\"> ≤ &#45;1.279</text>\n<text text-anchor=\"start\" x=\"1318.5\" y=\"-609.8\" font-family=\"Helvetica,sans-Serif\" font-size=\"14.00\" fill=\"#000000\">gini = 0.415</text>\n<text text-anchor=\"start\" x=\"1312.5\" y=\"-595.8\" font-family=\"Helvetica,sans-Serif\" font-size=\"14.00\" fill=\"#000000\">samples = 17</text>\n<text text-anchor=\"start\" x=\"1311\" y=\"-581.8\" font-family=\"Helvetica,sans-Serif\" font-size=\"14.00\" fill=\"#000000\">value = [12, 5]</text>\n<text text-anchor=\"start\" x=\"1327.5\" y=\"-567.8\" font-family=\"Helvetica,sans-Serif\" font-size=\"14.00\" fill=\"#000000\">class = 1</text>\n</g>\n<!-- 48&#45;&gt;50 -->\n<g id=\"edge50\" class=\"edge\">\n<title>48&#45;&gt;50</title>\n<path fill=\"none\" stroke=\"#000000\" d=\"M1278.453,-673.7677C1287.9894,-664.632 1298.232,-654.8198 1308.0576,-645.407\"/>\n<polygon fill=\"#000000\" stroke=\"#000000\" points=\"1310.6715,-647.7498 1315.4715,-638.3046 1305.8291,-642.695 1310.6715,-647.7498\"/>\n</g>\n<!-- 51 -->\n<g id=\"node52\" class=\"node\">\n<title>51</title>\n<path fill=\"#399de5\" stroke=\"#000000\" d=\"M1333,-519C1333,-519 1258,-519 1258,-519 1252,-519 1246,-513 1246,-507 1246,-507 1246,-463 1246,-463 1246,-457 1252,-451 1258,-451 1258,-451 1333,-451 1333,-451 1339,-451 1345,-457 1345,-463 1345,-463 1345,-507 1345,-507 1345,-513 1339,-519 1333,-519\"/>\n<text text-anchor=\"start\" x=\"1266\" y=\"-503.8\" font-family=\"Helvetica,sans-Serif\" font-size=\"14.00\" fill=\"#000000\">gini = 0.0</text>\n<text text-anchor=\"start\" x=\"1256\" y=\"-488.8\" font-family=\"Helvetica,sans-Serif\" font-size=\"14.00\" fill=\"#000000\">samples = 1</text>\n<text text-anchor=\"start\" x=\"1254\" y=\"-473.8\" font-family=\"Helvetica,sans-Serif\" font-size=\"14.00\" fill=\"#000000\">value = [0, 1]</text>\n<text text-anchor=\"start\" x=\"1266.5\" y=\"-458.8\" font-family=\"Helvetica,sans-Serif\" font-size=\"14.00\" fill=\"#000000\">class = 1</text>\n</g>\n<!-- 50&#45;&gt;51 -->\n<g id=\"edge51\" class=\"edge\">\n<title>50&#45;&gt;51</title>\n<path fill=\"none\" stroke=\"#000000\" d=\"M1335.5073,-559.7677C1330.0696,-549.6055 1324.184,-538.6062 1318.643,-528.2508\"/>\n<polygon fill=\"#000000\" stroke=\"#000000\" points=\"1321.6861,-526.5193 1313.8821,-519.3535 1315.5141,-529.8219 1321.6861,-526.5193\"/>\n</g>\n<!-- 52 -->\n<g id=\"node53\" class=\"node\">\n<title>52</title>\n<path fill=\"#eeab7b\" stroke=\"#000000\" d=\"M1458,-524C1458,-524 1375,-524 1375,-524 1369,-524 1363,-518 1363,-512 1363,-512 1363,-458 1363,-458 1363,-452 1369,-446 1375,-446 1375,-446 1458,-446 1458,-446 1464,-446 1470,-452 1470,-458 1470,-458 1470,-512 1470,-512 1470,-518 1464,-524 1458,-524\"/>\n<text text-anchor=\"start\" x=\"1382\" y=\"-509.8\" font-family=\"Helvetica,sans-Serif\" font-size=\"14.00\" fill=\"#000000\">X</text>\n<text text-anchor=\"start\" x=\"1392\" y=\"-509.8\" font-family=\"Helvetica,sans-Serif\" baseline-shift=\"sub\" font-size=\"14.00\" fill=\"#000000\">4</text>\n<text text-anchor=\"start\" x=\"1399\" y=\"-509.8\" font-family=\"Helvetica,sans-Serif\" font-size=\"14.00\" fill=\"#000000\"> ≤ 0.312</text>\n<text text-anchor=\"start\" x=\"1378.5\" y=\"-495.8\" font-family=\"Helvetica,sans-Serif\" font-size=\"14.00\" fill=\"#000000\">gini = 0.375</text>\n<text text-anchor=\"start\" x=\"1372.5\" y=\"-481.8\" font-family=\"Helvetica,sans-Serif\" font-size=\"14.00\" fill=\"#000000\">samples = 16</text>\n<text text-anchor=\"start\" x=\"1371\" y=\"-467.8\" font-family=\"Helvetica,sans-Serif\" font-size=\"14.00\" fill=\"#000000\">value = [12, 4]</text>\n<text text-anchor=\"start\" x=\"1387.5\" y=\"-453.8\" font-family=\"Helvetica,sans-Serif\" font-size=\"14.00\" fill=\"#000000\">class = 1</text>\n</g>\n<!-- 50&#45;&gt;52 -->\n<g id=\"edge52\" class=\"edge\">\n<title>50&#45;&gt;52</title>\n<path fill=\"none\" stroke=\"#000000\" d=\"M1377.1486,-559.7677C1381.6269,-551.259 1386.414,-542.1634 1391.0525,-533.3502\"/>\n<polygon fill=\"#000000\" stroke=\"#000000\" points=\"1394.253,-534.784 1395.8133,-524.3046 1388.0586,-531.5237 1394.253,-534.784\"/>\n</g>\n<!-- 53 -->\n<g id=\"node54\" class=\"node\">\n<title>53</title>\n<path fill=\"#e89152\" stroke=\"#000000\" d=\"M1395,-410C1395,-410 1320,-410 1320,-410 1314,-410 1308,-404 1308,-398 1308,-398 1308,-344 1308,-344 1308,-338 1314,-332 1320,-332 1320,-332 1395,-332 1395,-332 1401,-332 1407,-338 1407,-344 1407,-344 1407,-398 1407,-398 1407,-404 1401,-410 1395,-410\"/>\n<text text-anchor=\"start\" x=\"1320.5\" y=\"-395.8\" font-family=\"Helvetica,sans-Serif\" font-size=\"14.00\" fill=\"#000000\">X</text>\n<text text-anchor=\"start\" x=\"1330.5\" y=\"-395.8\" font-family=\"Helvetica,sans-Serif\" baseline-shift=\"sub\" font-size=\"14.00\" fill=\"#000000\">5</text>\n<text text-anchor=\"start\" x=\"1337.5\" y=\"-395.8\" font-family=\"Helvetica,sans-Serif\" font-size=\"14.00\" fill=\"#000000\"> ≤ &#45;0.388</text>\n<text text-anchor=\"start\" x=\"1319.5\" y=\"-381.8\" font-family=\"Helvetica,sans-Serif\" font-size=\"14.00\" fill=\"#000000\">gini = 0.198</text>\n<text text-anchor=\"start\" x=\"1318\" y=\"-367.8\" font-family=\"Helvetica,sans-Serif\" font-size=\"14.00\" fill=\"#000000\">samples = 9</text>\n<text text-anchor=\"start\" x=\"1316\" y=\"-353.8\" font-family=\"Helvetica,sans-Serif\" font-size=\"14.00\" fill=\"#000000\">value = [8, 1]</text>\n<text text-anchor=\"start\" x=\"1328.5\" y=\"-339.8\" font-family=\"Helvetica,sans-Serif\" font-size=\"14.00\" fill=\"#000000\">class = 1</text>\n</g>\n<!-- 52&#45;&gt;53 -->\n<g id=\"edge53\" class=\"edge\">\n<title>52&#45;&gt;53</title>\n<path fill=\"none\" stroke=\"#000000\" d=\"M1396.1955,-445.7677C1391.7919,-437.259 1387.0845,-428.1634 1382.5233,-419.3502\"/>\n<polygon fill=\"#000000\" stroke=\"#000000\" points=\"1385.5467,-417.577 1377.8419,-410.3046 1379.3299,-420.7945 1385.5467,-417.577\"/>\n</g>\n<!-- 58 -->\n<g id=\"node59\" class=\"node\">\n<title>58</title>\n<path fill=\"#f8e0ce\" stroke=\"#000000\" d=\"M1512,-410C1512,-410 1437,-410 1437,-410 1431,-410 1425,-404 1425,-398 1425,-398 1425,-344 1425,-344 1425,-338 1431,-332 1437,-332 1437,-332 1512,-332 1512,-332 1518,-332 1524,-338 1524,-344 1524,-344 1524,-398 1524,-398 1524,-404 1518,-410 1512,-410\"/>\n<text text-anchor=\"start\" x=\"1437.5\" y=\"-395.8\" font-family=\"Helvetica,sans-Serif\" font-size=\"14.00\" fill=\"#000000\">X</text>\n<text text-anchor=\"start\" x=\"1447.5\" y=\"-395.8\" font-family=\"Helvetica,sans-Serif\" baseline-shift=\"sub\" font-size=\"14.00\" fill=\"#000000\">0</text>\n<text text-anchor=\"start\" x=\"1454.5\" y=\"-395.8\" font-family=\"Helvetica,sans-Serif\" font-size=\"14.00\" fill=\"#000000\"> ≤ &#45;0.323</text>\n<text text-anchor=\"start\" x=\"1441\" y=\"-381.8\" font-family=\"Helvetica,sans-Serif\" font-size=\"14.00\" fill=\"#000000\">gini = 0.49</text>\n<text text-anchor=\"start\" x=\"1435\" y=\"-367.8\" font-family=\"Helvetica,sans-Serif\" font-size=\"14.00\" fill=\"#000000\">samples = 7</text>\n<text text-anchor=\"start\" x=\"1433\" y=\"-353.8\" font-family=\"Helvetica,sans-Serif\" font-size=\"14.00\" fill=\"#000000\">value = [4, 3]</text>\n<text text-anchor=\"start\" x=\"1445.5\" y=\"-339.8\" font-family=\"Helvetica,sans-Serif\" font-size=\"14.00\" fill=\"#000000\">class = 1</text>\n</g>\n<!-- 52&#45;&gt;58 -->\n<g id=\"edge58\" class=\"edge\">\n<title>52&#45;&gt;58</title>\n<path fill=\"none\" stroke=\"#000000\" d=\"M1436.4603,-445.7677C1440.7893,-437.259 1445.4169,-428.1634 1449.9008,-419.3502\"/>\n<polygon fill=\"#000000\" stroke=\"#000000\" points=\"1453.0877,-420.8046 1454.5029,-410.3046 1446.8488,-417.6303 1453.0877,-420.8046\"/>\n</g>\n<!-- 54 -->\n<g id=\"node55\" class=\"node\">\n<title>54</title>\n<path fill=\"#f2c09c\" stroke=\"#000000\" d=\"M1278,-296C1278,-296 1203,-296 1203,-296 1197,-296 1191,-290 1191,-284 1191,-284 1191,-230 1191,-230 1191,-224 1197,-218 1203,-218 1203,-218 1278,-218 1278,-218 1284,-218 1290,-224 1290,-230 1290,-230 1290,-284 1290,-284 1290,-290 1284,-296 1278,-296\"/>\n<text text-anchor=\"start\" x=\"1203.5\" y=\"-281.8\" font-family=\"Helvetica,sans-Serif\" font-size=\"14.00\" fill=\"#000000\">X</text>\n<text text-anchor=\"start\" x=\"1213.5\" y=\"-281.8\" font-family=\"Helvetica,sans-Serif\" baseline-shift=\"sub\" font-size=\"14.00\" fill=\"#000000\">5</text>\n<text text-anchor=\"start\" x=\"1220.5\" y=\"-281.8\" font-family=\"Helvetica,sans-Serif\" font-size=\"14.00\" fill=\"#000000\"> ≤ &#45;0.864</text>\n<text text-anchor=\"start\" x=\"1202.5\" y=\"-267.8\" font-family=\"Helvetica,sans-Serif\" font-size=\"14.00\" fill=\"#000000\">gini = 0.444</text>\n<text text-anchor=\"start\" x=\"1201\" y=\"-253.8\" font-family=\"Helvetica,sans-Serif\" font-size=\"14.00\" fill=\"#000000\">samples = 3</text>\n<text text-anchor=\"start\" x=\"1199\" y=\"-239.8\" font-family=\"Helvetica,sans-Serif\" font-size=\"14.00\" fill=\"#000000\">value = [2, 1]</text>\n<text text-anchor=\"start\" x=\"1211.5\" y=\"-225.8\" font-family=\"Helvetica,sans-Serif\" font-size=\"14.00\" fill=\"#000000\">class = 1</text>\n</g>\n<!-- 53&#45;&gt;54 -->\n<g id=\"edge54\" class=\"edge\">\n<title>53&#45;&gt;54</title>\n<path fill=\"none\" stroke=\"#000000\" d=\"M1317.2352,-331.7677C1307.8592,-322.632 1297.7887,-312.8198 1288.1282,-303.407\"/>\n<polygon fill=\"#000000\" stroke=\"#000000\" points=\"1290.4438,-300.7765 1280.839,-296.3046 1285.5588,-305.7901 1290.4438,-300.7765\"/>\n</g>\n<!-- 57 -->\n<g id=\"node58\" class=\"node\">\n<title>57</title>\n<path fill=\"#e58139\" stroke=\"#000000\" d=\"M1395,-291C1395,-291 1320,-291 1320,-291 1314,-291 1308,-285 1308,-279 1308,-279 1308,-235 1308,-235 1308,-229 1314,-223 1320,-223 1320,-223 1395,-223 1395,-223 1401,-223 1407,-229 1407,-235 1407,-235 1407,-279 1407,-279 1407,-285 1401,-291 1395,-291\"/>\n<text text-anchor=\"start\" x=\"1328\" y=\"-275.8\" font-family=\"Helvetica,sans-Serif\" font-size=\"14.00\" fill=\"#000000\">gini = 0.0</text>\n<text text-anchor=\"start\" x=\"1318\" y=\"-260.8\" font-family=\"Helvetica,sans-Serif\" font-size=\"14.00\" fill=\"#000000\">samples = 6</text>\n<text text-anchor=\"start\" x=\"1316\" y=\"-245.8\" font-family=\"Helvetica,sans-Serif\" font-size=\"14.00\" fill=\"#000000\">value = [6, 0]</text>\n<text text-anchor=\"start\" x=\"1328.5\" y=\"-230.8\" font-family=\"Helvetica,sans-Serif\" font-size=\"14.00\" fill=\"#000000\">class = 1</text>\n</g>\n<!-- 53&#45;&gt;57 -->\n<g id=\"edge57\" class=\"edge\">\n<title>53&#45;&gt;57</title>\n<path fill=\"none\" stroke=\"#000000\" d=\"M1357.5,-331.7677C1357.5,-322.0161 1357.5,-311.4937 1357.5,-301.509\"/>\n<polygon fill=\"#000000\" stroke=\"#000000\" points=\"1361.0001,-301.3535 1357.5,-291.3535 1354.0001,-301.3536 1361.0001,-301.3535\"/>\n</g>\n<!-- 55 -->\n<g id=\"node56\" class=\"node\">\n<title>55</title>\n<path fill=\"#e58139\" stroke=\"#000000\" d=\"M1191,-177C1191,-177 1116,-177 1116,-177 1110,-177 1104,-171 1104,-165 1104,-165 1104,-121 1104,-121 1104,-115 1110,-109 1116,-109 1116,-109 1191,-109 1191,-109 1197,-109 1203,-115 1203,-121 1203,-121 1203,-165 1203,-165 1203,-171 1197,-177 1191,-177\"/>\n<text text-anchor=\"start\" x=\"1124\" y=\"-161.8\" font-family=\"Helvetica,sans-Serif\" font-size=\"14.00\" fill=\"#000000\">gini = 0.0</text>\n<text text-anchor=\"start\" x=\"1114\" y=\"-146.8\" font-family=\"Helvetica,sans-Serif\" font-size=\"14.00\" fill=\"#000000\">samples = 2</text>\n<text text-anchor=\"start\" x=\"1112\" y=\"-131.8\" font-family=\"Helvetica,sans-Serif\" font-size=\"14.00\" fill=\"#000000\">value = [2, 0]</text>\n<text text-anchor=\"start\" x=\"1124.5\" y=\"-116.8\" font-family=\"Helvetica,sans-Serif\" font-size=\"14.00\" fill=\"#000000\">class = 1</text>\n</g>\n<!-- 54&#45;&gt;55 -->\n<g id=\"edge55\" class=\"edge\">\n<title>54&#45;&gt;55</title>\n<path fill=\"none\" stroke=\"#000000\" d=\"M1210.5595,-217.7677C1202.5692,-207.2976 1193.9007,-195.9388 1185.7901,-185.3112\"/>\n<polygon fill=\"#000000\" stroke=\"#000000\" points=\"1188.5663,-183.1797 1179.7172,-177.3535 1183.0016,-187.4264 1188.5663,-183.1797\"/>\n</g>\n<!-- 56 -->\n<g id=\"node57\" class=\"node\">\n<title>56</title>\n<path fill=\"#399de5\" stroke=\"#000000\" d=\"M1308,-177C1308,-177 1233,-177 1233,-177 1227,-177 1221,-171 1221,-165 1221,-165 1221,-121 1221,-121 1221,-115 1227,-109 1233,-109 1233,-109 1308,-109 1308,-109 1314,-109 1320,-115 1320,-121 1320,-121 1320,-165 1320,-165 1320,-171 1314,-177 1308,-177\"/>\n<text text-anchor=\"start\" x=\"1241\" y=\"-161.8\" font-family=\"Helvetica,sans-Serif\" font-size=\"14.00\" fill=\"#000000\">gini = 0.0</text>\n<text text-anchor=\"start\" x=\"1231\" y=\"-146.8\" font-family=\"Helvetica,sans-Serif\" font-size=\"14.00\" fill=\"#000000\">samples = 1</text>\n<text text-anchor=\"start\" x=\"1229\" y=\"-131.8\" font-family=\"Helvetica,sans-Serif\" font-size=\"14.00\" fill=\"#000000\">value = [0, 1]</text>\n<text text-anchor=\"start\" x=\"1241.5\" y=\"-116.8\" font-family=\"Helvetica,sans-Serif\" font-size=\"14.00\" fill=\"#000000\">class = 1</text>\n</g>\n<!-- 54&#45;&gt;56 -->\n<g id=\"edge56\" class=\"edge\">\n<title>54&#45;&gt;56</title>\n<path fill=\"none\" stroke=\"#000000\" d=\"M1250.8243,-217.7677C1253.4175,-207.9135 1256.2179,-197.2721 1258.87,-187.1939\"/>\n<polygon fill=\"#000000\" stroke=\"#000000\" points=\"1262.2994,-187.915 1261.4596,-177.3535 1255.5298,-186.1335 1262.2994,-187.915\"/>\n</g>\n<!-- 59 -->\n<g id=\"node60\" class=\"node\">\n<title>59</title>\n<path fill=\"#eca06a\" stroke=\"#000000\" d=\"M1512,-296C1512,-296 1437,-296 1437,-296 1431,-296 1425,-290 1425,-284 1425,-284 1425,-230 1425,-230 1425,-224 1431,-218 1437,-218 1437,-218 1512,-218 1512,-218 1518,-218 1524,-224 1524,-230 1524,-230 1524,-284 1524,-284 1524,-290 1518,-296 1512,-296\"/>\n<text text-anchor=\"start\" x=\"1437.5\" y=\"-281.8\" font-family=\"Helvetica,sans-Serif\" font-size=\"14.00\" fill=\"#000000\">X</text>\n<text text-anchor=\"start\" x=\"1447.5\" y=\"-281.8\" font-family=\"Helvetica,sans-Serif\" baseline-shift=\"sub\" font-size=\"14.00\" fill=\"#000000\">0</text>\n<text text-anchor=\"start\" x=\"1454.5\" y=\"-281.8\" font-family=\"Helvetica,sans-Serif\" font-size=\"14.00\" fill=\"#000000\"> ≤ &#45;0.828</text>\n<text text-anchor=\"start\" x=\"1441\" y=\"-267.8\" font-family=\"Helvetica,sans-Serif\" font-size=\"14.00\" fill=\"#000000\">gini = 0.32</text>\n<text text-anchor=\"start\" x=\"1435\" y=\"-253.8\" font-family=\"Helvetica,sans-Serif\" font-size=\"14.00\" fill=\"#000000\">samples = 5</text>\n<text text-anchor=\"start\" x=\"1433\" y=\"-239.8\" font-family=\"Helvetica,sans-Serif\" font-size=\"14.00\" fill=\"#000000\">value = [4, 1]</text>\n<text text-anchor=\"start\" x=\"1445.5\" y=\"-225.8\" font-family=\"Helvetica,sans-Serif\" font-size=\"14.00\" fill=\"#000000\">class = 1</text>\n</g>\n<!-- 58&#45;&gt;59 -->\n<g id=\"edge59\" class=\"edge\">\n<title>58&#45;&gt;59</title>\n<path fill=\"none\" stroke=\"#000000\" d=\"M1474.5,-331.7677C1474.5,-323.6172 1474.5,-314.9283 1474.5,-306.4649\"/>\n<polygon fill=\"#000000\" stroke=\"#000000\" points=\"1478.0001,-306.3046 1474.5,-296.3046 1471.0001,-306.3047 1478.0001,-306.3046\"/>\n</g>\n<!-- 64 -->\n<g id=\"node65\" class=\"node\">\n<title>64</title>\n<path fill=\"#399de5\" stroke=\"#000000\" d=\"M1629,-291C1629,-291 1554,-291 1554,-291 1548,-291 1542,-285 1542,-279 1542,-279 1542,-235 1542,-235 1542,-229 1548,-223 1554,-223 1554,-223 1629,-223 1629,-223 1635,-223 1641,-229 1641,-235 1641,-235 1641,-279 1641,-279 1641,-285 1635,-291 1629,-291\"/>\n<text text-anchor=\"start\" x=\"1562\" y=\"-275.8\" font-family=\"Helvetica,sans-Serif\" font-size=\"14.00\" fill=\"#000000\">gini = 0.0</text>\n<text text-anchor=\"start\" x=\"1552\" y=\"-260.8\" font-family=\"Helvetica,sans-Serif\" font-size=\"14.00\" fill=\"#000000\">samples = 2</text>\n<text text-anchor=\"start\" x=\"1550\" y=\"-245.8\" font-family=\"Helvetica,sans-Serif\" font-size=\"14.00\" fill=\"#000000\">value = [0, 2]</text>\n<text text-anchor=\"start\" x=\"1562.5\" y=\"-230.8\" font-family=\"Helvetica,sans-Serif\" font-size=\"14.00\" fill=\"#000000\">class = 1</text>\n</g>\n<!-- 58&#45;&gt;64 -->\n<g id=\"edge64\" class=\"edge\">\n<title>58&#45;&gt;64</title>\n<path fill=\"none\" stroke=\"#000000\" d=\"M1514.7648,-331.7677C1525.8264,-320.9896 1537.8546,-309.2699 1549.0358,-298.3754\"/>\n<polygon fill=\"#000000\" stroke=\"#000000\" points=\"1551.5227,-300.839 1556.2424,-291.3535 1546.6376,-295.8254 1551.5227,-300.839\"/>\n</g>\n<!-- 60 -->\n<g id=\"node61\" class=\"node\">\n<title>60</title>\n<path fill=\"#ffffff\" stroke=\"#000000\" d=\"M1483,-182C1483,-182 1408,-182 1408,-182 1402,-182 1396,-176 1396,-170 1396,-170 1396,-116 1396,-116 1396,-110 1402,-104 1408,-104 1408,-104 1483,-104 1483,-104 1489,-104 1495,-110 1495,-116 1495,-116 1495,-170 1495,-170 1495,-176 1489,-182 1483,-182\"/>\n<text text-anchor=\"start\" x=\"1411\" y=\"-167.8\" font-family=\"Helvetica,sans-Serif\" font-size=\"14.00\" fill=\"#000000\">X</text>\n<text text-anchor=\"start\" x=\"1421\" y=\"-167.8\" font-family=\"Helvetica,sans-Serif\" baseline-shift=\"sub\" font-size=\"14.00\" fill=\"#000000\">5</text>\n<text text-anchor=\"start\" x=\"1428\" y=\"-167.8\" font-family=\"Helvetica,sans-Serif\" font-size=\"14.00\" fill=\"#000000\"> ≤ 0.365</text>\n<text text-anchor=\"start\" x=\"1416\" y=\"-153.8\" font-family=\"Helvetica,sans-Serif\" font-size=\"14.00\" fill=\"#000000\">gini = 0.5</text>\n<text text-anchor=\"start\" x=\"1406\" y=\"-139.8\" font-family=\"Helvetica,sans-Serif\" font-size=\"14.00\" fill=\"#000000\">samples = 2</text>\n<text text-anchor=\"start\" x=\"1404\" y=\"-125.8\" font-family=\"Helvetica,sans-Serif\" font-size=\"14.00\" fill=\"#000000\">value = [1, 1]</text>\n<text text-anchor=\"start\" x=\"1416.5\" y=\"-111.8\" font-family=\"Helvetica,sans-Serif\" font-size=\"14.00\" fill=\"#000000\">class = 1</text>\n</g>\n<!-- 59&#45;&gt;60 -->\n<g id=\"edge60\" class=\"edge\">\n<title>59&#45;&gt;60</title>\n<path fill=\"none\" stroke=\"#000000\" d=\"M1464.5198,-217.7677C1462.4237,-209.5277 1460.1875,-200.7372 1458.0122,-192.1859\"/>\n<polygon fill=\"#000000\" stroke=\"#000000\" points=\"1461.3559,-191.1331 1455.4986,-182.3046 1454.572,-192.8589 1461.3559,-191.1331\"/>\n</g>\n<!-- 63 -->\n<g id=\"node64\" class=\"node\">\n<title>63</title>\n<path fill=\"#e58139\" stroke=\"#000000\" d=\"M1600,-177C1600,-177 1525,-177 1525,-177 1519,-177 1513,-171 1513,-165 1513,-165 1513,-121 1513,-121 1513,-115 1519,-109 1525,-109 1525,-109 1600,-109 1600,-109 1606,-109 1612,-115 1612,-121 1612,-121 1612,-165 1612,-165 1612,-171 1606,-177 1600,-177\"/>\n<text text-anchor=\"start\" x=\"1533\" y=\"-161.8\" font-family=\"Helvetica,sans-Serif\" font-size=\"14.00\" fill=\"#000000\">gini = 0.0</text>\n<text text-anchor=\"start\" x=\"1523\" y=\"-146.8\" font-family=\"Helvetica,sans-Serif\" font-size=\"14.00\" fill=\"#000000\">samples = 3</text>\n<text text-anchor=\"start\" x=\"1521\" y=\"-131.8\" font-family=\"Helvetica,sans-Serif\" font-size=\"14.00\" fill=\"#000000\">value = [3, 0]</text>\n<text text-anchor=\"start\" x=\"1533.5\" y=\"-116.8\" font-family=\"Helvetica,sans-Serif\" font-size=\"14.00\" fill=\"#000000\">class = 1</text>\n</g>\n<!-- 59&#45;&gt;63 -->\n<g id=\"edge63\" class=\"edge\">\n<title>59&#45;&gt;63</title>\n<path fill=\"none\" stroke=\"#000000\" d=\"M1504.7846,-217.7677C1512.8668,-207.2976 1521.6349,-195.9388 1529.8387,-185.3112\"/>\n<polygon fill=\"#000000\" stroke=\"#000000\" points=\"1532.6415,-187.4081 1535.9815,-177.3535 1527.1004,-183.1307 1532.6415,-187.4081\"/>\n</g>\n<!-- 61 -->\n<g id=\"node62\" class=\"node\">\n<title>61</title>\n<path fill=\"#e58139\" stroke=\"#000000\" d=\"M1424,-68C1424,-68 1349,-68 1349,-68 1343,-68 1337,-62 1337,-56 1337,-56 1337,-12 1337,-12 1337,-6 1343,0 1349,0 1349,0 1424,0 1424,0 1430,0 1436,-6 1436,-12 1436,-12 1436,-56 1436,-56 1436,-62 1430,-68 1424,-68\"/>\n<text text-anchor=\"start\" x=\"1357\" y=\"-52.8\" font-family=\"Helvetica,sans-Serif\" font-size=\"14.00\" fill=\"#000000\">gini = 0.0</text>\n<text text-anchor=\"start\" x=\"1347\" y=\"-37.8\" font-family=\"Helvetica,sans-Serif\" font-size=\"14.00\" fill=\"#000000\">samples = 1</text>\n<text text-anchor=\"start\" x=\"1345\" y=\"-22.8\" font-family=\"Helvetica,sans-Serif\" font-size=\"14.00\" fill=\"#000000\">value = [1, 0]</text>\n<text text-anchor=\"start\" x=\"1357.5\" y=\"-7.8\" font-family=\"Helvetica,sans-Serif\" font-size=\"14.00\" fill=\"#000000\">class = 1</text>\n</g>\n<!-- 60&#45;&gt;61 -->\n<g id=\"edge61\" class=\"edge\">\n<title>60&#45;&gt;61</title>\n<path fill=\"none\" stroke=\"#000000\" d=\"M1424.3663,-103.9564C1419.6545,-95.2515 1414.6323,-85.9732 1409.8374,-77.1148\"/>\n<polygon fill=\"#000000\" stroke=\"#000000\" points=\"1412.7838,-75.2055 1404.9455,-68.0772 1406.6277,-78.5377 1412.7838,-75.2055\"/>\n</g>\n<!-- 62 -->\n<g id=\"node63\" class=\"node\">\n<title>62</title>\n<path fill=\"#399de5\" stroke=\"#000000\" d=\"M1541,-68C1541,-68 1466,-68 1466,-68 1460,-68 1454,-62 1454,-56 1454,-56 1454,-12 1454,-12 1454,-6 1460,0 1466,0 1466,0 1541,0 1541,0 1547,0 1553,-6 1553,-12 1553,-12 1553,-56 1553,-56 1553,-62 1547,-68 1541,-68\"/>\n<text text-anchor=\"start\" x=\"1474\" y=\"-52.8\" font-family=\"Helvetica,sans-Serif\" font-size=\"14.00\" fill=\"#000000\">gini = 0.0</text>\n<text text-anchor=\"start\" x=\"1464\" y=\"-37.8\" font-family=\"Helvetica,sans-Serif\" font-size=\"14.00\" fill=\"#000000\">samples = 1</text>\n<text text-anchor=\"start\" x=\"1462\" y=\"-22.8\" font-family=\"Helvetica,sans-Serif\" font-size=\"14.00\" fill=\"#000000\">value = [0, 1]</text>\n<text text-anchor=\"start\" x=\"1474.5\" y=\"-7.8\" font-family=\"Helvetica,sans-Serif\" font-size=\"14.00\" fill=\"#000000\">class = 1</text>\n</g>\n<!-- 60&#45;&gt;62 -->\n<g id=\"edge62\" class=\"edge\">\n<title>60&#45;&gt;62</title>\n<path fill=\"none\" stroke=\"#000000\" d=\"M1466.2755,-103.9564C1470.9074,-95.2515 1475.8446,-85.9732 1480.5582,-77.1148\"/>\n<polygon fill=\"#000000\" stroke=\"#000000\" points=\"1483.7594,-78.5494 1485.3672,-68.0772 1477.5798,-75.2611 1483.7594,-78.5494\"/>\n</g>\n<!-- 66 -->\n<g id=\"node67\" class=\"node\">\n<title>66</title>\n<path fill=\"#399de5\" stroke=\"#000000\" d=\"M1396,-747C1396,-747 1321,-747 1321,-747 1315,-747 1309,-741 1309,-735 1309,-735 1309,-691 1309,-691 1309,-685 1315,-679 1321,-679 1321,-679 1396,-679 1396,-679 1402,-679 1408,-685 1408,-691 1408,-691 1408,-735 1408,-735 1408,-741 1402,-747 1396,-747\"/>\n<text text-anchor=\"start\" x=\"1329\" y=\"-731.8\" font-family=\"Helvetica,sans-Serif\" font-size=\"14.00\" fill=\"#000000\">gini = 0.0</text>\n<text text-anchor=\"start\" x=\"1319\" y=\"-716.8\" font-family=\"Helvetica,sans-Serif\" font-size=\"14.00\" fill=\"#000000\">samples = 3</text>\n<text text-anchor=\"start\" x=\"1317\" y=\"-701.8\" font-family=\"Helvetica,sans-Serif\" font-size=\"14.00\" fill=\"#000000\">value = [0, 3]</text>\n<text text-anchor=\"start\" x=\"1329.5\" y=\"-686.8\" font-family=\"Helvetica,sans-Serif\" font-size=\"14.00\" fill=\"#000000\">class = 1</text>\n</g>\n<!-- 65&#45;&gt;66 -->\n<g id=\"edge66\" class=\"edge\">\n<title>65&#45;&gt;66</title>\n<path fill=\"none\" stroke=\"#000000\" d=\"M1358.5,-787.7677C1358.5,-778.0161 1358.5,-767.4937 1358.5,-757.509\"/>\n<polygon fill=\"#000000\" stroke=\"#000000\" points=\"1362.0001,-757.3535 1358.5,-747.3535 1355.0001,-757.3536 1362.0001,-757.3535\"/>\n</g>\n<!-- 67 -->\n<g id=\"node68\" class=\"node\">\n<title>67</title>\n<path fill=\"#e58139\" stroke=\"#000000\" d=\"M1513,-747C1513,-747 1438,-747 1438,-747 1432,-747 1426,-741 1426,-735 1426,-735 1426,-691 1426,-691 1426,-685 1432,-679 1438,-679 1438,-679 1513,-679 1513,-679 1519,-679 1525,-685 1525,-691 1525,-691 1525,-735 1525,-735 1525,-741 1519,-747 1513,-747\"/>\n<text text-anchor=\"start\" x=\"1446\" y=\"-731.8\" font-family=\"Helvetica,sans-Serif\" font-size=\"14.00\" fill=\"#000000\">gini = 0.0</text>\n<text text-anchor=\"start\" x=\"1436\" y=\"-716.8\" font-family=\"Helvetica,sans-Serif\" font-size=\"14.00\" fill=\"#000000\">samples = 3</text>\n<text text-anchor=\"start\" x=\"1434\" y=\"-701.8\" font-family=\"Helvetica,sans-Serif\" font-size=\"14.00\" fill=\"#000000\">value = [3, 0]</text>\n<text text-anchor=\"start\" x=\"1446.5\" y=\"-686.8\" font-family=\"Helvetica,sans-Serif\" font-size=\"14.00\" fill=\"#000000\">class = 1</text>\n</g>\n<!-- 65&#45;&gt;67 -->\n<g id=\"edge67\" class=\"edge\">\n<title>65&#45;&gt;67</title>\n<path fill=\"none\" stroke=\"#000000\" d=\"M1398.7648,-787.7677C1409.8264,-776.9896 1421.8546,-765.2699 1433.0358,-754.3754\"/>\n<polygon fill=\"#000000\" stroke=\"#000000\" points=\"1435.5227,-756.839 1440.2424,-747.3535 1430.6376,-751.8254 1435.5227,-756.839\"/>\n</g>\n<!-- 71 -->\n<g id=\"node72\" class=\"node\">\n<title>71</title>\n<path fill=\"#ea9a61\" stroke=\"#000000\" d=\"M1513,-1436C1513,-1436 1430,-1436 1430,-1436 1424,-1436 1418,-1430 1418,-1424 1418,-1424 1418,-1370 1418,-1370 1418,-1364 1424,-1358 1430,-1358 1430,-1358 1513,-1358 1513,-1358 1519,-1358 1525,-1364 1525,-1370 1525,-1370 1525,-1424 1525,-1424 1525,-1430 1519,-1436 1513,-1436\"/>\n<text text-anchor=\"start\" x=\"1434.5\" y=\"-1421.8\" font-family=\"Helvetica,sans-Serif\" font-size=\"14.00\" fill=\"#000000\">X</text>\n<text text-anchor=\"start\" x=\"1444.5\" y=\"-1421.8\" font-family=\"Helvetica,sans-Serif\" baseline-shift=\"sub\" font-size=\"14.00\" fill=\"#000000\">5</text>\n<text text-anchor=\"start\" x=\"1451.5\" y=\"-1421.8\" font-family=\"Helvetica,sans-Serif\" font-size=\"14.00\" fill=\"#000000\"> ≤ &#45;1.371</text>\n<text text-anchor=\"start\" x=\"1433.5\" y=\"-1407.8\" font-family=\"Helvetica,sans-Serif\" font-size=\"14.00\" fill=\"#000000\">gini = 0.278</text>\n<text text-anchor=\"start\" x=\"1427.5\" y=\"-1393.8\" font-family=\"Helvetica,sans-Serif\" font-size=\"14.00\" fill=\"#000000\">samples = 36</text>\n<text text-anchor=\"start\" x=\"1426\" y=\"-1379.8\" font-family=\"Helvetica,sans-Serif\" font-size=\"14.00\" fill=\"#000000\">value = [30, 6]</text>\n<text text-anchor=\"start\" x=\"1442.5\" y=\"-1365.8\" font-family=\"Helvetica,sans-Serif\" font-size=\"14.00\" fill=\"#000000\">class = 1</text>\n</g>\n<!-- 70&#45;&gt;71 -->\n<g id=\"edge71\" class=\"edge\">\n<title>70&#45;&gt;71</title>\n<path fill=\"none\" stroke=\"#000000\" d=\"M1473.4676,-1471.7677C1473.2531,-1463.6172 1473.0244,-1454.9283 1472.8017,-1446.4649\"/>\n<polygon fill=\"#000000\" stroke=\"#000000\" points=\"1476.2963,-1446.2091 1472.5343,-1436.3046 1469.2987,-1446.3933 1476.2963,-1446.2091\"/>\n</g>\n<!-- 84 -->\n<g id=\"node85\" class=\"node\">\n<title>84</title>\n<path fill=\"#fdf7f2\" stroke=\"#000000\" d=\"M1647.5,-1436C1647.5,-1436 1555.5,-1436 1555.5,-1436 1549.5,-1436 1543.5,-1430 1543.5,-1424 1543.5,-1424 1543.5,-1370 1543.5,-1370 1543.5,-1364 1549.5,-1358 1555.5,-1358 1555.5,-1358 1647.5,-1358 1647.5,-1358 1653.5,-1358 1659.5,-1364 1659.5,-1370 1659.5,-1370 1659.5,-1424 1659.5,-1424 1659.5,-1430 1653.5,-1436 1647.5,-1436\"/>\n<text text-anchor=\"start\" x=\"1564.5\" y=\"-1421.8\" font-family=\"Helvetica,sans-Serif\" font-size=\"14.00\" fill=\"#000000\">X</text>\n<text text-anchor=\"start\" x=\"1574.5\" y=\"-1421.8\" font-family=\"Helvetica,sans-Serif\" baseline-shift=\"sub\" font-size=\"14.00\" fill=\"#000000\">2</text>\n<text text-anchor=\"start\" x=\"1581.5\" y=\"-1421.8\" font-family=\"Helvetica,sans-Serif\" font-size=\"14.00\" fill=\"#000000\"> ≤ &#45;0.492</text>\n<text text-anchor=\"start\" x=\"1563.5\" y=\"-1407.8\" font-family=\"Helvetica,sans-Serif\" font-size=\"14.00\" fill=\"#000000\">gini = 0.499</text>\n<text text-anchor=\"start\" x=\"1557.5\" y=\"-1393.8\" font-family=\"Helvetica,sans-Serif\" font-size=\"14.00\" fill=\"#000000\">samples = 29</text>\n<text text-anchor=\"start\" x=\"1551.5\" y=\"-1379.8\" font-family=\"Helvetica,sans-Serif\" font-size=\"14.00\" fill=\"#000000\">value = [15, 14]</text>\n<text text-anchor=\"start\" x=\"1572.5\" y=\"-1365.8\" font-family=\"Helvetica,sans-Serif\" font-size=\"14.00\" fill=\"#000000\">class = 1</text>\n</g>\n<!-- 70&#45;&gt;84 -->\n<g id=\"edge84\" class=\"edge\">\n<title>70&#45;&gt;84</title>\n<path fill=\"none\" stroke=\"#000000\" d=\"M1518.2062,-1471.7677C1528.4834,-1462.5424 1539.5292,-1452.6273 1550.1093,-1443.1302\"/>\n<polygon fill=\"#000000\" stroke=\"#000000\" points=\"1552.6095,-1445.5892 1557.7132,-1436.3046 1547.9336,-1440.38 1552.6095,-1445.5892\"/>\n</g>\n<!-- 72 -->\n<g id=\"node73\" class=\"node\">\n<title>72</title>\n<path fill=\"#399de5\" stroke=\"#000000\" d=\"M1394,-1317C1394,-1317 1319,-1317 1319,-1317 1313,-1317 1307,-1311 1307,-1305 1307,-1305 1307,-1261 1307,-1261 1307,-1255 1313,-1249 1319,-1249 1319,-1249 1394,-1249 1394,-1249 1400,-1249 1406,-1255 1406,-1261 1406,-1261 1406,-1305 1406,-1305 1406,-1311 1400,-1317 1394,-1317\"/>\n<text text-anchor=\"start\" x=\"1327\" y=\"-1301.8\" font-family=\"Helvetica,sans-Serif\" font-size=\"14.00\" fill=\"#000000\">gini = 0.0</text>\n<text text-anchor=\"start\" x=\"1317\" y=\"-1286.8\" font-family=\"Helvetica,sans-Serif\" font-size=\"14.00\" fill=\"#000000\">samples = 2</text>\n<text text-anchor=\"start\" x=\"1315\" y=\"-1271.8\" font-family=\"Helvetica,sans-Serif\" font-size=\"14.00\" fill=\"#000000\">value = [0, 2]</text>\n<text text-anchor=\"start\" x=\"1327.5\" y=\"-1256.8\" font-family=\"Helvetica,sans-Serif\" font-size=\"14.00\" fill=\"#000000\">class = 1</text>\n</g>\n<!-- 71&#45;&gt;72 -->\n<g id=\"edge72\" class=\"edge\">\n<title>71&#45;&gt;72</title>\n<path fill=\"none\" stroke=\"#000000\" d=\"M1431.9235,-1357.7677C1421.1545,-1347.0923 1409.4535,-1335.493 1398.5526,-1324.6869\"/>\n<polygon fill=\"#000000\" stroke=\"#000000\" points=\"1400.7208,-1321.908 1391.1549,-1317.3535 1395.7927,-1326.8793 1400.7208,-1321.908\"/>\n</g>\n<!-- 73 -->\n<g id=\"node74\" class=\"node\">\n<title>73</title>\n<path fill=\"#e89253\" stroke=\"#000000\" d=\"M1519,-1322C1519,-1322 1436,-1322 1436,-1322 1430,-1322 1424,-1316 1424,-1310 1424,-1310 1424,-1256 1424,-1256 1424,-1250 1430,-1244 1436,-1244 1436,-1244 1519,-1244 1519,-1244 1525,-1244 1531,-1250 1531,-1256 1531,-1256 1531,-1310 1531,-1310 1531,-1316 1525,-1322 1519,-1322\"/>\n<text text-anchor=\"start\" x=\"1440.5\" y=\"-1307.8\" font-family=\"Helvetica,sans-Serif\" font-size=\"14.00\" fill=\"#000000\">X</text>\n<text text-anchor=\"start\" x=\"1450.5\" y=\"-1307.8\" font-family=\"Helvetica,sans-Serif\" baseline-shift=\"sub\" font-size=\"14.00\" fill=\"#000000\">0</text>\n<text text-anchor=\"start\" x=\"1457.5\" y=\"-1307.8\" font-family=\"Helvetica,sans-Serif\" font-size=\"14.00\" fill=\"#000000\"> ≤ &#45;1.544</text>\n<text text-anchor=\"start\" x=\"1439.5\" y=\"-1293.8\" font-family=\"Helvetica,sans-Serif\" font-size=\"14.00\" fill=\"#000000\">gini = 0.208</text>\n<text text-anchor=\"start\" x=\"1433.5\" y=\"-1279.8\" font-family=\"Helvetica,sans-Serif\" font-size=\"14.00\" fill=\"#000000\">samples = 34</text>\n<text text-anchor=\"start\" x=\"1432\" y=\"-1265.8\" font-family=\"Helvetica,sans-Serif\" font-size=\"14.00\" fill=\"#000000\">value = [30, 4]</text>\n<text text-anchor=\"start\" x=\"1448.5\" y=\"-1251.8\" font-family=\"Helvetica,sans-Serif\" font-size=\"14.00\" fill=\"#000000\">class = 1</text>\n</g>\n<!-- 71&#45;&gt;73 -->\n<g id=\"edge73\" class=\"edge\">\n<title>71&#45;&gt;73</title>\n<path fill=\"none\" stroke=\"#000000\" d=\"M1473.5649,-1357.7677C1473.9938,-1349.6172 1474.4511,-1340.9283 1474.8966,-1332.4649\"/>\n<polygon fill=\"#000000\" stroke=\"#000000\" points=\"1478.4008,-1332.4748 1475.4313,-1322.3046 1471.4105,-1332.1068 1478.4008,-1332.4748\"/>\n</g>\n<!-- 74 -->\n<g id=\"node75\" class=\"node\">\n<title>74</title>\n<path fill=\"#399de5\" stroke=\"#000000\" d=\"M1515,-1203C1515,-1203 1440,-1203 1440,-1203 1434,-1203 1428,-1197 1428,-1191 1428,-1191 1428,-1147 1428,-1147 1428,-1141 1434,-1135 1440,-1135 1440,-1135 1515,-1135 1515,-1135 1521,-1135 1527,-1141 1527,-1147 1527,-1147 1527,-1191 1527,-1191 1527,-1197 1521,-1203 1515,-1203\"/>\n<text text-anchor=\"start\" x=\"1448\" y=\"-1187.8\" font-family=\"Helvetica,sans-Serif\" font-size=\"14.00\" fill=\"#000000\">gini = 0.0</text>\n<text text-anchor=\"start\" x=\"1438\" y=\"-1172.8\" font-family=\"Helvetica,sans-Serif\" font-size=\"14.00\" fill=\"#000000\">samples = 1</text>\n<text text-anchor=\"start\" x=\"1436\" y=\"-1157.8\" font-family=\"Helvetica,sans-Serif\" font-size=\"14.00\" fill=\"#000000\">value = [0, 1]</text>\n<text text-anchor=\"start\" x=\"1448.5\" y=\"-1142.8\" font-family=\"Helvetica,sans-Serif\" font-size=\"14.00\" fill=\"#000000\">class = 1</text>\n</g>\n<!-- 73&#45;&gt;74 -->\n<g id=\"edge74\" class=\"edge\">\n<title>73&#45;&gt;74</title>\n<path fill=\"none\" stroke=\"#000000\" d=\"M1477.5,-1243.7677C1477.5,-1234.0161 1477.5,-1223.4937 1477.5,-1213.509\"/>\n<polygon fill=\"#000000\" stroke=\"#000000\" points=\"1481.0001,-1213.3535 1477.5,-1203.3535 1474.0001,-1213.3536 1481.0001,-1213.3535\"/>\n</g>\n<!-- 75 -->\n<g id=\"node76\" class=\"node\">\n<title>75</title>\n<path fill=\"#e88e4d\" stroke=\"#000000\" d=\"M1640,-1208C1640,-1208 1557,-1208 1557,-1208 1551,-1208 1545,-1202 1545,-1196 1545,-1196 1545,-1142 1545,-1142 1545,-1136 1551,-1130 1557,-1130 1557,-1130 1640,-1130 1640,-1130 1646,-1130 1652,-1136 1652,-1142 1652,-1142 1652,-1196 1652,-1196 1652,-1202 1646,-1208 1640,-1208\"/>\n<text text-anchor=\"start\" x=\"1564\" y=\"-1193.8\" font-family=\"Helvetica,sans-Serif\" font-size=\"14.00\" fill=\"#000000\">X</text>\n<text text-anchor=\"start\" x=\"1574\" y=\"-1193.8\" font-family=\"Helvetica,sans-Serif\" baseline-shift=\"sub\" font-size=\"14.00\" fill=\"#000000\">5</text>\n<text text-anchor=\"start\" x=\"1581\" y=\"-1193.8\" font-family=\"Helvetica,sans-Serif\" font-size=\"14.00\" fill=\"#000000\"> ≤ 1.015</text>\n<text text-anchor=\"start\" x=\"1560.5\" y=\"-1179.8\" font-family=\"Helvetica,sans-Serif\" font-size=\"14.00\" fill=\"#000000\">gini = 0.165</text>\n<text text-anchor=\"start\" x=\"1554.5\" y=\"-1165.8\" font-family=\"Helvetica,sans-Serif\" font-size=\"14.00\" fill=\"#000000\">samples = 33</text>\n<text text-anchor=\"start\" x=\"1553\" y=\"-1151.8\" font-family=\"Helvetica,sans-Serif\" font-size=\"14.00\" fill=\"#000000\">value = [30, 3]</text>\n<text text-anchor=\"start\" x=\"1569.5\" y=\"-1137.8\" font-family=\"Helvetica,sans-Serif\" font-size=\"14.00\" fill=\"#000000\">class = 1</text>\n</g>\n<!-- 73&#45;&gt;75 -->\n<g id=\"edge75\" class=\"edge\">\n<title>73&#45;&gt;75</title>\n<path fill=\"none\" stroke=\"#000000\" d=\"M1519.1413,-1243.7677C1528.838,-1234.632 1539.2527,-1224.8198 1549.2435,-1215.407\"/>\n<polygon fill=\"#000000\" stroke=\"#000000\" points=\"1551.9035,-1217.7096 1556.7819,-1208.3046 1547.1033,-1212.6146 1551.9035,-1217.7096\"/>\n</g>\n<!-- 76 -->\n<g id=\"node77\" class=\"node\">\n<title>76</title>\n<path fill=\"#e68640\" stroke=\"#000000\" d=\"M1640,-1094C1640,-1094 1557,-1094 1557,-1094 1551,-1094 1545,-1088 1545,-1082 1545,-1082 1545,-1028 1545,-1028 1545,-1022 1551,-1016 1557,-1016 1557,-1016 1640,-1016 1640,-1016 1646,-1016 1652,-1022 1652,-1028 1652,-1028 1652,-1082 1652,-1082 1652,-1088 1646,-1094 1640,-1094\"/>\n<text text-anchor=\"start\" x=\"1561.5\" y=\"-1079.8\" font-family=\"Helvetica,sans-Serif\" font-size=\"14.00\" fill=\"#000000\">X</text>\n<text text-anchor=\"start\" x=\"1571.5\" y=\"-1079.8\" font-family=\"Helvetica,sans-Serif\" baseline-shift=\"sub\" font-size=\"14.00\" fill=\"#000000\">5</text>\n<text text-anchor=\"start\" x=\"1578.5\" y=\"-1079.8\" font-family=\"Helvetica,sans-Serif\" font-size=\"14.00\" fill=\"#000000\"> ≤ &#45;0.946</text>\n<text text-anchor=\"start\" x=\"1560.5\" y=\"-1065.8\" font-family=\"Helvetica,sans-Serif\" font-size=\"14.00\" fill=\"#000000\">gini = 0.067</text>\n<text text-anchor=\"start\" x=\"1554.5\" y=\"-1051.8\" font-family=\"Helvetica,sans-Serif\" font-size=\"14.00\" fill=\"#000000\">samples = 29</text>\n<text text-anchor=\"start\" x=\"1553\" y=\"-1037.8\" font-family=\"Helvetica,sans-Serif\" font-size=\"14.00\" fill=\"#000000\">value = [28, 1]</text>\n<text text-anchor=\"start\" x=\"1569.5\" y=\"-1023.8\" font-family=\"Helvetica,sans-Serif\" font-size=\"14.00\" fill=\"#000000\">class = 1</text>\n</g>\n<!-- 75&#45;&gt;76 -->\n<g id=\"edge76\" class=\"edge\">\n<title>75&#45;&gt;76</title>\n<path fill=\"none\" stroke=\"#000000\" d=\"M1598.5,-1129.7677C1598.5,-1121.6172 1598.5,-1112.9283 1598.5,-1104.4649\"/>\n<polygon fill=\"#000000\" stroke=\"#000000\" points=\"1602.0001,-1104.3046 1598.5,-1094.3046 1595.0001,-1104.3047 1602.0001,-1104.3046\"/>\n</g>\n<!-- 81 -->\n<g id=\"node82\" class=\"node\">\n<title>81</title>\n<path fill=\"#ffffff\" stroke=\"#000000\" d=\"M1758,-1094C1758,-1094 1683,-1094 1683,-1094 1677,-1094 1671,-1088 1671,-1082 1671,-1082 1671,-1028 1671,-1028 1671,-1022 1677,-1016 1683,-1016 1683,-1016 1758,-1016 1758,-1016 1764,-1016 1770,-1022 1770,-1028 1770,-1028 1770,-1082 1770,-1082 1770,-1088 1764,-1094 1758,-1094\"/>\n<text text-anchor=\"start\" x=\"1686\" y=\"-1079.8\" font-family=\"Helvetica,sans-Serif\" font-size=\"14.00\" fill=\"#000000\">X</text>\n<text text-anchor=\"start\" x=\"1696\" y=\"-1079.8\" font-family=\"Helvetica,sans-Serif\" baseline-shift=\"sub\" font-size=\"14.00\" fill=\"#000000\">1</text>\n<text text-anchor=\"start\" x=\"1703\" y=\"-1079.8\" font-family=\"Helvetica,sans-Serif\" font-size=\"14.00\" fill=\"#000000\"> ≤ 0.138</text>\n<text text-anchor=\"start\" x=\"1691\" y=\"-1065.8\" font-family=\"Helvetica,sans-Serif\" font-size=\"14.00\" fill=\"#000000\">gini = 0.5</text>\n<text text-anchor=\"start\" x=\"1681\" y=\"-1051.8\" font-family=\"Helvetica,sans-Serif\" font-size=\"14.00\" fill=\"#000000\">samples = 4</text>\n<text text-anchor=\"start\" x=\"1679\" y=\"-1037.8\" font-family=\"Helvetica,sans-Serif\" font-size=\"14.00\" fill=\"#000000\">value = [2, 2]</text>\n<text text-anchor=\"start\" x=\"1691.5\" y=\"-1023.8\" font-family=\"Helvetica,sans-Serif\" font-size=\"14.00\" fill=\"#000000\">class = 1</text>\n</g>\n<!-- 75&#45;&gt;81 -->\n<g id=\"edge81\" class=\"edge\">\n<title>75&#45;&gt;81</title>\n<path fill=\"none\" stroke=\"#000000\" d=\"M1640.4855,-1129.7677C1650.2622,-1120.632 1660.7631,-1110.8198 1670.8364,-1101.407\"/>\n<polygon fill=\"#000000\" stroke=\"#000000\" points=\"1673.5202,-1103.6894 1678.4371,-1094.3046 1668.7409,-1098.5748 1673.5202,-1103.6894\"/>\n</g>\n<!-- 77 -->\n<g id=\"node78\" class=\"node\">\n<title>77</title>\n<path fill=\"#eca06a\" stroke=\"#000000\" d=\"M1516,-980C1516,-980 1441,-980 1441,-980 1435,-980 1429,-974 1429,-968 1429,-968 1429,-914 1429,-914 1429,-908 1435,-902 1441,-902 1441,-902 1516,-902 1516,-902 1522,-902 1528,-908 1528,-914 1528,-914 1528,-968 1528,-968 1528,-974 1522,-980 1516,-980\"/>\n<text text-anchor=\"start\" x=\"1441.5\" y=\"-965.8\" font-family=\"Helvetica,sans-Serif\" font-size=\"14.00\" fill=\"#000000\">X</text>\n<text text-anchor=\"start\" x=\"1451.5\" y=\"-965.8\" font-family=\"Helvetica,sans-Serif\" baseline-shift=\"sub\" font-size=\"14.00\" fill=\"#000000\">7</text>\n<text text-anchor=\"start\" x=\"1458.5\" y=\"-965.8\" font-family=\"Helvetica,sans-Serif\" font-size=\"14.00\" fill=\"#000000\"> ≤ &#45;0.312</text>\n<text text-anchor=\"start\" x=\"1445\" y=\"-951.8\" font-family=\"Helvetica,sans-Serif\" font-size=\"14.00\" fill=\"#000000\">gini = 0.32</text>\n<text text-anchor=\"start\" x=\"1439\" y=\"-937.8\" font-family=\"Helvetica,sans-Serif\" font-size=\"14.00\" fill=\"#000000\">samples = 5</text>\n<text text-anchor=\"start\" x=\"1437\" y=\"-923.8\" font-family=\"Helvetica,sans-Serif\" font-size=\"14.00\" fill=\"#000000\">value = [4, 1]</text>\n<text text-anchor=\"start\" x=\"1449.5\" y=\"-909.8\" font-family=\"Helvetica,sans-Serif\" font-size=\"14.00\" fill=\"#000000\">class = 1</text>\n</g>\n<!-- 76&#45;&gt;77 -->\n<g id=\"edge77\" class=\"edge\">\n<title>76&#45;&gt;77</title>\n<path fill=\"none\" stroke=\"#000000\" d=\"M1557.2028,-1015.7677C1547.5863,-1006.632 1537.2576,-996.8198 1527.3494,-987.407\"/>\n<polygon fill=\"#000000\" stroke=\"#000000\" points=\"1529.534,-984.6547 1519.8733,-980.3046 1524.7127,-989.7297 1529.534,-984.6547\"/>\n</g>\n<!-- 80 -->\n<g id=\"node81\" class=\"node\">\n<title>80</title>\n<path fill=\"#e58139\" stroke=\"#000000\" d=\"M1641,-975C1641,-975 1558,-975 1558,-975 1552,-975 1546,-969 1546,-963 1546,-963 1546,-919 1546,-919 1546,-913 1552,-907 1558,-907 1558,-907 1641,-907 1641,-907 1647,-907 1653,-913 1653,-919 1653,-919 1653,-963 1653,-963 1653,-969 1647,-975 1641,-975\"/>\n<text text-anchor=\"start\" x=\"1570\" y=\"-959.8\" font-family=\"Helvetica,sans-Serif\" font-size=\"14.00\" fill=\"#000000\">gini = 0.0</text>\n<text text-anchor=\"start\" x=\"1555.5\" y=\"-944.8\" font-family=\"Helvetica,sans-Serif\" font-size=\"14.00\" fill=\"#000000\">samples = 24</text>\n<text text-anchor=\"start\" x=\"1554\" y=\"-929.8\" font-family=\"Helvetica,sans-Serif\" font-size=\"14.00\" fill=\"#000000\">value = [24, 0]</text>\n<text text-anchor=\"start\" x=\"1570.5\" y=\"-914.8\" font-family=\"Helvetica,sans-Serif\" font-size=\"14.00\" fill=\"#000000\">class = 1</text>\n</g>\n<!-- 76&#45;&gt;80 -->\n<g id=\"edge80\" class=\"edge\">\n<title>76&#45;&gt;80</title>\n<path fill=\"none\" stroke=\"#000000\" d=\"M1598.8441,-1015.7677C1598.9297,-1006.0161 1599.022,-995.4937 1599.1096,-985.509\"/>\n<polygon fill=\"#000000\" stroke=\"#000000\" points=\"1602.6107,-985.3839 1599.1987,-975.3535 1595.611,-985.3224 1602.6107,-985.3839\"/>\n</g>\n<!-- 78 -->\n<g id=\"node79\" class=\"node\">\n<title>78</title>\n<path fill=\"#399de5\" stroke=\"#000000\" d=\"M1514,-861C1514,-861 1439,-861 1439,-861 1433,-861 1427,-855 1427,-849 1427,-849 1427,-805 1427,-805 1427,-799 1433,-793 1439,-793 1439,-793 1514,-793 1514,-793 1520,-793 1526,-799 1526,-805 1526,-805 1526,-849 1526,-849 1526,-855 1520,-861 1514,-861\"/>\n<text text-anchor=\"start\" x=\"1447\" y=\"-845.8\" font-family=\"Helvetica,sans-Serif\" font-size=\"14.00\" fill=\"#000000\">gini = 0.0</text>\n<text text-anchor=\"start\" x=\"1437\" y=\"-830.8\" font-family=\"Helvetica,sans-Serif\" font-size=\"14.00\" fill=\"#000000\">samples = 1</text>\n<text text-anchor=\"start\" x=\"1435\" y=\"-815.8\" font-family=\"Helvetica,sans-Serif\" font-size=\"14.00\" fill=\"#000000\">value = [0, 1]</text>\n<text text-anchor=\"start\" x=\"1447.5\" y=\"-800.8\" font-family=\"Helvetica,sans-Serif\" font-size=\"14.00\" fill=\"#000000\">class = 1</text>\n</g>\n<!-- 77&#45;&gt;78 -->\n<g id=\"edge78\" class=\"edge\">\n<title>77&#45;&gt;78</title>\n<path fill=\"none\" stroke=\"#000000\" d=\"M1477.8117,-901.7677C1477.6406,-892.0161 1477.456,-881.4937 1477.2809,-871.509\"/>\n<polygon fill=\"#000000\" stroke=\"#000000\" points=\"1480.7777,-871.2906 1477.1027,-861.3535 1473.7787,-871.4134 1480.7777,-871.2906\"/>\n</g>\n<!-- 79 -->\n<g id=\"node80\" class=\"node\">\n<title>79</title>\n<path fill=\"#e58139\" stroke=\"#000000\" d=\"M1631,-861C1631,-861 1556,-861 1556,-861 1550,-861 1544,-855 1544,-849 1544,-849 1544,-805 1544,-805 1544,-799 1550,-793 1556,-793 1556,-793 1631,-793 1631,-793 1637,-793 1643,-799 1643,-805 1643,-805 1643,-849 1643,-849 1643,-855 1637,-861 1631,-861\"/>\n<text text-anchor=\"start\" x=\"1564\" y=\"-845.8\" font-family=\"Helvetica,sans-Serif\" font-size=\"14.00\" fill=\"#000000\">gini = 0.0</text>\n<text text-anchor=\"start\" x=\"1554\" y=\"-830.8\" font-family=\"Helvetica,sans-Serif\" font-size=\"14.00\" fill=\"#000000\">samples = 4</text>\n<text text-anchor=\"start\" x=\"1552\" y=\"-815.8\" font-family=\"Helvetica,sans-Serif\" font-size=\"14.00\" fill=\"#000000\">value = [4, 0]</text>\n<text text-anchor=\"start\" x=\"1564.5\" y=\"-800.8\" font-family=\"Helvetica,sans-Serif\" font-size=\"14.00\" fill=\"#000000\">class = 1</text>\n</g>\n<!-- 77&#45;&gt;79 -->\n<g id=\"edge79\" class=\"edge\">\n<title>77&#45;&gt;79</title>\n<path fill=\"none\" stroke=\"#000000\" d=\"M1518.0765,-901.7677C1528.8455,-891.0923 1540.5465,-879.493 1551.4474,-868.6869\"/>\n<polygon fill=\"#000000\" stroke=\"#000000\" points=\"1554.2073,-870.8793 1558.8451,-861.3535 1549.2792,-865.908 1554.2073,-870.8793\"/>\n</g>\n<!-- 82 -->\n<g id=\"node83\" class=\"node\">\n<title>82</title>\n<path fill=\"#e58139\" stroke=\"#000000\" d=\"M1758,-975C1758,-975 1683,-975 1683,-975 1677,-975 1671,-969 1671,-963 1671,-963 1671,-919 1671,-919 1671,-913 1677,-907 1683,-907 1683,-907 1758,-907 1758,-907 1764,-907 1770,-913 1770,-919 1770,-919 1770,-963 1770,-963 1770,-969 1764,-975 1758,-975\"/>\n<text text-anchor=\"start\" x=\"1691\" y=\"-959.8\" font-family=\"Helvetica,sans-Serif\" font-size=\"14.00\" fill=\"#000000\">gini = 0.0</text>\n<text text-anchor=\"start\" x=\"1681\" y=\"-944.8\" font-family=\"Helvetica,sans-Serif\" font-size=\"14.00\" fill=\"#000000\">samples = 2</text>\n<text text-anchor=\"start\" x=\"1679\" y=\"-929.8\" font-family=\"Helvetica,sans-Serif\" font-size=\"14.00\" fill=\"#000000\">value = [2, 0]</text>\n<text text-anchor=\"start\" x=\"1691.5\" y=\"-914.8\" font-family=\"Helvetica,sans-Serif\" font-size=\"14.00\" fill=\"#000000\">class = 1</text>\n</g>\n<!-- 81&#45;&gt;82 -->\n<g id=\"edge82\" class=\"edge\">\n<title>81&#45;&gt;82</title>\n<path fill=\"none\" stroke=\"#000000\" d=\"M1720.5,-1015.7677C1720.5,-1006.0161 1720.5,-995.4937 1720.5,-985.509\"/>\n<polygon fill=\"#000000\" stroke=\"#000000\" points=\"1724.0001,-985.3535 1720.5,-975.3535 1717.0001,-985.3536 1724.0001,-985.3535\"/>\n</g>\n<!-- 83 -->\n<g id=\"node84\" class=\"node\">\n<title>83</title>\n<path fill=\"#399de5\" stroke=\"#000000\" d=\"M1875,-975C1875,-975 1800,-975 1800,-975 1794,-975 1788,-969 1788,-963 1788,-963 1788,-919 1788,-919 1788,-913 1794,-907 1800,-907 1800,-907 1875,-907 1875,-907 1881,-907 1887,-913 1887,-919 1887,-919 1887,-963 1887,-963 1887,-969 1881,-975 1875,-975\"/>\n<text text-anchor=\"start\" x=\"1808\" y=\"-959.8\" font-family=\"Helvetica,sans-Serif\" font-size=\"14.00\" fill=\"#000000\">gini = 0.0</text>\n<text text-anchor=\"start\" x=\"1798\" y=\"-944.8\" font-family=\"Helvetica,sans-Serif\" font-size=\"14.00\" fill=\"#000000\">samples = 2</text>\n<text text-anchor=\"start\" x=\"1796\" y=\"-929.8\" font-family=\"Helvetica,sans-Serif\" font-size=\"14.00\" fill=\"#000000\">value = [0, 2]</text>\n<text text-anchor=\"start\" x=\"1808.5\" y=\"-914.8\" font-family=\"Helvetica,sans-Serif\" font-size=\"14.00\" fill=\"#000000\">class = 1</text>\n</g>\n<!-- 81&#45;&gt;83 -->\n<g id=\"edge83\" class=\"edge\">\n<title>81&#45;&gt;83</title>\n<path fill=\"none\" stroke=\"#000000\" d=\"M1760.7648,-1015.7677C1771.8264,-1004.9896 1783.8546,-993.2699 1795.0358,-982.3754\"/>\n<polygon fill=\"#000000\" stroke=\"#000000\" points=\"1797.5227,-984.839 1802.2424,-975.3535 1792.6376,-979.8254 1797.5227,-984.839\"/>\n</g>\n<!-- 85 -->\n<g id=\"node86\" class=\"node\">\n<title>85</title>\n<path fill=\"#e58139\" stroke=\"#000000\" d=\"M1636,-1317C1636,-1317 1561,-1317 1561,-1317 1555,-1317 1549,-1311 1549,-1305 1549,-1305 1549,-1261 1549,-1261 1549,-1255 1555,-1249 1561,-1249 1561,-1249 1636,-1249 1636,-1249 1642,-1249 1648,-1255 1648,-1261 1648,-1261 1648,-1305 1648,-1305 1648,-1311 1642,-1317 1636,-1317\"/>\n<text text-anchor=\"start\" x=\"1569\" y=\"-1301.8\" font-family=\"Helvetica,sans-Serif\" font-size=\"14.00\" fill=\"#000000\">gini = 0.0</text>\n<text text-anchor=\"start\" x=\"1559\" y=\"-1286.8\" font-family=\"Helvetica,sans-Serif\" font-size=\"14.00\" fill=\"#000000\">samples = 6</text>\n<text text-anchor=\"start\" x=\"1557\" y=\"-1271.8\" font-family=\"Helvetica,sans-Serif\" font-size=\"14.00\" fill=\"#000000\">value = [6, 0]</text>\n<text text-anchor=\"start\" x=\"1569.5\" y=\"-1256.8\" font-family=\"Helvetica,sans-Serif\" font-size=\"14.00\" fill=\"#000000\">class = 1</text>\n</g>\n<!-- 84&#45;&gt;85 -->\n<g id=\"edge85\" class=\"edge\">\n<title>84&#45;&gt;85</title>\n<path fill=\"none\" stroke=\"#000000\" d=\"M1600.4676,-1357.7677C1600.211,-1348.0161 1599.934,-1337.4937 1599.6713,-1327.509\"/>\n<polygon fill=\"#000000\" stroke=\"#000000\" points=\"1603.166,-1327.258 1599.404,-1317.3535 1596.1684,-1327.4422 1603.166,-1327.258\"/>\n</g>\n<!-- 86 -->\n<g id=\"node87\" class=\"node\">\n<title>86</title>\n<path fill=\"#b8dcf6\" stroke=\"#000000\" d=\"M1761,-1322C1761,-1322 1678,-1322 1678,-1322 1672,-1322 1666,-1316 1666,-1310 1666,-1310 1666,-1256 1666,-1256 1666,-1250 1672,-1244 1678,-1244 1678,-1244 1761,-1244 1761,-1244 1767,-1244 1773,-1250 1773,-1256 1773,-1256 1773,-1310 1773,-1310 1773,-1316 1767,-1322 1761,-1322\"/>\n<text text-anchor=\"start\" x=\"1682.5\" y=\"-1307.8\" font-family=\"Helvetica,sans-Serif\" font-size=\"14.00\" fill=\"#000000\">X</text>\n<text text-anchor=\"start\" x=\"1692.5\" y=\"-1307.8\" font-family=\"Helvetica,sans-Serif\" baseline-shift=\"sub\" font-size=\"14.00\" fill=\"#000000\">2</text>\n<text text-anchor=\"start\" x=\"1699.5\" y=\"-1307.8\" font-family=\"Helvetica,sans-Serif\" font-size=\"14.00\" fill=\"#000000\"> ≤ &#45;0.409</text>\n<text text-anchor=\"start\" x=\"1681.5\" y=\"-1293.8\" font-family=\"Helvetica,sans-Serif\" font-size=\"14.00\" fill=\"#000000\">gini = 0.476</text>\n<text text-anchor=\"start\" x=\"1675.5\" y=\"-1279.8\" font-family=\"Helvetica,sans-Serif\" font-size=\"14.00\" fill=\"#000000\">samples = 23</text>\n<text text-anchor=\"start\" x=\"1674\" y=\"-1265.8\" font-family=\"Helvetica,sans-Serif\" font-size=\"14.00\" fill=\"#000000\">value = [9, 14]</text>\n<text text-anchor=\"start\" x=\"1690.5\" y=\"-1251.8\" font-family=\"Helvetica,sans-Serif\" font-size=\"14.00\" fill=\"#000000\">class = 1</text>\n</g>\n<!-- 84&#45;&gt;86 -->\n<g id=\"edge86\" class=\"edge\">\n<title>84&#45;&gt;86</title>\n<path fill=\"none\" stroke=\"#000000\" d=\"M1642.1089,-1357.7677C1651.5651,-1348.632 1661.7217,-1338.8198 1671.4647,-1329.407\"/>\n<polygon fill=\"#000000\" stroke=\"#000000\" points=\"1674.0562,-1331.77 1678.8162,-1322.3046 1669.1924,-1326.7356 1674.0562,-1331.77\"/>\n</g>\n<!-- 87 -->\n<g id=\"node88\" class=\"node\">\n<title>87</title>\n<path fill=\"#399de5\" stroke=\"#000000\" d=\"M1757,-1203C1757,-1203 1682,-1203 1682,-1203 1676,-1203 1670,-1197 1670,-1191 1670,-1191 1670,-1147 1670,-1147 1670,-1141 1676,-1135 1682,-1135 1682,-1135 1757,-1135 1757,-1135 1763,-1135 1769,-1141 1769,-1147 1769,-1147 1769,-1191 1769,-1191 1769,-1197 1763,-1203 1757,-1203\"/>\n<text text-anchor=\"start\" x=\"1690\" y=\"-1187.8\" font-family=\"Helvetica,sans-Serif\" font-size=\"14.00\" fill=\"#000000\">gini = 0.0</text>\n<text text-anchor=\"start\" x=\"1680\" y=\"-1172.8\" font-family=\"Helvetica,sans-Serif\" font-size=\"14.00\" fill=\"#000000\">samples = 6</text>\n<text text-anchor=\"start\" x=\"1678\" y=\"-1157.8\" font-family=\"Helvetica,sans-Serif\" font-size=\"14.00\" fill=\"#000000\">value = [0, 6]</text>\n<text text-anchor=\"start\" x=\"1690.5\" y=\"-1142.8\" font-family=\"Helvetica,sans-Serif\" font-size=\"14.00\" fill=\"#000000\">class = 1</text>\n</g>\n<!-- 86&#45;&gt;87 -->\n<g id=\"edge87\" class=\"edge\">\n<title>86&#45;&gt;87</title>\n<path fill=\"none\" stroke=\"#000000\" d=\"M1719.5,-1243.7677C1719.5,-1234.0161 1719.5,-1223.4937 1719.5,-1213.509\"/>\n<polygon fill=\"#000000\" stroke=\"#000000\" points=\"1723.0001,-1213.3535 1719.5,-1203.3535 1716.0001,-1213.3536 1723.0001,-1213.3535\"/>\n</g>\n<!-- 88 -->\n<g id=\"node89\" class=\"node\">\n<title>88</title>\n<path fill=\"#fcf1e9\" stroke=\"#000000\" d=\"M1879.5,-1208C1879.5,-1208 1799.5,-1208 1799.5,-1208 1793.5,-1208 1787.5,-1202 1787.5,-1196 1787.5,-1196 1787.5,-1142 1787.5,-1142 1787.5,-1136 1793.5,-1130 1799.5,-1130 1799.5,-1130 1879.5,-1130 1879.5,-1130 1885.5,-1130 1891.5,-1136 1891.5,-1142 1891.5,-1142 1891.5,-1196 1891.5,-1196 1891.5,-1202 1885.5,-1208 1879.5,-1208\"/>\n<text text-anchor=\"start\" x=\"1802.5\" y=\"-1193.8\" font-family=\"Helvetica,sans-Serif\" font-size=\"14.00\" fill=\"#000000\">X</text>\n<text text-anchor=\"start\" x=\"1812.5\" y=\"-1193.8\" font-family=\"Helvetica,sans-Serif\" baseline-shift=\"sub\" font-size=\"14.00\" fill=\"#000000\">2</text>\n<text text-anchor=\"start\" x=\"1819.5\" y=\"-1193.8\" font-family=\"Helvetica,sans-Serif\" font-size=\"14.00\" fill=\"#000000\"> ≤ &#45;0.354</text>\n<text text-anchor=\"start\" x=\"1801.5\" y=\"-1179.8\" font-family=\"Helvetica,sans-Serif\" font-size=\"14.00\" fill=\"#000000\">gini = 0.498</text>\n<text text-anchor=\"start\" x=\"1795.5\" y=\"-1165.8\" font-family=\"Helvetica,sans-Serif\" font-size=\"14.00\" fill=\"#000000\">samples = 17</text>\n<text text-anchor=\"start\" x=\"1798\" y=\"-1151.8\" font-family=\"Helvetica,sans-Serif\" font-size=\"14.00\" fill=\"#000000\">value = [9, 8]</text>\n<text text-anchor=\"start\" x=\"1810.5\" y=\"-1137.8\" font-family=\"Helvetica,sans-Serif\" font-size=\"14.00\" fill=\"#000000\">class = 1</text>\n</g>\n<!-- 86&#45;&gt;88 -->\n<g id=\"edge88\" class=\"edge\">\n<title>86&#45;&gt;88</title>\n<path fill=\"none\" stroke=\"#000000\" d=\"M1760.7972,-1243.7677C1770.4137,-1234.632 1780.7424,-1224.8198 1790.6506,-1215.407\"/>\n<polygon fill=\"#000000\" stroke=\"#000000\" points=\"1793.2873,-1217.7297 1798.1267,-1208.3046 1788.466,-1212.6547 1793.2873,-1217.7297\"/>\n</g>\n<!-- 89 -->\n<g id=\"node90\" class=\"node\">\n<title>89</title>\n<path fill=\"#e58139\" stroke=\"#000000\" d=\"M1876,-1089C1876,-1089 1801,-1089 1801,-1089 1795,-1089 1789,-1083 1789,-1077 1789,-1077 1789,-1033 1789,-1033 1789,-1027 1795,-1021 1801,-1021 1801,-1021 1876,-1021 1876,-1021 1882,-1021 1888,-1027 1888,-1033 1888,-1033 1888,-1077 1888,-1077 1888,-1083 1882,-1089 1876,-1089\"/>\n<text text-anchor=\"start\" x=\"1809\" y=\"-1073.8\" font-family=\"Helvetica,sans-Serif\" font-size=\"14.00\" fill=\"#000000\">gini = 0.0</text>\n<text text-anchor=\"start\" x=\"1799\" y=\"-1058.8\" font-family=\"Helvetica,sans-Serif\" font-size=\"14.00\" fill=\"#000000\">samples = 5</text>\n<text text-anchor=\"start\" x=\"1797\" y=\"-1043.8\" font-family=\"Helvetica,sans-Serif\" font-size=\"14.00\" fill=\"#000000\">value = [5, 0]</text>\n<text text-anchor=\"start\" x=\"1809.5\" y=\"-1028.8\" font-family=\"Helvetica,sans-Serif\" font-size=\"14.00\" fill=\"#000000\">class = 1</text>\n</g>\n<!-- 88&#45;&gt;89 -->\n<g id=\"edge89\" class=\"edge\">\n<title>88&#45;&gt;89</title>\n<path fill=\"none\" stroke=\"#000000\" d=\"M1839.1559,-1129.7677C1839.0703,-1120.0161 1838.978,-1109.4937 1838.8904,-1099.509\"/>\n<polygon fill=\"#000000\" stroke=\"#000000\" points=\"1842.389,-1099.3224 1838.8013,-1089.3535 1835.3893,-1099.3839 1842.389,-1099.3224\"/>\n</g>\n<!-- 90 -->\n<g id=\"node91\" class=\"node\">\n<title>90</title>\n<path fill=\"#9ccef2\" stroke=\"#000000\" d=\"M1998.5,-1094C1998.5,-1094 1918.5,-1094 1918.5,-1094 1912.5,-1094 1906.5,-1088 1906.5,-1082 1906.5,-1082 1906.5,-1028 1906.5,-1028 1906.5,-1022 1912.5,-1016 1918.5,-1016 1918.5,-1016 1998.5,-1016 1998.5,-1016 2004.5,-1016 2010.5,-1022 2010.5,-1028 2010.5,-1028 2010.5,-1082 2010.5,-1082 2010.5,-1088 2004.5,-1094 1998.5,-1094\"/>\n<text text-anchor=\"start\" x=\"1924\" y=\"-1079.8\" font-family=\"Helvetica,sans-Serif\" font-size=\"14.00\" fill=\"#000000\">X</text>\n<text text-anchor=\"start\" x=\"1934\" y=\"-1079.8\" font-family=\"Helvetica,sans-Serif\" baseline-shift=\"sub\" font-size=\"14.00\" fill=\"#000000\">1</text>\n<text text-anchor=\"start\" x=\"1941\" y=\"-1079.8\" font-family=\"Helvetica,sans-Serif\" font-size=\"14.00\" fill=\"#000000\"> ≤ 0.138</text>\n<text text-anchor=\"start\" x=\"1920.5\" y=\"-1065.8\" font-family=\"Helvetica,sans-Serif\" font-size=\"14.00\" fill=\"#000000\">gini = 0.444</text>\n<text text-anchor=\"start\" x=\"1914.5\" y=\"-1051.8\" font-family=\"Helvetica,sans-Serif\" font-size=\"14.00\" fill=\"#000000\">samples = 12</text>\n<text text-anchor=\"start\" x=\"1917\" y=\"-1037.8\" font-family=\"Helvetica,sans-Serif\" font-size=\"14.00\" fill=\"#000000\">value = [4, 8]</text>\n<text text-anchor=\"start\" x=\"1929.5\" y=\"-1023.8\" font-family=\"Helvetica,sans-Serif\" font-size=\"14.00\" fill=\"#000000\">class = 1</text>\n</g>\n<!-- 88&#45;&gt;90 -->\n<g id=\"edge90\" class=\"edge\">\n<title>88&#45;&gt;90</title>\n<path fill=\"none\" stroke=\"#000000\" d=\"M1880.453,-1129.7677C1889.9894,-1120.632 1900.232,-1110.8198 1910.0576,-1101.407\"/>\n<polygon fill=\"#000000\" stroke=\"#000000\" points=\"1912.6715,-1103.7498 1917.4715,-1094.3046 1907.8291,-1098.695 1912.6715,-1103.7498\"/>\n</g>\n<!-- 91 -->\n<g id=\"node92\" class=\"node\">\n<title>91</title>\n<path fill=\"#ffffff\" stroke=\"#000000\" d=\"M1993,-980C1993,-980 1918,-980 1918,-980 1912,-980 1906,-974 1906,-968 1906,-968 1906,-914 1906,-914 1906,-908 1912,-902 1918,-902 1918,-902 1993,-902 1993,-902 1999,-902 2005,-908 2005,-914 2005,-914 2005,-968 2005,-968 2005,-974 1999,-980 1993,-980\"/>\n<text text-anchor=\"start\" x=\"1918.5\" y=\"-965.8\" font-family=\"Helvetica,sans-Serif\" font-size=\"14.00\" fill=\"#000000\">X</text>\n<text text-anchor=\"start\" x=\"1928.5\" y=\"-965.8\" font-family=\"Helvetica,sans-Serif\" baseline-shift=\"sub\" font-size=\"14.00\" fill=\"#000000\">6</text>\n<text text-anchor=\"start\" x=\"1935.5\" y=\"-965.8\" font-family=\"Helvetica,sans-Serif\" font-size=\"14.00\" fill=\"#000000\"> ≤ &#45;0.139</text>\n<text text-anchor=\"start\" x=\"1926\" y=\"-951.8\" font-family=\"Helvetica,sans-Serif\" font-size=\"14.00\" fill=\"#000000\">gini = 0.5</text>\n<text text-anchor=\"start\" x=\"1916\" y=\"-937.8\" font-family=\"Helvetica,sans-Serif\" font-size=\"14.00\" fill=\"#000000\">samples = 8</text>\n<text text-anchor=\"start\" x=\"1914\" y=\"-923.8\" font-family=\"Helvetica,sans-Serif\" font-size=\"14.00\" fill=\"#000000\">value = [4, 4]</text>\n<text text-anchor=\"start\" x=\"1926.5\" y=\"-909.8\" font-family=\"Helvetica,sans-Serif\" font-size=\"14.00\" fill=\"#000000\">class = 1</text>\n</g>\n<!-- 90&#45;&gt;91 -->\n<g id=\"edge91\" class=\"edge\">\n<title>90&#45;&gt;91</title>\n<path fill=\"none\" stroke=\"#000000\" d=\"M1957.4676,-1015.7677C1957.2531,-1007.6172 1957.0244,-998.9283 1956.8017,-990.4649\"/>\n<polygon fill=\"#000000\" stroke=\"#000000\" points=\"1960.2963,-990.2091 1956.5343,-980.3046 1953.2987,-990.3933 1960.2963,-990.2091\"/>\n</g>\n<!-- 98 -->\n<g id=\"node99\" class=\"node\">\n<title>98</title>\n<path fill=\"#399de5\" stroke=\"#000000\" d=\"M2110,-975C2110,-975 2035,-975 2035,-975 2029,-975 2023,-969 2023,-963 2023,-963 2023,-919 2023,-919 2023,-913 2029,-907 2035,-907 2035,-907 2110,-907 2110,-907 2116,-907 2122,-913 2122,-919 2122,-919 2122,-963 2122,-963 2122,-969 2116,-975 2110,-975\"/>\n<text text-anchor=\"start\" x=\"2043\" y=\"-959.8\" font-family=\"Helvetica,sans-Serif\" font-size=\"14.00\" fill=\"#000000\">gini = 0.0</text>\n<text text-anchor=\"start\" x=\"2033\" y=\"-944.8\" font-family=\"Helvetica,sans-Serif\" font-size=\"14.00\" fill=\"#000000\">samples = 4</text>\n<text text-anchor=\"start\" x=\"2031\" y=\"-929.8\" font-family=\"Helvetica,sans-Serif\" font-size=\"14.00\" fill=\"#000000\">value = [0, 4]</text>\n<text text-anchor=\"start\" x=\"2043.5\" y=\"-914.8\" font-family=\"Helvetica,sans-Serif\" font-size=\"14.00\" fill=\"#000000\">class = 1</text>\n</g>\n<!-- 90&#45;&gt;98 -->\n<g id=\"edge98\" class=\"edge\">\n<title>90&#45;&gt;98</title>\n<path fill=\"none\" stroke=\"#000000\" d=\"M1997.7323,-1015.7677C2008.4077,-1005.0923 2020.007,-993.493 2030.8131,-982.6869\"/>\n<polygon fill=\"#000000\" stroke=\"#000000\" points=\"2033.5503,-984.8995 2038.1465,-975.3535 2028.6005,-979.9497 2033.5503,-984.8995\"/>\n</g>\n<!-- 92 -->\n<g id=\"node93\" class=\"node\">\n<title>92</title>\n<path fill=\"#399de5\" stroke=\"#000000\" d=\"M1934,-861C1934,-861 1859,-861 1859,-861 1853,-861 1847,-855 1847,-849 1847,-849 1847,-805 1847,-805 1847,-799 1853,-793 1859,-793 1859,-793 1934,-793 1934,-793 1940,-793 1946,-799 1946,-805 1946,-805 1946,-849 1946,-849 1946,-855 1940,-861 1934,-861\"/>\n<text text-anchor=\"start\" x=\"1867\" y=\"-845.8\" font-family=\"Helvetica,sans-Serif\" font-size=\"14.00\" fill=\"#000000\">gini = 0.0</text>\n<text text-anchor=\"start\" x=\"1857\" y=\"-830.8\" font-family=\"Helvetica,sans-Serif\" font-size=\"14.00\" fill=\"#000000\">samples = 2</text>\n<text text-anchor=\"start\" x=\"1855\" y=\"-815.8\" font-family=\"Helvetica,sans-Serif\" font-size=\"14.00\" fill=\"#000000\">value = [0, 2]</text>\n<text text-anchor=\"start\" x=\"1867.5\" y=\"-800.8\" font-family=\"Helvetica,sans-Serif\" font-size=\"14.00\" fill=\"#000000\">class = 1</text>\n</g>\n<!-- 91&#45;&gt;92 -->\n<g id=\"edge92\" class=\"edge\">\n<title>91&#45;&gt;92</title>\n<path fill=\"none\" stroke=\"#000000\" d=\"M1935.1955,-901.7677C1929.9362,-891.6055 1924.2436,-880.6062 1918.8842,-870.2508\"/>\n<polygon fill=\"#000000\" stroke=\"#000000\" points=\"1921.9842,-868.6259 1914.2795,-861.3535 1915.7675,-871.8434 1921.9842,-868.6259\"/>\n</g>\n<!-- 93 -->\n<g id=\"node94\" class=\"node\">\n<title>93</title>\n<path fill=\"#f2c09c\" stroke=\"#000000\" d=\"M2051,-866C2051,-866 1976,-866 1976,-866 1970,-866 1964,-860 1964,-854 1964,-854 1964,-800 1964,-800 1964,-794 1970,-788 1976,-788 1976,-788 2051,-788 2051,-788 2057,-788 2063,-794 2063,-800 2063,-800 2063,-854 2063,-854 2063,-860 2057,-866 2051,-866\"/>\n<text text-anchor=\"start\" x=\"1979\" y=\"-851.8\" font-family=\"Helvetica,sans-Serif\" font-size=\"14.00\" fill=\"#000000\">X</text>\n<text text-anchor=\"start\" x=\"1989\" y=\"-851.8\" font-family=\"Helvetica,sans-Serif\" baseline-shift=\"sub\" font-size=\"14.00\" fill=\"#000000\">4</text>\n<text text-anchor=\"start\" x=\"1996\" y=\"-851.8\" font-family=\"Helvetica,sans-Serif\" font-size=\"14.00\" fill=\"#000000\"> ≤ 0.312</text>\n<text text-anchor=\"start\" x=\"1975.5\" y=\"-837.8\" font-family=\"Helvetica,sans-Serif\" font-size=\"14.00\" fill=\"#000000\">gini = 0.444</text>\n<text text-anchor=\"start\" x=\"1974\" y=\"-823.8\" font-family=\"Helvetica,sans-Serif\" font-size=\"14.00\" fill=\"#000000\">samples = 6</text>\n<text text-anchor=\"start\" x=\"1972\" y=\"-809.8\" font-family=\"Helvetica,sans-Serif\" font-size=\"14.00\" fill=\"#000000\">value = [4, 2]</text>\n<text text-anchor=\"start\" x=\"1984.5\" y=\"-795.8\" font-family=\"Helvetica,sans-Serif\" font-size=\"14.00\" fill=\"#000000\">class = 1</text>\n</g>\n<!-- 91&#45;&gt;93 -->\n<g id=\"edge93\" class=\"edge\">\n<title>91&#45;&gt;93</title>\n<path fill=\"none\" stroke=\"#000000\" d=\"M1975.4603,-901.7677C1979.7893,-893.259 1984.4169,-884.1634 1988.9008,-875.3502\"/>\n<polygon fill=\"#000000\" stroke=\"#000000\" points=\"1992.0877,-876.8046 1993.5029,-866.3046 1985.8488,-873.6303 1992.0877,-876.8046\"/>\n</g>\n<!-- 94 -->\n<g id=\"node95\" class=\"node\">\n<title>94</title>\n<path fill=\"#e58139\" stroke=\"#000000\" d=\"M1992,-747C1992,-747 1917,-747 1917,-747 1911,-747 1905,-741 1905,-735 1905,-735 1905,-691 1905,-691 1905,-685 1911,-679 1917,-679 1917,-679 1992,-679 1992,-679 1998,-679 2004,-685 2004,-691 2004,-691 2004,-735 2004,-735 2004,-741 1998,-747 1992,-747\"/>\n<text text-anchor=\"start\" x=\"1925\" y=\"-731.8\" font-family=\"Helvetica,sans-Serif\" font-size=\"14.00\" fill=\"#000000\">gini = 0.0</text>\n<text text-anchor=\"start\" x=\"1915\" y=\"-716.8\" font-family=\"Helvetica,sans-Serif\" font-size=\"14.00\" fill=\"#000000\">samples = 3</text>\n<text text-anchor=\"start\" x=\"1913\" y=\"-701.8\" font-family=\"Helvetica,sans-Serif\" font-size=\"14.00\" fill=\"#000000\">value = [3, 0]</text>\n<text text-anchor=\"start\" x=\"1925.5\" y=\"-686.8\" font-family=\"Helvetica,sans-Serif\" font-size=\"14.00\" fill=\"#000000\">class = 1</text>\n</g>\n<!-- 93&#45;&gt;94 -->\n<g id=\"edge94\" class=\"edge\">\n<title>93&#45;&gt;94</title>\n<path fill=\"none\" stroke=\"#000000\" d=\"M1993.1955,-787.7677C1987.9362,-777.6055 1982.2436,-766.6062 1976.8842,-756.2508\"/>\n<polygon fill=\"#000000\" stroke=\"#000000\" points=\"1979.9842,-754.6259 1972.2795,-747.3535 1973.7675,-757.8434 1979.9842,-754.6259\"/>\n</g>\n<!-- 95 -->\n<g id=\"node96\" class=\"node\">\n<title>95</title>\n<path fill=\"#9ccef2\" stroke=\"#000000\" d=\"M2109,-752C2109,-752 2034,-752 2034,-752 2028,-752 2022,-746 2022,-740 2022,-740 2022,-686 2022,-686 2022,-680 2028,-674 2034,-674 2034,-674 2109,-674 2109,-674 2115,-674 2121,-680 2121,-686 2121,-686 2121,-740 2121,-740 2121,-746 2115,-752 2109,-752\"/>\n<text text-anchor=\"start\" x=\"2037\" y=\"-737.8\" font-family=\"Helvetica,sans-Serif\" font-size=\"14.00\" fill=\"#000000\">X</text>\n<text text-anchor=\"start\" x=\"2047\" y=\"-737.8\" font-family=\"Helvetica,sans-Serif\" baseline-shift=\"sub\" font-size=\"14.00\" fill=\"#000000\">3</text>\n<text text-anchor=\"start\" x=\"2054\" y=\"-737.8\" font-family=\"Helvetica,sans-Serif\" font-size=\"14.00\" fill=\"#000000\"> ≤ 0.166</text>\n<text text-anchor=\"start\" x=\"2033.5\" y=\"-723.8\" font-family=\"Helvetica,sans-Serif\" font-size=\"14.00\" fill=\"#000000\">gini = 0.444</text>\n<text text-anchor=\"start\" x=\"2032\" y=\"-709.8\" font-family=\"Helvetica,sans-Serif\" font-size=\"14.00\" fill=\"#000000\">samples = 3</text>\n<text text-anchor=\"start\" x=\"2030\" y=\"-695.8\" font-family=\"Helvetica,sans-Serif\" font-size=\"14.00\" fill=\"#000000\">value = [1, 2]</text>\n<text text-anchor=\"start\" x=\"2042.5\" y=\"-681.8\" font-family=\"Helvetica,sans-Serif\" font-size=\"14.00\" fill=\"#000000\">class = 1</text>\n</g>\n<!-- 93&#45;&gt;95 -->\n<g id=\"edge95\" class=\"edge\">\n<title>93&#45;&gt;95</title>\n<path fill=\"none\" stroke=\"#000000\" d=\"M2033.4603,-787.7677C2037.7893,-779.259 2042.4169,-770.1634 2046.9008,-761.3502\"/>\n<polygon fill=\"#000000\" stroke=\"#000000\" points=\"2050.0877,-762.8046 2051.5029,-752.3046 2043.8488,-759.6303 2050.0877,-762.8046\"/>\n</g>\n<!-- 96 -->\n<g id=\"node97\" class=\"node\">\n<title>96</title>\n<path fill=\"#e58139\" stroke=\"#000000\" d=\"M2050,-633C2050,-633 1975,-633 1975,-633 1969,-633 1963,-627 1963,-621 1963,-621 1963,-577 1963,-577 1963,-571 1969,-565 1975,-565 1975,-565 2050,-565 2050,-565 2056,-565 2062,-571 2062,-577 2062,-577 2062,-621 2062,-621 2062,-627 2056,-633 2050,-633\"/>\n<text text-anchor=\"start\" x=\"1983\" y=\"-617.8\" font-family=\"Helvetica,sans-Serif\" font-size=\"14.00\" fill=\"#000000\">gini = 0.0</text>\n<text text-anchor=\"start\" x=\"1973\" y=\"-602.8\" font-family=\"Helvetica,sans-Serif\" font-size=\"14.00\" fill=\"#000000\">samples = 1</text>\n<text text-anchor=\"start\" x=\"1971\" y=\"-587.8\" font-family=\"Helvetica,sans-Serif\" font-size=\"14.00\" fill=\"#000000\">value = [1, 0]</text>\n<text text-anchor=\"start\" x=\"1983.5\" y=\"-572.8\" font-family=\"Helvetica,sans-Serif\" font-size=\"14.00\" fill=\"#000000\">class = 1</text>\n</g>\n<!-- 95&#45;&gt;96 -->\n<g id=\"edge96\" class=\"edge\">\n<title>95&#45;&gt;96</title>\n<path fill=\"none\" stroke=\"#000000\" d=\"M2051.1955,-673.7677C2045.9362,-663.6055 2040.2436,-652.6062 2034.8842,-642.2508\"/>\n<polygon fill=\"#000000\" stroke=\"#000000\" points=\"2037.9842,-640.6259 2030.2795,-633.3535 2031.7675,-643.8434 2037.9842,-640.6259\"/>\n</g>\n<!-- 97 -->\n<g id=\"node98\" class=\"node\">\n<title>97</title>\n<path fill=\"#399de5\" stroke=\"#000000\" d=\"M2167,-633C2167,-633 2092,-633 2092,-633 2086,-633 2080,-627 2080,-621 2080,-621 2080,-577 2080,-577 2080,-571 2086,-565 2092,-565 2092,-565 2167,-565 2167,-565 2173,-565 2179,-571 2179,-577 2179,-577 2179,-621 2179,-621 2179,-627 2173,-633 2167,-633\"/>\n<text text-anchor=\"start\" x=\"2100\" y=\"-617.8\" font-family=\"Helvetica,sans-Serif\" font-size=\"14.00\" fill=\"#000000\">gini = 0.0</text>\n<text text-anchor=\"start\" x=\"2090\" y=\"-602.8\" font-family=\"Helvetica,sans-Serif\" font-size=\"14.00\" fill=\"#000000\">samples = 2</text>\n<text text-anchor=\"start\" x=\"2088\" y=\"-587.8\" font-family=\"Helvetica,sans-Serif\" font-size=\"14.00\" fill=\"#000000\">value = [0, 2]</text>\n<text text-anchor=\"start\" x=\"2100.5\" y=\"-572.8\" font-family=\"Helvetica,sans-Serif\" font-size=\"14.00\" fill=\"#000000\">class = 1</text>\n</g>\n<!-- 95&#45;&gt;97 -->\n<g id=\"edge97\" class=\"edge\">\n<title>95&#45;&gt;97</title>\n<path fill=\"none\" stroke=\"#000000\" d=\"M2091.4603,-673.7677C2096.5783,-663.7082 2102.1137,-652.8283 2107.3355,-642.5648\"/>\n<polygon fill=\"#000000\" stroke=\"#000000\" points=\"2110.6067,-643.8534 2112.0219,-633.3535 2104.3678,-640.6792 2110.6067,-643.8534\"/>\n</g>\n<!-- 100 -->\n<g id=\"node101\" class=\"node\">\n<title>100</title>\n<path fill=\"#399de5\" stroke=\"#000000\" d=\"M1672,-1545C1672,-1545 1597,-1545 1597,-1545 1591,-1545 1585,-1539 1585,-1533 1585,-1533 1585,-1489 1585,-1489 1585,-1483 1591,-1477 1597,-1477 1597,-1477 1672,-1477 1672,-1477 1678,-1477 1684,-1483 1684,-1489 1684,-1489 1684,-1533 1684,-1533 1684,-1539 1678,-1545 1672,-1545\"/>\n<text text-anchor=\"start\" x=\"1605\" y=\"-1529.8\" font-family=\"Helvetica,sans-Serif\" font-size=\"14.00\" fill=\"#000000\">gini = 0.0</text>\n<text text-anchor=\"start\" x=\"1595\" y=\"-1514.8\" font-family=\"Helvetica,sans-Serif\" font-size=\"14.00\" fill=\"#000000\">samples = 5</text>\n<text text-anchor=\"start\" x=\"1593\" y=\"-1499.8\" font-family=\"Helvetica,sans-Serif\" font-size=\"14.00\" fill=\"#000000\">value = [0, 5]</text>\n<text text-anchor=\"start\" x=\"1605.5\" y=\"-1484.8\" font-family=\"Helvetica,sans-Serif\" font-size=\"14.00\" fill=\"#000000\">class = 1</text>\n</g>\n<!-- 99&#45;&gt;100 -->\n<g id=\"edge100\" class=\"edge\">\n<title>99&#45;&gt;100</title>\n<path fill=\"none\" stroke=\"#000000\" d=\"M1638.4351,-1585.7677C1637.9219,-1576.0161 1637.3681,-1565.4937 1636.8426,-1555.509\"/>\n<polygon fill=\"#000000\" stroke=\"#000000\" points=\"1640.3289,-1555.1557 1636.3081,-1545.3535 1633.3386,-1555.5237 1640.3289,-1555.1557\"/>\n</g>\n<!-- 101 -->\n<g id=\"node102\" class=\"node\">\n<title>101</title>\n<path fill=\"#ffffff\" stroke=\"#000000\" d=\"M1789,-1550C1789,-1550 1714,-1550 1714,-1550 1708,-1550 1702,-1544 1702,-1538 1702,-1538 1702,-1484 1702,-1484 1702,-1478 1708,-1472 1714,-1472 1714,-1472 1789,-1472 1789,-1472 1795,-1472 1801,-1478 1801,-1484 1801,-1484 1801,-1538 1801,-1538 1801,-1544 1795,-1550 1789,-1550\"/>\n<text text-anchor=\"start\" x=\"1717\" y=\"-1535.8\" font-family=\"Helvetica,sans-Serif\" font-size=\"14.00\" fill=\"#000000\">X</text>\n<text text-anchor=\"start\" x=\"1727\" y=\"-1535.8\" font-family=\"Helvetica,sans-Serif\" baseline-shift=\"sub\" font-size=\"14.00\" fill=\"#000000\">0</text>\n<text text-anchor=\"start\" x=\"1734\" y=\"-1535.8\" font-family=\"Helvetica,sans-Serif\" font-size=\"14.00\" fill=\"#000000\"> ≤ 1.909</text>\n<text text-anchor=\"start\" x=\"1722\" y=\"-1521.8\" font-family=\"Helvetica,sans-Serif\" font-size=\"14.00\" fill=\"#000000\">gini = 0.5</text>\n<text text-anchor=\"start\" x=\"1712\" y=\"-1507.8\" font-family=\"Helvetica,sans-Serif\" font-size=\"14.00\" fill=\"#000000\">samples = 6</text>\n<text text-anchor=\"start\" x=\"1710\" y=\"-1493.8\" font-family=\"Helvetica,sans-Serif\" font-size=\"14.00\" fill=\"#000000\">value = [3, 3]</text>\n<text text-anchor=\"start\" x=\"1722.5\" y=\"-1479.8\" font-family=\"Helvetica,sans-Serif\" font-size=\"14.00\" fill=\"#000000\">class = 1</text>\n</g>\n<!-- 99&#45;&gt;101 -->\n<g id=\"edge101\" class=\"edge\">\n<title>99&#45;&gt;101</title>\n<path fill=\"none\" stroke=\"#000000\" d=\"M1678.6999,-1585.7677C1687.5079,-1576.7216 1696.9619,-1567.0121 1706.0446,-1557.6839\"/>\n<polygon fill=\"#000000\" stroke=\"#000000\" points=\"1708.7611,-1559.9111 1713.2297,-1550.3046 1703.7458,-1555.0277 1708.7611,-1559.9111\"/>\n</g>\n<!-- 102 -->\n<g id=\"node103\" class=\"node\">\n<title>102</title>\n<path fill=\"#399de5\" stroke=\"#000000\" d=\"M1788,-1431C1788,-1431 1713,-1431 1713,-1431 1707,-1431 1701,-1425 1701,-1419 1701,-1419 1701,-1375 1701,-1375 1701,-1369 1707,-1363 1713,-1363 1713,-1363 1788,-1363 1788,-1363 1794,-1363 1800,-1369 1800,-1375 1800,-1375 1800,-1419 1800,-1419 1800,-1425 1794,-1431 1788,-1431\"/>\n<text text-anchor=\"start\" x=\"1721\" y=\"-1415.8\" font-family=\"Helvetica,sans-Serif\" font-size=\"14.00\" fill=\"#000000\">gini = 0.0</text>\n<text text-anchor=\"start\" x=\"1711\" y=\"-1400.8\" font-family=\"Helvetica,sans-Serif\" font-size=\"14.00\" fill=\"#000000\">samples = 2</text>\n<text text-anchor=\"start\" x=\"1709\" y=\"-1385.8\" font-family=\"Helvetica,sans-Serif\" font-size=\"14.00\" fill=\"#000000\">value = [0, 2]</text>\n<text text-anchor=\"start\" x=\"1721.5\" y=\"-1370.8\" font-family=\"Helvetica,sans-Serif\" font-size=\"14.00\" fill=\"#000000\">class = 1</text>\n</g>\n<!-- 101&#45;&gt;102 -->\n<g id=\"edge102\" class=\"edge\">\n<title>101&#45;&gt;102</title>\n<path fill=\"none\" stroke=\"#000000\" d=\"M1751.1559,-1471.7677C1751.0703,-1462.0161 1750.978,-1451.4937 1750.8904,-1441.509\"/>\n<polygon fill=\"#000000\" stroke=\"#000000\" points=\"1754.389,-1441.3224 1750.8013,-1431.3535 1747.3893,-1441.3839 1754.389,-1441.3224\"/>\n</g>\n<!-- 103 -->\n<g id=\"node104\" class=\"node\">\n<title>103</title>\n<path fill=\"#eeab7b\" stroke=\"#000000\" d=\"M1905,-1436C1905,-1436 1830,-1436 1830,-1436 1824,-1436 1818,-1430 1818,-1424 1818,-1424 1818,-1370 1818,-1370 1818,-1364 1824,-1358 1830,-1358 1830,-1358 1905,-1358 1905,-1358 1911,-1358 1917,-1364 1917,-1370 1917,-1370 1917,-1424 1917,-1424 1917,-1430 1911,-1436 1905,-1436\"/>\n<text text-anchor=\"start\" x=\"1833\" y=\"-1421.8\" font-family=\"Helvetica,sans-Serif\" font-size=\"14.00\" fill=\"#000000\">X</text>\n<text text-anchor=\"start\" x=\"1843\" y=\"-1421.8\" font-family=\"Helvetica,sans-Serif\" baseline-shift=\"sub\" font-size=\"14.00\" fill=\"#000000\">8</text>\n<text text-anchor=\"start\" x=\"1850\" y=\"-1421.8\" font-family=\"Helvetica,sans-Serif\" font-size=\"14.00\" fill=\"#000000\"> ≤ 0.383</text>\n<text text-anchor=\"start\" x=\"1829.5\" y=\"-1407.8\" font-family=\"Helvetica,sans-Serif\" font-size=\"14.00\" fill=\"#000000\">gini = 0.375</text>\n<text text-anchor=\"start\" x=\"1828\" y=\"-1393.8\" font-family=\"Helvetica,sans-Serif\" font-size=\"14.00\" fill=\"#000000\">samples = 4</text>\n<text text-anchor=\"start\" x=\"1826\" y=\"-1379.8\" font-family=\"Helvetica,sans-Serif\" font-size=\"14.00\" fill=\"#000000\">value = [3, 1]</text>\n<text text-anchor=\"start\" x=\"1838.5\" y=\"-1365.8\" font-family=\"Helvetica,sans-Serif\" font-size=\"14.00\" fill=\"#000000\">class = 1</text>\n</g>\n<!-- 101&#45;&gt;103 -->\n<g id=\"edge103\" class=\"edge\">\n<title>101&#45;&gt;103</title>\n<path fill=\"none\" stroke=\"#000000\" d=\"M1791.4206,-1471.7677C1800.7166,-1462.632 1810.7009,-1452.8198 1820.2789,-1443.407\"/>\n<polygon fill=\"#000000\" stroke=\"#000000\" points=\"1822.8268,-1445.8103 1827.5058,-1436.3046 1817.9202,-1440.8177 1822.8268,-1445.8103\"/>\n</g>\n<!-- 104 -->\n<g id=\"node105\" class=\"node\">\n<title>104</title>\n<path fill=\"#e58139\" stroke=\"#000000\" d=\"M1878,-1317C1878,-1317 1803,-1317 1803,-1317 1797,-1317 1791,-1311 1791,-1305 1791,-1305 1791,-1261 1791,-1261 1791,-1255 1797,-1249 1803,-1249 1803,-1249 1878,-1249 1878,-1249 1884,-1249 1890,-1255 1890,-1261 1890,-1261 1890,-1305 1890,-1305 1890,-1311 1884,-1317 1878,-1317\"/>\n<text text-anchor=\"start\" x=\"1811\" y=\"-1301.8\" font-family=\"Helvetica,sans-Serif\" font-size=\"14.00\" fill=\"#000000\">gini = 0.0</text>\n<text text-anchor=\"start\" x=\"1801\" y=\"-1286.8\" font-family=\"Helvetica,sans-Serif\" font-size=\"14.00\" fill=\"#000000\">samples = 3</text>\n<text text-anchor=\"start\" x=\"1799\" y=\"-1271.8\" font-family=\"Helvetica,sans-Serif\" font-size=\"14.00\" fill=\"#000000\">value = [3, 0]</text>\n<text text-anchor=\"start\" x=\"1811.5\" y=\"-1256.8\" font-family=\"Helvetica,sans-Serif\" font-size=\"14.00\" fill=\"#000000\">class = 1</text>\n</g>\n<!-- 103&#45;&gt;104 -->\n<g id=\"edge104\" class=\"edge\">\n<title>103&#45;&gt;104</title>\n<path fill=\"none\" stroke=\"#000000\" d=\"M1858.2081,-1357.7677C1855.8742,-1347.9135 1853.3539,-1337.2721 1850.967,-1327.1939\"/>\n<polygon fill=\"#000000\" stroke=\"#000000\" points=\"1854.3469,-1326.2777 1848.6364,-1317.3535 1847.5353,-1327.891 1854.3469,-1326.2777\"/>\n</g>\n<!-- 105 -->\n<g id=\"node106\" class=\"node\">\n<title>105</title>\n<path fill=\"#399de5\" stroke=\"#000000\" d=\"M1995,-1317C1995,-1317 1920,-1317 1920,-1317 1914,-1317 1908,-1311 1908,-1305 1908,-1305 1908,-1261 1908,-1261 1908,-1255 1914,-1249 1920,-1249 1920,-1249 1995,-1249 1995,-1249 2001,-1249 2007,-1255 2007,-1261 2007,-1261 2007,-1305 2007,-1305 2007,-1311 2001,-1317 1995,-1317\"/>\n<text text-anchor=\"start\" x=\"1928\" y=\"-1301.8\" font-family=\"Helvetica,sans-Serif\" font-size=\"14.00\" fill=\"#000000\">gini = 0.0</text>\n<text text-anchor=\"start\" x=\"1918\" y=\"-1286.8\" font-family=\"Helvetica,sans-Serif\" font-size=\"14.00\" fill=\"#000000\">samples = 1</text>\n<text text-anchor=\"start\" x=\"1916\" y=\"-1271.8\" font-family=\"Helvetica,sans-Serif\" font-size=\"14.00\" fill=\"#000000\">value = [0, 1]</text>\n<text text-anchor=\"start\" x=\"1928.5\" y=\"-1256.8\" font-family=\"Helvetica,sans-Serif\" font-size=\"14.00\" fill=\"#000000\">class = 1</text>\n</g>\n<!-- 103&#45;&gt;105 -->\n<g id=\"edge105\" class=\"edge\">\n<title>103&#45;&gt;105</title>\n<path fill=\"none\" stroke=\"#000000\" d=\"M1898.4729,-1357.7677C1906.7387,-1347.2976 1915.7062,-1335.9388 1924.0964,-1325.3112\"/>\n<polygon fill=\"#000000\" stroke=\"#000000\" points=\"1926.9294,-1327.3711 1930.3788,-1317.3535 1921.4352,-1323.0336 1926.9294,-1327.3711\"/>\n</g>\n<!-- 107 -->\n<g id=\"node108\" class=\"node\">\n<title>107</title>\n<path fill=\"#399de5\" stroke=\"#000000\" d=\"M1914,-1659C1914,-1659 1831,-1659 1831,-1659 1825,-1659 1819,-1653 1819,-1647 1819,-1647 1819,-1603 1819,-1603 1819,-1597 1825,-1591 1831,-1591 1831,-1591 1914,-1591 1914,-1591 1920,-1591 1926,-1597 1926,-1603 1926,-1603 1926,-1647 1926,-1647 1926,-1653 1920,-1659 1914,-1659\"/>\n<text text-anchor=\"start\" x=\"1843\" y=\"-1643.8\" font-family=\"Helvetica,sans-Serif\" font-size=\"14.00\" fill=\"#000000\">gini = 0.0</text>\n<text text-anchor=\"start\" x=\"1828.5\" y=\"-1628.8\" font-family=\"Helvetica,sans-Serif\" font-size=\"14.00\" fill=\"#000000\">samples = 14</text>\n<text text-anchor=\"start\" x=\"1827\" y=\"-1613.8\" font-family=\"Helvetica,sans-Serif\" font-size=\"14.00\" fill=\"#000000\">value = [0, 14]</text>\n<text text-anchor=\"start\" x=\"1843.5\" y=\"-1598.8\" font-family=\"Helvetica,sans-Serif\" font-size=\"14.00\" fill=\"#000000\">class = 1</text>\n</g>\n<!-- 106&#45;&gt;107 -->\n<g id=\"edge107\" class=\"edge\">\n<title>106&#45;&gt;107</title>\n<path fill=\"none\" stroke=\"#000000\" d=\"M1872.5,-1699.7677C1872.5,-1690.0161 1872.5,-1679.4937 1872.5,-1669.509\"/>\n<polygon fill=\"#000000\" stroke=\"#000000\" points=\"1876.0001,-1669.3535 1872.5,-1659.3535 1869.0001,-1669.3536 1876.0001,-1669.3535\"/>\n</g>\n<!-- 108 -->\n<g id=\"node109\" class=\"node\">\n<title>108</title>\n<path fill=\"#a1d1f3\" stroke=\"#000000\" d=\"M2050.5,-1664C2050.5,-1664 1958.5,-1664 1958.5,-1664 1952.5,-1664 1946.5,-1658 1946.5,-1652 1946.5,-1652 1946.5,-1598 1946.5,-1598 1946.5,-1592 1952.5,-1586 1958.5,-1586 1958.5,-1586 2050.5,-1586 2050.5,-1586 2056.5,-1586 2062.5,-1592 2062.5,-1598 2062.5,-1598 2062.5,-1652 2062.5,-1652 2062.5,-1658 2056.5,-1664 2050.5,-1664\"/>\n<text text-anchor=\"start\" x=\"1967.5\" y=\"-1649.8\" font-family=\"Helvetica,sans-Serif\" font-size=\"14.00\" fill=\"#000000\">X</text>\n<text text-anchor=\"start\" x=\"1977.5\" y=\"-1649.8\" font-family=\"Helvetica,sans-Serif\" baseline-shift=\"sub\" font-size=\"14.00\" fill=\"#000000\">5</text>\n<text text-anchor=\"start\" x=\"1984.5\" y=\"-1649.8\" font-family=\"Helvetica,sans-Serif\" font-size=\"14.00\" fill=\"#000000\"> ≤ &#45;0.608</text>\n<text text-anchor=\"start\" x=\"1966.5\" y=\"-1635.8\" font-family=\"Helvetica,sans-Serif\" font-size=\"14.00\" fill=\"#000000\">gini = 0.452</text>\n<text text-anchor=\"start\" x=\"1960.5\" y=\"-1621.8\" font-family=\"Helvetica,sans-Serif\" font-size=\"14.00\" fill=\"#000000\">samples = 29</text>\n<text text-anchor=\"start\" x=\"1954.5\" y=\"-1607.8\" font-family=\"Helvetica,sans-Serif\" font-size=\"14.00\" fill=\"#000000\">value = [10, 19]</text>\n<text text-anchor=\"start\" x=\"1975.5\" y=\"-1593.8\" font-family=\"Helvetica,sans-Serif\" font-size=\"14.00\" fill=\"#000000\">class = 1</text>\n</g>\n<!-- 106&#45;&gt;108 -->\n<g id=\"edge108\" class=\"edge\">\n<title>106&#45;&gt;108</title>\n<path fill=\"none\" stroke=\"#000000\" d=\"M1917.9269,-1699.7677C1928.7125,-1690.4529 1940.3124,-1680.4347 1951.4062,-1670.8538\"/>\n<polygon fill=\"#000000\" stroke=\"#000000\" points=\"1953.7088,-1673.4898 1958.9894,-1664.3046 1949.1334,-1668.192 1953.7088,-1673.4898\"/>\n</g>\n<!-- 109 -->\n<g id=\"node110\" class=\"node\">\n<title>109</title>\n<path fill=\"#399de5\" stroke=\"#000000\" d=\"M2042,-1545C2042,-1545 1967,-1545 1967,-1545 1961,-1545 1955,-1539 1955,-1533 1955,-1533 1955,-1489 1955,-1489 1955,-1483 1961,-1477 1967,-1477 1967,-1477 2042,-1477 2042,-1477 2048,-1477 2054,-1483 2054,-1489 2054,-1489 2054,-1533 2054,-1533 2054,-1539 2048,-1545 2042,-1545\"/>\n<text text-anchor=\"start\" x=\"1975\" y=\"-1529.8\" font-family=\"Helvetica,sans-Serif\" font-size=\"14.00\" fill=\"#000000\">gini = 0.0</text>\n<text text-anchor=\"start\" x=\"1965\" y=\"-1514.8\" font-family=\"Helvetica,sans-Serif\" font-size=\"14.00\" fill=\"#000000\">samples = 6</text>\n<text text-anchor=\"start\" x=\"1963\" y=\"-1499.8\" font-family=\"Helvetica,sans-Serif\" font-size=\"14.00\" fill=\"#000000\">value = [0, 6]</text>\n<text text-anchor=\"start\" x=\"1975.5\" y=\"-1484.8\" font-family=\"Helvetica,sans-Serif\" font-size=\"14.00\" fill=\"#000000\">class = 1</text>\n</g>\n<!-- 108&#45;&gt;109 -->\n<g id=\"edge109\" class=\"edge\">\n<title>108&#45;&gt;109</title>\n<path fill=\"none\" stroke=\"#000000\" d=\"M2004.5,-1585.7677C2004.5,-1576.0161 2004.5,-1565.4937 2004.5,-1555.509\"/>\n<polygon fill=\"#000000\" stroke=\"#000000\" points=\"2008.0001,-1555.3535 2004.5,-1545.3535 2001.0001,-1555.3536 2008.0001,-1555.3535\"/>\n</g>\n<!-- 110 -->\n<g id=\"node111\" class=\"node\">\n<title>110</title>\n<path fill=\"#d1e8f9\" stroke=\"#000000\" d=\"M2223.5,-1550C2223.5,-1550 2131.5,-1550 2131.5,-1550 2125.5,-1550 2119.5,-1544 2119.5,-1538 2119.5,-1538 2119.5,-1484 2119.5,-1484 2119.5,-1478 2125.5,-1472 2131.5,-1472 2131.5,-1472 2223.5,-1472 2223.5,-1472 2229.5,-1472 2235.5,-1478 2235.5,-1484 2235.5,-1484 2235.5,-1538 2235.5,-1538 2235.5,-1544 2229.5,-1550 2223.5,-1550\"/>\n<text text-anchor=\"start\" x=\"2140.5\" y=\"-1535.8\" font-family=\"Helvetica,sans-Serif\" font-size=\"14.00\" fill=\"#000000\">X</text>\n<text text-anchor=\"start\" x=\"2150.5\" y=\"-1535.8\" font-family=\"Helvetica,sans-Serif\" baseline-shift=\"sub\" font-size=\"14.00\" fill=\"#000000\">7</text>\n<text text-anchor=\"start\" x=\"2157.5\" y=\"-1535.8\" font-family=\"Helvetica,sans-Serif\" font-size=\"14.00\" fill=\"#000000\"> ≤ &#45;0.312</text>\n<text text-anchor=\"start\" x=\"2139.5\" y=\"-1521.8\" font-family=\"Helvetica,sans-Serif\" font-size=\"14.00\" fill=\"#000000\">gini = 0.491</text>\n<text text-anchor=\"start\" x=\"2133.5\" y=\"-1507.8\" font-family=\"Helvetica,sans-Serif\" font-size=\"14.00\" fill=\"#000000\">samples = 23</text>\n<text text-anchor=\"start\" x=\"2127.5\" y=\"-1493.8\" font-family=\"Helvetica,sans-Serif\" font-size=\"14.00\" fill=\"#000000\">value = [10, 13]</text>\n<text text-anchor=\"start\" x=\"2148.5\" y=\"-1479.8\" font-family=\"Helvetica,sans-Serif\" font-size=\"14.00\" fill=\"#000000\">class = 1</text>\n</g>\n<!-- 108&#45;&gt;110 -->\n<g id=\"edge110\" class=\"edge\">\n<title>108&#45;&gt;110</title>\n<path fill=\"none\" stroke=\"#000000\" d=\"M2062.5878,-1586.7225C2077.9929,-1576.5712 2094.7505,-1565.5286 2110.5841,-1555.0949\"/>\n<polygon fill=\"#000000\" stroke=\"#000000\" points=\"2112.8468,-1557.7955 2119.2711,-1549.3705 2108.9951,-1551.9504 2112.8468,-1557.7955\"/>\n</g>\n<!-- 111 -->\n<g id=\"node112\" class=\"node\">\n<title>111</title>\n<path fill=\"#6ab6ec\" stroke=\"#000000\" d=\"M2217.5,-1436C2217.5,-1436 2137.5,-1436 2137.5,-1436 2131.5,-1436 2125.5,-1430 2125.5,-1424 2125.5,-1424 2125.5,-1370 2125.5,-1370 2125.5,-1364 2131.5,-1358 2137.5,-1358 2137.5,-1358 2217.5,-1358 2217.5,-1358 2223.5,-1358 2229.5,-1364 2229.5,-1370 2229.5,-1370 2229.5,-1424 2229.5,-1424 2229.5,-1430 2223.5,-1436 2217.5,-1436\"/>\n<text text-anchor=\"start\" x=\"2140.5\" y=\"-1421.8\" font-family=\"Helvetica,sans-Serif\" font-size=\"14.00\" fill=\"#000000\">X</text>\n<text text-anchor=\"start\" x=\"2150.5\" y=\"-1421.8\" font-family=\"Helvetica,sans-Serif\" baseline-shift=\"sub\" font-size=\"14.00\" fill=\"#000000\">2</text>\n<text text-anchor=\"start\" x=\"2157.5\" y=\"-1421.8\" font-family=\"Helvetica,sans-Serif\" font-size=\"14.00\" fill=\"#000000\"> ≤ &#45;0.465</text>\n<text text-anchor=\"start\" x=\"2144\" y=\"-1407.8\" font-family=\"Helvetica,sans-Serif\" font-size=\"14.00\" fill=\"#000000\">gini = 0.32</text>\n<text text-anchor=\"start\" x=\"2133.5\" y=\"-1393.8\" font-family=\"Helvetica,sans-Serif\" font-size=\"14.00\" fill=\"#000000\">samples = 10</text>\n<text text-anchor=\"start\" x=\"2136\" y=\"-1379.8\" font-family=\"Helvetica,sans-Serif\" font-size=\"14.00\" fill=\"#000000\">value = [2, 8]</text>\n<text text-anchor=\"start\" x=\"2148.5\" y=\"-1365.8\" font-family=\"Helvetica,sans-Serif\" font-size=\"14.00\" fill=\"#000000\">class = 1</text>\n</g>\n<!-- 110&#45;&gt;111 -->\n<g id=\"edge111\" class=\"edge\">\n<title>110&#45;&gt;111</title>\n<path fill=\"none\" stroke=\"#000000\" d=\"M2177.5,-1471.7677C2177.5,-1463.6172 2177.5,-1454.9283 2177.5,-1446.4649\"/>\n<polygon fill=\"#000000\" stroke=\"#000000\" points=\"2181.0001,-1446.3046 2177.5,-1436.3046 2174.0001,-1446.3047 2181.0001,-1446.3046\"/>\n</g>\n<!-- 114 -->\n<g id=\"node115\" class=\"node\">\n<title>114</title>\n<path fill=\"#f5d0b5\" stroke=\"#000000\" d=\"M2351.5,-1436C2351.5,-1436 2271.5,-1436 2271.5,-1436 2265.5,-1436 2259.5,-1430 2259.5,-1424 2259.5,-1424 2259.5,-1370 2259.5,-1370 2259.5,-1364 2265.5,-1358 2271.5,-1358 2271.5,-1358 2351.5,-1358 2351.5,-1358 2357.5,-1358 2363.5,-1364 2363.5,-1370 2363.5,-1370 2363.5,-1424 2363.5,-1424 2363.5,-1430 2357.5,-1436 2351.5,-1436\"/>\n<text text-anchor=\"start\" x=\"2277\" y=\"-1421.8\" font-family=\"Helvetica,sans-Serif\" font-size=\"14.00\" fill=\"#000000\">X</text>\n<text text-anchor=\"start\" x=\"2287\" y=\"-1421.8\" font-family=\"Helvetica,sans-Serif\" baseline-shift=\"sub\" font-size=\"14.00\" fill=\"#000000\">5</text>\n<text text-anchor=\"start\" x=\"2294\" y=\"-1421.8\" font-family=\"Helvetica,sans-Serif\" font-size=\"14.00\" fill=\"#000000\"> ≤ 0.939</text>\n<text text-anchor=\"start\" x=\"2273.5\" y=\"-1407.8\" font-family=\"Helvetica,sans-Serif\" font-size=\"14.00\" fill=\"#000000\">gini = 0.473</text>\n<text text-anchor=\"start\" x=\"2267.5\" y=\"-1393.8\" font-family=\"Helvetica,sans-Serif\" font-size=\"14.00\" fill=\"#000000\">samples = 13</text>\n<text text-anchor=\"start\" x=\"2270\" y=\"-1379.8\" font-family=\"Helvetica,sans-Serif\" font-size=\"14.00\" fill=\"#000000\">value = [8, 5]</text>\n<text text-anchor=\"start\" x=\"2282.5\" y=\"-1365.8\" font-family=\"Helvetica,sans-Serif\" font-size=\"14.00\" fill=\"#000000\">class = 1</text>\n</g>\n<!-- 110&#45;&gt;114 -->\n<g id=\"edge114\" class=\"edge\">\n<title>110&#45;&gt;114</title>\n<path fill=\"none\" stroke=\"#000000\" d=\"M2223.6152,-1471.7677C2234.5642,-1462.4529 2246.3399,-1452.4347 2257.6017,-1442.8538\"/>\n<polygon fill=\"#000000\" stroke=\"#000000\" points=\"2259.9511,-1445.4503 2265.2998,-1436.3046 2255.4153,-1440.1187 2259.9511,-1445.4503\"/>\n</g>\n<!-- 112 -->\n<g id=\"node113\" class=\"node\">\n<title>112</title>\n<path fill=\"#e58139\" stroke=\"#000000\" d=\"M2112,-1317C2112,-1317 2037,-1317 2037,-1317 2031,-1317 2025,-1311 2025,-1305 2025,-1305 2025,-1261 2025,-1261 2025,-1255 2031,-1249 2037,-1249 2037,-1249 2112,-1249 2112,-1249 2118,-1249 2124,-1255 2124,-1261 2124,-1261 2124,-1305 2124,-1305 2124,-1311 2118,-1317 2112,-1317\"/>\n<text text-anchor=\"start\" x=\"2045\" y=\"-1301.8\" font-family=\"Helvetica,sans-Serif\" font-size=\"14.00\" fill=\"#000000\">gini = 0.0</text>\n<text text-anchor=\"start\" x=\"2035\" y=\"-1286.8\" font-family=\"Helvetica,sans-Serif\" font-size=\"14.00\" fill=\"#000000\">samples = 2</text>\n<text text-anchor=\"start\" x=\"2033\" y=\"-1271.8\" font-family=\"Helvetica,sans-Serif\" font-size=\"14.00\" fill=\"#000000\">value = [2, 0]</text>\n<text text-anchor=\"start\" x=\"2045.5\" y=\"-1256.8\" font-family=\"Helvetica,sans-Serif\" font-size=\"14.00\" fill=\"#000000\">class = 1</text>\n</g>\n<!-- 111&#45;&gt;112 -->\n<g id=\"edge112\" class=\"edge\">\n<title>111&#45;&gt;112</title>\n<path fill=\"none\" stroke=\"#000000\" d=\"M2142.0532,-1357.7677C2132.5007,-1347.1949 2122.1294,-1335.716 2112.4463,-1324.9988\"/>\n<polygon fill=\"#000000\" stroke=\"#000000\" points=\"2114.8398,-1322.4271 2105.5387,-1317.3535 2109.6458,-1327.1199 2114.8398,-1322.4271\"/>\n</g>\n<!-- 113 -->\n<g id=\"node114\" class=\"node\">\n<title>113</title>\n<path fill=\"#399de5\" stroke=\"#000000\" d=\"M2229,-1317C2229,-1317 2154,-1317 2154,-1317 2148,-1317 2142,-1311 2142,-1305 2142,-1305 2142,-1261 2142,-1261 2142,-1255 2148,-1249 2154,-1249 2154,-1249 2229,-1249 2229,-1249 2235,-1249 2241,-1255 2241,-1261 2241,-1261 2241,-1305 2241,-1305 2241,-1311 2235,-1317 2229,-1317\"/>\n<text text-anchor=\"start\" x=\"2162\" y=\"-1301.8\" font-family=\"Helvetica,sans-Serif\" font-size=\"14.00\" fill=\"#000000\">gini = 0.0</text>\n<text text-anchor=\"start\" x=\"2152\" y=\"-1286.8\" font-family=\"Helvetica,sans-Serif\" font-size=\"14.00\" fill=\"#000000\">samples = 8</text>\n<text text-anchor=\"start\" x=\"2150\" y=\"-1271.8\" font-family=\"Helvetica,sans-Serif\" font-size=\"14.00\" fill=\"#000000\">value = [0, 8]</text>\n<text text-anchor=\"start\" x=\"2162.5\" y=\"-1256.8\" font-family=\"Helvetica,sans-Serif\" font-size=\"14.00\" fill=\"#000000\">class = 1</text>\n</g>\n<!-- 111&#45;&gt;113 -->\n<g id=\"edge113\" class=\"edge\">\n<title>111&#45;&gt;113</title>\n<path fill=\"none\" stroke=\"#000000\" d=\"M2182.318,-1357.7677C2183.5156,-1348.0161 2184.8078,-1337.4937 2186.034,-1327.509\"/>\n<polygon fill=\"#000000\" stroke=\"#000000\" points=\"2189.5361,-1327.7056 2187.2811,-1317.3535 2182.5882,-1326.8523 2189.5361,-1327.7056\"/>\n</g>\n<!-- 115 -->\n<g id=\"node116\" class=\"node\">\n<title>115</title>\n<path fill=\"#efb083\" stroke=\"#000000\" d=\"M2351.5,-1322C2351.5,-1322 2271.5,-1322 2271.5,-1322 2265.5,-1322 2259.5,-1316 2259.5,-1310 2259.5,-1310 2259.5,-1256 2259.5,-1256 2259.5,-1250 2265.5,-1244 2271.5,-1244 2271.5,-1244 2351.5,-1244 2351.5,-1244 2357.5,-1244 2363.5,-1250 2363.5,-1256 2363.5,-1256 2363.5,-1310 2363.5,-1310 2363.5,-1316 2357.5,-1322 2351.5,-1322\"/>\n<text text-anchor=\"start\" x=\"2274.5\" y=\"-1307.8\" font-family=\"Helvetica,sans-Serif\" font-size=\"14.00\" fill=\"#000000\">X</text>\n<text text-anchor=\"start\" x=\"2284.5\" y=\"-1307.8\" font-family=\"Helvetica,sans-Serif\" baseline-shift=\"sub\" font-size=\"14.00\" fill=\"#000000\">5</text>\n<text text-anchor=\"start\" x=\"2291.5\" y=\"-1307.8\" font-family=\"Helvetica,sans-Serif\" font-size=\"14.00\" fill=\"#000000\"> ≤ &#45;0.249</text>\n<text text-anchor=\"start\" x=\"2273.5\" y=\"-1293.8\" font-family=\"Helvetica,sans-Serif\" font-size=\"14.00\" fill=\"#000000\">gini = 0.397</text>\n<text text-anchor=\"start\" x=\"2267.5\" y=\"-1279.8\" font-family=\"Helvetica,sans-Serif\" font-size=\"14.00\" fill=\"#000000\">samples = 11</text>\n<text text-anchor=\"start\" x=\"2270\" y=\"-1265.8\" font-family=\"Helvetica,sans-Serif\" font-size=\"14.00\" fill=\"#000000\">value = [8, 3]</text>\n<text text-anchor=\"start\" x=\"2282.5\" y=\"-1251.8\" font-family=\"Helvetica,sans-Serif\" font-size=\"14.00\" fill=\"#000000\">class = 1</text>\n</g>\n<!-- 114&#45;&gt;115 -->\n<g id=\"edge115\" class=\"edge\">\n<title>114&#45;&gt;115</title>\n<path fill=\"none\" stroke=\"#000000\" d=\"M2311.5,-1357.7677C2311.5,-1349.6172 2311.5,-1340.9283 2311.5,-1332.4649\"/>\n<polygon fill=\"#000000\" stroke=\"#000000\" points=\"2315.0001,-1332.3046 2311.5,-1322.3046 2308.0001,-1332.3047 2315.0001,-1332.3046\"/>\n</g>\n<!-- 122 -->\n<g id=\"node123\" class=\"node\">\n<title>122</title>\n<path fill=\"#399de5\" stroke=\"#000000\" d=\"M2469,-1317C2469,-1317 2394,-1317 2394,-1317 2388,-1317 2382,-1311 2382,-1305 2382,-1305 2382,-1261 2382,-1261 2382,-1255 2388,-1249 2394,-1249 2394,-1249 2469,-1249 2469,-1249 2475,-1249 2481,-1255 2481,-1261 2481,-1261 2481,-1305 2481,-1305 2481,-1311 2475,-1317 2469,-1317\"/>\n<text text-anchor=\"start\" x=\"2402\" y=\"-1301.8\" font-family=\"Helvetica,sans-Serif\" font-size=\"14.00\" fill=\"#000000\">gini = 0.0</text>\n<text text-anchor=\"start\" x=\"2392\" y=\"-1286.8\" font-family=\"Helvetica,sans-Serif\" font-size=\"14.00\" fill=\"#000000\">samples = 2</text>\n<text text-anchor=\"start\" x=\"2390\" y=\"-1271.8\" font-family=\"Helvetica,sans-Serif\" font-size=\"14.00\" fill=\"#000000\">value = [0, 2]</text>\n<text text-anchor=\"start\" x=\"2402.5\" y=\"-1256.8\" font-family=\"Helvetica,sans-Serif\" font-size=\"14.00\" fill=\"#000000\">class = 1</text>\n</g>\n<!-- 114&#45;&gt;122 -->\n<g id=\"edge122\" class=\"edge\">\n<title>114&#45;&gt;122</title>\n<path fill=\"none\" stroke=\"#000000\" d=\"M2352.7972,-1357.7677C2364.1425,-1346.9896 2376.4791,-1335.2699 2387.9469,-1324.3754\"/>\n<polygon fill=\"#000000\" stroke=\"#000000\" points=\"2390.499,-1326.7786 2395.3384,-1317.3535 2385.6777,-1321.7035 2390.499,-1326.7786\"/>\n</g>\n<!-- 116 -->\n<g id=\"node117\" class=\"node\">\n<title>116</title>\n<path fill=\"#f8e0ce\" stroke=\"#000000\" d=\"M2261,-1208C2261,-1208 2186,-1208 2186,-1208 2180,-1208 2174,-1202 2174,-1196 2174,-1196 2174,-1142 2174,-1142 2174,-1136 2180,-1130 2186,-1130 2186,-1130 2261,-1130 2261,-1130 2267,-1130 2273,-1136 2273,-1142 2273,-1142 2273,-1196 2273,-1196 2273,-1202 2267,-1208 2261,-1208\"/>\n<text text-anchor=\"start\" x=\"2186.5\" y=\"-1193.8\" font-family=\"Helvetica,sans-Serif\" font-size=\"14.00\" fill=\"#000000\">X</text>\n<text text-anchor=\"start\" x=\"2196.5\" y=\"-1193.8\" font-family=\"Helvetica,sans-Serif\" baseline-shift=\"sub\" font-size=\"14.00\" fill=\"#000000\">2</text>\n<text text-anchor=\"start\" x=\"2203.5\" y=\"-1193.8\" font-family=\"Helvetica,sans-Serif\" font-size=\"14.00\" fill=\"#000000\"> ≤ &#45;0.511</text>\n<text text-anchor=\"start\" x=\"2190\" y=\"-1179.8\" font-family=\"Helvetica,sans-Serif\" font-size=\"14.00\" fill=\"#000000\">gini = 0.49</text>\n<text text-anchor=\"start\" x=\"2184\" y=\"-1165.8\" font-family=\"Helvetica,sans-Serif\" font-size=\"14.00\" fill=\"#000000\">samples = 7</text>\n<text text-anchor=\"start\" x=\"2182\" y=\"-1151.8\" font-family=\"Helvetica,sans-Serif\" font-size=\"14.00\" fill=\"#000000\">value = [4, 3]</text>\n<text text-anchor=\"start\" x=\"2194.5\" y=\"-1137.8\" font-family=\"Helvetica,sans-Serif\" font-size=\"14.00\" fill=\"#000000\">class = 1</text>\n</g>\n<!-- 115&#45;&gt;116 -->\n<g id=\"edge116\" class=\"edge\">\n<title>115&#45;&gt;116</title>\n<path fill=\"none\" stroke=\"#000000\" d=\"M2281.2154,-1243.7677C2274.3707,-1234.9007 2267.034,-1225.3964 2259.9648,-1216.2385\"/>\n<polygon fill=\"#000000\" stroke=\"#000000\" points=\"2262.7216,-1214.0819 2253.8404,-1208.3046 2257.1804,-1218.3593 2262.7216,-1214.0819\"/>\n</g>\n<!-- 121 -->\n<g id=\"node122\" class=\"node\">\n<title>121</title>\n<path fill=\"#e58139\" stroke=\"#000000\" d=\"M2378,-1203C2378,-1203 2303,-1203 2303,-1203 2297,-1203 2291,-1197 2291,-1191 2291,-1191 2291,-1147 2291,-1147 2291,-1141 2297,-1135 2303,-1135 2303,-1135 2378,-1135 2378,-1135 2384,-1135 2390,-1141 2390,-1147 2390,-1147 2390,-1191 2390,-1191 2390,-1197 2384,-1203 2378,-1203\"/>\n<text text-anchor=\"start\" x=\"2311\" y=\"-1187.8\" font-family=\"Helvetica,sans-Serif\" font-size=\"14.00\" fill=\"#000000\">gini = 0.0</text>\n<text text-anchor=\"start\" x=\"2301\" y=\"-1172.8\" font-family=\"Helvetica,sans-Serif\" font-size=\"14.00\" fill=\"#000000\">samples = 4</text>\n<text text-anchor=\"start\" x=\"2299\" y=\"-1157.8\" font-family=\"Helvetica,sans-Serif\" font-size=\"14.00\" fill=\"#000000\">value = [4, 0]</text>\n<text text-anchor=\"start\" x=\"2311.5\" y=\"-1142.8\" font-family=\"Helvetica,sans-Serif\" font-size=\"14.00\" fill=\"#000000\">class = 1</text>\n</g>\n<!-- 115&#45;&gt;121 -->\n<g id=\"edge121\" class=\"edge\">\n<title>115&#45;&gt;121</title>\n<path fill=\"none\" stroke=\"#000000\" d=\"M2321.4802,-1243.7677C2323.9869,-1233.9135 2326.6939,-1223.2721 2329.2577,-1213.1939\"/>\n<polygon fill=\"#000000\" stroke=\"#000000\" points=\"2332.6875,-1213.9078 2331.7609,-1203.3535 2325.9036,-1212.182 2332.6875,-1213.9078\"/>\n</g>\n<!-- 117 -->\n<g id=\"node118\" class=\"node\">\n<title>117</title>\n<path fill=\"#e58139\" stroke=\"#000000\" d=\"M2173,-1089C2173,-1089 2098,-1089 2098,-1089 2092,-1089 2086,-1083 2086,-1077 2086,-1077 2086,-1033 2086,-1033 2086,-1027 2092,-1021 2098,-1021 2098,-1021 2173,-1021 2173,-1021 2179,-1021 2185,-1027 2185,-1033 2185,-1033 2185,-1077 2185,-1077 2185,-1083 2179,-1089 2173,-1089\"/>\n<text text-anchor=\"start\" x=\"2106\" y=\"-1073.8\" font-family=\"Helvetica,sans-Serif\" font-size=\"14.00\" fill=\"#000000\">gini = 0.0</text>\n<text text-anchor=\"start\" x=\"2096\" y=\"-1058.8\" font-family=\"Helvetica,sans-Serif\" font-size=\"14.00\" fill=\"#000000\">samples = 3</text>\n<text text-anchor=\"start\" x=\"2094\" y=\"-1043.8\" font-family=\"Helvetica,sans-Serif\" font-size=\"14.00\" fill=\"#000000\">value = [3, 0]</text>\n<text text-anchor=\"start\" x=\"2106.5\" y=\"-1028.8\" font-family=\"Helvetica,sans-Serif\" font-size=\"14.00\" fill=\"#000000\">class = 1</text>\n</g>\n<!-- 116&#45;&gt;117 -->\n<g id=\"edge117\" class=\"edge\">\n<title>116&#45;&gt;117</title>\n<path fill=\"none\" stroke=\"#000000\" d=\"M2193.2154,-1129.7677C2185.1332,-1119.2976 2176.3651,-1107.9388 2168.1613,-1097.3112\"/>\n<polygon fill=\"#000000\" stroke=\"#000000\" points=\"2170.8996,-1095.1307 2162.0185,-1089.3535 2165.3585,-1099.4081 2170.8996,-1095.1307\"/>\n</g>\n<!-- 118 -->\n<g id=\"node119\" class=\"node\">\n<title>118</title>\n<path fill=\"#7bbeee\" stroke=\"#000000\" d=\"M2290,-1094C2290,-1094 2215,-1094 2215,-1094 2209,-1094 2203,-1088 2203,-1082 2203,-1082 2203,-1028 2203,-1028 2203,-1022 2209,-1016 2215,-1016 2215,-1016 2290,-1016 2290,-1016 2296,-1016 2302,-1022 2302,-1028 2302,-1028 2302,-1082 2302,-1082 2302,-1088 2296,-1094 2290,-1094\"/>\n<text text-anchor=\"start\" x=\"2218\" y=\"-1079.8\" font-family=\"Helvetica,sans-Serif\" font-size=\"14.00\" fill=\"#000000\">X</text>\n<text text-anchor=\"start\" x=\"2228\" y=\"-1079.8\" font-family=\"Helvetica,sans-Serif\" baseline-shift=\"sub\" font-size=\"14.00\" fill=\"#000000\">1</text>\n<text text-anchor=\"start\" x=\"2235\" y=\"-1079.8\" font-family=\"Helvetica,sans-Serif\" font-size=\"14.00\" fill=\"#000000\"> ≤ 0.138</text>\n<text text-anchor=\"start\" x=\"2214.5\" y=\"-1065.8\" font-family=\"Helvetica,sans-Serif\" font-size=\"14.00\" fill=\"#000000\">gini = 0.375</text>\n<text text-anchor=\"start\" x=\"2213\" y=\"-1051.8\" font-family=\"Helvetica,sans-Serif\" font-size=\"14.00\" fill=\"#000000\">samples = 4</text>\n<text text-anchor=\"start\" x=\"2211\" y=\"-1037.8\" font-family=\"Helvetica,sans-Serif\" font-size=\"14.00\" fill=\"#000000\">value = [1, 3]</text>\n<text text-anchor=\"start\" x=\"2223.5\" y=\"-1023.8\" font-family=\"Helvetica,sans-Serif\" font-size=\"14.00\" fill=\"#000000\">class = 1</text>\n</g>\n<!-- 116&#45;&gt;118 -->\n<g id=\"edge118\" class=\"edge\">\n<title>116&#45;&gt;118</title>\n<path fill=\"none\" stroke=\"#000000\" d=\"M2233.4802,-1129.7677C2235.5763,-1121.5277 2237.8125,-1112.7372 2239.9878,-1104.1859\"/>\n<polygon fill=\"#000000\" stroke=\"#000000\" points=\"2243.428,-1104.8589 2242.5014,-1094.3046 2236.6441,-1103.1331 2243.428,-1104.8589\"/>\n</g>\n<!-- 119 -->\n<g id=\"node120\" class=\"node\">\n<title>119</title>\n<path fill=\"#399de5\" stroke=\"#000000\" d=\"M2259,-975C2259,-975 2184,-975 2184,-975 2178,-975 2172,-969 2172,-963 2172,-963 2172,-919 2172,-919 2172,-913 2178,-907 2184,-907 2184,-907 2259,-907 2259,-907 2265,-907 2271,-913 2271,-919 2271,-919 2271,-963 2271,-963 2271,-969 2265,-975 2259,-975\"/>\n<text text-anchor=\"start\" x=\"2192\" y=\"-959.8\" font-family=\"Helvetica,sans-Serif\" font-size=\"14.00\" fill=\"#000000\">gini = 0.0</text>\n<text text-anchor=\"start\" x=\"2182\" y=\"-944.8\" font-family=\"Helvetica,sans-Serif\" font-size=\"14.00\" fill=\"#000000\">samples = 3</text>\n<text text-anchor=\"start\" x=\"2180\" y=\"-929.8\" font-family=\"Helvetica,sans-Serif\" font-size=\"14.00\" fill=\"#000000\">value = [0, 3]</text>\n<text text-anchor=\"start\" x=\"2192.5\" y=\"-914.8\" font-family=\"Helvetica,sans-Serif\" font-size=\"14.00\" fill=\"#000000\">class = 1</text>\n</g>\n<!-- 118&#45;&gt;119 -->\n<g id=\"edge119\" class=\"edge\">\n<title>118&#45;&gt;119</title>\n<path fill=\"none\" stroke=\"#000000\" d=\"M2241.8316,-1015.7677C2239.1519,-1005.9135 2236.2582,-995.2721 2233.5176,-985.1939\"/>\n<polygon fill=\"#000000\" stroke=\"#000000\" points=\"2236.8432,-984.0847 2230.8417,-975.3535 2230.0885,-985.9215 2236.8432,-984.0847\"/>\n</g>\n<!-- 120 -->\n<g id=\"node121\" class=\"node\">\n<title>120</title>\n<path fill=\"#e58139\" stroke=\"#000000\" d=\"M2376,-975C2376,-975 2301,-975 2301,-975 2295,-975 2289,-969 2289,-963 2289,-963 2289,-919 2289,-919 2289,-913 2295,-907 2301,-907 2301,-907 2376,-907 2376,-907 2382,-907 2388,-913 2388,-919 2388,-919 2388,-963 2388,-963 2388,-969 2382,-975 2376,-975\"/>\n<text text-anchor=\"start\" x=\"2309\" y=\"-959.8\" font-family=\"Helvetica,sans-Serif\" font-size=\"14.00\" fill=\"#000000\">gini = 0.0</text>\n<text text-anchor=\"start\" x=\"2299\" y=\"-944.8\" font-family=\"Helvetica,sans-Serif\" font-size=\"14.00\" fill=\"#000000\">samples = 1</text>\n<text text-anchor=\"start\" x=\"2297\" y=\"-929.8\" font-family=\"Helvetica,sans-Serif\" font-size=\"14.00\" fill=\"#000000\">value = [1, 0]</text>\n<text text-anchor=\"start\" x=\"2309.5\" y=\"-914.8\" font-family=\"Helvetica,sans-Serif\" font-size=\"14.00\" fill=\"#000000\">class = 1</text>\n</g>\n<!-- 118&#45;&gt;120 -->\n<g id=\"edge120\" class=\"edge\">\n<title>118&#45;&gt;120</title>\n<path fill=\"none\" stroke=\"#000000\" d=\"M2282.0963,-1015.7677C2289.9174,-1005.4002 2298.3957,-994.1615 2306.3451,-983.624\"/>\n<polygon fill=\"#000000\" stroke=\"#000000\" points=\"2309.3559,-985.4446 2312.5842,-975.3535 2303.7676,-981.2289 2309.3559,-985.4446\"/>\n</g>\n</g>\n</svg>\n"
          },
          "metadata": {},
          "execution_count": 28
        }
      ]
    },
    {
      "cell_type": "markdown",
      "source": [
        "**akurasi model tanpa SMOTE**"
      ],
      "metadata": {
        "id": "xvhrjFWII95O"
      }
    },
    {
      "cell_type": "code",
      "source": [
        "y_pred_dt = dt_model.predict(X_test)\n",
        "accuracy_score_dt = accuracy_score(y_test, y_pred_dt)\n",
        "accuracy_score_dt"
      ],
      "metadata": {
        "colab": {
          "base_uri": "https://localhost:8080/"
        },
        "id": "pmaPjFwTPQNf",
        "outputId": "f7829dfe-fbf6-4c21-b5f3-11ff469a7279"
      },
      "execution_count": 29,
      "outputs": [
        {
          "output_type": "execute_result",
          "data": {
            "text/plain": [
              "0.7666666666666667"
            ]
          },
          "metadata": {},
          "execution_count": 29
        }
      ]
    },
    {
      "cell_type": "markdown",
      "source": [
        "**akurasi model dengan SMOTE**"
      ],
      "metadata": {
        "id": "WwFGGlX9JBA-"
      }
    },
    {
      "cell_type": "code",
      "source": [
        "y_pred_dts = dt_model_s.predict(Xs_test)\n",
        "accuracy_score_dts = accuracy_score(ys_test, y_pred_dts)\n",
        "accuracy_score_dts"
      ],
      "metadata": {
        "colab": {
          "base_uri": "https://localhost:8080/"
        },
        "id": "muNlbA6DGj2-",
        "outputId": "863eb798-48ea-42ef-ab45-ab1b0acdfeda"
      },
      "execution_count": 30,
      "outputs": [
        {
          "output_type": "execute_result",
          "data": {
            "text/plain": [
              "0.6585365853658537"
            ]
          },
          "metadata": {},
          "execution_count": 30
        }
      ]
    },
    {
      "cell_type": "markdown",
      "source": [
        "## Decision Tree with Bagging"
      ],
      "metadata": {
        "id": "xLJ6D0g7TNbP"
      }
    },
    {
      "cell_type": "code",
      "source": [
        "bag_clf = BaggingClassifier(\n",
        "            DecisionTreeClassifier(), \n",
        "            bootstrap=True, \n",
        "            n_jobs=-1\n",
        "          )\n",
        "bag_clf_s = BaggingClassifier(\n",
        "            DecisionTreeClassifier(), \n",
        "            bootstrap=True, \n",
        "            n_jobs=-1\n",
        "          )\n",
        "bag_clf.fit(X_train, y_train)\n",
        "bag_clf_s.fit(Xs_train, ys_train)"
      ],
      "metadata": {
        "colab": {
          "base_uri": "https://localhost:8080/"
        },
        "id": "tIX2YrGdT2pz",
        "outputId": "72095473-78d9-4039-8531-b6a3d30a0fd0"
      },
      "execution_count": 31,
      "outputs": [
        {
          "output_type": "execute_result",
          "data": {
            "text/plain": [
              "BaggingClassifier(base_estimator=DecisionTreeClassifier(), n_jobs=-1)"
            ]
          },
          "metadata": {},
          "execution_count": 31
        }
      ]
    },
    {
      "cell_type": "markdown",
      "source": [
        "**akurasi model tanpa SMOTE**"
      ],
      "metadata": {
        "id": "zaq8IN7xJHY0"
      }
    },
    {
      "cell_type": "code",
      "source": [
        "y_pred_dt_bag = bag_clf.predict(X_test)\n",
        "accuracy_score_dt_bag = accuracy_score(y_test, y_pred_dt_bag)\n",
        "accuracy_score_dt_bag"
      ],
      "metadata": {
        "colab": {
          "base_uri": "https://localhost:8080/"
        },
        "id": "bQVLnrfqUB-S",
        "outputId": "3e80faeb-b20b-44e8-bf9f-ce911a496b8b"
      },
      "execution_count": 32,
      "outputs": [
        {
          "output_type": "execute_result",
          "data": {
            "text/plain": [
              "0.6666666666666666"
            ]
          },
          "metadata": {},
          "execution_count": 32
        }
      ]
    },
    {
      "cell_type": "markdown",
      "source": [
        "**akurasi model dengan SMOTE**"
      ],
      "metadata": {
        "id": "-Udj4482JJW0"
      }
    },
    {
      "cell_type": "code",
      "source": [
        "y_pred_dt_bags = bag_clf_s.predict(Xs_test)\n",
        "accuracy_score_dt_bags = accuracy_score(ys_test, y_pred_dt_bags)\n",
        "accuracy_score_dt_bags"
      ],
      "metadata": {
        "colab": {
          "base_uri": "https://localhost:8080/"
        },
        "id": "VmtlwWN0IFSW",
        "outputId": "f69b90e8-6722-48e1-8c74-07b3d9d4a60c"
      },
      "execution_count": 33,
      "outputs": [
        {
          "output_type": "execute_result",
          "data": {
            "text/plain": [
              "0.7560975609756098"
            ]
          },
          "metadata": {},
          "execution_count": 33
        }
      ]
    },
    {
      "cell_type": "markdown",
      "source": [
        "## Random Forest"
      ],
      "metadata": {
        "id": "6efn7htaUU5T"
      }
    },
    {
      "cell_type": "code",
      "source": [
        "rnd_clf = RandomForestClassifier()\n",
        "rnd_clf_s = RandomForestClassifier()\n",
        "rnd_clf.fit(X_train, y_train)\n",
        "rnd_clf_s.fit(Xs_train, ys_train)"
      ],
      "metadata": {
        "colab": {
          "base_uri": "https://localhost:8080/"
        },
        "id": "BhTuyq9kUXC6",
        "outputId": "a1bc09c8-a460-4f55-e22c-55648a952d98"
      },
      "execution_count": 34,
      "outputs": [
        {
          "output_type": "execute_result",
          "data": {
            "text/plain": [
              "RandomForestClassifier()"
            ]
          },
          "metadata": {},
          "execution_count": 34
        }
      ]
    },
    {
      "cell_type": "markdown",
      "source": [
        "**akurasi model tanpa SMOTE**"
      ],
      "metadata": {
        "id": "vv3VCahkJmMF"
      }
    },
    {
      "cell_type": "code",
      "source": [
        "y_pred_rnd_clf = rnd_clf.predict(X_test)\n",
        "accuracy_score_rnd_clf = accuracy_score(y_test, y_pred_rnd_clf)\n",
        "accuracy_score_rnd_clf"
      ],
      "metadata": {
        "colab": {
          "base_uri": "https://localhost:8080/"
        },
        "id": "cPM4q4uZUn9Y",
        "outputId": "d844c698-886a-49ee-d5b1-c4a8e5d41e40"
      },
      "execution_count": 35,
      "outputs": [
        {
          "output_type": "execute_result",
          "data": {
            "text/plain": [
              "0.6666666666666666"
            ]
          },
          "metadata": {},
          "execution_count": 35
        }
      ]
    },
    {
      "cell_type": "markdown",
      "source": [
        "**akurasi model dengan SMOTE**"
      ],
      "metadata": {
        "id": "hwf-MYvuJneg"
      }
    },
    {
      "cell_type": "code",
      "source": [
        "y_pred_rnd_clfs = rnd_clf_s.predict(Xs_test)\n",
        "accuracy_score_rnd_clfs = accuracy_score(ys_test, y_pred_rnd_clfs)\n",
        "accuracy_score_rnd_clfs"
      ],
      "metadata": {
        "colab": {
          "base_uri": "https://localhost:8080/"
        },
        "id": "NxSpe6hmIeuk",
        "outputId": "f7f34ddd-dcb3-4277-84d1-b835ee46920c"
      },
      "execution_count": 36,
      "outputs": [
        {
          "output_type": "execute_result",
          "data": {
            "text/plain": [
              "0.8048780487804879"
            ]
          },
          "metadata": {},
          "execution_count": 36
        }
      ]
    },
    {
      "cell_type": "markdown",
      "source": [
        "## LogisticRegression"
      ],
      "metadata": {
        "id": "LvRI1tMFXBv5"
      }
    },
    {
      "cell_type": "code",
      "source": [
        "lgr_clf =LogisticRegression(random_state=42)\n",
        "lgr_clf_s =LogisticRegression(random_state=42)\n",
        "lgr_clf.fit(X_train, y_train)\n",
        "lgr_clf_s.fit(Xs_train, ys_train)"
      ],
      "metadata": {
        "colab": {
          "base_uri": "https://localhost:8080/"
        },
        "id": "SSSJcHMRXD16",
        "outputId": "a1541422-26df-4fca-91c7-75ab3d395860"
      },
      "execution_count": 37,
      "outputs": [
        {
          "output_type": "execute_result",
          "data": {
            "text/plain": [
              "LogisticRegression(random_state=42)"
            ]
          },
          "metadata": {},
          "execution_count": 37
        }
      ]
    },
    {
      "cell_type": "markdown",
      "source": [
        "**akurasi model tanpa SMOTE**"
      ],
      "metadata": {
        "id": "l2p39BQ5O3l8"
      }
    },
    {
      "cell_type": "code",
      "source": [
        "y_pred_lgr_clf = lgr_clf.predict(X_test)\n",
        "accuracy_score_lgr_clf = accuracy_score(y_test, y_pred_lgr_clf)\n",
        "accuracy_score_lgr_clf"
      ],
      "metadata": {
        "colab": {
          "base_uri": "https://localhost:8080/"
        },
        "id": "09RjTU35XNps",
        "outputId": "44dda32a-183f-4857-faad-a97283d89f4a"
      },
      "execution_count": 38,
      "outputs": [
        {
          "output_type": "execute_result",
          "data": {
            "text/plain": [
              "0.6666666666666666"
            ]
          },
          "metadata": {},
          "execution_count": 38
        }
      ]
    },
    {
      "cell_type": "markdown",
      "source": [
        "**akurasi model dengan SMOTE**"
      ],
      "metadata": {
        "id": "8GBOvIw0O4P7"
      }
    },
    {
      "cell_type": "code",
      "source": [
        "y_pred_lgr_clfs = lgr_clf_s.predict(Xs_test)\n",
        "accuracy_score_lgr_clfs = accuracy_score(ys_test, y_pred_lgr_clfs)\n",
        "accuracy_score_lgr_clfs"
      ],
      "metadata": {
        "colab": {
          "base_uri": "https://localhost:8080/"
        },
        "id": "rDprRPdhJwAt",
        "outputId": "d591c662-780c-4a66-9485-83493b544674"
      },
      "execution_count": 39,
      "outputs": [
        {
          "output_type": "execute_result",
          "data": {
            "text/plain": [
              "0.6829268292682927"
            ]
          },
          "metadata": {},
          "execution_count": 39
        }
      ]
    },
    {
      "cell_type": "markdown",
      "source": [
        "## SVM"
      ],
      "metadata": {
        "id": "H5OsarGOXjrV"
      }
    },
    {
      "cell_type": "code",
      "source": [
        "svc = SVC()\n",
        "svc_s = SVC()\n",
        "svc.fit(X_train, y_train)\n",
        "svc_s.fit(Xs_train, ys_train)"
      ],
      "metadata": {
        "colab": {
          "base_uri": "https://localhost:8080/"
        },
        "id": "TT99hAuYXkj0",
        "outputId": "41189ca7-6a23-457b-f579-fe0489db40ac"
      },
      "execution_count": 40,
      "outputs": [
        {
          "output_type": "execute_result",
          "data": {
            "text/plain": [
              "SVC()"
            ]
          },
          "metadata": {},
          "execution_count": 40
        }
      ]
    },
    {
      "cell_type": "markdown",
      "source": [
        "**akurasi model tanpa SMOTE**"
      ],
      "metadata": {
        "id": "yJUqaTlGPUtb"
      }
    },
    {
      "cell_type": "code",
      "source": [
        "y_pred_svc = svc.predict(X_test)\n",
        "accuracy_score_svc = accuracy_score(y_test, y_pred_svc)\n",
        "accuracy_score_svc"
      ],
      "metadata": {
        "colab": {
          "base_uri": "https://localhost:8080/"
        },
        "id": "BOkupapoXxoy",
        "outputId": "b7ec22bd-9c23-4bc5-cd9b-2942b5a7ab20"
      },
      "execution_count": 41,
      "outputs": [
        {
          "output_type": "execute_result",
          "data": {
            "text/plain": [
              "0.6333333333333333"
            ]
          },
          "metadata": {},
          "execution_count": 41
        }
      ]
    },
    {
      "cell_type": "markdown",
      "source": [
        "**akurasi model dengan SMOTE**"
      ],
      "metadata": {
        "id": "yNcWBQkmPVSd"
      }
    },
    {
      "cell_type": "code",
      "source": [
        "y_pred_svcs = svc_s.predict(Xs_test)\n",
        "accuracy_score_svcs = accuracy_score(ys_test, y_pred_svcs)\n",
        "accuracy_score_svcs"
      ],
      "metadata": {
        "colab": {
          "base_uri": "https://localhost:8080/"
        },
        "id": "dFsCy1d0O-xV",
        "outputId": "c09a64c7-4faa-4566-af55-882c6512e2f8"
      },
      "execution_count": 42,
      "outputs": [
        {
          "output_type": "execute_result",
          "data": {
            "text/plain": [
              "0.7560975609756098"
            ]
          },
          "metadata": {},
          "execution_count": 42
        }
      ]
    },
    {
      "cell_type": "markdown",
      "source": [
        "## VotingClassifier"
      ],
      "metadata": {
        "id": "bysaD46QXX6d"
      }
    },
    {
      "cell_type": "code",
      "source": [
        "voting_clf = VotingClassifier(\n",
        "                estimators=[('lr', lgr_clf), ('rf', rnd_clf), ('svc', svc)],\n",
        "                voting='hard'\n",
        "              )\n",
        "voting_clf_s = VotingClassifier(\n",
        "                estimators=[('lr', lgr_clf), ('rf', rnd_clf), ('svc', svc)],\n",
        "                voting='hard'\n",
        "              )\n",
        "voting_clf.fit(X_train, y_train)\n",
        "voting_clf_s.fit(Xs_train, ys_train)"
      ],
      "metadata": {
        "colab": {
          "base_uri": "https://localhost:8080/"
        },
        "id": "GrPIthRiX9wK",
        "outputId": "e88500c9-1ef6-4b65-9f51-8d97d5da7c02"
      },
      "execution_count": 43,
      "outputs": [
        {
          "output_type": "execute_result",
          "data": {
            "text/plain": [
              "VotingClassifier(estimators=[('lr', LogisticRegression(random_state=42)),\n",
              "                             ('rf', RandomForestClassifier()), ('svc', SVC())])"
            ]
          },
          "metadata": {},
          "execution_count": 43
        }
      ]
    },
    {
      "cell_type": "markdown",
      "source": [
        "**akurasi model tanpa SMOTE**"
      ],
      "metadata": {
        "id": "nmUpdgEmPrhF"
      }
    },
    {
      "cell_type": "code",
      "source": [
        "y_pred_voting = voting_clf.predict(X_test)\n",
        "accuracy_score_pred_voting = accuracy_score(y_test, y_pred_voting)\n",
        "accuracy_score_pred_voting"
      ],
      "metadata": {
        "colab": {
          "base_uri": "https://localhost:8080/"
        },
        "id": "b7Ah2PbJYGCg",
        "outputId": "6d5e34d0-dbb5-43bf-faea-9e69c8c07274"
      },
      "execution_count": 44,
      "outputs": [
        {
          "output_type": "execute_result",
          "data": {
            "text/plain": [
              "0.6333333333333333"
            ]
          },
          "metadata": {},
          "execution_count": 44
        }
      ]
    },
    {
      "cell_type": "markdown",
      "source": [
        "**akurasi model dengan SMOTE**"
      ],
      "metadata": {
        "id": "jM6sNKbQPsAE"
      }
    },
    {
      "cell_type": "code",
      "source": [
        "y_pred_votings = voting_clf_s.predict(Xs_test)\n",
        "accuracy_score_pred_votings = accuracy_score(ys_test, y_pred_votings)\n",
        "accuracy_score_pred_votings"
      ],
      "metadata": {
        "colab": {
          "base_uri": "https://localhost:8080/"
        },
        "id": "DNbdHhVQPiYN",
        "outputId": "bf557802-40c7-4e72-eb94-e2250b41244b"
      },
      "execution_count": 45,
      "outputs": [
        {
          "output_type": "execute_result",
          "data": {
            "text/plain": [
              "0.7560975609756098"
            ]
          },
          "metadata": {},
          "execution_count": 45
        }
      ]
    },
    {
      "cell_type": "markdown",
      "source": [
        "## XGBoost"
      ],
      "metadata": {
        "id": "Fco02wFguOeB"
      }
    },
    {
      "cell_type": "code",
      "source": [
        "xgb = XGBClassifier()\n",
        "xgb_s = XGBClassifier()\n",
        "xgb.fit(X_train, y_train)\n",
        "xgb_s.fit(Xs_train, ys_train)"
      ],
      "metadata": {
        "colab": {
          "base_uri": "https://localhost:8080/"
        },
        "id": "ftLHF4FUvB2f",
        "outputId": "f133336b-5b5b-48b0-891a-4e0ec7deafa3"
      },
      "execution_count": 46,
      "outputs": [
        {
          "output_type": "execute_result",
          "data": {
            "text/plain": [
              "XGBClassifier()"
            ]
          },
          "metadata": {},
          "execution_count": 46
        }
      ]
    },
    {
      "cell_type": "markdown",
      "source": [
        "**akurasi model tanpa SMOTE**"
      ],
      "metadata": {
        "id": "5Auh9akjP8Ab"
      }
    },
    {
      "cell_type": "code",
      "source": [
        "y_pred_xgb = xgb.predict(X_test)\n",
        "accuracy_score_xgb = accuracy_score(y_test, y_pred_xgb)\n",
        "accuracy_score_xgb"
      ],
      "metadata": {
        "colab": {
          "base_uri": "https://localhost:8080/"
        },
        "id": "Uu1hQ33mvHQV",
        "outputId": "0b8ab563-1bbb-482b-dfcd-81cf6e778386"
      },
      "execution_count": 47,
      "outputs": [
        {
          "output_type": "execute_result",
          "data": {
            "text/plain": [
              "0.6333333333333333"
            ]
          },
          "metadata": {},
          "execution_count": 47
        }
      ]
    },
    {
      "cell_type": "markdown",
      "source": [
        "**akurasi model dengan SMOTE**"
      ],
      "metadata": {
        "id": "M6_hEiS6P8fC"
      }
    },
    {
      "cell_type": "code",
      "source": [
        "y_pred_xgbs = xgb_s.predict(Xs_test)\n",
        "accuracy_score_xgbs = accuracy_score(ys_test, y_pred_xgbs)\n",
        "accuracy_score_xgbs"
      ],
      "metadata": {
        "colab": {
          "base_uri": "https://localhost:8080/"
        },
        "id": "x8plBJbGP3K9",
        "outputId": "f4d3559d-85c0-4e46-d7ef-2a26d9a4b60e"
      },
      "execution_count": 48,
      "outputs": [
        {
          "output_type": "execute_result",
          "data": {
            "text/plain": [
              "0.8292682926829268"
            ]
          },
          "metadata": {},
          "execution_count": 48
        }
      ]
    },
    {
      "cell_type": "markdown",
      "source": [
        "## AdaBoost"
      ],
      "metadata": {
        "id": "a-7AgupeuxlF"
      }
    },
    {
      "cell_type": "code",
      "source": [
        "ada_clf = AdaBoostClassifier(\n",
        "            DecisionTreeClassifier(), \n",
        "            n_estimators=299,\n",
        "            algorithm=\"SAMME.R\", \n",
        "            learning_rate=0.35\n",
        "          )\n",
        "\n",
        "ada_clf_s = AdaBoostClassifier(\n",
        "            DecisionTreeClassifier(), \n",
        "            n_estimators=299,\n",
        "            algorithm=\"SAMME.R\", \n",
        "            learning_rate=0.35\n",
        "          )\n",
        "\n",
        "ada_clf.fit(X_train, y_train)\n",
        "ada_clf_s.fit(Xs_train, ys_train)"
      ],
      "metadata": {
        "id": "WABr2s85wB2m",
        "colab": {
          "base_uri": "https://localhost:8080/"
        },
        "outputId": "2d09b6cf-5c1f-46be-ee94-73044cffc223"
      },
      "execution_count": 49,
      "outputs": [
        {
          "output_type": "execute_result",
          "data": {
            "text/plain": [
              "AdaBoostClassifier(base_estimator=DecisionTreeClassifier(), learning_rate=0.35,\n",
              "                   n_estimators=299)"
            ]
          },
          "metadata": {},
          "execution_count": 49
        }
      ]
    },
    {
      "cell_type": "markdown",
      "source": [
        "**akurasi model tanpa SMOTE**"
      ],
      "metadata": {
        "id": "ESrESMBwQJ0m"
      }
    },
    {
      "cell_type": "code",
      "source": [
        "y_pred_adaBoost = ada_clf.predict(X_test)\n",
        "accuracy_score_adaBoost = accuracy_score(y_test, y_pred_adaBoost)\n",
        "accuracy_score_adaBoost"
      ],
      "metadata": {
        "id": "QC5Pu7yWv0Am",
        "colab": {
          "base_uri": "https://localhost:8080/"
        },
        "outputId": "31d54c91-412e-4c86-80b7-0555eec2e2b6"
      },
      "execution_count": 50,
      "outputs": [
        {
          "output_type": "execute_result",
          "data": {
            "text/plain": [
              "0.7333333333333333"
            ]
          },
          "metadata": {},
          "execution_count": 50
        }
      ]
    },
    {
      "cell_type": "markdown",
      "source": [
        "**akurasi model dengan SMOTE**"
      ],
      "metadata": {
        "id": "qmrLsAF2QLEM"
      }
    },
    {
      "cell_type": "code",
      "source": [
        "y_pred_adaBoosts = ada_clf_s.predict(Xs_test)\n",
        "accuracy_score_adaBoosts = accuracy_score(ys_test, y_pred_adaBoosts)\n",
        "accuracy_score_adaBoosts"
      ],
      "metadata": {
        "colab": {
          "base_uri": "https://localhost:8080/"
        },
        "id": "3aquZ08KQDCT",
        "outputId": "6c886e4c-d9cc-4171-8a11-e286b9485dcf"
      },
      "execution_count": 51,
      "outputs": [
        {
          "output_type": "execute_result",
          "data": {
            "text/plain": [
              "0.6585365853658537"
            ]
          },
          "metadata": {},
          "execution_count": 51
        }
      ]
    },
    {
      "cell_type": "markdown",
      "source": [
        "## Extra Trees Classifier"
      ],
      "metadata": {
        "id": "l1tQb_tGvVyC"
      }
    },
    {
      "cell_type": "code",
      "source": [
        "extra_tree = ExtraTreesClassifier()\n",
        "extra_tree_s = ExtraTreesClassifier()\n",
        "extra_tree.fit(X_train, y_train)\n",
        "extra_tree_s.fit(Xs_train, ys_train)"
      ],
      "metadata": {
        "id": "woMZ9W1YvdcW",
        "colab": {
          "base_uri": "https://localhost:8080/"
        },
        "outputId": "ae814aeb-c10b-4a15-debd-7ad538380845"
      },
      "execution_count": 52,
      "outputs": [
        {
          "output_type": "execute_result",
          "data": {
            "text/plain": [
              "ExtraTreesClassifier()"
            ]
          },
          "metadata": {},
          "execution_count": 52
        }
      ]
    },
    {
      "cell_type": "markdown",
      "source": [
        "**akurasi model tanpa SMOTE**"
      ],
      "metadata": {
        "id": "lbbOprbVQdpE"
      }
    },
    {
      "cell_type": "code",
      "source": [
        "y_pred_tree = extra_tree.predict(X_test)\n",
        "accuracy_score_tree = accuracy_score(y_test, y_pred_tree)\n",
        "accuracy_score_tree"
      ],
      "metadata": {
        "colab": {
          "base_uri": "https://localhost:8080/"
        },
        "id": "6hgcYJLUCc4F",
        "outputId": "2c0f7265-8804-41d8-d5b1-d9f75d2df8b8"
      },
      "execution_count": 53,
      "outputs": [
        {
          "output_type": "execute_result",
          "data": {
            "text/plain": [
              "0.6333333333333333"
            ]
          },
          "metadata": {},
          "execution_count": 53
        }
      ]
    },
    {
      "cell_type": "markdown",
      "source": [
        "**akurasi model dengan SMOTE**"
      ],
      "metadata": {
        "id": "5udIMe0UQe3t"
      }
    },
    {
      "cell_type": "code",
      "source": [
        "y_pred_trees = extra_tree_s.predict(Xs_test)\n",
        "accuracy_score_trees = accuracy_score(ys_test, y_pred_trees)\n",
        "accuracy_score_trees"
      ],
      "metadata": {
        "colab": {
          "base_uri": "https://localhost:8080/"
        },
        "id": "VwrqI7bhQWxr",
        "outputId": "6f725e8e-e3de-4aee-d1a5-39dffe28d07b"
      },
      "execution_count": 54,
      "outputs": [
        {
          "output_type": "execute_result",
          "data": {
            "text/plain": [
              "0.8536585365853658"
            ]
          },
          "metadata": {},
          "execution_count": 54
        }
      ]
    },
    {
      "cell_type": "markdown",
      "source": [
        "## GradientBoost"
      ],
      "metadata": {
        "id": "4kjBE8aMvpLD"
      }
    },
    {
      "cell_type": "code",
      "source": [
        "grad_clf = GradientBoostingClassifier()\n",
        "grad_clf_s = GradientBoostingClassifier()\n",
        "grad_clf.fit(X_train, y_train)\n",
        "grad_clf_s.fit(Xs_train, ys_train)"
      ],
      "metadata": {
        "id": "dd3azCn3vrw6",
        "colab": {
          "base_uri": "https://localhost:8080/"
        },
        "outputId": "840bfd89-d88d-43bd-ac28-7be4938ec554"
      },
      "execution_count": 55,
      "outputs": [
        {
          "output_type": "execute_result",
          "data": {
            "text/plain": [
              "GradientBoostingClassifier()"
            ]
          },
          "metadata": {},
          "execution_count": 55
        }
      ]
    },
    {
      "cell_type": "markdown",
      "source": [
        "**akurasi model tanpa SMOTE**"
      ],
      "metadata": {
        "id": "1JjrT5DtQ1zs"
      }
    },
    {
      "cell_type": "code",
      "source": [
        "y_pred_grad_clf = grad_clf.predict(X_test)\n",
        "accuracy_score_grad_clf = accuracy_score(y_test, y_pred_grad_clf)\n",
        "accuracy_score_grad_clf"
      ],
      "metadata": {
        "colab": {
          "base_uri": "https://localhost:8080/"
        },
        "id": "Ct4ok7gmDUiV",
        "outputId": "07a0eb8b-83b8-4fa1-f09f-155030b8c613"
      },
      "execution_count": 56,
      "outputs": [
        {
          "output_type": "execute_result",
          "data": {
            "text/plain": [
              "0.6333333333333333"
            ]
          },
          "metadata": {},
          "execution_count": 56
        }
      ]
    },
    {
      "cell_type": "markdown",
      "source": [
        "**akurasi model dengan SMOTE**"
      ],
      "metadata": {
        "id": "FUWFjjL4Q2VL"
      }
    },
    {
      "cell_type": "code",
      "source": [
        "y_pred_grad_clfs = grad_clf_s.predict(Xs_test)\n",
        "accuracy_score_grad_clfs = accuracy_score(ys_test, y_pred_grad_clfs)\n",
        "accuracy_score_grad_clfs"
      ],
      "metadata": {
        "colab": {
          "base_uri": "https://localhost:8080/"
        },
        "id": "Ec-FfOnuQqUD",
        "outputId": "3c1804da-c6b5-43c4-c42b-a4aea3aae5eb"
      },
      "execution_count": 57,
      "outputs": [
        {
          "output_type": "execute_result",
          "data": {
            "text/plain": [
              "0.7560975609756098"
            ]
          },
          "metadata": {},
          "execution_count": 57
        }
      ]
    },
    {
      "cell_type": "markdown",
      "metadata": {
        "id": "E4A6e018r5yZ"
      },
      "source": [
        "# Evaluasi Model"
      ]
    },
    {
      "cell_type": "code",
      "source": [
        "list_pred = [y_pred_dt,\n",
        "             y_pred_dt_bag,\n",
        "             y_pred_rnd_clf,\n",
        "             y_pred_lgr_clf,\n",
        "             y_pred_svc,\n",
        "             y_pred_voting,\n",
        "             y_pred_xgb,\n",
        "             y_pred_adaBoost,\n",
        "             y_pred_tree,\n",
        "             y_pred_grad_clf]\n",
        "\n",
        "list_pred_s = [y_pred_dts,\n",
        "               y_pred_dt_bags,\n",
        "               y_pred_rnd_clfs,\n",
        "               y_pred_lgr_clfs,\n",
        "               y_pred_svcs,\n",
        "               y_pred_votings,\n",
        "               y_pred_xgbs,\n",
        "               y_pred_adaBoosts,\n",
        "               y_pred_trees,\n",
        "               y_pred_grad_clfs]\n",
        "\n",
        "list_model = ['Decision Tree',\n",
        "              'Decision Tree with Bagging',\n",
        "              'Random Forest Classifier',\n",
        "              'Logistic Regression',\n",
        "              'Support Vector Classifier',\n",
        "              'Voting Classifier',\n",
        "              'XGBoost',\n",
        "              'AdaBoost',\n",
        "              'Extra Trees Classifier',\n",
        "              'GradientBoost']"
      ],
      "metadata": {
        "id": "-NInk6jAZcCN"
      },
      "execution_count": 58,
      "outputs": []
    },
    {
      "cell_type": "markdown",
      "source": [
        "## F1 Score"
      ],
      "metadata": {
        "id": "EUrh7GCnY082"
      }
    },
    {
      "cell_type": "code",
      "source": [
        "for i in range(len(list_pred)):\n",
        "  print('F1 score dari model {} tanpa SMOTE adalah {}'.format(list_model[i], f1_score(y_test,list_pred[i])))\n",
        "  print('F1 score dari model {} dengan SMOTE adalah {}'.format(list_model[i], f1_score(ys_test,list_pred_s[i])))\n",
        "  print('============================================')"
      ],
      "metadata": {
        "colab": {
          "base_uri": "https://localhost:8080/"
        },
        "id": "Df0VjKzcZVNB",
        "outputId": "6a121aea-e581-446d-e28b-24f5c6e0b785"
      },
      "execution_count": 59,
      "outputs": [
        {
          "output_type": "stream",
          "name": "stdout",
          "text": [
            "F1 score dari model Decision Tree tanpa SMOTE adalah 0.6666666666666666\n",
            "F1 score dari model Decision Tree dengan SMOTE adalah 0.65\n",
            "============================================\n",
            "F1 score dari model Decision Tree with Bagging tanpa SMOTE adalah 0.5\n",
            "F1 score dari model Decision Tree with Bagging dengan SMOTE adalah 0.7368421052631577\n",
            "============================================\n",
            "F1 score dari model Random Forest Classifier tanpa SMOTE adalah 0.4444444444444444\n",
            "F1 score dari model Random Forest Classifier dengan SMOTE adalah 0.7999999999999999\n",
            "============================================\n",
            "F1 score dari model Logistic Regression tanpa SMOTE adalah 0.375\n",
            "F1 score dari model Logistic Regression dengan SMOTE adalah 0.6829268292682927\n",
            "============================================\n",
            "F1 score dari model Support Vector Classifier tanpa SMOTE adalah 0.4210526315789474\n",
            "F1 score dari model Support Vector Classifier dengan SMOTE adalah 0.7499999999999999\n",
            "============================================\n",
            "F1 score dari model Voting Classifier tanpa SMOTE adalah 0.35294117647058826\n",
            "F1 score dari model Voting Classifier dengan SMOTE adalah 0.7499999999999999\n",
            "============================================\n",
            "F1 score dari model XGBoost tanpa SMOTE adalah 0.4210526315789474\n",
            "F1 score dari model XGBoost dengan SMOTE adalah 0.8292682926829269\n",
            "============================================\n",
            "F1 score dari model AdaBoost tanpa SMOTE adalah 0.6\n",
            "F1 score dari model AdaBoost dengan SMOTE adalah 0.65\n",
            "============================================\n",
            "F1 score dari model Extra Trees Classifier tanpa SMOTE adalah 0.4761904761904762\n",
            "F1 score dari model Extra Trees Classifier dengan SMOTE adalah 0.85\n",
            "============================================\n",
            "F1 score dari model GradientBoost tanpa SMOTE adalah 0.4210526315789474\n",
            "F1 score dari model GradientBoost dengan SMOTE adalah 0.761904761904762\n",
            "============================================\n"
          ]
        }
      ]
    },
    {
      "cell_type": "markdown",
      "source": [
        "## Recall"
      ],
      "metadata": {
        "id": "p7lBY-jJY2dQ"
      }
    },
    {
      "cell_type": "code",
      "source": [
        "for i in range(len(list_pred)):\n",
        "  print('Recall score dari model {} tanpa SMOTE adalah {}'.format(list_model[i], recall_score(y_test,list_pred[i])))\n",
        "  print('Recall score dari model {} dengan SMOTE adalah {}'.format(list_model[i], recall_score(ys_test,list_pred_s[i])))\n",
        "  print('============================================')"
      ],
      "metadata": {
        "colab": {
          "base_uri": "https://localhost:8080/"
        },
        "id": "pn9u9bBobGH3",
        "outputId": "06b0dd59-dc45-446f-cc03-ce094d8949c3"
      },
      "execution_count": 60,
      "outputs": [
        {
          "output_type": "stream",
          "name": "stdout",
          "text": [
            "Recall score dari model Decision Tree tanpa SMOTE adalah 0.5833333333333334\n",
            "Recall score dari model Decision Tree dengan SMOTE adalah 0.7222222222222222\n",
            "============================================\n",
            "Recall score dari model Decision Tree with Bagging tanpa SMOTE adalah 0.4166666666666667\n",
            "Recall score dari model Decision Tree with Bagging dengan SMOTE adalah 0.7777777777777778\n",
            "============================================\n",
            "Recall score dari model Random Forest Classifier tanpa SMOTE adalah 0.3333333333333333\n",
            "Recall score dari model Random Forest Classifier dengan SMOTE adalah 0.8888888888888888\n",
            "============================================\n",
            "Recall score dari model Logistic Regression tanpa SMOTE adalah 0.25\n",
            "Recall score dari model Logistic Regression dengan SMOTE adalah 0.7777777777777778\n",
            "============================================\n",
            "Recall score dari model Support Vector Classifier tanpa SMOTE adalah 0.3333333333333333\n",
            "Recall score dari model Support Vector Classifier dengan SMOTE adalah 0.8333333333333334\n",
            "============================================\n",
            "Recall score dari model Voting Classifier tanpa SMOTE adalah 0.25\n",
            "Recall score dari model Voting Classifier dengan SMOTE adalah 0.8333333333333334\n",
            "============================================\n",
            "Recall score dari model XGBoost tanpa SMOTE adalah 0.3333333333333333\n",
            "Recall score dari model XGBoost dengan SMOTE adalah 0.9444444444444444\n",
            "============================================\n",
            "Recall score dari model AdaBoost tanpa SMOTE adalah 0.5\n",
            "Recall score dari model AdaBoost dengan SMOTE adalah 0.7222222222222222\n",
            "============================================\n",
            "Recall score dari model Extra Trees Classifier tanpa SMOTE adalah 0.4166666666666667\n",
            "Recall score dari model Extra Trees Classifier dengan SMOTE adalah 0.9444444444444444\n",
            "============================================\n",
            "Recall score dari model GradientBoost tanpa SMOTE adalah 0.3333333333333333\n",
            "Recall score dari model GradientBoost dengan SMOTE adalah 0.8888888888888888\n",
            "============================================\n"
          ]
        }
      ]
    },
    {
      "cell_type": "markdown",
      "source": [
        "## Precision"
      ],
      "metadata": {
        "id": "ve9rDQRyY5pW"
      }
    },
    {
      "cell_type": "code",
      "source": [
        "for i in range(len(list_pred)):\n",
        "  print('Precision score dari model {} tanpa SMOTE adalah {}'.format(list_model[i], precision_score(y_test,list_pred[i])))\n",
        "  print('Precision score dari model {} dengan SMOTE adalah {}'.format(list_model[i], precision_score(ys_test,list_pred_s[i])))\n",
        "  print('============================================')"
      ],
      "metadata": {
        "colab": {
          "base_uri": "https://localhost:8080/"
        },
        "id": "MpSUf5x6bK6i",
        "outputId": "fa90adc4-741b-4d62-f4d6-6a8938f54ab8"
      },
      "execution_count": 61,
      "outputs": [
        {
          "output_type": "stream",
          "name": "stdout",
          "text": [
            "Precision score dari model Decision Tree tanpa SMOTE adalah 0.7777777777777778\n",
            "Precision score dari model Decision Tree dengan SMOTE adalah 0.5909090909090909\n",
            "============================================\n",
            "Precision score dari model Decision Tree with Bagging tanpa SMOTE adalah 0.625\n",
            "Precision score dari model Decision Tree with Bagging dengan SMOTE adalah 0.7\n",
            "============================================\n",
            "Precision score dari model Random Forest Classifier tanpa SMOTE adalah 0.6666666666666666\n",
            "Precision score dari model Random Forest Classifier dengan SMOTE adalah 0.7272727272727273\n",
            "============================================\n",
            "Precision score dari model Logistic Regression tanpa SMOTE adalah 0.75\n",
            "Precision score dari model Logistic Regression dengan SMOTE adalah 0.6086956521739131\n",
            "============================================\n",
            "Precision score dari model Support Vector Classifier tanpa SMOTE adalah 0.5714285714285714\n",
            "Precision score dari model Support Vector Classifier dengan SMOTE adalah 0.6818181818181818\n",
            "============================================\n",
            "Precision score dari model Voting Classifier tanpa SMOTE adalah 0.6\n",
            "Precision score dari model Voting Classifier dengan SMOTE adalah 0.6818181818181818\n",
            "============================================\n",
            "Precision score dari model XGBoost tanpa SMOTE adalah 0.5714285714285714\n",
            "Precision score dari model XGBoost dengan SMOTE adalah 0.7391304347826086\n",
            "============================================\n",
            "Precision score dari model AdaBoost tanpa SMOTE adalah 0.75\n",
            "Precision score dari model AdaBoost dengan SMOTE adalah 0.5909090909090909\n",
            "============================================\n",
            "Precision score dari model Extra Trees Classifier tanpa SMOTE adalah 0.5555555555555556\n",
            "Precision score dari model Extra Trees Classifier dengan SMOTE adalah 0.7727272727272727\n",
            "============================================\n",
            "Precision score dari model GradientBoost tanpa SMOTE adalah 0.5714285714285714\n",
            "Precision score dari model GradientBoost dengan SMOTE adalah 0.6666666666666666\n",
            "============================================\n"
          ]
        }
      ]
    },
    {
      "cell_type": "markdown",
      "source": [
        "## Classification Report"
      ],
      "metadata": {
        "id": "2KkzVC3tRKgU"
      }
    },
    {
      "cell_type": "code",
      "source": [
        "for i in range(len(list_pred)):\n",
        "  print('=====================================================================')\n",
        "  print('Classification report dari model {} tanpa menggunakan SMOTE'.format(list_model[i]))\n",
        "  print('=====================================================================')\n",
        "  print('{}'.format(classification_report(y_test,list_pred[i])))\n",
        "  print('\\n')\n",
        "  print('=====================================================================')\n",
        "  print('Classification report dari model {} dengan menggunakan SMOTE'.format(list_model[i]))\n",
        "  print('=====================================================================')\n",
        "  print('{}'.format(classification_report(ys_test,list_pred_s[i])))"
      ],
      "metadata": {
        "colab": {
          "base_uri": "https://localhost:8080/"
        },
        "id": "OnjHBEHnROJj",
        "outputId": "095c9876-4af3-49df-9bbc-8dbf80e3fd03"
      },
      "execution_count": 62,
      "outputs": [
        {
          "output_type": "stream",
          "name": "stdout",
          "text": [
            "=====================================================================\n",
            "Classification report dari model Decision Tree tanpa menggunakan SMOTE\n",
            "=====================================================================\n",
            "              precision    recall  f1-score   support\n",
            "\n",
            "           0       0.76      0.89      0.82        18\n",
            "           1       0.78      0.58      0.67        12\n",
            "\n",
            "    accuracy                           0.77        30\n",
            "   macro avg       0.77      0.74      0.74        30\n",
            "weighted avg       0.77      0.77      0.76        30\n",
            "\n",
            "\n",
            "\n",
            "=====================================================================\n",
            "Classification report dari model Decision Tree dengan menggunakan SMOTE\n",
            "=====================================================================\n",
            "              precision    recall  f1-score   support\n",
            "\n",
            "           0       0.74      0.61      0.67        23\n",
            "           1       0.59      0.72      0.65        18\n",
            "\n",
            "    accuracy                           0.66        41\n",
            "   macro avg       0.66      0.67      0.66        41\n",
            "weighted avg       0.67      0.66      0.66        41\n",
            "\n",
            "=====================================================================\n",
            "Classification report dari model Decision Tree with Bagging tanpa menggunakan SMOTE\n",
            "=====================================================================\n",
            "              precision    recall  f1-score   support\n",
            "\n",
            "           0       0.68      0.83      0.75        18\n",
            "           1       0.62      0.42      0.50        12\n",
            "\n",
            "    accuracy                           0.67        30\n",
            "   macro avg       0.65      0.62      0.62        30\n",
            "weighted avg       0.66      0.67      0.65        30\n",
            "\n",
            "\n",
            "\n",
            "=====================================================================\n",
            "Classification report dari model Decision Tree with Bagging dengan menggunakan SMOTE\n",
            "=====================================================================\n",
            "              precision    recall  f1-score   support\n",
            "\n",
            "           0       0.81      0.74      0.77        23\n",
            "           1       0.70      0.78      0.74        18\n",
            "\n",
            "    accuracy                           0.76        41\n",
            "   macro avg       0.75      0.76      0.75        41\n",
            "weighted avg       0.76      0.76      0.76        41\n",
            "\n",
            "=====================================================================\n",
            "Classification report dari model Random Forest Classifier tanpa menggunakan SMOTE\n",
            "=====================================================================\n",
            "              precision    recall  f1-score   support\n",
            "\n",
            "           0       0.67      0.89      0.76        18\n",
            "           1       0.67      0.33      0.44        12\n",
            "\n",
            "    accuracy                           0.67        30\n",
            "   macro avg       0.67      0.61      0.60        30\n",
            "weighted avg       0.67      0.67      0.63        30\n",
            "\n",
            "\n",
            "\n",
            "=====================================================================\n",
            "Classification report dari model Random Forest Classifier dengan menggunakan SMOTE\n",
            "=====================================================================\n",
            "              precision    recall  f1-score   support\n",
            "\n",
            "           0       0.89      0.74      0.81        23\n",
            "           1       0.73      0.89      0.80        18\n",
            "\n",
            "    accuracy                           0.80        41\n",
            "   macro avg       0.81      0.81      0.80        41\n",
            "weighted avg       0.82      0.80      0.81        41\n",
            "\n",
            "=====================================================================\n",
            "Classification report dari model Logistic Regression tanpa menggunakan SMOTE\n",
            "=====================================================================\n",
            "              precision    recall  f1-score   support\n",
            "\n",
            "           0       0.65      0.94      0.77        18\n",
            "           1       0.75      0.25      0.38        12\n",
            "\n",
            "    accuracy                           0.67        30\n",
            "   macro avg       0.70      0.60      0.57        30\n",
            "weighted avg       0.69      0.67      0.61        30\n",
            "\n",
            "\n",
            "\n",
            "=====================================================================\n",
            "Classification report dari model Logistic Regression dengan menggunakan SMOTE\n",
            "=====================================================================\n",
            "              precision    recall  f1-score   support\n",
            "\n",
            "           0       0.78      0.61      0.68        23\n",
            "           1       0.61      0.78      0.68        18\n",
            "\n",
            "    accuracy                           0.68        41\n",
            "   macro avg       0.69      0.69      0.68        41\n",
            "weighted avg       0.70      0.68      0.68        41\n",
            "\n",
            "=====================================================================\n",
            "Classification report dari model Support Vector Classifier tanpa menggunakan SMOTE\n",
            "=====================================================================\n",
            "              precision    recall  f1-score   support\n",
            "\n",
            "           0       0.65      0.83      0.73        18\n",
            "           1       0.57      0.33      0.42        12\n",
            "\n",
            "    accuracy                           0.63        30\n",
            "   macro avg       0.61      0.58      0.58        30\n",
            "weighted avg       0.62      0.63      0.61        30\n",
            "\n",
            "\n",
            "\n",
            "=====================================================================\n",
            "Classification report dari model Support Vector Classifier dengan menggunakan SMOTE\n",
            "=====================================================================\n",
            "              precision    recall  f1-score   support\n",
            "\n",
            "           0       0.84      0.70      0.76        23\n",
            "           1       0.68      0.83      0.75        18\n",
            "\n",
            "    accuracy                           0.76        41\n",
            "   macro avg       0.76      0.76      0.76        41\n",
            "weighted avg       0.77      0.76      0.76        41\n",
            "\n",
            "=====================================================================\n",
            "Classification report dari model Voting Classifier tanpa menggunakan SMOTE\n",
            "=====================================================================\n",
            "              precision    recall  f1-score   support\n",
            "\n",
            "           0       0.64      0.89      0.74        18\n",
            "           1       0.60      0.25      0.35        12\n",
            "\n",
            "    accuracy                           0.63        30\n",
            "   macro avg       0.62      0.57      0.55        30\n",
            "weighted avg       0.62      0.63      0.59        30\n",
            "\n",
            "\n",
            "\n",
            "=====================================================================\n",
            "Classification report dari model Voting Classifier dengan menggunakan SMOTE\n",
            "=====================================================================\n",
            "              precision    recall  f1-score   support\n",
            "\n",
            "           0       0.84      0.70      0.76        23\n",
            "           1       0.68      0.83      0.75        18\n",
            "\n",
            "    accuracy                           0.76        41\n",
            "   macro avg       0.76      0.76      0.76        41\n",
            "weighted avg       0.77      0.76      0.76        41\n",
            "\n",
            "=====================================================================\n",
            "Classification report dari model XGBoost tanpa menggunakan SMOTE\n",
            "=====================================================================\n",
            "              precision    recall  f1-score   support\n",
            "\n",
            "           0       0.65      0.83      0.73        18\n",
            "           1       0.57      0.33      0.42        12\n",
            "\n",
            "    accuracy                           0.63        30\n",
            "   macro avg       0.61      0.58      0.58        30\n",
            "weighted avg       0.62      0.63      0.61        30\n",
            "\n",
            "\n",
            "\n",
            "=====================================================================\n",
            "Classification report dari model XGBoost dengan menggunakan SMOTE\n",
            "=====================================================================\n",
            "              precision    recall  f1-score   support\n",
            "\n",
            "           0       0.94      0.74      0.83        23\n",
            "           1       0.74      0.94      0.83        18\n",
            "\n",
            "    accuracy                           0.83        41\n",
            "   macro avg       0.84      0.84      0.83        41\n",
            "weighted avg       0.85      0.83      0.83        41\n",
            "\n",
            "=====================================================================\n",
            "Classification report dari model AdaBoost tanpa menggunakan SMOTE\n",
            "=====================================================================\n",
            "              precision    recall  f1-score   support\n",
            "\n",
            "           0       0.73      0.89      0.80        18\n",
            "           1       0.75      0.50      0.60        12\n",
            "\n",
            "    accuracy                           0.73        30\n",
            "   macro avg       0.74      0.69      0.70        30\n",
            "weighted avg       0.74      0.73      0.72        30\n",
            "\n",
            "\n",
            "\n",
            "=====================================================================\n",
            "Classification report dari model AdaBoost dengan menggunakan SMOTE\n",
            "=====================================================================\n",
            "              precision    recall  f1-score   support\n",
            "\n",
            "           0       0.74      0.61      0.67        23\n",
            "           1       0.59      0.72      0.65        18\n",
            "\n",
            "    accuracy                           0.66        41\n",
            "   macro avg       0.66      0.67      0.66        41\n",
            "weighted avg       0.67      0.66      0.66        41\n",
            "\n",
            "=====================================================================\n",
            "Classification report dari model Extra Trees Classifier tanpa menggunakan SMOTE\n",
            "=====================================================================\n",
            "              precision    recall  f1-score   support\n",
            "\n",
            "           0       0.67      0.78      0.72        18\n",
            "           1       0.56      0.42      0.48        12\n",
            "\n",
            "    accuracy                           0.63        30\n",
            "   macro avg       0.61      0.60      0.60        30\n",
            "weighted avg       0.62      0.63      0.62        30\n",
            "\n",
            "\n",
            "\n",
            "=====================================================================\n",
            "Classification report dari model Extra Trees Classifier dengan menggunakan SMOTE\n",
            "=====================================================================\n",
            "              precision    recall  f1-score   support\n",
            "\n",
            "           0       0.95      0.78      0.86        23\n",
            "           1       0.77      0.94      0.85        18\n",
            "\n",
            "    accuracy                           0.85        41\n",
            "   macro avg       0.86      0.86      0.85        41\n",
            "weighted avg       0.87      0.85      0.85        41\n",
            "\n",
            "=====================================================================\n",
            "Classification report dari model GradientBoost tanpa menggunakan SMOTE\n",
            "=====================================================================\n",
            "              precision    recall  f1-score   support\n",
            "\n",
            "           0       0.65      0.83      0.73        18\n",
            "           1       0.57      0.33      0.42        12\n",
            "\n",
            "    accuracy                           0.63        30\n",
            "   macro avg       0.61      0.58      0.58        30\n",
            "weighted avg       0.62      0.63      0.61        30\n",
            "\n",
            "\n",
            "\n",
            "=====================================================================\n",
            "Classification report dari model GradientBoost dengan menggunakan SMOTE\n",
            "=====================================================================\n",
            "              precision    recall  f1-score   support\n",
            "\n",
            "           0       0.88      0.65      0.75        23\n",
            "           1       0.67      0.89      0.76        18\n",
            "\n",
            "    accuracy                           0.76        41\n",
            "   macro avg       0.77      0.77      0.76        41\n",
            "weighted avg       0.79      0.76      0.76        41\n",
            "\n"
          ]
        }
      ]
    },
    {
      "cell_type": "markdown",
      "source": [
        "## Confusion Matrix"
      ],
      "metadata": {
        "id": "MTm5SfO7mbnA"
      }
    },
    {
      "cell_type": "code",
      "source": [
        "dtm = confusion_matrix(y_test, y_pred_dt)\n",
        "dtsm = confusion_matrix(ys_test, y_pred_dts)\n",
        "\n",
        "fig, ax = plt.subplots(1,2,figsize=(10,5), constrained_layout=True)\n",
        "sns.heatmap(dtm, annot=True, fmt=\"d\", linewidths=.5, cmap = 'YlGnBu', ax=ax[0])\n",
        "ax[0].set_title('Decision Tree tanpa SMOTE')\n",
        "sns.heatmap(dtsm, annot=True, fmt=\"d\", linewidths=.5, cmap = 'Reds', ax=ax[1])\n",
        "ax[1].set_title('Decision Tree dengan SMOTE')\n",
        "plt.savefig(\"dtm.png\",\n",
        "            bbox_inches =\"tight\",\n",
        "            pad_inches = 1,\n",
        "            transparent = True,\n",
        "            orientation ='landscape')"
      ],
      "metadata": {
        "colab": {
          "base_uri": "https://localhost:8080/",
          "height": 385
        },
        "id": "ut0LOp-Kmeih",
        "outputId": "292478b3-f55c-4e31-baba-8532b35acedd"
      },
      "execution_count": 63,
      "outputs": [
        {
          "output_type": "display_data",
          "data": {
            "text/plain": [
              "<Figure size 720x360 with 4 Axes>"
            ],
            "image/png": "[encoded data removed]"
          },
          "metadata": {}
        }
      ]
    },
    {
      "cell_type": "code",
      "source": [
        "dtbm = confusion_matrix(y_test, y_pred_dt_bag)\n",
        "dtbsm = confusion_matrix(ys_test, y_pred_dt_bags)\n",
        "\n",
        "fig, ax = plt.subplots(1,2,figsize=(10,5), constrained_layout=True)\n",
        "sns.heatmap(dtbm, annot=True, fmt=\"d\", linewidths=.5, cmap = 'YlGnBu', ax=ax[0])\n",
        "ax[0].set_title('Decision Tree with Bagging tanpa SMOTE')\n",
        "sns.heatmap(dtbsm, annot=True, fmt=\"d\", linewidths=.5, cmap = 'Reds', ax=ax[1])\n",
        "ax[1].set_title('Decision Tree with Bagging dengan SMOTE')\n",
        "plt.savefig(\"dtbm.png\",\n",
        "            bbox_inches =\"tight\",\n",
        "            pad_inches = 1,\n",
        "            transparent = True,\n",
        "            orientation ='landscape')"
      ],
      "metadata": {
        "colab": {
          "base_uri": "https://localhost:8080/",
          "height": 385
        },
        "id": "2JdjjFFOn3RK",
        "outputId": "bcc12982-4576-4071-a971-15bb8c120773"
      },
      "execution_count": 64,
      "outputs": [
        {
          "output_type": "display_data",
          "data": {
            "text/plain": [
              "<Figure size 720x360 with 4 Axes>"
            ],
            "image/png": "[encoded data removed]"
          },
          "metadata": {}
        }
      ]
    },
    {
      "cell_type": "code",
      "source": [
        "rfm = confusion_matrix(y_test, y_pred_rnd_clf)\n",
        "rfsm = confusion_matrix(ys_test, y_pred_rnd_clfs)\n",
        "\n",
        "fig, ax = plt.subplots(1,2,figsize=(10,5), constrained_layout=True)\n",
        "sns.heatmap(rfm, annot=True, fmt=\"d\", linewidths=.5, cmap = 'YlGnBu', ax=ax[0])\n",
        "ax[0].set_title('Random Forest tanpa SMOTE')\n",
        "sns.heatmap(rfsm, annot=True, fmt=\"d\", linewidths=.5, cmap = 'Reds', ax=ax[1])\n",
        "ax[1].set_title('Random Forest dengan SMOTE')\n",
        "plt.savefig(\"rfm.png\",\n",
        "            bbox_inches =\"tight\",\n",
        "            pad_inches = 1,\n",
        "            transparent = True,\n",
        "            orientation ='landscape')"
      ],
      "metadata": {
        "colab": {
          "base_uri": "https://localhost:8080/",
          "height": 385
        },
        "id": "8smGmujboAS5",
        "outputId": "3a3e1dd4-e189-4634-eae0-f52bf9150b09"
      },
      "execution_count": 65,
      "outputs": [
        {
          "output_type": "display_data",
          "data": {
            "text/plain": [
              "<Figure size 720x360 with 4 Axes>"
            ],
            "image/png": "[encoded data removed]"
          },
          "metadata": {}
        }
      ]
    },
    {
      "cell_type": "code",
      "source": [
        "lgrm = confusion_matrix(y_test, y_pred_lgr_clf)\n",
        "lgrsm = confusion_matrix(ys_test, y_pred_lgr_clfs)\n",
        "\n",
        "fig, ax = plt.subplots(1,2,figsize=(10,5), constrained_layout=True)\n",
        "sns.heatmap(lgrm, annot=True, fmt=\"d\", linewidths=.5, cmap = 'YlGnBu', ax=ax[0])\n",
        "ax[0].set_title('Logistic Regression tanpa SMOTE')\n",
        "sns.heatmap(lgrsm, annot=True, fmt=\"d\", linewidths=.5, cmap = 'Reds', ax=ax[1])\n",
        "ax[1].set_title('Logistic Regression dengan SMOTE')\n",
        "plt.savefig(\"lgrm.png\",\n",
        "            bbox_inches =\"tight\",\n",
        "            pad_inches = 1,\n",
        "            transparent = True,\n",
        "            orientation ='landscape')"
      ],
      "metadata": {
        "colab": {
          "base_uri": "https://localhost:8080/",
          "height": 385
        },
        "id": "o0N_NdtWoAqZ",
        "outputId": "97f07a27-8bdc-44a2-9361-57b5bd407dbe"
      },
      "execution_count": 66,
      "outputs": [
        {
          "output_type": "display_data",
          "data": {
            "text/plain": [
              "<Figure size 720x360 with 4 Axes>"
            ],
            "image/png": "[encoded data removed]"
          },
          "metadata": {}
        }
      ]
    },
    {
      "cell_type": "code",
      "source": [
        "svmm = confusion_matrix(y_test, y_pred_svc)\n",
        "svmsm = confusion_matrix(ys_test, y_pred_svcs)\n",
        "\n",
        "fig, ax = plt.subplots(1,2,figsize=(10,5), constrained_layout=True)\n",
        "sns.heatmap(svmm, annot=True, fmt=\"d\", linewidths=.5, cmap = 'YlGnBu', ax=ax[0])\n",
        "ax[0].set_title('Support Vector Classifier tanpa SMOTE')\n",
        "sns.heatmap(svmsm, annot=True, fmt=\"d\", linewidths=.5, cmap = 'Reds', ax=ax[1])\n",
        "ax[1].set_title('Support Vector Classifier dengan SMOTE')\n",
        "plt.savefig(\"svmm.png\",\n",
        "            bbox_inches =\"tight\",\n",
        "            pad_inches = 1,\n",
        "            transparent = True,\n",
        "            orientation ='landscape')"
      ],
      "metadata": {
        "colab": {
          "base_uri": "https://localhost:8080/",
          "height": 385
        },
        "id": "jzdkS_mjoA-Q",
        "outputId": "26a71a7f-ff1b-4f3c-d53f-2e6a4b7c9ec4"
      },
      "execution_count": 67,
      "outputs": [
        {
          "output_type": "display_data",
          "data": {
            "text/plain": [
              "<Figure size 720x360 with 4 Axes>"
            ],
            "image/png": "[encoded data removed]"
          },
          "metadata": {}
        }
      ]
    },
    {
      "cell_type": "code",
      "source": [
        "vcm = confusion_matrix(y_test, y_pred_voting)\n",
        "vcsm = confusion_matrix(ys_test, y_pred_votings)\n",
        "\n",
        "fig, ax = plt.subplots(1,2,figsize=(10,5), constrained_layout=True)\n",
        "sns.heatmap(vcm, annot=True, fmt=\"d\", linewidths=.5, cmap = 'YlGnBu', ax=ax[0])\n",
        "ax[0].set_title('Voting Classifier tanpa SMOTE')\n",
        "sns.heatmap(vcsm, annot=True, fmt=\"d\", linewidths=.5, cmap = 'Reds', ax=ax[1])\n",
        "ax[1].set_title('Votting Classfier dengan SMOTE')\n",
        "plt.savefig(\"vcm.png\",\n",
        "            bbox_inches =\"tight\",\n",
        "            pad_inches = 1,\n",
        "            transparent = True,\n",
        "            orientation ='landscape')"
      ],
      "metadata": {
        "colab": {
          "base_uri": "https://localhost:8080/",
          "height": 385
        },
        "id": "tE-B0892oBTI",
        "outputId": "bdd38382-adf0-43f1-be2c-4bb889474385"
      },
      "execution_count": 68,
      "outputs": [
        {
          "output_type": "display_data",
          "data": {
            "text/plain": [
              "<Figure size 720x360 with 4 Axes>"
            ],
            "image/png": "[encoded data removed]"
          },
          "metadata": {}
        }
      ]
    },
    {
      "cell_type": "code",
      "source": [
        "xgbm = confusion_matrix(y_test, y_pred_xgb)\n",
        "xgbsm = confusion_matrix(ys_test, y_pred_xgbs)\n",
        "\n",
        "fig, ax = plt.subplots(1,2,figsize=(10,5), constrained_layout=True)\n",
        "sns.heatmap(xgbm, annot=True, fmt=\"d\", linewidths=.5, cmap = 'YlGnBu', ax=ax[0])\n",
        "ax[0].set_title('XGBoost tanpa SMOTE')\n",
        "sns.heatmap(xgbsm, annot=True, fmt=\"d\", linewidths=.5, cmap = 'Reds', ax=ax[1])\n",
        "ax[1].set_title('XGBoost dengan SMOTE')\n",
        "plt.savefig(\"xgbm.png\",\n",
        "            bbox_inches =\"tight\",\n",
        "            pad_inches = 1,\n",
        "            transparent = True,\n",
        "            orientation ='landscape')"
      ],
      "metadata": {
        "colab": {
          "base_uri": "https://localhost:8080/",
          "height": 385
        },
        "id": "lnr3FITnoBgg",
        "outputId": "27dffc41-2b79-46aa-d7e7-bea5be4c4064"
      },
      "execution_count": 69,
      "outputs": [
        {
          "output_type": "display_data",
          "data": {
            "text/plain": [
              "<Figure size 720x360 with 4 Axes>"
            ],
            "image/png": "[encoded data removed]"
          },
          "metadata": {}
        }
      ]
    },
    {
      "cell_type": "code",
      "source": [
        "adabm = confusion_matrix(y_test, y_pred_adaBoost)\n",
        "adabsm = confusion_matrix(ys_test, y_pred_adaBoosts)\n",
        "\n",
        "fig, ax = plt.subplots(1,2,figsize=(10,5), constrained_layout=True)\n",
        "sns.heatmap(adabm, annot=True, fmt=\"d\", linewidths=.5, cmap = 'YlGnBu', ax=ax[0])\n",
        "ax[0].set_title('AdaBoost tanpa SMOTE')\n",
        "sns.heatmap(adabsm, annot=True, fmt=\"d\", linewidths=.5, cmap = 'Reds', ax=ax[1])\n",
        "ax[1].set_title('AdaBoost dengan SMOTE')\n",
        "plt.savefig(\"adabm.png\",\n",
        "            bbox_inches =\"tight\",\n",
        "            pad_inches = 1,\n",
        "            transparent = True,\n",
        "            orientation ='landscape')"
      ],
      "metadata": {
        "colab": {
          "base_uri": "https://localhost:8080/",
          "height": 385
        },
        "id": "wnuxp-GdoBtB",
        "outputId": "8237a6bd-951a-42cb-aca8-f2334a14aa7f"
      },
      "execution_count": 70,
      "outputs": [
        {
          "output_type": "display_data",
          "data": {
            "text/plain": [
              "<Figure size 720x360 with 4 Axes>"
            ],
            "image/png": "[encoded data removed]"
          },
          "metadata": {}
        }
      ]
    },
    {
      "cell_type": "code",
      "source": [
        "xtm = confusion_matrix(y_test, y_pred_tree)\n",
        "xtsm = confusion_matrix(ys_test, y_pred_trees)\n",
        "\n",
        "fig, ax = plt.subplots(1,2,figsize=(10,5), constrained_layout=True)\n",
        "sns.heatmap(xtm, annot=True, fmt=\"d\", linewidths=.5, cmap = 'YlGnBu', ax=ax[0])\n",
        "ax[0].set_title('Extra Trees Classfier tanpa SMOTE')\n",
        "sns.heatmap(xtsm, annot=True, fmt=\"d\", linewidths=.5, cmap = 'Reds', ax=ax[1])\n",
        "ax[1].set_title('Extra Trees Classfier dengan SMOTE')\n",
        "plt.savefig(\"xtm.png\",\n",
        "            bbox_inches =\"tight\",\n",
        "            pad_inches = 1,\n",
        "            transparent = True,\n",
        "            orientation ='landscape')"
      ],
      "metadata": {
        "colab": {
          "base_uri": "https://localhost:8080/",
          "height": 385
        },
        "id": "EnEW65oCoB33",
        "outputId": "e48e4e4c-0dda-4c8b-8abe-eebbb01e886d"
      },
      "execution_count": 71,
      "outputs": [
        {
          "output_type": "display_data",
          "data": {
            "text/plain": [
              "<Figure size 720x360 with 4 Axes>"
            ],
            "image/png": "[encoded data removed]"
          },
          "metadata": {}
        }
      ]
    },
    {
      "cell_type": "code",
      "source": [
        "gbm = confusion_matrix(y_test, y_pred_grad_clf)\n",
        "gbsm = confusion_matrix(ys_test, y_pred_grad_clfs)\n",
        "\n",
        "fig, ax = plt.subplots(1,2,figsize=(10,5), constrained_layout=True)\n",
        "sns.heatmap(gbm, annot=True, fmt=\"d\", linewidths=.5, cmap = 'YlGnBu', ax=ax[0])\n",
        "ax[0].set_title('GradientBoost Classfier tanpa SMOTE')\n",
        "sns.heatmap(gbsm, annot=True, fmt=\"d\", linewidths=.5, cmap = 'Reds', ax=ax[1])\n",
        "ax[1].set_title('GradientBoost Classfier dengan SMOTE')\n",
        "plt.savefig(\"gbm.png\",\n",
        "            bbox_inches =\"tight\",\n",
        "            pad_inches = 1,\n",
        "            transparent = True,\n",
        "            orientation ='landscape')"
      ],
      "metadata": {
        "colab": {
          "base_uri": "https://localhost:8080/",
          "height": 385
        },
        "id": "MNP1lxUvp7ax",
        "outputId": "ea5ac6e6-ca3f-44d1-dd47-2f61d79bb780"
      },
      "execution_count": 72,
      "outputs": [
        {
          "output_type": "display_data",
          "data": {
            "text/plain": [
              "<Figure size 720x360 with 4 Axes>"
            ],
            "image/png": "[encoded data removed]"
          },
          "metadata": {}
        }
      ]
    },
    {
      "cell_type": "markdown",
      "source": [
        "## Best Model"
      ],
      "metadata": {
        "id": "TZeEoZkKVMAL"
      }
    },
    {
      "cell_type": "code",
      "source": [
        "def finding_max(list_pred,y_test,type_pred=None):\n",
        "  predicted_value = []\n",
        "  for index,pred in enumerate(list_pred):\n",
        "    if(type_pred == 'accuracy'):\n",
        "      predicted_value.append(accuracy_score(y_test,pred))\n",
        "    elif(type_pred == 'recall'):\n",
        "      predicted_value.append(recall_score(y_test,pred))\n",
        "    elif(type_pred == 'precision'):\n",
        "      predicted_value.append(precision_score(y_test,pred))\n",
        "    elif(type_pred == 'f1'):\n",
        "      predicted_value.append(f1_score(y_test,pred))\n",
        "  return predicted_value.index(max(predicted_value)),max(predicted_value)"
      ],
      "metadata": {
        "id": "HuaLxg00aJPz"
      },
      "execution_count": 73,
      "outputs": []
    },
    {
      "cell_type": "code",
      "source": [
        "best_accuracy = finding_max(list_pred,y_test,'accuracy')\n",
        "best_accuracy_s = finding_max(list_pred_s,ys_test,'accuracy')\n",
        "\n",
        "best_recall = finding_max(list_pred,y_test,'recall')\n",
        "best_recall_s = finding_max(list_pred_s,ys_test,'recall')\n",
        "\n",
        "best_precision = finding_max(list_pred,y_test,'precision')\n",
        "best_precision_s = finding_max(list_pred_s,ys_test,'precision')\n",
        "\n",
        "best_f1 = finding_max(list_pred,y_test,'f1')\n",
        "best_f1_s = finding_max(list_pred_s,ys_test,'f1')\n",
        "\n",
        "print('====================================')\n",
        "print('Model yang di-training tanpa SMOTE')\n",
        "print('====================================')\n",
        "print(f'Model yang memiliki Accuracy Score tinggi adalah {list_model[best_accuracy[0]]} dengan nilai accuracy Score {best_accuracy[1]}')\n",
        "print(f'Model yang memiliki Precision Score tinggi adalah {list_model[best_precision[0]]} dengan nilai precision Score {best_precision[1]}')\n",
        "print(f'Model yang memiliki Recall Score tinggi adalah {list_model[best_recall[0]]} dengan nilai recall Score {best_recall[1]}')\n",
        "print(f'Model yang memiliki F1 Score tinggi adalah {list_model[best_f1[0]]} dengan nilai F1 Score {best_f1[1]}')\n",
        "print('\\n')\n",
        "print('====================================')\n",
        "print('Model yang di-training dengan SMOTE')\n",
        "print('====================================')\n",
        "print(f'Model yang memiliki Accuracy Score tinggi adalah {list_model[best_accuracy_s[0]]} dengan nilai accuracy Score {best_accuracy_s[1]}')\n",
        "print(f'Model yang memiliki Precision Score tinggi adalah {list_model[best_precision_s[0]]} dengan nilai precision Score {best_precision_s[1]}')\n",
        "print(f'Model yang memiliki Recall Score tinggi adalah {list_model[best_recall_s[0]]} dengan nilai recall Score {best_recall_s[1]}')\n",
        "print(f'Model yang memiliki F1 Score tinggi adalah {list_model[best_f1_s[0]]} dengan nilai F1 Score {best_f1_s[1]}')"
      ],
      "metadata": {
        "colab": {
          "base_uri": "https://localhost:8080/"
        },
        "id": "A_eZO1LQVNJD",
        "outputId": "098707d6-a376-44c7-a7e7-9dd865a23486"
      },
      "execution_count": 74,
      "outputs": [
        {
          "output_type": "stream",
          "name": "stdout",
          "text": [
            "====================================\n",
            "Model yang di-training tanpa SMOTE\n",
            "====================================\n",
            "Model yang memiliki Accuracy Score tinggi adalah Decision Tree dengan nilai accuracy Score 0.7666666666666667\n",
            "Model yang memiliki Precision Score tinggi adalah Decision Tree dengan nilai precision Score 0.7777777777777778\n",
            "Model yang memiliki Recall Score tinggi adalah Decision Tree dengan nilai recall Score 0.5833333333333334\n",
            "Model yang memiliki F1 Score tinggi adalah Decision Tree dengan nilai F1 Score 0.6666666666666666\n",
            "\n",
            "\n",
            "====================================\n",
            "Model yang di-training dengan SMOTE\n",
            "====================================\n",
            "Model yang memiliki Accuracy Score tinggi adalah Extra Trees Classifier dengan nilai accuracy Score 0.8536585365853658\n",
            "Model yang memiliki Precision Score tinggi adalah Extra Trees Classifier dengan nilai precision Score 0.7727272727272727\n",
            "Model yang memiliki Recall Score tinggi adalah XGBoost dengan nilai recall Score 0.9444444444444444\n",
            "Model yang memiliki F1 Score tinggi adalah Extra Trees Classifier dengan nilai F1 Score 0.85\n"
          ]
        }
      ]
    },
    {
      "cell_type": "markdown",
      "metadata": {
        "id": "kHKOAHGTr8PR"
      },
      "source": [
        "# Model Inference"
      ]
    },
    {
      "cell_type": "code",
      "source": [
        "# age=float(input('age :'))\n",
        "# anaemia=int(input('anaemia :'))\n",
        "# creatinine_phosphokinase=int(input('creatinine_phosphokinase :'))\n",
        "# diabetes=int(input('diabetes :'))\n",
        "# high_blood_pressure=int(input('high_blood_pressure :'))\n",
        "# platelets=float(input('platelets : '))\n",
        "# serum_creatinine=float(input('serum_creatinine :'))\n",
        "# sex=int(input('sex :'))\n",
        "# smoking=int(input('smoking :'))\n",
        "# young_person = int(input('young_person :'))\n",
        "\n",
        "# x_input=[[\n",
        "#     age,\n",
        "#     anaemia,\n",
        "#     creatinine_phosphokinase,\n",
        "#     diabetes,\n",
        "#     high_blood_pressure,\n",
        "#     platelets,\n",
        "#     serum_creatinine,\n",
        "#     sex,\n",
        "#     smoking,\n",
        "#     young_person\n",
        "# ]]\n",
        "\n",
        "# x_input=scaler.fit_transform(x_input)\n",
        "# y_output=bag_clf_s.predict(x_input)\n",
        "# if y_output==0:\n",
        "#     print('tidak meninggal')\n",
        "# else:\n",
        "#     print('meninggal')"
      ],
      "metadata": {
        "id": "T2ak7tIYbzUl"
      },
      "execution_count": 75,
      "outputs": []
    },
    {
      "cell_type": "code",
      "source": [
        "pickle.dump(extra_tree_s,open('model_ETC.pkl','wb'))"
      ],
      "metadata": {
        "id": "Cz7DmPuHtQiH"
      },
      "execution_count": 76,
      "outputs": []
    },
    {
      "cell_type": "markdown",
      "metadata": {
        "id": "WPK5kdjYr9jC"
      },
      "source": [
        "# Kesimpulan"
      ]
    },
    {
      "cell_type": "markdown",
      "source": [
        "Kesimpulan yang didapatkan dari analisis data adalah \n",
        "\n",
        "* Sebesar 67.89% kematian terjadi akibat penyakit jantung. Penyakit jantung sendiri banyak terjadi untuk pasien berjenis kelamin laki-laki.\n",
        "\n",
        "* Model **Extra Tree Classifier** dengan SMOTE memiliki akurasi tinggi sebesar 82.9% sehingga model tersebut sudah tepat untuk memprediksi keselamatan pasien penyakit jantung"
      ],
      "metadata": {
        "id": "N4ugGMQggjYM"
      }
    }
  ],
  "metadata": {
    "colab": {
      "provenance": [],
      "collapsed_sections": [
        "MTm5SfO7mbnA"
      ],
      "toc_visible": true
    },
    "kernelspec": {
      "display_name": "Python 3",
      "name": "python3"
    },
    "language_info": {
      "name": "python"
    }
  },
  "nbformat": 4,
  "nbformat_minor": 0
}